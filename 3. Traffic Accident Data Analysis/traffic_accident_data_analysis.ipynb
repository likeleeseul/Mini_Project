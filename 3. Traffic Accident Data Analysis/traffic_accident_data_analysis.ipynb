{
 "cells": [
  {
   "cell_type": "markdown",
   "metadata": {},
   "source": [
    "# Traffic Accident Data Analysis\n",
    "## 1. 소개\n",
    "[공공 데이터 포털](https://www.data.go.kr/tcs/dss/selectDataSetList.do?dType=FILE&keyword=&detailKeyword=&publicDataPk=&recmSe=&detailText=&relatedKeyword=&commaNotInData=&commaAndData=&commaOrData=&must_not=&tabId=&dataSetCoreTf=&coreDataNm=&sort=inqireCo&relRadio=&orgFullName=&orgFilter=&org=&orgSearch=&currentPage=1&perPage=10&brm=&instt=&svcType=&kwrdArray=&extsn=&coreDataNmArray=&pblonsipScopeCode=)에서 제공하는 교통 사고 관련 데이터를 분석화하고 시각화 해본 프로젝트\n",
    "\n",
    "## 2. 이용 데이터\n",
    "- [도로교통공단_사고유형별 교통사고 통계](https://www.data.go.kr/data/15070282/fileData.do)\n",
    "- [도로교통공단_가해운전자 연령층별 월별 교통사고 통계](https://www.data.go.kr/data/15070199/fileData.do)\n",
    "- [도로교통공단_월별 교통사고 통계](https://www.data.go.kr/data/15070315/fileData.do)\n",
    "- [도로교통공단_사상자 연령층별 성별 교통사고 통계](https://www.data.go.kr/data/15070293/fileData.do)\n",
    "\n",
    "다양한 종류의 교통 사고 관련 데이터가 있지만, 위의 4개의 데이터를 이용할 예정  \n",
    "공공포털에서 API를 제공하고 있지만, CSV 파일이 좀 더 이용하기 편해서 파일을 다운 받아 이용  \n",
    "-> 이후에 API로 변경 될 수 있음\n",
    "\n",
    "## 3. 목표\n",
    "1. 각각의 데이터 셋에 대한 분석 및 시각화\n",
    "2. 공통 항목을 가진 하나의 데이터 셋 생성\n",
    "3. 종합된 데이터 셋에 대한 분석 및 시각화\n",
    "\n",
    "## 4. 구현"
   ]
  },
  {
   "cell_type": "markdown",
   "metadata": {},
   "source": [
    "### 각 데이터 셋 분석 및 시각화"
   ]
  },
  {
   "cell_type": "code",
   "execution_count": 1,
   "metadata": {},
   "outputs": [],
   "source": [
    "import pandas as pd\n",
    "import numpy as np"
   ]
  },
  {
   "cell_type": "markdown",
   "metadata": {},
   "source": [
    "#### 1. 사고 유형별 교통사고 통계"
   ]
  },
  {
   "cell_type": "markdown",
   "metadata": {},
   "source": [
    "#### 2. 가해 운전자 연령층별 월별 교통사고 통계"
   ]
  },
  {
   "cell_type": "markdown",
   "metadata": {},
   "source": [
    "#### 3. 월별 교통사고 통계"
   ]
  },
  {
   "cell_type": "markdown",
   "metadata": {},
   "source": [
    "#### 4. 사상자 연령층별 성병 교통사고 통계"
   ]
  },
  {
   "cell_type": "markdown",
   "metadata": {},
   "source": [
    "### 공통 항목을 가진 하나의 데이터 셋 생성\n",
    "월별 교통사고 통계를 기본 데이터로해서, 다른 데이터들을 연관 데이터로 사용하면 좋을꺼 같다는 생각으로 4가지 데이터를 이용했다.  "
   ]
  },
  {
   "cell_type": "markdown",
   "metadata": {},
   "source": [
    "### 종합된 데이터 셋에 대한 분석 및 시각화"
   ]
  }
 ],
 "metadata": {
  "interpreter": {
   "hash": "2adf3ccca9222a21ddf813ce3f7330ff220318730c13c08bb78e423c67466e5c"
  },
  "kernelspec": {
   "display_name": "Python 3.9.7 ('base')",
   "language": "python",
   "name": "python3"
  },
  "language_info": {
   "codemirror_mode": {
    "name": "ipython",
    "version": 3
   },
   "file_extension": ".py",
   "mimetype": "text/x-python",
   "name": "python",
   "nbconvert_exporter": "python",
   "pygments_lexer": "ipython3",
   "version": "3.9.7"
  },
  "orig_nbformat": 4
 },
 "nbformat": 4,
 "nbformat_minor": 2
}
