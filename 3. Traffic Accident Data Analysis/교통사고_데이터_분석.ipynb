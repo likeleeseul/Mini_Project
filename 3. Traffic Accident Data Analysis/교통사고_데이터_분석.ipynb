{
 "cells": [
  {
   "cell_type": "markdown",
   "metadata": {},
   "source": [
    "# 미니 프로젝트 7팀\n",
    "## 교통사고 데이터 분석 및 시각화\n",
    "\n",
    "## 1. 소개\n",
    "[공공 데이터 포털](https://www.data.go.kr/tcs/dss/selectDataSetList.do?dType=FILE&keyword=&detailKeyword=&publicDataPk=&recmSe=&detailText=&relatedKeyword=&commaNotInData=&commaAndData=&commaOrData=&must_not=&tabId=&dataSetCoreTf=&coreDataNm=&sort=inqireCo&relRadio=&orgFullName=&orgFilter=&org=&orgSearch=&currentPage=1&perPage=10&brm=&instt=&svcType=&kwrdArray=&extsn=&coreDataNmArray=&pblonsipScopeCode=)에서 제공하는 교통 사고 관련 데이터를 분석화하고 시각화 해본 프로젝트\n",
    "\n",
    "## 2. 이용 데이터\n",
    "- [도로교통공단_교통사고 사망 정보]()\n",
    "- [도로교통공단_시간대별 교통사고 통계 API]()\n",
    "- [도로교통공단_지자체별 대상사고통계정보 조회 서비스]()\n",
    "- [도로교통공단_사고유형별 교통사고 통계](https://www.data.go.kr/data/15070282/fileData.do)\n",
    "- [도로교통공단_가해운전자 연령층별 월별 교통사고 통계](https://www.data.go.kr/data/15070199/fileData.do)\n",
    "- [도로교통공단_월별 교통사고 통계](https://www.data.go.kr/data/15070315/fileData.do)\n",
    "- [도로교통공단_사상자 연령층별 성별 교통사고 통계](https://www.data.go.kr/data/15070293/fileData.do)\n",
    "- [도로교통공단_부문별_노인_교통사고]()\n",
    "- [도로교통공단_부문별_어린이_교통사고]()\n",
    "- [서울특별시 구별 인구밀도]()\n",
    "\n",
    "5년간 교통사고 통계 데이터와 2020년 월별 교통사고 통계 데이터, 2018년 취약계층 교통사고 통계 데이터를 이용\n",
    "\n",
    "## 3. 목표\n",
    "1. 각각의 데이터 셋에 대한 분석 및 시각화\n",
    "2. 연관성에 따른 데이터 분류\n",
    "3. EDA 실습 및 피드백"
   ]
  },
  {
   "cell_type": "markdown",
   "metadata": {},
   "source": [
    "## 4. 구현\n",
    "### 1. 라이브러리"
   ]
  },
  {
   "cell_type": "code",
   "execution_count": 97,
   "metadata": {},
   "outputs": [],
   "source": [
    "import pandas as pd\n",
    "import numpy as np\n",
    "import plotly.express as px\n",
    "import matplotlib.pyplot as plt\n",
    "import seaborn as sns\n",
    "import requests\n",
    "from bs4 import BeautifulSoup as bs\n",
    "import chart_studio as cs"
   ]
  },
  {
   "cell_type": "code",
   "execution_count": 22,
   "metadata": {},
   "outputs": [],
   "source": [
    "# 윈도우 : \"Malgun Gothic\"\n",
    "# 맥 : \"AppleGothic\"\n",
    "def get_font_family():\n",
    "    \"\"\"\n",
    "    시스템 환경에 따른 기본 폰트명을 반환하는 함수\n",
    "    \"\"\"\n",
    "    import platform\n",
    "    system_name = platform.system()\n",
    "    # colab 사용자는 system_name이 'Linux'로 확인\n",
    "\n",
    "    if system_name == \"Darwin\" :\n",
    "        font_family = \"AppleGothic\"\n",
    "    elif system_name == \"Windows\":\n",
    "        font_family = \"Malgun Gothic\"\n",
    "    else:\n",
    "        !apt-get install fonts-nanum -qq  > /dev/null\n",
    "        !fc-cache -fv\n",
    "\n",
    "        import matplotlib as mpl\n",
    "        mpl.font_manager._rebuild()\n",
    "        findfont = mpl.font_manager.fontManager.findfont\n",
    "        mpl.font_manager.findfont = findfont\n",
    "        mpl.backends.backend_agg.findfont = findfont\n",
    "        \n",
    "        font_family = \"NanumBarunGothic\"\n",
    "    return font_family\n",
    "\n",
    "\n",
    "plt.style.use(\"seaborn-whitegrid\")\n",
    "\n",
    "# 폰트설정\n",
    "plt.rc(\"font\", family=get_font_family())\n",
    "# 마이너스폰트 설정\n",
    "plt.rc(\"axes\", unicode_minus=False)\n",
    "\n",
    "# 그래프에 retina display 적용\n",
    "from IPython.display import set_matplotlib_formats\n",
    "\n",
    "%config InlineBackend.figure_format = \"retina\""
   ]
  },
  {
   "cell_type": "markdown",
   "metadata": {},
   "source": [
    "### 2. 연간 교통사고 통계 데이터 (최근 5년간)\n"
   ]
  },
  {
   "cell_type": "markdown",
   "metadata": {},
   "source": [
    "#### Data load"
   ]
  },
  {
   "cell_type": "code",
   "execution_count": 87,
   "metadata": {},
   "outputs": [],
   "source": [
    "# csv\n",
    "df_01 = pd.read_csv(\"data/도로교통공단_사망 교통사고 정보_20170111.csv\", encoding=\"cp949\")"
   ]
  },
  {
   "cell_type": "code",
   "execution_count": 50,
   "metadata": {},
   "outputs": [],
   "source": [
    "# api\n",
    "# 도로교통공단_지자체별 대상사고통계정보 조회 서비스\n",
    "# 부문별 교통사고 통계(보행자사고, 어린이사고, 고령자사고 등 13종)에 대한 전국 지자체별 교통사고 통계 조회 서비스\n",
    "def siDo_acc(year, siDo, pageNo):\n",
    "    # url\n",
    "    url = 'http://apis.data.go.kr/B552061/lgStat/getRestLgStat'\n",
    "    # API key 인증하기\n",
    "    params ={'serviceKey': 'api key', \n",
    "             'searchYearCd': year, \n",
    "             'siDo': siDo, \n",
    "             'guGun': '',\n",
    "             'type': 'xml', \n",
    "             'numOfRows': '1000', \n",
    "             'pageNo': pageNo\n",
    "            }\n",
    "\n",
    "    # API 서버의 주소로 요청을 보내 응답받은 내용을 response 변수에 담는다\n",
    "    response = requests.get(url, params=params)\n",
    "\n",
    "    # # xml 내용\n",
    "    html = bs(response.text, 'lxml')\n",
    "\n",
    "    rows = html.select('item')\n",
    "\n",
    "    # 각 행의 컬럼, 이름, 값을 가지는 리스트 만들기\n",
    "    row_list = [] # 행값\n",
    "    name_list = [] # 열이름값\n",
    "    value_list = [] #데이터값\n",
    "\n",
    "    # xml 안의 데이터 수집\n",
    "    for i in range(0, len(rows)):\n",
    "        columns = rows[i].find_all()\n",
    "        #첫째 행 데이터 수집\n",
    "        for j in range(0,len(columns)):\n",
    "            if i == 0:\n",
    "                # 컬럼 이름 값 저장\n",
    "                name_list.append(columns[j].name)\n",
    "            # 컬럼의 각 데이터 값 저장\n",
    "            value_list.append(columns[j].text)\n",
    "        # 각 행의 value값 전체 저장\n",
    "        row_list.append(value_list)\n",
    "        # 데이터 리스트 값 초기화\n",
    "        value_list=[]\n",
    "    df = pd.DataFrame(row_list, columns=name_list)\n",
    "    \n",
    "    \n",
    "    return df\n"
   ]
  },
  {
   "cell_type": "code",
   "execution_count": 51,
   "metadata": {},
   "outputs": [],
   "source": [
    "df_seoul_2021 = siDo_acc(2021, 1100, 1)\n",
    "df_seoul_2020 = siDo_acc(2020, 1100, 1)\n",
    "df_seoul_2019 = siDo_acc(2019, 1100, 1)\n",
    "df_seoul_2018 = siDo_acc(2018, 1100, 1)\n",
    "df_seoul_2017 = siDo_acc(2017, 1100, 1)\n",
    "df_seoul_2016 = siDo_acc(2016, 1100, 1)\n",
    "\n",
    "df_seoul = pd.concat([df_seoul_2021, df_seoul_2020, df_seoul_2019,\\\n",
    "                      df_seoul_2018,df_seoul_2017, df_seoul_2016])"
   ]
  },
  {
   "cell_type": "code",
   "execution_count": 52,
   "metadata": {},
   "outputs": [],
   "source": [
    "df_seoul = df_seoul.rename(columns={ 'std_year': '기준년도',\n",
    "                                     'acc_cl_nm': '사고분류명',\n",
    "                                     'sido_sgg_nm': '시도시군구명',\n",
    "                                     'acc_cnt': '사고건수',\n",
    "                                     'acc_cnt_cmrt': '사고건수구성비',\n",
    "                                     'dth_dnv_cnt': '사망자수',\n",
    "                                     'dth_dnv_cnt_cmrt': '사망자수구성비', \n",
    "                                     'ftlt_rate': '치사율', \n",
    "                                     'injpsn_cnt': '부상자수',\n",
    "                                     'injpsn_cnt_cmrt': '부상자수구성비', \n",
    "                                     'tot_acc_cnt': '총사건건수', \n",
    "                                     'tot_dth_dnv_cnt': '총사망자수', \n",
    "                                     'tot_injpsn_cnt': '총부상자수',\n",
    "                                     'pop_100k': '인구 10만명당 사고건수',\n",
    "                                     'car_10k': '자동차1만대당 사고건수',\n",
    "                                     'cnt_027_01': '과속 사고건수', \n",
    "                                     'cnt_027_02': '중앙선침범 사고건수', \n",
    "                                     'cnt_027_03': '신호위반 사고건수',       \n",
    "                                     'cnt_027_04': '안전거리미확보 사고건수', \n",
    "                                     'cnt_027_05': '안전운전의무불이행 사고건수', \n",
    "                                     'cnt_027_06': '교차로통행방법위반 사고건수', \n",
    "                                     'cnt_027_07': '보행자보호의무위반 사고건수', \n",
    "                                     'cnt_027_99': '기타 사고건수',\n",
    "                                     'cnt_014_01': '차대사람 사고건수',\n",
    "                                     'cnt_014_02': '차대사 사고건수', \n",
    "                                     'cnt_014_03': '차량단독 사고건수', \n",
    "                                     'cnt_014_04': '철길건널목 사고건수'\n",
    "                                    })\n",
    "\n",
    "# Dtype int타입으로 타입변경\n",
    "df_seoul[['기준년도', '사고건수', '사망자수', '부상자수', '총사건건수', '총사망자수', '총부상자수']] = df_seoul[['기준년도', '사고건수', '사망자수', '부상자수', '총사건건수', '총사망자수', '총부상자수']].astype(int)\n",
    "\n",
    "\n",
    "# Dtype float타입으로 타입변경\n",
    "df_seoul[['사고건수구성비', '사망자수구성비', '치사율', '부상자수구성비']] = df_seoul[['사고건수구성비', '사망자수구성비', '치사율', '부상자수구성비']].astype(float)\n",
    "df_seoul[['인구 10만명당 사고건수', '자동차1만대당 사고건수']] = df_seoul[['인구 10만명당 사고건수', '자동차1만대당 사고건수']].astype(float)\n",
    "\n"
   ]
  },
  {
   "cell_type": "markdown",
   "metadata": {},
   "source": [
    "#### df_seoul의 테이블 분류"
   ]
  },
  {
   "cell_type": "code",
   "execution_count": 53,
   "metadata": {},
   "outputs": [],
   "source": [
    "df_seoul = df_seoul.drop(columns=['인구 10만명당 사고건수',\n",
    "                                  '자동차1만대당 사고건수',\n",
    "                                  '과속 사고건수',\n",
    "                                  '중앙선침범 사고건수',\n",
    "                                  '신호위반 사고건수',\n",
    "                                  '안전거리미확보 사고건수',\n",
    "                                  '안전운전의무불이행 사고건수',\n",
    "                                  '교차로통행방법위반 사고건수',\n",
    "                                  '보행자보호의무위반 사고건수',\n",
    "                                  '기타 사고건수',\n",
    "                                  '차대사람 사고건수',\n",
    "                                  '차대사 사고건수',\n",
    "                                  '차량단독 사고건수',\n",
    "                                  '철길건널목 사고건수'])"
   ]
  },
  {
   "cell_type": "code",
   "execution_count": 54,
   "metadata": {},
   "outputs": [
    {
     "data": {
      "text/html": [
       "<div>\n",
       "<style scoped>\n",
       "    .dataframe tbody tr th:only-of-type {\n",
       "        vertical-align: middle;\n",
       "    }\n",
       "\n",
       "    .dataframe tbody tr th {\n",
       "        vertical-align: top;\n",
       "    }\n",
       "\n",
       "    .dataframe thead th {\n",
       "        text-align: right;\n",
       "    }\n",
       "</style>\n",
       "<table border=\"1\" class=\"dataframe\">\n",
       "  <thead>\n",
       "    <tr style=\"text-align: right;\">\n",
       "      <th></th>\n",
       "      <th>기준년도</th>\n",
       "      <th>사고분류명</th>\n",
       "      <th>시도시군구명</th>\n",
       "      <th>사고건수</th>\n",
       "      <th>사고건수구성비</th>\n",
       "      <th>사망자수</th>\n",
       "      <th>사망자수구성비</th>\n",
       "      <th>치사율</th>\n",
       "      <th>부상자수</th>\n",
       "      <th>부상자수구성비</th>\n",
       "      <th>총사건건수</th>\n",
       "      <th>총사망자수</th>\n",
       "      <th>총부상자수</th>\n",
       "    </tr>\n",
       "  </thead>\n",
       "  <tbody>\n",
       "    <tr>\n",
       "      <th>309</th>\n",
       "      <td>2021</td>\n",
       "      <td>뺑소니사고</td>\n",
       "      <td>서울특별시 종로구</td>\n",
       "      <td>20</td>\n",
       "      <td>0.27</td>\n",
       "      <td>1</td>\n",
       "      <td>1.02</td>\n",
       "      <td>5.00</td>\n",
       "      <td>24</td>\n",
       "      <td>0.23</td>\n",
       "      <td>7492</td>\n",
       "      <td>98</td>\n",
       "      <td>10230</td>\n",
       "    </tr>\n",
       "    <tr>\n",
       "      <th>241</th>\n",
       "      <td>2018</td>\n",
       "      <td>전체사고</td>\n",
       "      <td>서울특별시 양천구</td>\n",
       "      <td>1428</td>\n",
       "      <td>0.66</td>\n",
       "      <td>11</td>\n",
       "      <td>0.29</td>\n",
       "      <td>0.77</td>\n",
       "      <td>1939</td>\n",
       "      <td>0.60</td>\n",
       "      <td>217148</td>\n",
       "      <td>3781</td>\n",
       "      <td>323037</td>\n",
       "    </tr>\n",
       "    <tr>\n",
       "      <th>8</th>\n",
       "      <td>2021</td>\n",
       "      <td>고령운전자사고</td>\n",
       "      <td>서울특별시</td>\n",
       "      <td>5371</td>\n",
       "      <td>16.87</td>\n",
       "      <td>50</td>\n",
       "      <td>7.05</td>\n",
       "      <td>0.93</td>\n",
       "      <td>6986</td>\n",
       "      <td>15.62</td>\n",
       "      <td>31841</td>\n",
       "      <td>709</td>\n",
       "      <td>44713</td>\n",
       "    </tr>\n",
       "    <tr>\n",
       "      <th>74</th>\n",
       "      <td>2018</td>\n",
       "      <td>개인이동수단(PM)사고</td>\n",
       "      <td>서울특별시 관악구</td>\n",
       "      <td>1</td>\n",
       "      <td>0.44</td>\n",
       "      <td>0</td>\n",
       "      <td>0.00</td>\n",
       "      <td>0.00</td>\n",
       "      <td>1</td>\n",
       "      <td>0.42</td>\n",
       "      <td>225</td>\n",
       "      <td>4</td>\n",
       "      <td>238</td>\n",
       "    </tr>\n",
       "    <tr>\n",
       "      <th>221</th>\n",
       "      <td>2021</td>\n",
       "      <td>전체사고</td>\n",
       "      <td>서울특별시 성북구</td>\n",
       "      <td>1285</td>\n",
       "      <td>0.63</td>\n",
       "      <td>15</td>\n",
       "      <td>0.51</td>\n",
       "      <td>1.17</td>\n",
       "      <td>1606</td>\n",
       "      <td>0.55</td>\n",
       "      <td>203130</td>\n",
       "      <td>2916</td>\n",
       "      <td>291608</td>\n",
       "    </tr>\n",
       "  </tbody>\n",
       "</table>\n",
       "</div>"
      ],
      "text/plain": [
       "     기준년도         사고분류명     시도시군구명  사고건수  사고건수구성비  사망자수  사망자수구성비   치사율  부상자수  \\\n",
       "309  2021         뺑소니사고  서울특별시 종로구    20     0.27     1     1.02  5.00    24   \n",
       "241  2018          전체사고  서울특별시 양천구  1428     0.66    11     0.29  0.77  1939   \n",
       "8    2021       고령운전자사고      서울특별시  5371    16.87    50     7.05  0.93  6986   \n",
       "74   2018  개인이동수단(PM)사고  서울특별시 관악구     1     0.44     0     0.00  0.00     1   \n",
       "221  2021          전체사고  서울특별시 성북구  1285     0.63    15     0.51  1.17  1606   \n",
       "\n",
       "     부상자수구성비   총사건건수  총사망자수   총부상자수  \n",
       "309     0.23    7492     98   10230  \n",
       "241     0.60  217148   3781  323037  \n",
       "8      15.62   31841    709   44713  \n",
       "74      0.42     225      4     238  \n",
       "221     0.55  203130   2916  291608  "
      ]
     },
     "execution_count": 54,
     "metadata": {},
     "output_type": "execute_result"
    }
   ],
   "source": [
    "df_seoul.sample(5)"
   ]
  },
  {
   "cell_type": "markdown",
   "metadata": {},
   "source": [
    "#### 연도별 전체사고 (2016 ~ 2021년)"
   ]
  },
  {
   "cell_type": "code",
   "execution_count": 20,
   "metadata": {},
   "outputs": [
    {
     "data": {
      "text/html": [
       "<div>\n",
       "<style scoped>\n",
       "    .dataframe tbody tr th:only-of-type {\n",
       "        vertical-align: middle;\n",
       "    }\n",
       "\n",
       "    .dataframe tbody tr th {\n",
       "        vertical-align: top;\n",
       "    }\n",
       "\n",
       "    .dataframe thead th {\n",
       "        text-align: right;\n",
       "    }\n",
       "</style>\n",
       "<table border=\"1\" class=\"dataframe\">\n",
       "  <thead>\n",
       "    <tr style=\"text-align: right;\">\n",
       "      <th></th>\n",
       "      <th>기준년도</th>\n",
       "      <th>사고분류명</th>\n",
       "      <th>시도시군구명</th>\n",
       "      <th>사고건수</th>\n",
       "      <th>사고건수구성비</th>\n",
       "      <th>사망자수</th>\n",
       "      <th>사망자수구성비</th>\n",
       "      <th>치사율</th>\n",
       "      <th>부상자수</th>\n",
       "      <th>부상자수구성비</th>\n",
       "      <th>총사건건수</th>\n",
       "      <th>총사망자수</th>\n",
       "      <th>총부상자수</th>\n",
       "    </tr>\n",
       "  </thead>\n",
       "  <tbody>\n",
       "    <tr>\n",
       "      <th>0</th>\n",
       "      <td>2020</td>\n",
       "      <td>전체사고</td>\n",
       "      <td>서울특별시</td>\n",
       "      <td>35227</td>\n",
       "      <td>16.80</td>\n",
       "      <td>219</td>\n",
       "      <td>7.11</td>\n",
       "      <td>0.62</td>\n",
       "      <td>47513</td>\n",
       "      <td>15.52</td>\n",
       "      <td>209654</td>\n",
       "      <td>3081</td>\n",
       "      <td>306194</td>\n",
       "    </tr>\n",
       "    <tr>\n",
       "      <th>0</th>\n",
       "      <td>2021</td>\n",
       "      <td>전체사고</td>\n",
       "      <td>서울특별시</td>\n",
       "      <td>33913</td>\n",
       "      <td>16.70</td>\n",
       "      <td>243</td>\n",
       "      <td>8.33</td>\n",
       "      <td>0.72</td>\n",
       "      <td>45223</td>\n",
       "      <td>15.51</td>\n",
       "      <td>203130</td>\n",
       "      <td>2916</td>\n",
       "      <td>291608</td>\n",
       "    </tr>\n",
       "    <tr>\n",
       "      <th>0</th>\n",
       "      <td>2016</td>\n",
       "      <td>전체사고</td>\n",
       "      <td>서울특별시</td>\n",
       "      <td>40039</td>\n",
       "      <td>18.12</td>\n",
       "      <td>348</td>\n",
       "      <td>8.11</td>\n",
       "      <td>0.87</td>\n",
       "      <td>55669</td>\n",
       "      <td>16.78</td>\n",
       "      <td>220917</td>\n",
       "      <td>4292</td>\n",
       "      <td>331720</td>\n",
       "    </tr>\n",
       "    <tr>\n",
       "      <th>0</th>\n",
       "      <td>2018</td>\n",
       "      <td>전체사고</td>\n",
       "      <td>서울특별시</td>\n",
       "      <td>38795</td>\n",
       "      <td>17.87</td>\n",
       "      <td>304</td>\n",
       "      <td>8.04</td>\n",
       "      <td>0.78</td>\n",
       "      <td>53751</td>\n",
       "      <td>16.64</td>\n",
       "      <td>217148</td>\n",
       "      <td>3781</td>\n",
       "      <td>323037</td>\n",
       "    </tr>\n",
       "    <tr>\n",
       "      <th>0</th>\n",
       "      <td>2019</td>\n",
       "      <td>전체사고</td>\n",
       "      <td>서울특별시</td>\n",
       "      <td>39258</td>\n",
       "      <td>17.10</td>\n",
       "      <td>250</td>\n",
       "      <td>7.46</td>\n",
       "      <td>0.64</td>\n",
       "      <td>53904</td>\n",
       "      <td>15.77</td>\n",
       "      <td>229600</td>\n",
       "      <td>3349</td>\n",
       "      <td>341712</td>\n",
       "    </tr>\n",
       "  </tbody>\n",
       "</table>\n",
       "</div>"
      ],
      "text/plain": [
       "   기준년도 사고분류명 시도시군구명   사고건수  사고건수구성비  사망자수  사망자수구성비   치사율   부상자수  부상자수구성비  \\\n",
       "0  2020  전체사고  서울특별시  35227    16.80   219     7.11  0.62  47513    15.52   \n",
       "0  2021  전체사고  서울특별시  33913    16.70   243     8.33  0.72  45223    15.51   \n",
       "0  2016  전체사고  서울특별시  40039    18.12   348     8.11  0.87  55669    16.78   \n",
       "0  2018  전체사고  서울특별시  38795    17.87   304     8.04  0.78  53751    16.64   \n",
       "0  2019  전체사고  서울특별시  39258    17.10   250     7.46  0.64  53904    15.77   \n",
       "\n",
       "    총사건건수  총사망자수   총부상자수  \n",
       "0  209654   3081  306194  \n",
       "0  203130   2916  291608  \n",
       "0  220917   4292  331720  \n",
       "0  217148   3781  323037  \n",
       "0  229600   3349  341712  "
      ]
     },
     "execution_count": 20,
     "metadata": {},
     "output_type": "execute_result"
    }
   ],
   "source": [
    "df_seoul_sum = df_seoul[(df_seoul['사고분류명'] == '전체사고') & (df_seoul['시도시군구명'] == '서울특별시')]\n",
    "df_seoul_sum = df_seoul_sum.sort_values(by=['기준년도'])\n",
    "df_seoul_sum.sample(5)"
   ]
  },
  {
   "cell_type": "code",
   "execution_count": 30,
   "metadata": {},
   "outputs": [
    {
     "data": {
      "image/png": "[encoded data removed]",
      "text/plain": [
       "<Figure size 864x432 with 2 Axes>"
      ]
     },
     "metadata": {
      "image/png": {
       "height": 384,
       "width": 746
      }
     },
     "output_type": "display_data"
    }
   ],
   "source": [
    "_ = df_seoul_sum.plot(x='기준년도', rot=0, figsize=(12, 6), secondary_y='총사망자수', title=\"2016 ~ 2021 교통사고 발생 현황\")"
   ]
  },
  {
   "cell_type": "markdown",
   "metadata": {},
   "source": [
    "#### 연도별 사망자수 추이 (2012 ~ 2014년)"
   ]
  },
  {
   "cell_type": "code",
   "execution_count": 25,
   "metadata": {},
   "outputs": [
    {
     "data": {
      "text/plain": [
       "발생년\n",
       "2012    5165\n",
       "2013    4876\n",
       "2014    4583\n",
       "Name: 사망자수, dtype: int64"
      ]
     },
     "execution_count": 25,
     "metadata": {},
     "output_type": "execute_result"
    }
   ],
   "source": [
    "df_totaldead = df_01.groupby('발생년')['사망자수'].count()\n",
    "df_totaldead"
   ]
  },
  {
   "cell_type": "code",
   "execution_count": 98,
   "metadata": {},
   "outputs": [
    {
     "data": {
      "application/vnd.plotly.v1+json": {
       "config": {
        "plotlyServerURL": "https://plotly.com"
       },
       "data": [
        {
         "alignmentgroup": "True",
         "hovertemplate": "variable=사망자수<br>발생년=%{x}<br>value=%{y}<extra></extra>",
         "legendgroup": "사망자수",
         "marker": {
          "color": "#636efa",
          "pattern": {
           "shape": ""
          }
         },
         "name": "사망자수",
         "offsetgroup": "사망자수",
         "orientation": "v",
         "showlegend": true,
         "textposition": "auto",
         "type": "bar",
         "x": [
          2012,
          2013,
          2014
         ],
         "xaxis": "x",
         "y": [
          5165,
          4876,
          4583
         ],
         "yaxis": "y"
        }
       ],
       "layout": {
        "barmode": "relative",
        "legend": {
         "title": {
          "text": "variable"
         },
         "tracegroupgap": 0
        },
        "template": {
         "data": {
          "bar": [
           {
            "error_x": {
             "color": "#2a3f5f"
            },
            "error_y": {
             "color": "#2a3f5f"
            },
            "marker": {
             "line": {
              "color": "#E5ECF6",
              "width": 0.5
             },
             "pattern": {
              "fillmode": "overlay",
              "size": 10,
              "solidity": 0.2
             }
            },
            "type": "bar"
           }
          ],
          "barpolar": [
           {
            "marker": {
             "line": {
              "color": "#E5ECF6",
              "width": 0.5
             },
             "pattern": {
              "fillmode": "overlay",
              "size": 10,
              "solidity": 0.2
             }
            },
            "type": "barpolar"
           }
          ],
          "carpet": [
           {
            "aaxis": {
             "endlinecolor": "#2a3f5f",
             "gridcolor": "white",
             "linecolor": "white",
             "minorgridcolor": "white",
             "startlinecolor": "#2a3f5f"
            },
            "baxis": {
             "endlinecolor": "#2a3f5f",
             "gridcolor": "white",
             "linecolor": "white",
             "minorgridcolor": "white",
             "startlinecolor": "#2a3f5f"
            },
            "type": "carpet"
           }
          ],
          "choropleth": [
           {
            "colorbar": {
             "outlinewidth": 0,
             "ticks": ""
            },
            "type": "choropleth"
           }
          ],
          "contour": [
           {
            "colorbar": {
             "outlinewidth": 0,
             "ticks": ""
            },
            "colorscale": [
             [
              0,
              "#0d0887"
             ],
             [
              0.1111111111111111,
              "#46039f"
             ],
             [
              0.2222222222222222,
              "#7201a8"
             ],
             [
              0.3333333333333333,
              "#9c179e"
             ],
             [
              0.4444444444444444,
              "#bd3786"
             ],
             [
              0.5555555555555556,
              "#d8576b"
             ],
             [
              0.6666666666666666,
              "#ed7953"
             ],
             [
              0.7777777777777778,
              "#fb9f3a"
             ],
             [
              0.8888888888888888,
              "#fdca26"
             ],
             [
              1,
              "#f0f921"
             ]
            ],
            "type": "contour"
           }
          ],
          "contourcarpet": [
           {
            "colorbar": {
             "outlinewidth": 0,
             "ticks": ""
            },
            "type": "contourcarpet"
           }
          ],
          "heatmap": [
           {
            "colorbar": {
             "outlinewidth": 0,
             "ticks": ""
            },
            "colorscale": [
             [
              0,
              "#0d0887"
             ],
             [
              0.1111111111111111,
              "#46039f"
             ],
             [
              0.2222222222222222,
              "#7201a8"
             ],
             [
              0.3333333333333333,
              "#9c179e"
             ],
             [
              0.4444444444444444,
              "#bd3786"
             ],
             [
              0.5555555555555556,
              "#d8576b"
             ],
             [
              0.6666666666666666,
              "#ed7953"
             ],
             [
              0.7777777777777778,
              "#fb9f3a"
             ],
             [
              0.8888888888888888,
              "#fdca26"
             ],
             [
              1,
              "#f0f921"
             ]
            ],
            "type": "heatmap"
           }
          ],
          "heatmapgl": [
           {
            "colorbar": {
             "outlinewidth": 0,
             "ticks": ""
            },
            "colorscale": [
             [
              0,
              "#0d0887"
             ],
             [
              0.1111111111111111,
              "#46039f"
             ],
             [
              0.2222222222222222,
              "#7201a8"
             ],
             [
              0.3333333333333333,
              "#9c179e"
             ],
             [
              0.4444444444444444,
              "#bd3786"
             ],
             [
              0.5555555555555556,
              "#d8576b"
             ],
             [
              0.6666666666666666,
              "#ed7953"
             ],
             [
              0.7777777777777778,
              "#fb9f3a"
             ],
             [
              0.8888888888888888,
              "#fdca26"
             ],
             [
              1,
              "#f0f921"
             ]
            ],
            "type": "heatmapgl"
           }
          ],
          "histogram": [
           {
            "marker": {
             "pattern": {
              "fillmode": "overlay",
              "size": 10,
              "solidity": 0.2
             }
            },
            "type": "histogram"
           }
          ],
          "histogram2d": [
           {
            "colorbar": {
             "outlinewidth": 0,
             "ticks": ""
            },
            "colorscale": [
             [
              0,
              "#0d0887"
             ],
             [
              0.1111111111111111,
              "#46039f"
             ],
             [
              0.2222222222222222,
              "#7201a8"
             ],
             [
              0.3333333333333333,
              "#9c179e"
             ],
             [
              0.4444444444444444,
              "#bd3786"
             ],
             [
              0.5555555555555556,
              "#d8576b"
             ],
             [
              0.6666666666666666,
              "#ed7953"
             ],
             [
              0.7777777777777778,
              "#fb9f3a"
             ],
             [
              0.8888888888888888,
              "#fdca26"
             ],
             [
              1,
              "#f0f921"
             ]
            ],
            "type": "histogram2d"
           }
          ],
          "histogram2dcontour": [
           {
            "colorbar": {
             "outlinewidth": 0,
             "ticks": ""
            },
            "colorscale": [
             [
              0,
              "#0d0887"
             ],
             [
              0.1111111111111111,
              "#46039f"
             ],
             [
              0.2222222222222222,
              "#7201a8"
             ],
             [
              0.3333333333333333,
              "#9c179e"
             ],
             [
              0.4444444444444444,
              "#bd3786"
             ],
             [
              0.5555555555555556,
              "#d8576b"
             ],
             [
              0.6666666666666666,
              "#ed7953"
             ],
             [
              0.7777777777777778,
              "#fb9f3a"
             ],
             [
              0.8888888888888888,
              "#fdca26"
             ],
             [
              1,
              "#f0f921"
             ]
            ],
            "type": "histogram2dcontour"
           }
          ],
          "mesh3d": [
           {
            "colorbar": {
             "outlinewidth": 0,
             "ticks": ""
            },
            "type": "mesh3d"
           }
          ],
          "parcoords": [
           {
            "line": {
             "colorbar": {
              "outlinewidth": 0,
              "ticks": ""
             }
            },
            "type": "parcoords"
           }
          ],
          "pie": [
           {
            "automargin": true,
            "type": "pie"
           }
          ],
          "scatter": [
           {
            "fillpattern": {
             "fillmode": "overlay",
             "size": 10,
             "solidity": 0.2
            },
            "type": "scatter"
           }
          ],
          "scatter3d": [
           {
            "line": {
             "colorbar": {
              "outlinewidth": 0,
              "ticks": ""
             }
            },
            "marker": {
             "colorbar": {
              "outlinewidth": 0,
              "ticks": ""
             }
            },
            "type": "scatter3d"
           }
          ],
          "scattercarpet": [
           {
            "marker": {
             "colorbar": {
              "outlinewidth": 0,
              "ticks": ""
             }
            },
            "type": "scattercarpet"
           }
          ],
          "scattergeo": [
           {
            "marker": {
             "colorbar": {
              "outlinewidth": 0,
              "ticks": ""
             }
            },
            "type": "scattergeo"
           }
          ],
          "scattergl": [
           {
            "marker": {
             "colorbar": {
              "outlinewidth": 0,
              "ticks": ""
             }
            },
            "type": "scattergl"
           }
          ],
          "scattermapbox": [
           {
            "marker": {
             "colorbar": {
              "outlinewidth": 0,
              "ticks": ""
             }
            },
            "type": "scattermapbox"
           }
          ],
          "scatterpolar": [
           {
            "marker": {
             "colorbar": {
              "outlinewidth": 0,
              "ticks": ""
             }
            },
            "type": "scatterpolar"
           }
          ],
          "scatterpolargl": [
           {
            "marker": {
             "colorbar": {
              "outlinewidth": 0,
              "ticks": ""
             }
            },
            "type": "scatterpolargl"
           }
          ],
          "scatterternary": [
           {
            "marker": {
             "colorbar": {
              "outlinewidth": 0,
              "ticks": ""
             }
            },
            "type": "scatterternary"
           }
          ],
          "surface": [
           {
            "colorbar": {
             "outlinewidth": 0,
             "ticks": ""
            },
            "colorscale": [
             [
              0,
              "#0d0887"
             ],
             [
              0.1111111111111111,
              "#46039f"
             ],
             [
              0.2222222222222222,
              "#7201a8"
             ],
             [
              0.3333333333333333,
              "#9c179e"
             ],
             [
              0.4444444444444444,
              "#bd3786"
             ],
             [
              0.5555555555555556,
              "#d8576b"
             ],
             [
              0.6666666666666666,
              "#ed7953"
             ],
             [
              0.7777777777777778,
              "#fb9f3a"
             ],
             [
              0.8888888888888888,
              "#fdca26"
             ],
             [
              1,
              "#f0f921"
             ]
            ],
            "type": "surface"
           }
          ],
          "table": [
           {
            "cells": {
             "fill": {
              "color": "#EBF0F8"
             },
             "line": {
              "color": "white"
             }
            },
            "header": {
             "fill": {
              "color": "#C8D4E3"
             },
             "line": {
              "color": "white"
             }
            },
            "type": "table"
           }
          ]
         },
         "layout": {
          "annotationdefaults": {
           "arrowcolor": "#2a3f5f",
           "arrowhead": 0,
           "arrowwidth": 1
          },
          "autotypenumbers": "strict",
          "coloraxis": {
           "colorbar": {
            "outlinewidth": 0,
            "ticks": ""
           }
          },
          "colorscale": {
           "diverging": [
            [
             0,
             "#8e0152"
            ],
            [
             0.1,
             "#c51b7d"
            ],
            [
             0.2,
             "#de77ae"
            ],
            [
             0.3,
             "#f1b6da"
            ],
            [
             0.4,
             "#fde0ef"
            ],
            [
             0.5,
             "#f7f7f7"
            ],
            [
             0.6,
             "#e6f5d0"
            ],
            [
             0.7,
             "#b8e186"
            ],
            [
             0.8,
             "#7fbc41"
            ],
            [
             0.9,
             "#4d9221"
            ],
            [
             1,
             "#276419"
            ]
           ],
           "sequential": [
            [
             0,
             "#0d0887"
            ],
            [
             0.1111111111111111,
             "#46039f"
            ],
            [
             0.2222222222222222,
             "#7201a8"
            ],
            [
             0.3333333333333333,
             "#9c179e"
            ],
            [
             0.4444444444444444,
             "#bd3786"
            ],
            [
             0.5555555555555556,
             "#d8576b"
            ],
            [
             0.6666666666666666,
             "#ed7953"
            ],
            [
             0.7777777777777778,
             "#fb9f3a"
            ],
            [
             0.8888888888888888,
             "#fdca26"
            ],
            [
             1,
             "#f0f921"
            ]
           ],
           "sequentialminus": [
            [
             0,
             "#0d0887"
            ],
            [
             0.1111111111111111,
             "#46039f"
            ],
            [
             0.2222222222222222,
             "#7201a8"
            ],
            [
             0.3333333333333333,
             "#9c179e"
            ],
            [
             0.4444444444444444,
             "#bd3786"
            ],
            [
             0.5555555555555556,
             "#d8576b"
            ],
            [
             0.6666666666666666,
             "#ed7953"
            ],
            [
             0.7777777777777778,
             "#fb9f3a"
            ],
            [
             0.8888888888888888,
             "#fdca26"
            ],
            [
             1,
             "#f0f921"
            ]
           ]
          },
          "colorway": [
           "#636efa",
           "#EF553B",
           "#00cc96",
           "#ab63fa",
           "#FFA15A",
           "#19d3f3",
           "#FF6692",
           "#B6E880",
           "#FF97FF",
           "#FECB52"
          ],
          "font": {
           "color": "#2a3f5f"
          },
          "geo": {
           "bgcolor": "white",
           "lakecolor": "white",
           "landcolor": "#E5ECF6",
           "showlakes": true,
           "showland": true,
           "subunitcolor": "white"
          },
          "hoverlabel": {
           "align": "left"
          },
          "hovermode": "closest",
          "mapbox": {
           "style": "light"
          },
          "paper_bgcolor": "white",
          "plot_bgcolor": "#E5ECF6",
          "polar": {
           "angularaxis": {
            "gridcolor": "white",
            "linecolor": "white",
            "ticks": ""
           },
           "bgcolor": "#E5ECF6",
           "radialaxis": {
            "gridcolor": "white",
            "linecolor": "white",
            "ticks": ""
           }
          },
          "scene": {
           "xaxis": {
            "backgroundcolor": "#E5ECF6",
            "gridcolor": "white",
            "gridwidth": 2,
            "linecolor": "white",
            "showbackground": true,
            "ticks": "",
            "zerolinecolor": "white"
           },
           "yaxis": {
            "backgroundcolor": "#E5ECF6",
            "gridcolor": "white",
            "gridwidth": 2,
            "linecolor": "white",
            "showbackground": true,
            "ticks": "",
            "zerolinecolor": "white"
           },
           "zaxis": {
            "backgroundcolor": "#E5ECF6",
            "gridcolor": "white",
            "gridwidth": 2,
            "linecolor": "white",
            "showbackground": true,
            "ticks": "",
            "zerolinecolor": "white"
           }
          },
          "shapedefaults": {
           "line": {
            "color": "#2a3f5f"
           }
          },
          "ternary": {
           "aaxis": {
            "gridcolor": "white",
            "linecolor": "white",
            "ticks": ""
           },
           "baxis": {
            "gridcolor": "white",
            "linecolor": "white",
            "ticks": ""
           },
           "bgcolor": "#E5ECF6",
           "caxis": {
            "gridcolor": "white",
            "linecolor": "white",
            "ticks": ""
           }
          },
          "title": {
           "x": 0.05
          },
          "xaxis": {
           "automargin": true,
           "gridcolor": "white",
           "linecolor": "white",
           "ticks": "",
           "title": {
            "standoff": 15
           },
           "zerolinecolor": "white",
           "zerolinewidth": 2
          },
          "yaxis": {
           "automargin": true,
           "gridcolor": "white",
           "linecolor": "white",
           "ticks": "",
           "title": {
            "standoff": 15
           },
           "zerolinecolor": "white",
           "zerolinewidth": 2
          }
         }
        },
        "title": {
         "text": " 2012 ~ 2014 사망자 수"
        },
        "xaxis": {
         "anchor": "y",
         "domain": [
          0,
          1
         ],
         "title": {
          "text": "발생년"
         }
        },
        "yaxis": {
         "anchor": "x",
         "domain": [
          0,
          1
         ],
         "title": {
          "text": "value"
         }
        }
       }
      }
     },
     "metadata": {},
     "output_type": "display_data"
    },
    {
     "data": {
      "text/plain": [
       "'<iframe id=\"igraph\" scrolling=\"no\" style=\"border:none;\" seamless=\"seamless\" src=\"https://plotly.com/~nuyhc/38.embed\" height=\"525\" width=\"100%\"></iframe>'"
      ]
     },
     "execution_count": 98,
     "metadata": {},
     "output_type": "execute_result"
    }
   ],
   "source": [
    "fig = px.bar(df_totaldead, title= ' 2012 ~ 2014 사망자 수')\n",
    "fig.show()\n",
    "cs.tools.get_embed(cs.plotly.plot(fig, filename=\"2012~2014 사망자수\", auto_open=False))"
   ]
  },
  {
   "cell_type": "code",
   "execution_count": 99,
   "metadata": {},
   "outputs": [
    {
     "data": {
      "application/vnd.plotly.v1+json": {
       "config": {
        "plotlyServerURL": "https://plotly.com"
       },
       "data": [
        {
         "alignmentgroup": "True",
         "hovertemplate": "기준년도=%{x}<br>총사망자수=%{y}<extra></extra>",
         "legendgroup": "",
         "marker": {
          "color": "#636efa",
          "pattern": {
           "shape": ""
          }
         },
         "name": "",
         "offsetgroup": "",
         "orientation": "v",
         "showlegend": false,
         "textposition": "auto",
         "type": "bar",
         "x": [
          2016,
          2017,
          2018,
          2019,
          2020,
          2021
         ],
         "xaxis": "x",
         "y": [
          4292,
          4185,
          3781,
          3349,
          3081,
          2916
         ],
         "yaxis": "y"
        }
       ],
       "layout": {
        "barmode": "relative",
        "legend": {
         "tracegroupgap": 0
        },
        "template": {
         "data": {
          "bar": [
           {
            "error_x": {
             "color": "#2a3f5f"
            },
            "error_y": {
             "color": "#2a3f5f"
            },
            "marker": {
             "line": {
              "color": "#E5ECF6",
              "width": 0.5
             },
             "pattern": {
              "fillmode": "overlay",
              "size": 10,
              "solidity": 0.2
             }
            },
            "type": "bar"
           }
          ],
          "barpolar": [
           {
            "marker": {
             "line": {
              "color": "#E5ECF6",
              "width": 0.5
             },
             "pattern": {
              "fillmode": "overlay",
              "size": 10,
              "solidity": 0.2
             }
            },
            "type": "barpolar"
           }
          ],
          "carpet": [
           {
            "aaxis": {
             "endlinecolor": "#2a3f5f",
             "gridcolor": "white",
             "linecolor": "white",
             "minorgridcolor": "white",
             "startlinecolor": "#2a3f5f"
            },
            "baxis": {
             "endlinecolor": "#2a3f5f",
             "gridcolor": "white",
             "linecolor": "white",
             "minorgridcolor": "white",
             "startlinecolor": "#2a3f5f"
            },
            "type": "carpet"
           }
          ],
          "choropleth": [
           {
            "colorbar": {
             "outlinewidth": 0,
             "ticks": ""
            },
            "type": "choropleth"
           }
          ],
          "contour": [
           {
            "colorbar": {
             "outlinewidth": 0,
             "ticks": ""
            },
            "colorscale": [
             [
              0,
              "#0d0887"
             ],
             [
              0.1111111111111111,
              "#46039f"
             ],
             [
              0.2222222222222222,
              "#7201a8"
             ],
             [
              0.3333333333333333,
              "#9c179e"
             ],
             [
              0.4444444444444444,
              "#bd3786"
             ],
             [
              0.5555555555555556,
              "#d8576b"
             ],
             [
              0.6666666666666666,
              "#ed7953"
             ],
             [
              0.7777777777777778,
              "#fb9f3a"
             ],
             [
              0.8888888888888888,
              "#fdca26"
             ],
             [
              1,
              "#f0f921"
             ]
            ],
            "type": "contour"
           }
          ],
          "contourcarpet": [
           {
            "colorbar": {
             "outlinewidth": 0,
             "ticks": ""
            },
            "type": "contourcarpet"
           }
          ],
          "heatmap": [
           {
            "colorbar": {
             "outlinewidth": 0,
             "ticks": ""
            },
            "colorscale": [
             [
              0,
              "#0d0887"
             ],
             [
              0.1111111111111111,
              "#46039f"
             ],
             [
              0.2222222222222222,
              "#7201a8"
             ],
             [
              0.3333333333333333,
              "#9c179e"
             ],
             [
              0.4444444444444444,
              "#bd3786"
             ],
             [
              0.5555555555555556,
              "#d8576b"
             ],
             [
              0.6666666666666666,
              "#ed7953"
             ],
             [
              0.7777777777777778,
              "#fb9f3a"
             ],
             [
              0.8888888888888888,
              "#fdca26"
             ],
             [
              1,
              "#f0f921"
             ]
            ],
            "type": "heatmap"
           }
          ],
          "heatmapgl": [
           {
            "colorbar": {
             "outlinewidth": 0,
             "ticks": ""
            },
            "colorscale": [
             [
              0,
              "#0d0887"
             ],
             [
              0.1111111111111111,
              "#46039f"
             ],
             [
              0.2222222222222222,
              "#7201a8"
             ],
             [
              0.3333333333333333,
              "#9c179e"
             ],
             [
              0.4444444444444444,
              "#bd3786"
             ],
             [
              0.5555555555555556,
              "#d8576b"
             ],
             [
              0.6666666666666666,
              "#ed7953"
             ],
             [
              0.7777777777777778,
              "#fb9f3a"
             ],
             [
              0.8888888888888888,
              "#fdca26"
             ],
             [
              1,
              "#f0f921"
             ]
            ],
            "type": "heatmapgl"
           }
          ],
          "histogram": [
           {
            "marker": {
             "pattern": {
              "fillmode": "overlay",
              "size": 10,
              "solidity": 0.2
             }
            },
            "type": "histogram"
           }
          ],
          "histogram2d": [
           {
            "colorbar": {
             "outlinewidth": 0,
             "ticks": ""
            },
            "colorscale": [
             [
              0,
              "#0d0887"
             ],
             [
              0.1111111111111111,
              "#46039f"
             ],
             [
              0.2222222222222222,
              "#7201a8"
             ],
             [
              0.3333333333333333,
              "#9c179e"
             ],
             [
              0.4444444444444444,
              "#bd3786"
             ],
             [
              0.5555555555555556,
              "#d8576b"
             ],
             [
              0.6666666666666666,
              "#ed7953"
             ],
             [
              0.7777777777777778,
              "#fb9f3a"
             ],
             [
              0.8888888888888888,
              "#fdca26"
             ],
             [
              1,
              "#f0f921"
             ]
            ],
            "type": "histogram2d"
           }
          ],
          "histogram2dcontour": [
           {
            "colorbar": {
             "outlinewidth": 0,
             "ticks": ""
            },
            "colorscale": [
             [
              0,
              "#0d0887"
             ],
             [
              0.1111111111111111,
              "#46039f"
             ],
             [
              0.2222222222222222,
              "#7201a8"
             ],
             [
              0.3333333333333333,
              "#9c179e"
             ],
             [
              0.4444444444444444,
              "#bd3786"
             ],
             [
              0.5555555555555556,
              "#d8576b"
             ],
             [
              0.6666666666666666,
              "#ed7953"
             ],
             [
              0.7777777777777778,
              "#fb9f3a"
             ],
             [
              0.8888888888888888,
              "#fdca26"
             ],
             [
              1,
              "#f0f921"
             ]
            ],
            "type": "histogram2dcontour"
           }
          ],
          "mesh3d": [
           {
            "colorbar": {
             "outlinewidth": 0,
             "ticks": ""
            },
            "type": "mesh3d"
           }
          ],
          "parcoords": [
           {
            "line": {
             "colorbar": {
              "outlinewidth": 0,
              "ticks": ""
             }
            },
            "type": "parcoords"
           }
          ],
          "pie": [
           {
            "automargin": true,
            "type": "pie"
           }
          ],
          "scatter": [
           {
            "fillpattern": {
             "fillmode": "overlay",
             "size": 10,
             "solidity": 0.2
            },
            "type": "scatter"
           }
          ],
          "scatter3d": [
           {
            "line": {
             "colorbar": {
              "outlinewidth": 0,
              "ticks": ""
             }
            },
            "marker": {
             "colorbar": {
              "outlinewidth": 0,
              "ticks": ""
             }
            },
            "type": "scatter3d"
           }
          ],
          "scattercarpet": [
           {
            "marker": {
             "colorbar": {
              "outlinewidth": 0,
              "ticks": ""
             }
            },
            "type": "scattercarpet"
           }
          ],
          "scattergeo": [
           {
            "marker": {
             "colorbar": {
              "outlinewidth": 0,
              "ticks": ""
             }
            },
            "type": "scattergeo"
           }
          ],
          "scattergl": [
           {
            "marker": {
             "colorbar": {
              "outlinewidth": 0,
              "ticks": ""
             }
            },
            "type": "scattergl"
           }
          ],
          "scattermapbox": [
           {
            "marker": {
             "colorbar": {
              "outlinewidth": 0,
              "ticks": ""
             }
            },
            "type": "scattermapbox"
           }
          ],
          "scatterpolar": [
           {
            "marker": {
             "colorbar": {
              "outlinewidth": 0,
              "ticks": ""
             }
            },
            "type": "scatterpolar"
           }
          ],
          "scatterpolargl": [
           {
            "marker": {
             "colorbar": {
              "outlinewidth": 0,
              "ticks": ""
             }
            },
            "type": "scatterpolargl"
           }
          ],
          "scatterternary": [
           {
            "marker": {
             "colorbar": {
              "outlinewidth": 0,
              "ticks": ""
             }
            },
            "type": "scatterternary"
           }
          ],
          "surface": [
           {
            "colorbar": {
             "outlinewidth": 0,
             "ticks": ""
            },
            "colorscale": [
             [
              0,
              "#0d0887"
             ],
             [
              0.1111111111111111,
              "#46039f"
             ],
             [
              0.2222222222222222,
              "#7201a8"
             ],
             [
              0.3333333333333333,
              "#9c179e"
             ],
             [
              0.4444444444444444,
              "#bd3786"
             ],
             [
              0.5555555555555556,
              "#d8576b"
             ],
             [
              0.6666666666666666,
              "#ed7953"
             ],
             [
              0.7777777777777778,
              "#fb9f3a"
             ],
             [
              0.8888888888888888,
              "#fdca26"
             ],
             [
              1,
              "#f0f921"
             ]
            ],
            "type": "surface"
           }
          ],
          "table": [
           {
            "cells": {
             "fill": {
              "color": "#EBF0F8"
             },
             "line": {
              "color": "white"
             }
            },
            "header": {
             "fill": {
              "color": "#C8D4E3"
             },
             "line": {
              "color": "white"
             }
            },
            "type": "table"
           }
          ]
         },
         "layout": {
          "annotationdefaults": {
           "arrowcolor": "#2a3f5f",
           "arrowhead": 0,
           "arrowwidth": 1
          },
          "autotypenumbers": "strict",
          "coloraxis": {
           "colorbar": {
            "outlinewidth": 0,
            "ticks": ""
           }
          },
          "colorscale": {
           "diverging": [
            [
             0,
             "#8e0152"
            ],
            [
             0.1,
             "#c51b7d"
            ],
            [
             0.2,
             "#de77ae"
            ],
            [
             0.3,
             "#f1b6da"
            ],
            [
             0.4,
             "#fde0ef"
            ],
            [
             0.5,
             "#f7f7f7"
            ],
            [
             0.6,
             "#e6f5d0"
            ],
            [
             0.7,
             "#b8e186"
            ],
            [
             0.8,
             "#7fbc41"
            ],
            [
             0.9,
             "#4d9221"
            ],
            [
             1,
             "#276419"
            ]
           ],
           "sequential": [
            [
             0,
             "#0d0887"
            ],
            [
             0.1111111111111111,
             "#46039f"
            ],
            [
             0.2222222222222222,
             "#7201a8"
            ],
            [
             0.3333333333333333,
             "#9c179e"
            ],
            [
             0.4444444444444444,
             "#bd3786"
            ],
            [
             0.5555555555555556,
             "#d8576b"
            ],
            [
             0.6666666666666666,
             "#ed7953"
            ],
            [
             0.7777777777777778,
             "#fb9f3a"
            ],
            [
             0.8888888888888888,
             "#fdca26"
            ],
            [
             1,
             "#f0f921"
            ]
           ],
           "sequentialminus": [
            [
             0,
             "#0d0887"
            ],
            [
             0.1111111111111111,
             "#46039f"
            ],
            [
             0.2222222222222222,
             "#7201a8"
            ],
            [
             0.3333333333333333,
             "#9c179e"
            ],
            [
             0.4444444444444444,
             "#bd3786"
            ],
            [
             0.5555555555555556,
             "#d8576b"
            ],
            [
             0.6666666666666666,
             "#ed7953"
            ],
            [
             0.7777777777777778,
             "#fb9f3a"
            ],
            [
             0.8888888888888888,
             "#fdca26"
            ],
            [
             1,
             "#f0f921"
            ]
           ]
          },
          "colorway": [
           "#636efa",
           "#EF553B",
           "#00cc96",
           "#ab63fa",
           "#FFA15A",
           "#19d3f3",
           "#FF6692",
           "#B6E880",
           "#FF97FF",
           "#FECB52"
          ],
          "font": {
           "color": "#2a3f5f"
          },
          "geo": {
           "bgcolor": "white",
           "lakecolor": "white",
           "landcolor": "#E5ECF6",
           "showlakes": true,
           "showland": true,
           "subunitcolor": "white"
          },
          "hoverlabel": {
           "align": "left"
          },
          "hovermode": "closest",
          "mapbox": {
           "style": "light"
          },
          "paper_bgcolor": "white",
          "plot_bgcolor": "#E5ECF6",
          "polar": {
           "angularaxis": {
            "gridcolor": "white",
            "linecolor": "white",
            "ticks": ""
           },
           "bgcolor": "#E5ECF6",
           "radialaxis": {
            "gridcolor": "white",
            "linecolor": "white",
            "ticks": ""
           }
          },
          "scene": {
           "xaxis": {
            "backgroundcolor": "#E5ECF6",
            "gridcolor": "white",
            "gridwidth": 2,
            "linecolor": "white",
            "showbackground": true,
            "ticks": "",
            "zerolinecolor": "white"
           },
           "yaxis": {
            "backgroundcolor": "#E5ECF6",
            "gridcolor": "white",
            "gridwidth": 2,
            "linecolor": "white",
            "showbackground": true,
            "ticks": "",
            "zerolinecolor": "white"
           },
           "zaxis": {
            "backgroundcolor": "#E5ECF6",
            "gridcolor": "white",
            "gridwidth": 2,
            "linecolor": "white",
            "showbackground": true,
            "ticks": "",
            "zerolinecolor": "white"
           }
          },
          "shapedefaults": {
           "line": {
            "color": "#2a3f5f"
           }
          },
          "ternary": {
           "aaxis": {
            "gridcolor": "white",
            "linecolor": "white",
            "ticks": ""
           },
           "baxis": {
            "gridcolor": "white",
            "linecolor": "white",
            "ticks": ""
           },
           "bgcolor": "#E5ECF6",
           "caxis": {
            "gridcolor": "white",
            "linecolor": "white",
            "ticks": ""
           }
          },
          "title": {
           "x": 0.05
          },
          "xaxis": {
           "automargin": true,
           "gridcolor": "white",
           "linecolor": "white",
           "ticks": "",
           "title": {
            "standoff": 15
           },
           "zerolinecolor": "white",
           "zerolinewidth": 2
          },
          "yaxis": {
           "automargin": true,
           "gridcolor": "white",
           "linecolor": "white",
           "ticks": "",
           "title": {
            "standoff": 15
           },
           "zerolinecolor": "white",
           "zerolinewidth": 2
          }
         }
        },
        "title": {
         "text": "2016 ~ 2021 사망자 수"
        },
        "xaxis": {
         "anchor": "y",
         "domain": [
          0,
          1
         ],
         "title": {
          "text": "기준년도"
         }
        },
        "yaxis": {
         "anchor": "x",
         "domain": [
          0,
          1
         ],
         "title": {
          "text": "총사망자수"
         }
        }
       }
      }
     },
     "metadata": {},
     "output_type": "display_data"
    },
    {
     "data": {
      "text/plain": [
       "'<iframe id=\"igraph\" scrolling=\"no\" style=\"border:none;\" seamless=\"seamless\" src=\"https://plotly.com/~nuyhc/40.embed\" height=\"525\" width=\"100%\"></iframe>'"
      ]
     },
     "execution_count": 99,
     "metadata": {},
     "output_type": "execute_result"
    }
   ],
   "source": [
    "fig = px.bar(df_seoul_sum, x=\"기준년도\", y=\"총사망자수\", title=\"2016 ~ 2021 사망자 수\")\n",
    "fig.show()\n",
    "cs.tools.get_embed(cs.plotly.plot(fig, filename=\"파일 이름\", auto_open=False))"
   ]
  },
  {
   "cell_type": "markdown",
   "metadata": {},
   "source": [
    "근 10년간, 연간 사망자 수가 감소하는 추이를 확인 할 수 있음"
   ]
  },
  {
   "cell_type": "markdown",
   "metadata": {},
   "source": [
    "#### 교통사고 유형"
   ]
  },
  {
   "cell_type": "code",
   "execution_count": 100,
   "metadata": {},
   "outputs": [
    {
     "data": {
      "text/plain": [
       "'<iframe id=\"igraph\" scrolling=\"no\" style=\"border:none;\" seamless=\"seamless\" src=\"https://plotly.com/~nuyhc/42.embed\" height=\"525\" width=\"100%\"></iframe>'"
      ]
     },
     "execution_count": 100,
     "metadata": {},
     "output_type": "execute_result"
    }
   ],
   "source": [
    "df_typeofincidents =df_01.groupby('사고유형')['발생년월일시'].count()\n",
    "df_typeofincidents2=pd.crosstab(df_01.사고유형, df_01.발생년).T\n",
    "df_typeofincidents3=df_typeofincidents2.drop(columns=[\"직전진행\",\"경보기 무시\",\"차단기돌파\",\"주/정차차량 충돌\"]).T\n",
    "\n",
    "fig = px.bar(df_typeofincidents3.sort_index(), title=\"2012 ~ 2014 사고 유형\")\n",
    "cs.tools.get_embed(cs.plotly.plot(fig, filename=\"사고 유형\", auto_open=False))"
   ]
  },
  {
   "cell_type": "markdown",
   "metadata": {},
   "source": [
    "#### 교통사고 분류"
   ]
  },
  {
   "cell_type": "code",
   "execution_count": 101,
   "metadata": {},
   "outputs": [
    {
     "data": {
      "application/vnd.plotly.v1+json": {
       "config": {
        "plotlyServerURL": "https://plotly.com"
       },
       "data": [
        {
         "alignmentgroup": "True",
         "hovertemplate": "사고분류명=%{x}<br>사고건수=%{marker.color}<extra></extra>",
         "legendgroup": "",
         "marker": {
          "color": [
           33913,
           1026,
           4829,
           7127,
           2915,
           13933,
           332,
           68,
           5371,
           1722,
           445,
           824,
           463,
           3820,
           81,
           366,
           666,
           135,
           1613,
           25,
           3,
           541,
           82,
           81,
           106,
           50,
           1047,
           40,
           179,
           244,
           113,
           450,
           15,
           1,
           158,
           76,
           7,
           30,
           21,
           1017,
           25,
           179,
           262,
           90,
           426,
           9,
           3,
           189,
           77,
           16,
           18,
           14,
           1501,
           58,
           235,
           339,
           169,
           651,
           22,
           5,
           217,
           110,
           18,
           60,
           17,
           1419,
           32,
           181,
           317,
           55,
           636,
           7,
           3,
           229,
           77,
           14,
           17,
           24,
           922,
           39,
           104,
           212,
           105,
           397,
           20,
           4,
           153,
           42,
           19,
           31,
           22,
           1350,
           33,
           204,
           278,
           119,
           578,
           15,
           4,
           189,
           75,
           9,
           42,
           21,
           827,
           27,
           123,
           179,
           47,
           377,
           9,
           1,
           113,
           45,
           3,
           17,
           15,
           1413,
           55,
           236,
           281,
           171,
           545,
           19,
           3,
           246,
           81,
           18,
           29,
           21,
           591,
           20,
           133,
           166,
           80,
           229,
           10,
           2,
           93,
           62,
           3,
           12,
           7,
           1390,
           26,
           282,
           311,
           176,
           506,
           12,
           2,
           266,
           115,
           14,
           24,
           22,
           1148,
           37,
           157,
           289,
           77,
           472,
           17,
           1,
           193,
           65,
           21,
           26,
           10,
           1102,
           30,
           141,
           230,
           88,
           505,
           6,
           1,
           147,
           43,
           33,
           33,
           22,
           930,
           28,
           167,
           217,
           57,
           385,
           10,
           2,
           167,
           72,
           12,
           25,
           10,
           2118,
           55,
           241,
           383,
           88,
           781,
           15,
           2,
           344,
           50,
           30,
           77,
           23,
           1057,
           21,
           144,
           243,
           135,
           441,
           9,
           3,
           150,
           55,
           16,
           18,
           12,
           1285,
           44,
           194,
           297,
           84,
           504,
           15,
           4,
           232,
           80,
           5,
           26,
           11,
           2607,
           88,
           334,
           477,
           343,
           1049,
           16,
           5,
           429,
           96,
           57,
           37,
           30,
           1305,
           68,
           207,
           290,
           119,
           506,
           24,
           5,
           209,
           75,
           5,
           19,
           15,
           2178,
           79,
           286,
           336,
           260,
           865,
           18,
           4,
           325,
           76,
           13,
           44,
           30,
           1014,
           18,
           126,
           176,
           69,
           444,
           2,
           137,
           32,
           6,
           36,
           11,
           867,
           49,
           171,
           253,
           96,
           350,
           20,
           4,
           153,
           76,
           14,
           29,
           13,
           778,
           15,
           122,
           179,
           46,
           300,
           2,
           1,
           142,
           44,
           4,
           20,
           9,
           854,
           21,
           126,
           171,
           35,
           383,
           5,
           1,
           154,
           44,
           8,
           29,
           13,
           1373,
           37,
           191,
           331,
           158,
           540,
           10,
           4,
           195,
           72,
           19,
           19,
           20,
           35227,
           928,
           5056,
           7705,
           3015,
           15381,
           273,
           65,
           5318,
           1805,
           387,
           751,
           571,
           3752,
           76,
           359,
           718,
           139,
           1727,
           19,
           6,
           510,
           77,
           94,
           96,
           71,
           1268,
           40,
           196,
           346,
           160,
           514,
           17,
           7,
           201,
           92,
           10,
           29,
           23,
           1087,
           33,
           161,
           275,
           72,
           481,
           8,
           1,
           173,
           58,
           3,
           18,
           10,
           1575,
           43,
           232,
           348,
           143,
           695,
           14,
           5,
           210,
           85,
           10,
           52,
           21,
           1444,
           34,
           209,
           328,
           76,
           672,
           13,
           2,
           231,
           86,
           21,
           28,
           31,
           869,
           22,
           102,
           193,
           81,
           421,
           11,
           4,
           117,
           31,
           24,
           31,
           21,
           1325,
           32,
           201,
           296,
           99,
           594,
           16,
           4,
           193,
           66,
           12,
           32,
           37,
           810,
           20,
           130,
           201,
           54,
           393,
           7,
           1,
           112,
           53,
           7,
           34,
           15,
           1462,
           54,
           244,
           285,
           191,
           608,
           11,
           1,
           227,
           77,
           7,
           32,
           23,
           741,
           19,
           160,
           224,
           89,
           305,
           9,
           2,
           123,
           78,
           6,
           10,
           8,
           1448,
           31,
           289,
           331,
           189,
           595,
           8,
           4,
           250,
           127,
           12,
           20,
           30,
           1307,
           24,
           199,
           307,
           102,
           566,
           6,
           2,
           187,
           76,
           11,
           22,
           30,
           1272,
           34,
           148,
           270,
           99,
           656,
           5,
           2,
           183,
           49,
           32,
           16,
           28,
           928,
           36,
           137,
           208,
           59,
           365,
           13,
           2,
           147,
           53,
           7,
           19,
           15,
           2250,
           43,
           247,
           393,
           100,
           903,
           9,
           3,
           330,
           61,
           31,
           66,
           25,
           1119,
           18,
           158,
           244,
           126,
           503,
           4,
           1,
           146,
           58,
           15,
           15,
           17,
           1275,
           32,
           214,
           340,
           70,
           536,
           13,
           2,
           209,
           109,
           4,
           19,
           14,
           2595,
           88,
           336,
           479,
           362,
           1086,
           24,
           1,
           379,
           92,
           32,
           32,
           31,
           1344,
           47,
           198,
           284,
           129,
           537,
           14,
           4,
           222,
           75,
           8,
           17,
           12,
           2208,
           50,
           296,
           372,
           284,
           956,
           14,
           4,
           347,
           77,
           14,
           36,
           28,
           890,
           24,
           95,
           159,
           39,
           399,
           8,
           2,
           116,
           31,
           4,
           25,
           15,
           953,
           36,
           195,
           275,
           78,
           433,
           12,
           1,
           166,
           71,
           3,
           31,
           19,
           903,
           16,
           147,
           226,
           43,
           377,
           2,
           1,
           145,
           57,
           7,
           31,
           8,
           955,
           14,
           161,
           246,
           37,
           411,
           7,
           2,
           175,
           67,
           8,
           14,
           15,
           1447,
           62,
           242,
           357,
           194,
           648,
           9,
           1,
           219,
           99,
           5,
           26,
           24,
           39258,
           1475,
           5912,
           9989,
           1766,
           17021,
           634,
           114,
           5886,
           2268,
           134,
           721,
           557,
           3722,
           107,
           352,
           839,
           60,
           1688,
           44,
           6,
           457,
           91,
           36,
           65,
           66,
           1414,
           69,
           286,
           439,
           70,
           597,
           33,
           4,
           201,
           125,
           2,
           29,
           23,
           1277,
           59,
           217,
           401,
           57,
           608,
           22,
           5,
           193,
           99,
           1,
           20,
           14,
           1829,
           90,
           276,
           468,
           72,
           803,
           43,
           16,
           244,
           109,
           4,
           56,
           30,
           1363,
           37,
           194,
           355,
           43,
           651,
           14,
           3,
           208,
           96,
           2,
           23,
           21,
           973,
           45,
           128,
           263,
           61,
           440,
           29,
           6,
           146,
           42,
           9,
           29,
           16,
           1529,
           81,
           230,
           412,
           71,
           692,
           44,
           13,
           217,
           92,
           3,
           35,
           19,
           920,
           30,
           140,
           265,
           40,
           451,
           18,
           1,
           125,
           54,
           5,
           30,
           24,
           1703,
           74,
           297,
           415,
           119,
           681,
           28,
           6,
           287,
           112,
           3,
           49,
           19,
           852,
           42,
           189,
           270,
           62,
           368,
           18,
           8,
           118,
           92,
           3,
           12,
           11,
           1565,
           41,
           315,
           429,
           110,
           614,
           20,
           3,
           288,
           136,
           3,
           29,
           6,
           1406,
           57,
           203,
           410,
           53,
           587,
           24,
           4,
           214,
           93,
           1,
           18,
           25,
           1494,
           45,
           192,
           363,
           52,
           718,
           14,
           2,
           198,
           64,
           4,
           31,
           34,
           1113,
           43,
           211,
           325,
           48,
           469,
           16,
           187,
           87,
           4,
           20,
           17,
           2418,
           69,
           284,
           466,
           46,
           983,
           21,
           3,
           368,
           68,
           16,
           58,
           28,
           1091,
           45,
           162,
           229,
           63,
           443,
           15,
           1,
           156,
           57,
           5,
           11,
           13,
           1509,
           59,
           262,
           409,
           37,
           633,
           23,
           8,
           216,
           129,
           2,
           15,
           22,
           2892,
           136,
           395,
           594,
           218,
           1257,
           54,
           4,
           428,
           117,
           7,
           30,
           41,
           1506,
           81,
           237,
           381,
           70,
           604,
           41,
           8,
           234,
           94,
           2,
           20,
           19,
           2439,
           74,
           341,
           560,
           189,
           1047,
           31,
           2,
           350,
           123,
           6,
           27,
           19,
           1187,
           27,
           144,
           264,
           22,
           580,
           11,
           2,
           184,
           41,
           1,
           33,
           24,
           1119,
           55,
           246,
           362,
           62,
           467,
           29,
           6,
           230,
           114,
           7,
           20,
           16,
           1133,
           20,
           184,
           308,
           19,
           480,
           7,
           190,
           59,
           1,
           20,
           15,
           1184,
           24,
           151,
           288,
           23,
           465,
           6,
           213,
           49,
           2,
           16,
           16,
           1620,
           65,
           276,
           474,
           99,
           695,
           29,
           3,
           234,
           125,
           5,
           25,
           19,
           38795,
           1331,
           5761,
           10080,
           1471,
           17876,
           557,
           77,
           5869,
           2268,
           50,
           789,
           517,
           3459,
           86,
           351,
           761,
           59,
           1679,
           31,
           5,
           504,
           98,
           3,
           75,
           54,
           1418,
           58,
           242,
           400,
           66,
           620,
           24,
           1,
           227,
           95,
           2,
           37,
           22,
           1216,
           42,
           246,
           401,
           41,
           584,
           14,
           204,
           110,
           1,
           26,
           26,
           1502,
           64,
           210,
           391,
           59,
           704,
           29,
           6,
           181,
           87,
           2,
           31,
           20,
           1300,
           35,
           182,
           358,
           25,
           638,
           24,
           3,
           169,
           85,
           1,
           21,
           12,
           1108,
           43,
           133,
           270,
           70,
           539,
           20,
           2,
           168,
           56,
           4,
           32,
           13,
           1532,
           63,
           242,
           379,
           53,
           695,
           23,
           9,
           209,
           104,
           4,
           44,
           27,
           932,
           26,
           143,
           269,
           25,
           472,
           7,
           1,
           127,
           68,
           36,
           13,
           1569,
           73,
           245,
           388,
           86,
           702,
           29,
           2,
           256,
           95,
           1,
           27,
           16,
           824,
           34,
           190,
           287,
           45,
           348,
           18,
           5,
           147,
           83,
           1,
           14,
           10,
           1699,
           42,
           327,
           493,
           105,
           677,
           18,
           267,
           147,
           5,
           33,
           24,
           1412,
           43,
           225,
           423,
           63,
           668,
           25,
           4,
           194,
           107,
           1,
           18,
           21,
           1671,
           45,
           191,
           402,
           45,
           881,
           21,
           2,
           246,
           62,
           4,
           42,
           30,
           1033,
           32,
           203,
           330,
           30,
           460,
           13,
           177,
           97,
           15,
           14,
           2478,
           77,
           290,
           531,
           36,
           1078,
           25,
           6,
           363,
           77,
           1,
           73,
           43,
           1143,
           28,
           158,
           274,
           47,
           528,
           15,
           2,
           154,
           50,
           3,
           24,
           12,
           1427,
           64,
           228,
           395,
           41,
           656,
           28,
           3,
           243,
           104,
           3,
           29,
           16,
           2860,
           110,
           373,
           653,
           178,
           1280,
           40,
           1,
           384,
           128,
           36,
           34,
           1428,
           72,
           209,
           375,
           46,
           639,
           35,
           3,
           204,
           80,
           16,
           17,
           2493,
           85,
           350,
           564,
           161,
           1175,
           37,
           5,
           354,
           122,
           3,
           39,
           27,
           1330,
           34,
           170,
           300,
           26,
           634,
           12,
           231,
           65,
           2,
           41,
           18,
           1134,
           56,
           244,
           368,
           51,
           489,
           24,
           5,
           193,
           104,
           2,
           21,
           14,
           1134,
           28,
           191,
           340,
           21,
           534,
           8,
           6,
           205,
           80,
           3,
           17,
           7,
           1128,
           23,
           164,
           292,
           14,
           481,
           4,
           208,
           66,
           13,
           12,
           1565,
           68,
           254,
           436,
           78,
           715,
           33,
           6,
           254,
           98,
           4,
           29,
           15,
           38625,
           1466,
           5357,
           10350,
           1656,
           17921,
           615,
           81,
           5021,
           2246,
           29,
           733,
           554,
           3469,
           103,
           324,
           820,
           63,
           1662,
           40,
           9,
           408,
           102,
           1,
           69,
           57,
           1371,
           62,
           221,
           430,
           80,
           595,
           30,
           8,
           174,
           97,
           1,
           16,
           12,
           1202,
           47,
           200,
           437,
           46,
           607,
           23,
           145,
           100,
           26,
           27,
           1584,
           62,
           231,
           409,
           87,
           734,
           27,
           4,
           193,
           100,
           3,
           25,
           22,
           1251,
           32,
           184,
           368,
           36,
           647,
           20,
           2,
           156,
           97,
           1,
           19,
           19,
           1064,
           42,
           146,
           291,
           60,
           534,
           23,
           4,
           134,
           59,
           3,
           28,
           27,
           1433,
           68,
           203,
           374,
           49,
           647,
           27,
           10,
           161,
           88,
           2,
           61,
           35,
           824,
           44,
           114,
           255,
           26,
           409,
           18,
           89,
           49,
           25,
           21,
           1499,
           76,
           212,
           378,
           77,
           657,
           35,
           2,
           207,
           86,
           1,
           19,
           19,
           944,
           47,
           170,
           307,
           66,
           427,
           18,
           5,
           141,
           80,
           1,
           23,
           22,
           1718,
           44,
           313,
           521,
           107,
           790,
           22,
           2,
           254,
           138,
           40,
           19,
           1409,
           46,
           200,
           391,
           54,
           650,
           17,
           4,
           177,
           93,
           26,
           18,
           1859,
           59,
           208,
           467,
           48,
           962,
           22,
           1,
           217,
           77,
           53,
           40,
           1032,
           31,
           166,
           312,
           26,
           448,
           15,
           2,
           163,
           72,
           1,
           20,
           9,
           2361,
           93,
           237,
           562,
           30,
           1042,
           34,
           1,
           283,
           94,
           3,
           61,
           34,
           1076,
           28,
           161,
           246,
           63,
           494,
           8,
           1,
           136,
           54,
           1,
           7,
           14,
           1557,
           64,
           285,
           415,
           51,
           709,
           31,
           4,
           229,
           131,
           29,
           14,
           2758,
           131,
           321,
           628,
           214,
           1233,
           46,
           3,
           362,
           106,
           3,
           34,
           33,
           1343,
           84,
           177,
           373,
           76,
           559,
           39,
           5,
           150,
           85,
           1,
           11,
           18,
           2386,
           89,
           328,
           563,
           150,
           1157,
           20,
           4,
           313,
           120,
           2,
           35,
           22,
           1337,
           35,
           163,
           292,
           41,
           634,
           13,
           194,
           62,
           22,
           22,
           1067,
           54,
           195,
           420,
           51,
           483,
           32,
           5,
           165,
           97,
           22,
           15,
           1190,
           34,
           192,
           334,
           29,
           514,
           13,
           3,
           180,
           78,
           2,
           23,
           14,
           1252,
           25,
           156,
           318,
           12,
           542,
           9,
           1,
           170,
           74,
           14,
           10,
           1639,
           66,
           250,
           439,
           114,
           785,
           33,
           1,
           220,
           107,
           3,
           25,
           11,
           40039,
           1515,
           5219,
           10816,
           1884,
           18886,
           657,
           96,
           4548,
           2238,
           790,
           406,
           3828,
           92,
           303,
           883,
           74,
           1880,
           36,
           6,
           378,
           101,
           101,
           51,
           1426,
           78,
           217,
           435,
           91,
           645,
           41,
           7,
           160,
           78,
           36,
           13,
           1227,
           42,
           216,
           406,
           41,
           593,
           24,
           5,
           162,
           108,
           25,
           10,
           1691,
           73,
           240,
           472,
           125,
           763,
           33,
           1,
           183,
           106,
           14,
           13,
           1408,
           42,
           171,
           433,
           39,
           701,
           24,
           3,
           160,
           86,
           18,
           15,
           1045,
           49,
           113,
           300,
           62,
           532,
           22,
           4,
           119,
           53,
           31,
           13,
           1511,
           66,
           207,
           439,
           84,
           751,
           32,
           9,
           146,
           96,
           32,
           23,
           799,
           37,
           108,
           253,
           31,
           408,
           23,
           6,
           73,
           48,
           19,
           8,
           1535,
           90,
           228,
           394,
           91,
           701,
           41,
           2,
           178,
           96,
           32,
           17,
           949,
           52,
           171,
           299,
           70,
           430,
           21,
           6,
           110,
           81,
           23,
           10,
           2051,
           63,
           357,
           588,
           128,
           876,
           23,
           2,
           263,
           156,
           34,
           18,
           1471,
           63,
           196,
           462,
           67,
           698,
           32,
           6,
           170,
           98,
           21,
           21,
           1768,
           62,
           198,
           444,
           52,
           953,
           20,
           2,
           192,
           77,
           56,
           18,
           1135,
           42,
           173,
           320,
           36,
           540,
           13,
           154,
           78,
           29,
           8,
           2313,
           71,
           248,
           464,
           48,
           997,
           17,
           2,
           253,
           75,
           61,
           26,
           1099,
           45,
           139,
           285,
           63,
           514,
           20,
           129,
           68,
           15,
           12,
           1618,
           58,
           248,
           493,
           43,
           740,
           32,
           10,
           177,
           134,
           25,
           17,
           2598,
           134,
           274,
           621,
           206,
           1209,
           57,
           4,
           276,
           87,
           47,
           19,
           1493,
           74,
           191,
           409,
           104,
           700,
           27,
           4,
           154,
           90,
           27,
           20,
           2403,
           79,
           312,
           537,
           193,
           1158,
           34,
           3,
           248,
           106,
           44,
           13,
           1428,
           38,
           167,
           304,
           48,
           697,
           11,
           1,
           165,
           57,
           34,
           14,
           1121,
           52,
           217,
           402,
           56,
           527,
           32,
           9,
           149,
           113,
           17,
           16,
           1299,
           22,
           173,
           394,
           22,
           588,
           8,
           4,
           163,
           76,
           30,
           12,
           1288,
           25,
           139,
           350,
           6,
           565,
           6,
           186,
           67,
           6,
           9,
           1535,
           66,
           213,
           429,
           104,
           720,
           28,
           200,
           103,
           13,
           10
          ],
          "coloraxis": "coloraxis",
          "pattern": {
           "shape": ""
          }
         },
         "name": "",
         "offsetgroup": "",
         "orientation": "v",
         "showlegend": false,
         "textposition": "auto",
         "type": "bar",
         "x": [
          "전체사고",
          "어린이사고",
          "고령자사고",
          "보행자사고",
          "자전거사고",
          "야간사고",
          "어린이보행사고",
          "스쿨존내어린이사고",
          "고령운전자사고",
          "고령보행자사고",
          "개인이동수단(PM)사고",
          "뺑소니사고",
          "무면허사고",
          "전체사고",
          "어린이사고",
          "고령자사고",
          "보행자사고",
          "자전거사고",
          "야간사고",
          "어린이보행사고",
          "스쿨존내어린이사고",
          "고령운전자사고",
          "고령보행자사고",
          "개인이동수단(PM)사고",
          "뺑소니사고",
          "무면허사고",
          "전체사고",
          "어린이사고",
          "고령자사고",
          "보행자사고",
          "자전거사고",
          "야간사고",
          "어린이보행사고",
          "스쿨존내어린이사고",
          "고령운전자사고",
          "고령보행자사고",
          "개인이동수단(PM)사고",
          "뺑소니사고",
          "무면허사고",
          "전체사고",
          "어린이사고",
          "고령자사고",
          "보행자사고",
          "자전거사고",
          "야간사고",
          "어린이보행사고",
          "스쿨존내어린이사고",
          "고령운전자사고",
          "고령보행자사고",
          "개인이동수단(PM)사고",
          "뺑소니사고",
          "무면허사고",
          "전체사고",
          "어린이사고",
          "고령자사고",
          "보행자사고",
          "자전거사고",
          "야간사고",
          "어린이보행사고",
          "스쿨존내어린이사고",
          "고령운전자사고",
          "고령보행자사고",
          "개인이동수단(PM)사고",
          "뺑소니사고",
          "무면허사고",
          "전체사고",
          "어린이사고",
          "고령자사고",
          "보행자사고",
          "자전거사고",
          "야간사고",
          "어린이보행사고",
          "스쿨존내어린이사고",
          "고령운전자사고",
          "고령보행자사고",
          "개인이동수단(PM)사고",
          "뺑소니사고",
          "무면허사고",
          "전체사고",
          "어린이사고",
          "고령자사고",
          "보행자사고",
          "자전거사고",
          "야간사고",
          "어린이보행사고",
          "스쿨존내어린이사고",
          "고령운전자사고",
          "고령보행자사고",
          "개인이동수단(PM)사고",
          "뺑소니사고",
          "무면허사고",
          "전체사고",
          "어린이사고",
          "고령자사고",
          "보행자사고",
          "자전거사고",
          "야간사고",
          "어린이보행사고",
          "스쿨존내어린이사고",
          "고령운전자사고",
          "고령보행자사고",
          "개인이동수단(PM)사고",
          "뺑소니사고",
          "무면허사고",
          "전체사고",
          "어린이사고",
          "고령자사고",
          "보행자사고",
          "자전거사고",
          "야간사고",
          "어린이보행사고",
          "스쿨존내어린이사고",
          "고령운전자사고",
          "고령보행자사고",
          "개인이동수단(PM)사고",
          "뺑소니사고",
          "무면허사고",
          "전체사고",
          "어린이사고",
          "고령자사고",
          "보행자사고",
          "자전거사고",
          "야간사고",
          "어린이보행사고",
          "스쿨존내어린이사고",
          "고령운전자사고",
          "고령보행자사고",
          "개인이동수단(PM)사고",
          "뺑소니사고",
          "무면허사고",
          "전체사고",
          "어린이사고",
          "고령자사고",
          "보행자사고",
          "자전거사고",
          "야간사고",
          "어린이보행사고",
          "스쿨존내어린이사고",
          "고령운전자사고",
          "고령보행자사고",
          "개인이동수단(PM)사고",
          "뺑소니사고",
          "무면허사고",
          "전체사고",
          "어린이사고",
          "고령자사고",
          "보행자사고",
          "자전거사고",
          "야간사고",
          "어린이보행사고",
          "스쿨존내어린이사고",
          "고령운전자사고",
          "고령보행자사고",
          "개인이동수단(PM)사고",
          "뺑소니사고",
          "무면허사고",
          "전체사고",
          "어린이사고",
          "고령자사고",
          "보행자사고",
          "자전거사고",
          "야간사고",
          "어린이보행사고",
          "스쿨존내어린이사고",
          "고령운전자사고",
          "고령보행자사고",
          "개인이동수단(PM)사고",
          "뺑소니사고",
          "무면허사고",
          "전체사고",
          "어린이사고",
          "고령자사고",
          "보행자사고",
          "자전거사고",
          "야간사고",
          "어린이보행사고",
          "스쿨존내어린이사고",
          "고령운전자사고",
          "고령보행자사고",
          "개인이동수단(PM)사고",
          "뺑소니사고",
          "무면허사고",
          "전체사고",
          "어린이사고",
          "고령자사고",
          "보행자사고",
          "자전거사고",
          "야간사고",
          "어린이보행사고",
          "스쿨존내어린이사고",
          "고령운전자사고",
          "고령보행자사고",
          "개인이동수단(PM)사고",
          "뺑소니사고",
          "무면허사고",
          "전체사고",
          "어린이사고",
          "고령자사고",
          "보행자사고",
          "자전거사고",
          "야간사고",
          "어린이보행사고",
          "스쿨존내어린이사고",
          "고령운전자사고",
          "고령보행자사고",
          "개인이동수단(PM)사고",
          "뺑소니사고",
          "무면허사고",
          "전체사고",
          "어린이사고",
          "고령자사고",
          "보행자사고",
          "자전거사고",
          "야간사고",
          "어린이보행사고",
          "스쿨존내어린이사고",
          "고령운전자사고",
          "고령보행자사고",
          "개인이동수단(PM)사고",
          "뺑소니사고",
          "무면허사고",
          "전체사고",
          "어린이사고",
          "고령자사고",
          "보행자사고",
          "자전거사고",
          "야간사고",
          "어린이보행사고",
          "스쿨존내어린이사고",
          "고령운전자사고",
          "고령보행자사고",
          "개인이동수단(PM)사고",
          "뺑소니사고",
          "무면허사고",
          "전체사고",
          "어린이사고",
          "고령자사고",
          "보행자사고",
          "자전거사고",
          "야간사고",
          "어린이보행사고",
          "스쿨존내어린이사고",
          "고령운전자사고",
          "고령보행자사고",
          "개인이동수단(PM)사고",
          "뺑소니사고",
          "무면허사고",
          "전체사고",
          "어린이사고",
          "고령자사고",
          "보행자사고",
          "자전거사고",
          "야간사고",
          "어린이보행사고",
          "스쿨존내어린이사고",
          "고령운전자사고",
          "고령보행자사고",
          "개인이동수단(PM)사고",
          "뺑소니사고",
          "무면허사고",
          "전체사고",
          "어린이사고",
          "고령자사고",
          "보행자사고",
          "자전거사고",
          "야간사고",
          "어린이보행사고",
          "스쿨존내어린이사고",
          "고령운전자사고",
          "고령보행자사고",
          "개인이동수단(PM)사고",
          "뺑소니사고",
          "무면허사고",
          "전체사고",
          "어린이사고",
          "고령자사고",
          "보행자사고",
          "자전거사고",
          "야간사고",
          "어린이보행사고",
          "고령운전자사고",
          "고령보행자사고",
          "개인이동수단(PM)사고",
          "뺑소니사고",
          "무면허사고",
          "전체사고",
          "어린이사고",
          "고령자사고",
          "보행자사고",
          "자전거사고",
          "야간사고",
          "어린이보행사고",
          "스쿨존내어린이사고",
          "고령운전자사고",
          "고령보행자사고",
          "개인이동수단(PM)사고",
          "뺑소니사고",
          "무면허사고",
          "전체사고",
          "어린이사고",
          "고령자사고",
          "보행자사고",
          "자전거사고",
          "야간사고",
          "어린이보행사고",
          "스쿨존내어린이사고",
          "고령운전자사고",
          "고령보행자사고",
          "개인이동수단(PM)사고",
          "뺑소니사고",
          "무면허사고",
          "전체사고",
          "어린이사고",
          "고령자사고",
          "보행자사고",
          "자전거사고",
          "야간사고",
          "어린이보행사고",
          "스쿨존내어린이사고",
          "고령운전자사고",
          "고령보행자사고",
          "개인이동수단(PM)사고",
          "뺑소니사고",
          "무면허사고",
          "전체사고",
          "어린이사고",
          "고령자사고",
          "보행자사고",
          "자전거사고",
          "야간사고",
          "어린이보행사고",
          "스쿨존내어린이사고",
          "고령운전자사고",
          "고령보행자사고",
          "개인이동수단(PM)사고",
          "뺑소니사고",
          "무면허사고",
          "전체사고",
          "어린이사고",
          "고령자사고",
          "보행자사고",
          "자전거사고",
          "야간사고",
          "어린이보행사고",
          "스쿨존내어린이사고",
          "고령운전자사고",
          "고령보행자사고",
          "개인이동수단(PM)사고",
          "뺑소니사고",
          "무면허사고",
          "전체사고",
          "어린이사고",
          "고령자사고",
          "보행자사고",
          "자전거사고",
          "야간사고",
          "어린이보행사고",
          "스쿨존내어린이사고",
          "고령운전자사고",
          "고령보행자사고",
          "개인이동수단(PM)사고",
          "뺑소니사고",
          "무면허사고",
          "전체사고",
          "어린이사고",
          "고령자사고",
          "보행자사고",
          "자전거사고",
          "야간사고",
          "어린이보행사고",
          "스쿨존내어린이사고",
          "고령운전자사고",
          "고령보행자사고",
          "개인이동수단(PM)사고",
          "뺑소니사고",
          "무면허사고",
          "전체사고",
          "어린이사고",
          "고령자사고",
          "보행자사고",
          "자전거사고",
          "야간사고",
          "어린이보행사고",
          "스쿨존내어린이사고",
          "고령운전자사고",
          "고령보행자사고",
          "개인이동수단(PM)사고",
          "뺑소니사고",
          "무면허사고",
          "전체사고",
          "어린이사고",
          "고령자사고",
          "보행자사고",
          "자전거사고",
          "야간사고",
          "어린이보행사고",
          "스쿨존내어린이사고",
          "고령운전자사고",
          "고령보행자사고",
          "개인이동수단(PM)사고",
          "뺑소니사고",
          "무면허사고",
          "전체사고",
          "어린이사고",
          "고령자사고",
          "보행자사고",
          "자전거사고",
          "야간사고",
          "어린이보행사고",
          "스쿨존내어린이사고",
          "고령운전자사고",
          "고령보행자사고",
          "개인이동수단(PM)사고",
          "뺑소니사고",
          "무면허사고",
          "전체사고",
          "어린이사고",
          "고령자사고",
          "보행자사고",
          "자전거사고",
          "야간사고",
          "어린이보행사고",
          "스쿨존내어린이사고",
          "고령운전자사고",
          "고령보행자사고",
          "개인이동수단(PM)사고",
          "뺑소니사고",
          "무면허사고",
          "전체사고",
          "어린이사고",
          "고령자사고",
          "보행자사고",
          "자전거사고",
          "야간사고",
          "어린이보행사고",
          "스쿨존내어린이사고",
          "고령운전자사고",
          "고령보행자사고",
          "개인이동수단(PM)사고",
          "뺑소니사고",
          "무면허사고",
          "전체사고",
          "어린이사고",
          "고령자사고",
          "보행자사고",
          "자전거사고",
          "야간사고",
          "어린이보행사고",
          "스쿨존내어린이사고",
          "고령운전자사고",
          "고령보행자사고",
          "개인이동수단(PM)사고",
          "뺑소니사고",
          "무면허사고",
          "전체사고",
          "어린이사고",
          "고령자사고",
          "보행자사고",
          "자전거사고",
          "야간사고",
          "어린이보행사고",
          "스쿨존내어린이사고",
          "고령운전자사고",
          "고령보행자사고",
          "개인이동수단(PM)사고",
          "뺑소니사고",
          "무면허사고",
          "전체사고",
          "어린이사고",
          "고령자사고",
          "보행자사고",
          "자전거사고",
          "야간사고",
          "어린이보행사고",
          "스쿨존내어린이사고",
          "고령운전자사고",
          "고령보행자사고",
          "개인이동수단(PM)사고",
          "뺑소니사고",
          "무면허사고",
          "전체사고",
          "어린이사고",
          "고령자사고",
          "보행자사고",
          "자전거사고",
          "야간사고",
          "어린이보행사고",
          "스쿨존내어린이사고",
          "고령운전자사고",
          "고령보행자사고",
          "개인이동수단(PM)사고",
          "뺑소니사고",
          "무면허사고",
          "전체사고",
          "어린이사고",
          "고령자사고",
          "보행자사고",
          "자전거사고",
          "야간사고",
          "어린이보행사고",
          "스쿨존내어린이사고",
          "고령운전자사고",
          "고령보행자사고",
          "개인이동수단(PM)사고",
          "뺑소니사고",
          "무면허사고",
          "전체사고",
          "어린이사고",
          "고령자사고",
          "보행자사고",
          "자전거사고",
          "야간사고",
          "어린이보행사고",
          "스쿨존내어린이사고",
          "고령운전자사고",
          "고령보행자사고",
          "개인이동수단(PM)사고",
          "뺑소니사고",
          "무면허사고",
          "전체사고",
          "어린이사고",
          "고령자사고",
          "보행자사고",
          "자전거사고",
          "야간사고",
          "어린이보행사고",
          "스쿨존내어린이사고",
          "고령운전자사고",
          "고령보행자사고",
          "개인이동수단(PM)사고",
          "뺑소니사고",
          "무면허사고",
          "전체사고",
          "어린이사고",
          "고령자사고",
          "보행자사고",
          "자전거사고",
          "야간사고",
          "어린이보행사고",
          "스쿨존내어린이사고",
          "고령운전자사고",
          "고령보행자사고",
          "개인이동수단(PM)사고",
          "뺑소니사고",
          "무면허사고",
          "전체사고",
          "어린이사고",
          "고령자사고",
          "보행자사고",
          "자전거사고",
          "야간사고",
          "어린이보행사고",
          "스쿨존내어린이사고",
          "고령운전자사고",
          "고령보행자사고",
          "개인이동수단(PM)사고",
          "뺑소니사고",
          "무면허사고",
          "전체사고",
          "어린이사고",
          "고령자사고",
          "보행자사고",
          "자전거사고",
          "야간사고",
          "어린이보행사고",
          "스쿨존내어린이사고",
          "고령운전자사고",
          "고령보행자사고",
          "개인이동수단(PM)사고",
          "뺑소니사고",
          "무면허사고",
          "전체사고",
          "어린이사고",
          "고령자사고",
          "보행자사고",
          "자전거사고",
          "야간사고",
          "어린이보행사고",
          "스쿨존내어린이사고",
          "고령운전자사고",
          "고령보행자사고",
          "개인이동수단(PM)사고",
          "뺑소니사고",
          "무면허사고",
          "전체사고",
          "어린이사고",
          "고령자사고",
          "보행자사고",
          "자전거사고",
          "야간사고",
          "어린이보행사고",
          "스쿨존내어린이사고",
          "고령운전자사고",
          "고령보행자사고",
          "개인이동수단(PM)사고",
          "뺑소니사고",
          "무면허사고",
          "전체사고",
          "어린이사고",
          "고령자사고",
          "보행자사고",
          "자전거사고",
          "야간사고",
          "어린이보행사고",
          "스쿨존내어린이사고",
          "고령운전자사고",
          "고령보행자사고",
          "개인이동수단(PM)사고",
          "뺑소니사고",
          "무면허사고",
          "전체사고",
          "어린이사고",
          "고령자사고",
          "보행자사고",
          "자전거사고",
          "야간사고",
          "어린이보행사고",
          "스쿨존내어린이사고",
          "고령운전자사고",
          "고령보행자사고",
          "개인이동수단(PM)사고",
          "뺑소니사고",
          "무면허사고",
          "전체사고",
          "어린이사고",
          "고령자사고",
          "보행자사고",
          "자전거사고",
          "야간사고",
          "어린이보행사고",
          "스쿨존내어린이사고",
          "고령운전자사고",
          "고령보행자사고",
          "개인이동수단(PM)사고",
          "뺑소니사고",
          "무면허사고",
          "전체사고",
          "어린이사고",
          "고령자사고",
          "보행자사고",
          "자전거사고",
          "야간사고",
          "어린이보행사고",
          "스쿨존내어린이사고",
          "고령운전자사고",
          "고령보행자사고",
          "개인이동수단(PM)사고",
          "뺑소니사고",
          "무면허사고",
          "전체사고",
          "어린이사고",
          "고령자사고",
          "보행자사고",
          "자전거사고",
          "야간사고",
          "어린이보행사고",
          "스쿨존내어린이사고",
          "고령운전자사고",
          "고령보행자사고",
          "개인이동수단(PM)사고",
          "뺑소니사고",
          "무면허사고",
          "전체사고",
          "어린이사고",
          "고령자사고",
          "보행자사고",
          "자전거사고",
          "야간사고",
          "어린이보행사고",
          "스쿨존내어린이사고",
          "고령운전자사고",
          "고령보행자사고",
          "개인이동수단(PM)사고",
          "뺑소니사고",
          "무면허사고",
          "전체사고",
          "어린이사고",
          "고령자사고",
          "보행자사고",
          "자전거사고",
          "야간사고",
          "어린이보행사고",
          "스쿨존내어린이사고",
          "고령운전자사고",
          "고령보행자사고",
          "개인이동수단(PM)사고",
          "뺑소니사고",
          "무면허사고",
          "전체사고",
          "어린이사고",
          "고령자사고",
          "보행자사고",
          "자전거사고",
          "야간사고",
          "어린이보행사고",
          "스쿨존내어린이사고",
          "고령운전자사고",
          "고령보행자사고",
          "개인이동수단(PM)사고",
          "뺑소니사고",
          "무면허사고",
          "전체사고",
          "어린이사고",
          "고령자사고",
          "보행자사고",
          "자전거사고",
          "야간사고",
          "어린이보행사고",
          "스쿨존내어린이사고",
          "고령운전자사고",
          "고령보행자사고",
          "개인이동수단(PM)사고",
          "뺑소니사고",
          "무면허사고",
          "전체사고",
          "어린이사고",
          "고령자사고",
          "보행자사고",
          "자전거사고",
          "야간사고",
          "어린이보행사고",
          "스쿨존내어린이사고",
          "고령운전자사고",
          "고령보행자사고",
          "개인이동수단(PM)사고",
          "뺑소니사고",
          "무면허사고",
          "전체사고",
          "어린이사고",
          "고령자사고",
          "보행자사고",
          "자전거사고",
          "야간사고",
          "어린이보행사고",
          "스쿨존내어린이사고",
          "고령운전자사고",
          "고령보행자사고",
          "개인이동수단(PM)사고",
          "뺑소니사고",
          "무면허사고",
          "전체사고",
          "어린이사고",
          "고령자사고",
          "보행자사고",
          "자전거사고",
          "야간사고",
          "어린이보행사고",
          "스쿨존내어린이사고",
          "고령운전자사고",
          "고령보행자사고",
          "개인이동수단(PM)사고",
          "뺑소니사고",
          "무면허사고",
          "전체사고",
          "어린이사고",
          "고령자사고",
          "보행자사고",
          "자전거사고",
          "야간사고",
          "어린이보행사고",
          "스쿨존내어린이사고",
          "고령운전자사고",
          "고령보행자사고",
          "개인이동수단(PM)사고",
          "뺑소니사고",
          "무면허사고",
          "전체사고",
          "어린이사고",
          "고령자사고",
          "보행자사고",
          "자전거사고",
          "야간사고",
          "어린이보행사고",
          "스쿨존내어린이사고",
          "고령운전자사고",
          "고령보행자사고",
          "개인이동수단(PM)사고",
          "뺑소니사고",
          "무면허사고",
          "전체사고",
          "어린이사고",
          "고령자사고",
          "보행자사고",
          "자전거사고",
          "야간사고",
          "어린이보행사고",
          "스쿨존내어린이사고",
          "고령운전자사고",
          "고령보행자사고",
          "개인이동수단(PM)사고",
          "뺑소니사고",
          "무면허사고",
          "전체사고",
          "어린이사고",
          "고령자사고",
          "보행자사고",
          "자전거사고",
          "야간사고",
          "어린이보행사고",
          "스쿨존내어린이사고",
          "고령운전자사고",
          "고령보행자사고",
          "개인이동수단(PM)사고",
          "뺑소니사고",
          "무면허사고",
          "전체사고",
          "어린이사고",
          "고령자사고",
          "보행자사고",
          "자전거사고",
          "야간사고",
          "어린이보행사고",
          "스쿨존내어린이사고",
          "고령운전자사고",
          "고령보행자사고",
          "개인이동수단(PM)사고",
          "뺑소니사고",
          "무면허사고",
          "전체사고",
          "어린이사고",
          "고령자사고",
          "보행자사고",
          "자전거사고",
          "야간사고",
          "어린이보행사고",
          "스쿨존내어린이사고",
          "고령운전자사고",
          "고령보행자사고",
          "개인이동수단(PM)사고",
          "뺑소니사고",
          "무면허사고",
          "전체사고",
          "어린이사고",
          "고령자사고",
          "보행자사고",
          "자전거사고",
          "야간사고",
          "어린이보행사고",
          "스쿨존내어린이사고",
          "고령운전자사고",
          "고령보행자사고",
          "개인이동수단(PM)사고",
          "뺑소니사고",
          "무면허사고",
          "전체사고",
          "어린이사고",
          "고령자사고",
          "보행자사고",
          "자전거사고",
          "야간사고",
          "어린이보행사고",
          "스쿨존내어린이사고",
          "고령운전자사고",
          "고령보행자사고",
          "개인이동수단(PM)사고",
          "뺑소니사고",
          "무면허사고",
          "전체사고",
          "어린이사고",
          "고령자사고",
          "보행자사고",
          "자전거사고",
          "야간사고",
          "어린이보행사고",
          "고령운전자사고",
          "고령보행자사고",
          "개인이동수단(PM)사고",
          "뺑소니사고",
          "무면허사고",
          "전체사고",
          "어린이사고",
          "고령자사고",
          "보행자사고",
          "자전거사고",
          "야간사고",
          "어린이보행사고",
          "스쿨존내어린이사고",
          "고령운전자사고",
          "고령보행자사고",
          "개인이동수단(PM)사고",
          "뺑소니사고",
          "무면허사고",
          "전체사고",
          "어린이사고",
          "고령자사고",
          "보행자사고",
          "자전거사고",
          "야간사고",
          "어린이보행사고",
          "스쿨존내어린이사고",
          "고령운전자사고",
          "고령보행자사고",
          "개인이동수단(PM)사고",
          "뺑소니사고",
          "무면허사고",
          "전체사고",
          "어린이사고",
          "고령자사고",
          "보행자사고",
          "자전거사고",
          "야간사고",
          "어린이보행사고",
          "스쿨존내어린이사고",
          "고령운전자사고",
          "고령보행자사고",
          "개인이동수단(PM)사고",
          "뺑소니사고",
          "무면허사고",
          "전체사고",
          "어린이사고",
          "고령자사고",
          "보행자사고",
          "자전거사고",
          "야간사고",
          "어린이보행사고",
          "스쿨존내어린이사고",
          "고령운전자사고",
          "고령보행자사고",
          "개인이동수단(PM)사고",
          "뺑소니사고",
          "무면허사고",
          "전체사고",
          "어린이사고",
          "고령자사고",
          "보행자사고",
          "자전거사고",
          "야간사고",
          "어린이보행사고",
          "스쿨존내어린이사고",
          "고령운전자사고",
          "고령보행자사고",
          "개인이동수단(PM)사고",
          "뺑소니사고",
          "무면허사고",
          "전체사고",
          "어린이사고",
          "고령자사고",
          "보행자사고",
          "자전거사고",
          "야간사고",
          "어린이보행사고",
          "스쿨존내어린이사고",
          "고령운전자사고",
          "고령보행자사고",
          "개인이동수단(PM)사고",
          "뺑소니사고",
          "무면허사고",
          "전체사고",
          "어린이사고",
          "고령자사고",
          "보행자사고",
          "자전거사고",
          "야간사고",
          "어린이보행사고",
          "스쿨존내어린이사고",
          "고령운전자사고",
          "고령보행자사고",
          "개인이동수단(PM)사고",
          "뺑소니사고",
          "무면허사고",
          "전체사고",
          "어린이사고",
          "고령자사고",
          "보행자사고",
          "자전거사고",
          "야간사고",
          "어린이보행사고",
          "스쿨존내어린이사고",
          "고령운전자사고",
          "고령보행자사고",
          "개인이동수단(PM)사고",
          "뺑소니사고",
          "무면허사고",
          "전체사고",
          "어린이사고",
          "고령자사고",
          "보행자사고",
          "자전거사고",
          "야간사고",
          "어린이보행사고",
          "고령운전자사고",
          "고령보행자사고",
          "개인이동수단(PM)사고",
          "뺑소니사고",
          "무면허사고",
          "전체사고",
          "어린이사고",
          "고령자사고",
          "보행자사고",
          "자전거사고",
          "야간사고",
          "어린이보행사고",
          "고령운전자사고",
          "고령보행자사고",
          "개인이동수단(PM)사고",
          "뺑소니사고",
          "무면허사고",
          "전체사고",
          "어린이사고",
          "고령자사고",
          "보행자사고",
          "자전거사고",
          "야간사고",
          "어린이보행사고",
          "스쿨존내어린이사고",
          "고령운전자사고",
          "고령보행자사고",
          "개인이동수단(PM)사고",
          "뺑소니사고",
          "무면허사고",
          "전체사고",
          "어린이사고",
          "고령자사고",
          "보행자사고",
          "자전거사고",
          "야간사고",
          "어린이보행사고",
          "스쿨존내어린이사고",
          "고령운전자사고",
          "고령보행자사고",
          "개인이동수단(PM)사고",
          "뺑소니사고",
          "무면허사고",
          "전체사고",
          "어린이사고",
          "고령자사고",
          "보행자사고",
          "자전거사고",
          "야간사고",
          "어린이보행사고",
          "스쿨존내어린이사고",
          "고령운전자사고",
          "고령보행자사고",
          "개인이동수단(PM)사고",
          "뺑소니사고",
          "무면허사고",
          "전체사고",
          "어린이사고",
          "고령자사고",
          "보행자사고",
          "자전거사고",
          "야간사고",
          "어린이보행사고",
          "스쿨존내어린이사고",
          "고령운전자사고",
          "고령보행자사고",
          "개인이동수단(PM)사고",
          "뺑소니사고",
          "무면허사고",
          "전체사고",
          "어린이사고",
          "고령자사고",
          "보행자사고",
          "자전거사고",
          "야간사고",
          "어린이보행사고",
          "고령운전자사고",
          "고령보행자사고",
          "개인이동수단(PM)사고",
          "뺑소니사고",
          "무면허사고",
          "전체사고",
          "어린이사고",
          "고령자사고",
          "보행자사고",
          "자전거사고",
          "야간사고",
          "어린이보행사고",
          "스쿨존내어린이사고",
          "고령운전자사고",
          "고령보행자사고",
          "개인이동수단(PM)사고",
          "뺑소니사고",
          "무면허사고",
          "전체사고",
          "어린이사고",
          "고령자사고",
          "보행자사고",
          "자전거사고",
          "야간사고",
          "어린이보행사고",
          "스쿨존내어린이사고",
          "고령운전자사고",
          "고령보행자사고",
          "개인이동수단(PM)사고",
          "뺑소니사고",
          "무면허사고",
          "전체사고",
          "어린이사고",
          "고령자사고",
          "보행자사고",
          "자전거사고",
          "야간사고",
          "어린이보행사고",
          "스쿨존내어린이사고",
          "고령운전자사고",
          "고령보행자사고",
          "개인이동수단(PM)사고",
          "뺑소니사고",
          "무면허사고",
          "전체사고",
          "어린이사고",
          "고령자사고",
          "보행자사고",
          "자전거사고",
          "야간사고",
          "어린이보행사고",
          "스쿨존내어린이사고",
          "고령운전자사고",
          "고령보행자사고",
          "개인이동수단(PM)사고",
          "뺑소니사고",
          "무면허사고",
          "전체사고",
          "어린이사고",
          "고령자사고",
          "보행자사고",
          "자전거사고",
          "야간사고",
          "어린이보행사고",
          "스쿨존내어린이사고",
          "고령운전자사고",
          "고령보행자사고",
          "뺑소니사고",
          "무면허사고",
          "전체사고",
          "어린이사고",
          "고령자사고",
          "보행자사고",
          "자전거사고",
          "야간사고",
          "어린이보행사고",
          "스쿨존내어린이사고",
          "고령운전자사고",
          "고령보행자사고",
          "개인이동수단(PM)사고",
          "뺑소니사고",
          "무면허사고",
          "전체사고",
          "어린이사고",
          "고령자사고",
          "보행자사고",
          "자전거사고",
          "야간사고",
          "어린이보행사고",
          "스쿨존내어린이사고",
          "고령운전자사고",
          "고령보행자사고",
          "개인이동수단(PM)사고",
          "뺑소니사고",
          "무면허사고",
          "전체사고",
          "어린이사고",
          "고령자사고",
          "보행자사고",
          "자전거사고",
          "야간사고",
          "어린이보행사고",
          "고령운전자사고",
          "고령보행자사고",
          "개인이동수단(PM)사고",
          "뺑소니사고",
          "무면허사고",
          "전체사고",
          "어린이사고",
          "고령자사고",
          "보행자사고",
          "자전거사고",
          "야간사고",
          "어린이보행사고",
          "스쿨존내어린이사고",
          "고령운전자사고",
          "고령보행자사고",
          "개인이동수단(PM)사고",
          "뺑소니사고",
          "무면허사고",
          "전체사고",
          "어린이사고",
          "고령자사고",
          "보행자사고",
          "자전거사고",
          "야간사고",
          "어린이보행사고",
          "스쿨존내어린이사고",
          "고령운전자사고",
          "고령보행자사고",
          "개인이동수단(PM)사고",
          "뺑소니사고",
          "무면허사고",
          "전체사고",
          "어린이사고",
          "고령자사고",
          "보행자사고",
          "자전거사고",
          "야간사고",
          "어린이보행사고",
          "고령운전자사고",
          "고령보행자사고",
          "뺑소니사고",
          "무면허사고",
          "전체사고",
          "어린이사고",
          "고령자사고",
          "보행자사고",
          "자전거사고",
          "야간사고",
          "어린이보행사고",
          "스쿨존내어린이사고",
          "고령운전자사고",
          "고령보행자사고",
          "개인이동수단(PM)사고",
          "뺑소니사고",
          "무면허사고",
          "전체사고",
          "어린이사고",
          "고령자사고",
          "보행자사고",
          "자전거사고",
          "야간사고",
          "어린이보행사고",
          "스쿨존내어린이사고",
          "고령운전자사고",
          "고령보행자사고",
          "개인이동수단(PM)사고",
          "뺑소니사고",
          "무면허사고",
          "전체사고",
          "어린이사고",
          "고령자사고",
          "보행자사고",
          "자전거사고",
          "야간사고",
          "어린이보행사고",
          "스쿨존내어린이사고",
          "고령운전자사고",
          "고령보행자사고",
          "개인이동수단(PM)사고",
          "뺑소니사고",
          "무면허사고",
          "전체사고",
          "어린이사고",
          "고령자사고",
          "보행자사고",
          "자전거사고",
          "야간사고",
          "어린이보행사고",
          "스쿨존내어린이사고",
          "고령운전자사고",
          "고령보행자사고",
          "뺑소니사고",
          "무면허사고",
          "전체사고",
          "어린이사고",
          "고령자사고",
          "보행자사고",
          "자전거사고",
          "야간사고",
          "어린이보행사고",
          "스쿨존내어린이사고",
          "고령운전자사고",
          "고령보행자사고",
          "뺑소니사고",
          "무면허사고",
          "전체사고",
          "어린이사고",
          "고령자사고",
          "보행자사고",
          "자전거사고",
          "야간사고",
          "어린이보행사고",
          "스쿨존내어린이사고",
          "고령운전자사고",
          "고령보행자사고",
          "개인이동수단(PM)사고",
          "뺑소니사고",
          "무면허사고",
          "전체사고",
          "어린이사고",
          "고령자사고",
          "보행자사고",
          "자전거사고",
          "야간사고",
          "어린이보행사고",
          "고령운전자사고",
          "고령보행자사고",
          "개인이동수단(PM)사고",
          "뺑소니사고",
          "무면허사고",
          "전체사고",
          "어린이사고",
          "고령자사고",
          "보행자사고",
          "자전거사고",
          "야간사고",
          "어린이보행사고",
          "스쿨존내어린이사고",
          "고령운전자사고",
          "고령보행자사고",
          "개인이동수단(PM)사고",
          "뺑소니사고",
          "무면허사고",
          "전체사고",
          "어린이사고",
          "고령자사고",
          "보행자사고",
          "자전거사고",
          "야간사고",
          "어린이보행사고",
          "스쿨존내어린이사고",
          "고령운전자사고",
          "고령보행자사고",
          "개인이동수단(PM)사고",
          "뺑소니사고",
          "무면허사고",
          "전체사고",
          "어린이사고",
          "고령자사고",
          "보행자사고",
          "자전거사고",
          "야간사고",
          "어린이보행사고",
          "고령운전자사고",
          "고령보행자사고",
          "뺑소니사고",
          "무면허사고",
          "전체사고",
          "어린이사고",
          "고령자사고",
          "보행자사고",
          "자전거사고",
          "야간사고",
          "어린이보행사고",
          "스쿨존내어린이사고",
          "고령운전자사고",
          "고령보행자사고",
          "개인이동수단(PM)사고",
          "뺑소니사고",
          "무면허사고",
          "전체사고",
          "어린이사고",
          "고령자사고",
          "보행자사고",
          "자전거사고",
          "야간사고",
          "어린이보행사고",
          "스쿨존내어린이사고",
          "고령운전자사고",
          "고령보행자사고",
          "개인이동수단(PM)사고",
          "뺑소니사고",
          "무면허사고",
          "전체사고",
          "어린이사고",
          "고령자사고",
          "보행자사고",
          "자전거사고",
          "야간사고",
          "어린이보행사고",
          "스쿨존내어린이사고",
          "고령운전자사고",
          "고령보행자사고",
          "개인이동수단(PM)사고",
          "뺑소니사고",
          "무면허사고",
          "전체사고",
          "어린이사고",
          "고령자사고",
          "보행자사고",
          "자전거사고",
          "야간사고",
          "어린이보행사고",
          "스쿨존내어린이사고",
          "고령운전자사고",
          "고령보행자사고",
          "개인이동수단(PM)사고",
          "뺑소니사고",
          "무면허사고",
          "전체사고",
          "어린이사고",
          "고령자사고",
          "보행자사고",
          "자전거사고",
          "야간사고",
          "어린이보행사고",
          "고령운전자사고",
          "고령보행자사고",
          "뺑소니사고",
          "무면허사고",
          "전체사고",
          "어린이사고",
          "고령자사고",
          "보행자사고",
          "자전거사고",
          "야간사고",
          "어린이보행사고",
          "스쿨존내어린이사고",
          "고령운전자사고",
          "고령보행자사고",
          "개인이동수단(PM)사고",
          "뺑소니사고",
          "무면허사고",
          "전체사고",
          "어린이사고",
          "고령자사고",
          "보행자사고",
          "자전거사고",
          "야간사고",
          "어린이보행사고",
          "스쿨존내어린이사고",
          "고령운전자사고",
          "고령보행자사고",
          "개인이동수단(PM)사고",
          "뺑소니사고",
          "무면허사고",
          "전체사고",
          "어린이사고",
          "고령자사고",
          "보행자사고",
          "자전거사고",
          "야간사고",
          "어린이보행사고",
          "스쿨존내어린이사고",
          "고령운전자사고",
          "고령보행자사고",
          "개인이동수단(PM)사고",
          "뺑소니사고",
          "무면허사고",
          "전체사고",
          "어린이사고",
          "고령자사고",
          "보행자사고",
          "자전거사고",
          "야간사고",
          "어린이보행사고",
          "스쿨존내어린이사고",
          "고령운전자사고",
          "고령보행자사고",
          "개인이동수단(PM)사고",
          "뺑소니사고",
          "무면허사고",
          "전체사고",
          "어린이사고",
          "고령자사고",
          "보행자사고",
          "자전거사고",
          "야간사고",
          "어린이보행사고",
          "고령운전자사고",
          "고령보행자사고",
          "뺑소니사고",
          "무면허사고",
          "전체사고",
          "어린이사고",
          "고령자사고",
          "보행자사고",
          "자전거사고",
          "야간사고",
          "어린이보행사고",
          "스쿨존내어린이사고",
          "고령운전자사고",
          "고령보행자사고",
          "개인이동수단(PM)사고",
          "뺑소니사고",
          "무면허사고",
          "전체사고",
          "어린이사고",
          "고령자사고",
          "보행자사고",
          "자전거사고",
          "야간사고",
          "어린이보행사고",
          "스쿨존내어린이사고",
          "고령운전자사고",
          "고령보행자사고",
          "개인이동수단(PM)사고",
          "뺑소니사고",
          "무면허사고",
          "전체사고",
          "어린이사고",
          "고령자사고",
          "보행자사고",
          "자전거사고",
          "야간사고",
          "어린이보행사고",
          "스쿨존내어린이사고",
          "고령운전자사고",
          "고령보행자사고",
          "뺑소니사고",
          "무면허사고",
          "전체사고",
          "어린이사고",
          "고령자사고",
          "보행자사고",
          "자전거사고",
          "야간사고",
          "어린이보행사고",
          "스쿨존내어린이사고",
          "고령운전자사고",
          "고령보행자사고",
          "뺑소니사고",
          "무면허사고",
          "전체사고",
          "어린이사고",
          "고령자사고",
          "보행자사고",
          "자전거사고",
          "야간사고",
          "어린이보행사고",
          "스쿨존내어린이사고",
          "고령운전자사고",
          "고령보행자사고",
          "뺑소니사고",
          "무면허사고",
          "전체사고",
          "어린이사고",
          "고령자사고",
          "보행자사고",
          "자전거사고",
          "야간사고",
          "어린이보행사고",
          "스쿨존내어린이사고",
          "고령운전자사고",
          "고령보행자사고",
          "개인이동수단(PM)사고",
          "뺑소니사고",
          "무면허사고",
          "전체사고",
          "어린이사고",
          "고령자사고",
          "보행자사고",
          "자전거사고",
          "야간사고",
          "어린이보행사고",
          "스쿨존내어린이사고",
          "고령운전자사고",
          "고령보행자사고",
          "개인이동수단(PM)사고",
          "뺑소니사고",
          "무면허사고",
          "전체사고",
          "어린이사고",
          "고령자사고",
          "보행자사고",
          "자전거사고",
          "야간사고",
          "어린이보행사고",
          "스쿨존내어린이사고",
          "고령운전자사고",
          "고령보행자사고",
          "개인이동수단(PM)사고",
          "뺑소니사고",
          "무면허사고",
          "전체사고",
          "어린이사고",
          "고령자사고",
          "보행자사고",
          "자전거사고",
          "야간사고",
          "어린이보행사고",
          "스쿨존내어린이사고",
          "고령운전자사고",
          "고령보행자사고",
          "뺑소니사고",
          "무면허사고",
          "전체사고",
          "어린이사고",
          "고령자사고",
          "보행자사고",
          "자전거사고",
          "야간사고",
          "어린이보행사고",
          "스쿨존내어린이사고",
          "고령운전자사고",
          "고령보행자사고",
          "개인이동수단(PM)사고",
          "뺑소니사고",
          "무면허사고",
          "전체사고",
          "어린이사고",
          "고령자사고",
          "보행자사고",
          "자전거사고",
          "야간사고",
          "어린이보행사고",
          "스쿨존내어린이사고",
          "고령운전자사고",
          "고령보행자사고",
          "개인이동수단(PM)사고",
          "뺑소니사고",
          "무면허사고",
          "전체사고",
          "어린이사고",
          "고령자사고",
          "보행자사고",
          "자전거사고",
          "야간사고",
          "어린이보행사고",
          "스쿨존내어린이사고",
          "고령운전자사고",
          "고령보행자사고",
          "개인이동수단(PM)사고",
          "뺑소니사고",
          "무면허사고",
          "전체사고",
          "어린이사고",
          "고령자사고",
          "보행자사고",
          "자전거사고",
          "야간사고",
          "어린이보행사고",
          "고령운전자사고",
          "고령보행자사고",
          "뺑소니사고",
          "무면허사고",
          "전체사고",
          "어린이사고",
          "고령자사고",
          "보행자사고",
          "자전거사고",
          "야간사고",
          "어린이보행사고",
          "스쿨존내어린이사고",
          "고령운전자사고",
          "고령보행자사고",
          "뺑소니사고",
          "무면허사고",
          "전체사고",
          "어린이사고",
          "고령자사고",
          "보행자사고",
          "자전거사고",
          "야간사고",
          "어린이보행사고",
          "스쿨존내어린이사고",
          "고령운전자사고",
          "고령보행자사고",
          "개인이동수단(PM)사고",
          "뺑소니사고",
          "무면허사고",
          "전체사고",
          "어린이사고",
          "고령자사고",
          "보행자사고",
          "자전거사고",
          "야간사고",
          "어린이보행사고",
          "스쿨존내어린이사고",
          "고령운전자사고",
          "고령보행자사고",
          "뺑소니사고",
          "무면허사고",
          "전체사고",
          "어린이사고",
          "고령자사고",
          "보행자사고",
          "자전거사고",
          "야간사고",
          "어린이보행사고",
          "스쿨존내어린이사고",
          "고령운전자사고",
          "고령보행자사고",
          "개인이동수단(PM)사고",
          "뺑소니사고",
          "무면허사고",
          "전체사고",
          "어린이사고",
          "고령자사고",
          "보행자사고",
          "자전거사고",
          "야간사고",
          "어린이보행사고",
          "스쿨존내어린이사고",
          "고령운전자사고",
          "고령보행자사고",
          "뺑소니사고",
          "무면허사고",
          "전체사고",
          "어린이사고",
          "고령자사고",
          "보행자사고",
          "자전거사고",
          "야간사고",
          "어린이보행사고",
          "스쿨존내어린이사고",
          "고령운전자사고",
          "고령보행자사고",
          "뺑소니사고",
          "무면허사고",
          "전체사고",
          "어린이사고",
          "고령자사고",
          "보행자사고",
          "자전거사고",
          "야간사고",
          "어린이보행사고",
          "스쿨존내어린이사고",
          "고령운전자사고",
          "고령보행자사고",
          "뺑소니사고",
          "무면허사고",
          "전체사고",
          "어린이사고",
          "고령자사고",
          "보행자사고",
          "자전거사고",
          "야간사고",
          "어린이보행사고",
          "스쿨존내어린이사고",
          "고령운전자사고",
          "고령보행자사고",
          "뺑소니사고",
          "무면허사고",
          "전체사고",
          "어린이사고",
          "고령자사고",
          "보행자사고",
          "자전거사고",
          "야간사고",
          "어린이보행사고",
          "스쿨존내어린이사고",
          "고령운전자사고",
          "고령보행자사고",
          "뺑소니사고",
          "무면허사고",
          "전체사고",
          "어린이사고",
          "고령자사고",
          "보행자사고",
          "자전거사고",
          "야간사고",
          "어린이보행사고",
          "스쿨존내어린이사고",
          "고령운전자사고",
          "고령보행자사고",
          "뺑소니사고",
          "무면허사고",
          "전체사고",
          "어린이사고",
          "고령자사고",
          "보행자사고",
          "자전거사고",
          "야간사고",
          "어린이보행사고",
          "스쿨존내어린이사고",
          "고령운전자사고",
          "고령보행자사고",
          "뺑소니사고",
          "무면허사고",
          "전체사고",
          "어린이사고",
          "고령자사고",
          "보행자사고",
          "자전거사고",
          "야간사고",
          "어린이보행사고",
          "스쿨존내어린이사고",
          "고령운전자사고",
          "고령보행자사고",
          "뺑소니사고",
          "무면허사고",
          "전체사고",
          "어린이사고",
          "고령자사고",
          "보행자사고",
          "자전거사고",
          "야간사고",
          "어린이보행사고",
          "스쿨존내어린이사고",
          "고령운전자사고",
          "고령보행자사고",
          "뺑소니사고",
          "무면허사고",
          "전체사고",
          "어린이사고",
          "고령자사고",
          "보행자사고",
          "자전거사고",
          "야간사고",
          "어린이보행사고",
          "스쿨존내어린이사고",
          "고령운전자사고",
          "고령보행자사고",
          "뺑소니사고",
          "무면허사고",
          "전체사고",
          "어린이사고",
          "고령자사고",
          "보행자사고",
          "자전거사고",
          "야간사고",
          "어린이보행사고",
          "스쿨존내어린이사고",
          "고령운전자사고",
          "고령보행자사고",
          "뺑소니사고",
          "무면허사고",
          "전체사고",
          "어린이사고",
          "고령자사고",
          "보행자사고",
          "자전거사고",
          "야간사고",
          "어린이보행사고",
          "스쿨존내어린이사고",
          "고령운전자사고",
          "고령보행자사고",
          "뺑소니사고",
          "무면허사고",
          "전체사고",
          "어린이사고",
          "고령자사고",
          "보행자사고",
          "자전거사고",
          "야간사고",
          "어린이보행사고",
          "스쿨존내어린이사고",
          "고령운전자사고",
          "고령보행자사고",
          "뺑소니사고",
          "무면허사고",
          "전체사고",
          "어린이사고",
          "고령자사고",
          "보행자사고",
          "자전거사고",
          "야간사고",
          "어린이보행사고",
          "스쿨존내어린이사고",
          "고령운전자사고",
          "고령보행자사고",
          "뺑소니사고",
          "무면허사고",
          "전체사고",
          "어린이사고",
          "고령자사고",
          "보행자사고",
          "자전거사고",
          "야간사고",
          "어린이보행사고",
          "고령운전자사고",
          "고령보행자사고",
          "뺑소니사고",
          "무면허사고",
          "전체사고",
          "어린이사고",
          "고령자사고",
          "보행자사고",
          "자전거사고",
          "야간사고",
          "어린이보행사고",
          "스쿨존내어린이사고",
          "고령운전자사고",
          "고령보행자사고",
          "뺑소니사고",
          "무면허사고",
          "전체사고",
          "어린이사고",
          "고령자사고",
          "보행자사고",
          "자전거사고",
          "야간사고",
          "어린이보행사고",
          "고령운전자사고",
          "고령보행자사고",
          "뺑소니사고",
          "무면허사고",
          "전체사고",
          "어린이사고",
          "고령자사고",
          "보행자사고",
          "자전거사고",
          "야간사고",
          "어린이보행사고",
          "스쿨존내어린이사고",
          "고령운전자사고",
          "고령보행자사고",
          "뺑소니사고",
          "무면허사고",
          "전체사고",
          "어린이사고",
          "고령자사고",
          "보행자사고",
          "자전거사고",
          "야간사고",
          "어린이보행사고",
          "스쿨존내어린이사고",
          "고령운전자사고",
          "고령보행자사고",
          "뺑소니사고",
          "무면허사고",
          "전체사고",
          "어린이사고",
          "고령자사고",
          "보행자사고",
          "자전거사고",
          "야간사고",
          "어린이보행사고",
          "스쿨존내어린이사고",
          "고령운전자사고",
          "고령보행자사고",
          "뺑소니사고",
          "무면허사고",
          "전체사고",
          "어린이사고",
          "고령자사고",
          "보행자사고",
          "자전거사고",
          "야간사고",
          "어린이보행사고",
          "스쿨존내어린이사고",
          "고령운전자사고",
          "고령보행자사고",
          "뺑소니사고",
          "무면허사고",
          "전체사고",
          "어린이사고",
          "고령자사고",
          "보행자사고",
          "자전거사고",
          "야간사고",
          "어린이보행사고",
          "스쿨존내어린이사고",
          "고령운전자사고",
          "고령보행자사고",
          "뺑소니사고",
          "무면허사고",
          "전체사고",
          "어린이사고",
          "고령자사고",
          "보행자사고",
          "자전거사고",
          "야간사고",
          "어린이보행사고",
          "스쿨존내어린이사고",
          "고령운전자사고",
          "고령보행자사고",
          "뺑소니사고",
          "무면허사고",
          "전체사고",
          "어린이사고",
          "고령자사고",
          "보행자사고",
          "자전거사고",
          "야간사고",
          "어린이보행사고",
          "스쿨존내어린이사고",
          "고령운전자사고",
          "고령보행자사고",
          "뺑소니사고",
          "무면허사고",
          "전체사고",
          "어린이사고",
          "고령자사고",
          "보행자사고",
          "자전거사고",
          "야간사고",
          "어린이보행사고",
          "고령운전자사고",
          "고령보행자사고",
          "뺑소니사고",
          "무면허사고",
          "전체사고",
          "어린이사고",
          "고령자사고",
          "보행자사고",
          "자전거사고",
          "야간사고",
          "어린이보행사고",
          "고령운전자사고",
          "고령보행자사고",
          "뺑소니사고",
          "무면허사고"
         ],
         "xaxis": "x",
         "y": [
          33913,
          1026,
          4829,
          7127,
          2915,
          13933,
          332,
          68,
          5371,
          1722,
          445,
          824,
          463,
          3820,
          81,
          366,
          666,
          135,
          1613,
          25,
          3,
          541,
          82,
          81,
          106,
          50,
          1047,
          40,
          179,
          244,
          113,
          450,
          15,
          1,
          158,
          76,
          7,
          30,
          21,
          1017,
          25,
          179,
          262,
          90,
          426,
          9,
          3,
          189,
          77,
          16,
          18,
          14,
          1501,
          58,
          235,
          339,
          169,
          651,
          22,
          5,
          217,
          110,
          18,
          60,
          17,
          1419,
          32,
          181,
          317,
          55,
          636,
          7,
          3,
          229,
          77,
          14,
          17,
          24,
          922,
          39,
          104,
          212,
          105,
          397,
          20,
          4,
          153,
          42,
          19,
          31,
          22,
          1350,
          33,
          204,
          278,
          119,
          578,
          15,
          4,
          189,
          75,
          9,
          42,
          21,
          827,
          27,
          123,
          179,
          47,
          377,
          9,
          1,
          113,
          45,
          3,
          17,
          15,
          1413,
          55,
          236,
          281,
          171,
          545,
          19,
          3,
          246,
          81,
          18,
          29,
          21,
          591,
          20,
          133,
          166,
          80,
          229,
          10,
          2,
          93,
          62,
          3,
          12,
          7,
          1390,
          26,
          282,
          311,
          176,
          506,
          12,
          2,
          266,
          115,
          14,
          24,
          22,
          1148,
          37,
          157,
          289,
          77,
          472,
          17,
          1,
          193,
          65,
          21,
          26,
          10,
          1102,
          30,
          141,
          230,
          88,
          505,
          6,
          1,
          147,
          43,
          33,
          33,
          22,
          930,
          28,
          167,
          217,
          57,
          385,
          10,
          2,
          167,
          72,
          12,
          25,
          10,
          2118,
          55,
          241,
          383,
          88,
          781,
          15,
          2,
          344,
          50,
          30,
          77,
          23,
          1057,
          21,
          144,
          243,
          135,
          441,
          9,
          3,
          150,
          55,
          16,
          18,
          12,
          1285,
          44,
          194,
          297,
          84,
          504,
          15,
          4,
          232,
          80,
          5,
          26,
          11,
          2607,
          88,
          334,
          477,
          343,
          1049,
          16,
          5,
          429,
          96,
          57,
          37,
          30,
          1305,
          68,
          207,
          290,
          119,
          506,
          24,
          5,
          209,
          75,
          5,
          19,
          15,
          2178,
          79,
          286,
          336,
          260,
          865,
          18,
          4,
          325,
          76,
          13,
          44,
          30,
          1014,
          18,
          126,
          176,
          69,
          444,
          2,
          137,
          32,
          6,
          36,
          11,
          867,
          49,
          171,
          253,
          96,
          350,
          20,
          4,
          153,
          76,
          14,
          29,
          13,
          778,
          15,
          122,
          179,
          46,
          300,
          2,
          1,
          142,
          44,
          4,
          20,
          9,
          854,
          21,
          126,
          171,
          35,
          383,
          5,
          1,
          154,
          44,
          8,
          29,
          13,
          1373,
          37,
          191,
          331,
          158,
          540,
          10,
          4,
          195,
          72,
          19,
          19,
          20,
          35227,
          928,
          5056,
          7705,
          3015,
          15381,
          273,
          65,
          5318,
          1805,
          387,
          751,
          571,
          3752,
          76,
          359,
          718,
          139,
          1727,
          19,
          6,
          510,
          77,
          94,
          96,
          71,
          1268,
          40,
          196,
          346,
          160,
          514,
          17,
          7,
          201,
          92,
          10,
          29,
          23,
          1087,
          33,
          161,
          275,
          72,
          481,
          8,
          1,
          173,
          58,
          3,
          18,
          10,
          1575,
          43,
          232,
          348,
          143,
          695,
          14,
          5,
          210,
          85,
          10,
          52,
          21,
          1444,
          34,
          209,
          328,
          76,
          672,
          13,
          2,
          231,
          86,
          21,
          28,
          31,
          869,
          22,
          102,
          193,
          81,
          421,
          11,
          4,
          117,
          31,
          24,
          31,
          21,
          1325,
          32,
          201,
          296,
          99,
          594,
          16,
          4,
          193,
          66,
          12,
          32,
          37,
          810,
          20,
          130,
          201,
          54,
          393,
          7,
          1,
          112,
          53,
          7,
          34,
          15,
          1462,
          54,
          244,
          285,
          191,
          608,
          11,
          1,
          227,
          77,
          7,
          32,
          23,
          741,
          19,
          160,
          224,
          89,
          305,
          9,
          2,
          123,
          78,
          6,
          10,
          8,
          1448,
          31,
          289,
          331,
          189,
          595,
          8,
          4,
          250,
          127,
          12,
          20,
          30,
          1307,
          24,
          199,
          307,
          102,
          566,
          6,
          2,
          187,
          76,
          11,
          22,
          30,
          1272,
          34,
          148,
          270,
          99,
          656,
          5,
          2,
          183,
          49,
          32,
          16,
          28,
          928,
          36,
          137,
          208,
          59,
          365,
          13,
          2,
          147,
          53,
          7,
          19,
          15,
          2250,
          43,
          247,
          393,
          100,
          903,
          9,
          3,
          330,
          61,
          31,
          66,
          25,
          1119,
          18,
          158,
          244,
          126,
          503,
          4,
          1,
          146,
          58,
          15,
          15,
          17,
          1275,
          32,
          214,
          340,
          70,
          536,
          13,
          2,
          209,
          109,
          4,
          19,
          14,
          2595,
          88,
          336,
          479,
          362,
          1086,
          24,
          1,
          379,
          92,
          32,
          32,
          31,
          1344,
          47,
          198,
          284,
          129,
          537,
          14,
          4,
          222,
          75,
          8,
          17,
          12,
          2208,
          50,
          296,
          372,
          284,
          956,
          14,
          4,
          347,
          77,
          14,
          36,
          28,
          890,
          24,
          95,
          159,
          39,
          399,
          8,
          2,
          116,
          31,
          4,
          25,
          15,
          953,
          36,
          195,
          275,
          78,
          433,
          12,
          1,
          166,
          71,
          3,
          31,
          19,
          903,
          16,
          147,
          226,
          43,
          377,
          2,
          1,
          145,
          57,
          7,
          31,
          8,
          955,
          14,
          161,
          246,
          37,
          411,
          7,
          2,
          175,
          67,
          8,
          14,
          15,
          1447,
          62,
          242,
          357,
          194,
          648,
          9,
          1,
          219,
          99,
          5,
          26,
          24,
          39258,
          1475,
          5912,
          9989,
          1766,
          17021,
          634,
          114,
          5886,
          2268,
          134,
          721,
          557,
          3722,
          107,
          352,
          839,
          60,
          1688,
          44,
          6,
          457,
          91,
          36,
          65,
          66,
          1414,
          69,
          286,
          439,
          70,
          597,
          33,
          4,
          201,
          125,
          2,
          29,
          23,
          1277,
          59,
          217,
          401,
          57,
          608,
          22,
          5,
          193,
          99,
          1,
          20,
          14,
          1829,
          90,
          276,
          468,
          72,
          803,
          43,
          16,
          244,
          109,
          4,
          56,
          30,
          1363,
          37,
          194,
          355,
          43,
          651,
          14,
          3,
          208,
          96,
          2,
          23,
          21,
          973,
          45,
          128,
          263,
          61,
          440,
          29,
          6,
          146,
          42,
          9,
          29,
          16,
          1529,
          81,
          230,
          412,
          71,
          692,
          44,
          13,
          217,
          92,
          3,
          35,
          19,
          920,
          30,
          140,
          265,
          40,
          451,
          18,
          1,
          125,
          54,
          5,
          30,
          24,
          1703,
          74,
          297,
          415,
          119,
          681,
          28,
          6,
          287,
          112,
          3,
          49,
          19,
          852,
          42,
          189,
          270,
          62,
          368,
          18,
          8,
          118,
          92,
          3,
          12,
          11,
          1565,
          41,
          315,
          429,
          110,
          614,
          20,
          3,
          288,
          136,
          3,
          29,
          6,
          1406,
          57,
          203,
          410,
          53,
          587,
          24,
          4,
          214,
          93,
          1,
          18,
          25,
          1494,
          45,
          192,
          363,
          52,
          718,
          14,
          2,
          198,
          64,
          4,
          31,
          34,
          1113,
          43,
          211,
          325,
          48,
          469,
          16,
          187,
          87,
          4,
          20,
          17,
          2418,
          69,
          284,
          466,
          46,
          983,
          21,
          3,
          368,
          68,
          16,
          58,
          28,
          1091,
          45,
          162,
          229,
          63,
          443,
          15,
          1,
          156,
          57,
          5,
          11,
          13,
          1509,
          59,
          262,
          409,
          37,
          633,
          23,
          8,
          216,
          129,
          2,
          15,
          22,
          2892,
          136,
          395,
          594,
          218,
          1257,
          54,
          4,
          428,
          117,
          7,
          30,
          41,
          1506,
          81,
          237,
          381,
          70,
          604,
          41,
          8,
          234,
          94,
          2,
          20,
          19,
          2439,
          74,
          341,
          560,
          189,
          1047,
          31,
          2,
          350,
          123,
          6,
          27,
          19,
          1187,
          27,
          144,
          264,
          22,
          580,
          11,
          2,
          184,
          41,
          1,
          33,
          24,
          1119,
          55,
          246,
          362,
          62,
          467,
          29,
          6,
          230,
          114,
          7,
          20,
          16,
          1133,
          20,
          184,
          308,
          19,
          480,
          7,
          190,
          59,
          1,
          20,
          15,
          1184,
          24,
          151,
          288,
          23,
          465,
          6,
          213,
          49,
          2,
          16,
          16,
          1620,
          65,
          276,
          474,
          99,
          695,
          29,
          3,
          234,
          125,
          5,
          25,
          19,
          38795,
          1331,
          5761,
          10080,
          1471,
          17876,
          557,
          77,
          5869,
          2268,
          50,
          789,
          517,
          3459,
          86,
          351,
          761,
          59,
          1679,
          31,
          5,
          504,
          98,
          3,
          75,
          54,
          1418,
          58,
          242,
          400,
          66,
          620,
          24,
          1,
          227,
          95,
          2,
          37,
          22,
          1216,
          42,
          246,
          401,
          41,
          584,
          14,
          204,
          110,
          1,
          26,
          26,
          1502,
          64,
          210,
          391,
          59,
          704,
          29,
          6,
          181,
          87,
          2,
          31,
          20,
          1300,
          35,
          182,
          358,
          25,
          638,
          24,
          3,
          169,
          85,
          1,
          21,
          12,
          1108,
          43,
          133,
          270,
          70,
          539,
          20,
          2,
          168,
          56,
          4,
          32,
          13,
          1532,
          63,
          242,
          379,
          53,
          695,
          23,
          9,
          209,
          104,
          4,
          44,
          27,
          932,
          26,
          143,
          269,
          25,
          472,
          7,
          1,
          127,
          68,
          36,
          13,
          1569,
          73,
          245,
          388,
          86,
          702,
          29,
          2,
          256,
          95,
          1,
          27,
          16,
          824,
          34,
          190,
          287,
          45,
          348,
          18,
          5,
          147,
          83,
          1,
          14,
          10,
          1699,
          42,
          327,
          493,
          105,
          677,
          18,
          267,
          147,
          5,
          33,
          24,
          1412,
          43,
          225,
          423,
          63,
          668,
          25,
          4,
          194,
          107,
          1,
          18,
          21,
          1671,
          45,
          191,
          402,
          45,
          881,
          21,
          2,
          246,
          62,
          4,
          42,
          30,
          1033,
          32,
          203,
          330,
          30,
          460,
          13,
          177,
          97,
          15,
          14,
          2478,
          77,
          290,
          531,
          36,
          1078,
          25,
          6,
          363,
          77,
          1,
          73,
          43,
          1143,
          28,
          158,
          274,
          47,
          528,
          15,
          2,
          154,
          50,
          3,
          24,
          12,
          1427,
          64,
          228,
          395,
          41,
          656,
          28,
          3,
          243,
          104,
          3,
          29,
          16,
          2860,
          110,
          373,
          653,
          178,
          1280,
          40,
          1,
          384,
          128,
          36,
          34,
          1428,
          72,
          209,
          375,
          46,
          639,
          35,
          3,
          204,
          80,
          16,
          17,
          2493,
          85,
          350,
          564,
          161,
          1175,
          37,
          5,
          354,
          122,
          3,
          39,
          27,
          1330,
          34,
          170,
          300,
          26,
          634,
          12,
          231,
          65,
          2,
          41,
          18,
          1134,
          56,
          244,
          368,
          51,
          489,
          24,
          5,
          193,
          104,
          2,
          21,
          14,
          1134,
          28,
          191,
          340,
          21,
          534,
          8,
          6,
          205,
          80,
          3,
          17,
          7,
          1128,
          23,
          164,
          292,
          14,
          481,
          4,
          208,
          66,
          13,
          12,
          1565,
          68,
          254,
          436,
          78,
          715,
          33,
          6,
          254,
          98,
          4,
          29,
          15,
          38625,
          1466,
          5357,
          10350,
          1656,
          17921,
          615,
          81,
          5021,
          2246,
          29,
          733,
          554,
          3469,
          103,
          324,
          820,
          63,
          1662,
          40,
          9,
          408,
          102,
          1,
          69,
          57,
          1371,
          62,
          221,
          430,
          80,
          595,
          30,
          8,
          174,
          97,
          1,
          16,
          12,
          1202,
          47,
          200,
          437,
          46,
          607,
          23,
          145,
          100,
          26,
          27,
          1584,
          62,
          231,
          409,
          87,
          734,
          27,
          4,
          193,
          100,
          3,
          25,
          22,
          1251,
          32,
          184,
          368,
          36,
          647,
          20,
          2,
          156,
          97,
          1,
          19,
          19,
          1064,
          42,
          146,
          291,
          60,
          534,
          23,
          4,
          134,
          59,
          3,
          28,
          27,
          1433,
          68,
          203,
          374,
          49,
          647,
          27,
          10,
          161,
          88,
          2,
          61,
          35,
          824,
          44,
          114,
          255,
          26,
          409,
          18,
          89,
          49,
          25,
          21,
          1499,
          76,
          212,
          378,
          77,
          657,
          35,
          2,
          207,
          86,
          1,
          19,
          19,
          944,
          47,
          170,
          307,
          66,
          427,
          18,
          5,
          141,
          80,
          1,
          23,
          22,
          1718,
          44,
          313,
          521,
          107,
          790,
          22,
          2,
          254,
          138,
          40,
          19,
          1409,
          46,
          200,
          391,
          54,
          650,
          17,
          4,
          177,
          93,
          26,
          18,
          1859,
          59,
          208,
          467,
          48,
          962,
          22,
          1,
          217,
          77,
          53,
          40,
          1032,
          31,
          166,
          312,
          26,
          448,
          15,
          2,
          163,
          72,
          1,
          20,
          9,
          2361,
          93,
          237,
          562,
          30,
          1042,
          34,
          1,
          283,
          94,
          3,
          61,
          34,
          1076,
          28,
          161,
          246,
          63,
          494,
          8,
          1,
          136,
          54,
          1,
          7,
          14,
          1557,
          64,
          285,
          415,
          51,
          709,
          31,
          4,
          229,
          131,
          29,
          14,
          2758,
          131,
          321,
          628,
          214,
          1233,
          46,
          3,
          362,
          106,
          3,
          34,
          33,
          1343,
          84,
          177,
          373,
          76,
          559,
          39,
          5,
          150,
          85,
          1,
          11,
          18,
          2386,
          89,
          328,
          563,
          150,
          1157,
          20,
          4,
          313,
          120,
          2,
          35,
          22,
          1337,
          35,
          163,
          292,
          41,
          634,
          13,
          194,
          62,
          22,
          22,
          1067,
          54,
          195,
          420,
          51,
          483,
          32,
          5,
          165,
          97,
          22,
          15,
          1190,
          34,
          192,
          334,
          29,
          514,
          13,
          3,
          180,
          78,
          2,
          23,
          14,
          1252,
          25,
          156,
          318,
          12,
          542,
          9,
          1,
          170,
          74,
          14,
          10,
          1639,
          66,
          250,
          439,
          114,
          785,
          33,
          1,
          220,
          107,
          3,
          25,
          11,
          40039,
          1515,
          5219,
          10816,
          1884,
          18886,
          657,
          96,
          4548,
          2238,
          790,
          406,
          3828,
          92,
          303,
          883,
          74,
          1880,
          36,
          6,
          378,
          101,
          101,
          51,
          1426,
          78,
          217,
          435,
          91,
          645,
          41,
          7,
          160,
          78,
          36,
          13,
          1227,
          42,
          216,
          406,
          41,
          593,
          24,
          5,
          162,
          108,
          25,
          10,
          1691,
          73,
          240,
          472,
          125,
          763,
          33,
          1,
          183,
          106,
          14,
          13,
          1408,
          42,
          171,
          433,
          39,
          701,
          24,
          3,
          160,
          86,
          18,
          15,
          1045,
          49,
          113,
          300,
          62,
          532,
          22,
          4,
          119,
          53,
          31,
          13,
          1511,
          66,
          207,
          439,
          84,
          751,
          32,
          9,
          146,
          96,
          32,
          23,
          799,
          37,
          108,
          253,
          31,
          408,
          23,
          6,
          73,
          48,
          19,
          8,
          1535,
          90,
          228,
          394,
          91,
          701,
          41,
          2,
          178,
          96,
          32,
          17,
          949,
          52,
          171,
          299,
          70,
          430,
          21,
          6,
          110,
          81,
          23,
          10,
          2051,
          63,
          357,
          588,
          128,
          876,
          23,
          2,
          263,
          156,
          34,
          18,
          1471,
          63,
          196,
          462,
          67,
          698,
          32,
          6,
          170,
          98,
          21,
          21,
          1768,
          62,
          198,
          444,
          52,
          953,
          20,
          2,
          192,
          77,
          56,
          18,
          1135,
          42,
          173,
          320,
          36,
          540,
          13,
          154,
          78,
          29,
          8,
          2313,
          71,
          248,
          464,
          48,
          997,
          17,
          2,
          253,
          75,
          61,
          26,
          1099,
          45,
          139,
          285,
          63,
          514,
          20,
          129,
          68,
          15,
          12,
          1618,
          58,
          248,
          493,
          43,
          740,
          32,
          10,
          177,
          134,
          25,
          17,
          2598,
          134,
          274,
          621,
          206,
          1209,
          57,
          4,
          276,
          87,
          47,
          19,
          1493,
          74,
          191,
          409,
          104,
          700,
          27,
          4,
          154,
          90,
          27,
          20,
          2403,
          79,
          312,
          537,
          193,
          1158,
          34,
          3,
          248,
          106,
          44,
          13,
          1428,
          38,
          167,
          304,
          48,
          697,
          11,
          1,
          165,
          57,
          34,
          14,
          1121,
          52,
          217,
          402,
          56,
          527,
          32,
          9,
          149,
          113,
          17,
          16,
          1299,
          22,
          173,
          394,
          22,
          588,
          8,
          4,
          163,
          76,
          30,
          12,
          1288,
          25,
          139,
          350,
          6,
          565,
          6,
          186,
          67,
          6,
          9,
          1535,
          66,
          213,
          429,
          104,
          720,
          28,
          200,
          103,
          13,
          10
         ],
         "yaxis": "y"
        }
       ],
       "layout": {
        "barmode": "relative",
        "coloraxis": {
         "colorbar": {
          "title": {
           "text": "사고건수"
          }
         },
         "colorscale": [
          [
           0,
           "#0d0887"
          ],
          [
           0.1111111111111111,
           "#46039f"
          ],
          [
           0.2222222222222222,
           "#7201a8"
          ],
          [
           0.3333333333333333,
           "#9c179e"
          ],
          [
           0.4444444444444444,
           "#bd3786"
          ],
          [
           0.5555555555555556,
           "#d8576b"
          ],
          [
           0.6666666666666666,
           "#ed7953"
          ],
          [
           0.7777777777777778,
           "#fb9f3a"
          ],
          [
           0.8888888888888888,
           "#fdca26"
          ],
          [
           1,
           "#f0f921"
          ]
         ]
        },
        "height": 500,
        "legend": {
         "tracegroupgap": 0
        },
        "template": {
         "data": {
          "bar": [
           {
            "error_x": {
             "color": "#2a3f5f"
            },
            "error_y": {
             "color": "#2a3f5f"
            },
            "marker": {
             "line": {
              "color": "#E5ECF6",
              "width": 0.5
             },
             "pattern": {
              "fillmode": "overlay",
              "size": 10,
              "solidity": 0.2
             }
            },
            "type": "bar"
           }
          ],
          "barpolar": [
           {
            "marker": {
             "line": {
              "color": "#E5ECF6",
              "width": 0.5
             },
             "pattern": {
              "fillmode": "overlay",
              "size": 10,
              "solidity": 0.2
             }
            },
            "type": "barpolar"
           }
          ],
          "carpet": [
           {
            "aaxis": {
             "endlinecolor": "#2a3f5f",
             "gridcolor": "white",
             "linecolor": "white",
             "minorgridcolor": "white",
             "startlinecolor": "#2a3f5f"
            },
            "baxis": {
             "endlinecolor": "#2a3f5f",
             "gridcolor": "white",
             "linecolor": "white",
             "minorgridcolor": "white",
             "startlinecolor": "#2a3f5f"
            },
            "type": "carpet"
           }
          ],
          "choropleth": [
           {
            "colorbar": {
             "outlinewidth": 0,
             "ticks": ""
            },
            "type": "choropleth"
           }
          ],
          "contour": [
           {
            "colorbar": {
             "outlinewidth": 0,
             "ticks": ""
            },
            "colorscale": [
             [
              0,
              "#0d0887"
             ],
             [
              0.1111111111111111,
              "#46039f"
             ],
             [
              0.2222222222222222,
              "#7201a8"
             ],
             [
              0.3333333333333333,
              "#9c179e"
             ],
             [
              0.4444444444444444,
              "#bd3786"
             ],
             [
              0.5555555555555556,
              "#d8576b"
             ],
             [
              0.6666666666666666,
              "#ed7953"
             ],
             [
              0.7777777777777778,
              "#fb9f3a"
             ],
             [
              0.8888888888888888,
              "#fdca26"
             ],
             [
              1,
              "#f0f921"
             ]
            ],
            "type": "contour"
           }
          ],
          "contourcarpet": [
           {
            "colorbar": {
             "outlinewidth": 0,
             "ticks": ""
            },
            "type": "contourcarpet"
           }
          ],
          "heatmap": [
           {
            "colorbar": {
             "outlinewidth": 0,
             "ticks": ""
            },
            "colorscale": [
             [
              0,
              "#0d0887"
             ],
             [
              0.1111111111111111,
              "#46039f"
             ],
             [
              0.2222222222222222,
              "#7201a8"
             ],
             [
              0.3333333333333333,
              "#9c179e"
             ],
             [
              0.4444444444444444,
              "#bd3786"
             ],
             [
              0.5555555555555556,
              "#d8576b"
             ],
             [
              0.6666666666666666,
              "#ed7953"
             ],
             [
              0.7777777777777778,
              "#fb9f3a"
             ],
             [
              0.8888888888888888,
              "#fdca26"
             ],
             [
              1,
              "#f0f921"
             ]
            ],
            "type": "heatmap"
           }
          ],
          "heatmapgl": [
           {
            "colorbar": {
             "outlinewidth": 0,
             "ticks": ""
            },
            "colorscale": [
             [
              0,
              "#0d0887"
             ],
             [
              0.1111111111111111,
              "#46039f"
             ],
             [
              0.2222222222222222,
              "#7201a8"
             ],
             [
              0.3333333333333333,
              "#9c179e"
             ],
             [
              0.4444444444444444,
              "#bd3786"
             ],
             [
              0.5555555555555556,
              "#d8576b"
             ],
             [
              0.6666666666666666,
              "#ed7953"
             ],
             [
              0.7777777777777778,
              "#fb9f3a"
             ],
             [
              0.8888888888888888,
              "#fdca26"
             ],
             [
              1,
              "#f0f921"
             ]
            ],
            "type": "heatmapgl"
           }
          ],
          "histogram": [
           {
            "marker": {
             "pattern": {
              "fillmode": "overlay",
              "size": 10,
              "solidity": 0.2
             }
            },
            "type": "histogram"
           }
          ],
          "histogram2d": [
           {
            "colorbar": {
             "outlinewidth": 0,
             "ticks": ""
            },
            "colorscale": [
             [
              0,
              "#0d0887"
             ],
             [
              0.1111111111111111,
              "#46039f"
             ],
             [
              0.2222222222222222,
              "#7201a8"
             ],
             [
              0.3333333333333333,
              "#9c179e"
             ],
             [
              0.4444444444444444,
              "#bd3786"
             ],
             [
              0.5555555555555556,
              "#d8576b"
             ],
             [
              0.6666666666666666,
              "#ed7953"
             ],
             [
              0.7777777777777778,
              "#fb9f3a"
             ],
             [
              0.8888888888888888,
              "#fdca26"
             ],
             [
              1,
              "#f0f921"
             ]
            ],
            "type": "histogram2d"
           }
          ],
          "histogram2dcontour": [
           {
            "colorbar": {
             "outlinewidth": 0,
             "ticks": ""
            },
            "colorscale": [
             [
              0,
              "#0d0887"
             ],
             [
              0.1111111111111111,
              "#46039f"
             ],
             [
              0.2222222222222222,
              "#7201a8"
             ],
             [
              0.3333333333333333,
              "#9c179e"
             ],
             [
              0.4444444444444444,
              "#bd3786"
             ],
             [
              0.5555555555555556,
              "#d8576b"
             ],
             [
              0.6666666666666666,
              "#ed7953"
             ],
             [
              0.7777777777777778,
              "#fb9f3a"
             ],
             [
              0.8888888888888888,
              "#fdca26"
             ],
             [
              1,
              "#f0f921"
             ]
            ],
            "type": "histogram2dcontour"
           }
          ],
          "mesh3d": [
           {
            "colorbar": {
             "outlinewidth": 0,
             "ticks": ""
            },
            "type": "mesh3d"
           }
          ],
          "parcoords": [
           {
            "line": {
             "colorbar": {
              "outlinewidth": 0,
              "ticks": ""
             }
            },
            "type": "parcoords"
           }
          ],
          "pie": [
           {
            "automargin": true,
            "type": "pie"
           }
          ],
          "scatter": [
           {
            "fillpattern": {
             "fillmode": "overlay",
             "size": 10,
             "solidity": 0.2
            },
            "type": "scatter"
           }
          ],
          "scatter3d": [
           {
            "line": {
             "colorbar": {
              "outlinewidth": 0,
              "ticks": ""
             }
            },
            "marker": {
             "colorbar": {
              "outlinewidth": 0,
              "ticks": ""
             }
            },
            "type": "scatter3d"
           }
          ],
          "scattercarpet": [
           {
            "marker": {
             "colorbar": {
              "outlinewidth": 0,
              "ticks": ""
             }
            },
            "type": "scattercarpet"
           }
          ],
          "scattergeo": [
           {
            "marker": {
             "colorbar": {
              "outlinewidth": 0,
              "ticks": ""
             }
            },
            "type": "scattergeo"
           }
          ],
          "scattergl": [
           {
            "marker": {
             "colorbar": {
              "outlinewidth": 0,
              "ticks": ""
             }
            },
            "type": "scattergl"
           }
          ],
          "scattermapbox": [
           {
            "marker": {
             "colorbar": {
              "outlinewidth": 0,
              "ticks": ""
             }
            },
            "type": "scattermapbox"
           }
          ],
          "scatterpolar": [
           {
            "marker": {
             "colorbar": {
              "outlinewidth": 0,
              "ticks": ""
             }
            },
            "type": "scatterpolar"
           }
          ],
          "scatterpolargl": [
           {
            "marker": {
             "colorbar": {
              "outlinewidth": 0,
              "ticks": ""
             }
            },
            "type": "scatterpolargl"
           }
          ],
          "scatterternary": [
           {
            "marker": {
             "colorbar": {
              "outlinewidth": 0,
              "ticks": ""
             }
            },
            "type": "scatterternary"
           }
          ],
          "surface": [
           {
            "colorbar": {
             "outlinewidth": 0,
             "ticks": ""
            },
            "colorscale": [
             [
              0,
              "#0d0887"
             ],
             [
              0.1111111111111111,
              "#46039f"
             ],
             [
              0.2222222222222222,
              "#7201a8"
             ],
             [
              0.3333333333333333,
              "#9c179e"
             ],
             [
              0.4444444444444444,
              "#bd3786"
             ],
             [
              0.5555555555555556,
              "#d8576b"
             ],
             [
              0.6666666666666666,
              "#ed7953"
             ],
             [
              0.7777777777777778,
              "#fb9f3a"
             ],
             [
              0.8888888888888888,
              "#fdca26"
             ],
             [
              1,
              "#f0f921"
             ]
            ],
            "type": "surface"
           }
          ],
          "table": [
           {
            "cells": {
             "fill": {
              "color": "#EBF0F8"
             },
             "line": {
              "color": "white"
             }
            },
            "header": {
             "fill": {
              "color": "#C8D4E3"
             },
             "line": {
              "color": "white"
             }
            },
            "type": "table"
           }
          ]
         },
         "layout": {
          "annotationdefaults": {
           "arrowcolor": "#2a3f5f",
           "arrowhead": 0,
           "arrowwidth": 1
          },
          "autotypenumbers": "strict",
          "coloraxis": {
           "colorbar": {
            "outlinewidth": 0,
            "ticks": ""
           }
          },
          "colorscale": {
           "diverging": [
            [
             0,
             "#8e0152"
            ],
            [
             0.1,
             "#c51b7d"
            ],
            [
             0.2,
             "#de77ae"
            ],
            [
             0.3,
             "#f1b6da"
            ],
            [
             0.4,
             "#fde0ef"
            ],
            [
             0.5,
             "#f7f7f7"
            ],
            [
             0.6,
             "#e6f5d0"
            ],
            [
             0.7,
             "#b8e186"
            ],
            [
             0.8,
             "#7fbc41"
            ],
            [
             0.9,
             "#4d9221"
            ],
            [
             1,
             "#276419"
            ]
           ],
           "sequential": [
            [
             0,
             "#0d0887"
            ],
            [
             0.1111111111111111,
             "#46039f"
            ],
            [
             0.2222222222222222,
             "#7201a8"
            ],
            [
             0.3333333333333333,
             "#9c179e"
            ],
            [
             0.4444444444444444,
             "#bd3786"
            ],
            [
             0.5555555555555556,
             "#d8576b"
            ],
            [
             0.6666666666666666,
             "#ed7953"
            ],
            [
             0.7777777777777778,
             "#fb9f3a"
            ],
            [
             0.8888888888888888,
             "#fdca26"
            ],
            [
             1,
             "#f0f921"
            ]
           ],
           "sequentialminus": [
            [
             0,
             "#0d0887"
            ],
            [
             0.1111111111111111,
             "#46039f"
            ],
            [
             0.2222222222222222,
             "#7201a8"
            ],
            [
             0.3333333333333333,
             "#9c179e"
            ],
            [
             0.4444444444444444,
             "#bd3786"
            ],
            [
             0.5555555555555556,
             "#d8576b"
            ],
            [
             0.6666666666666666,
             "#ed7953"
            ],
            [
             0.7777777777777778,
             "#fb9f3a"
            ],
            [
             0.8888888888888888,
             "#fdca26"
            ],
            [
             1,
             "#f0f921"
            ]
           ]
          },
          "colorway": [
           "#636efa",
           "#EF553B",
           "#00cc96",
           "#ab63fa",
           "#FFA15A",
           "#19d3f3",
           "#FF6692",
           "#B6E880",
           "#FF97FF",
           "#FECB52"
          ],
          "font": {
           "color": "#2a3f5f"
          },
          "geo": {
           "bgcolor": "white",
           "lakecolor": "white",
           "landcolor": "#E5ECF6",
           "showlakes": true,
           "showland": true,
           "subunitcolor": "white"
          },
          "hoverlabel": {
           "align": "left"
          },
          "hovermode": "closest",
          "mapbox": {
           "style": "light"
          },
          "paper_bgcolor": "white",
          "plot_bgcolor": "#E5ECF6",
          "polar": {
           "angularaxis": {
            "gridcolor": "white",
            "linecolor": "white",
            "ticks": ""
           },
           "bgcolor": "#E5ECF6",
           "radialaxis": {
            "gridcolor": "white",
            "linecolor": "white",
            "ticks": ""
           }
          },
          "scene": {
           "xaxis": {
            "backgroundcolor": "#E5ECF6",
            "gridcolor": "white",
            "gridwidth": 2,
            "linecolor": "white",
            "showbackground": true,
            "ticks": "",
            "zerolinecolor": "white"
           },
           "yaxis": {
            "backgroundcolor": "#E5ECF6",
            "gridcolor": "white",
            "gridwidth": 2,
            "linecolor": "white",
            "showbackground": true,
            "ticks": "",
            "zerolinecolor": "white"
           },
           "zaxis": {
            "backgroundcolor": "#E5ECF6",
            "gridcolor": "white",
            "gridwidth": 2,
            "linecolor": "white",
            "showbackground": true,
            "ticks": "",
            "zerolinecolor": "white"
           }
          },
          "shapedefaults": {
           "line": {
            "color": "#2a3f5f"
           }
          },
          "ternary": {
           "aaxis": {
            "gridcolor": "white",
            "linecolor": "white",
            "ticks": ""
           },
           "baxis": {
            "gridcolor": "white",
            "linecolor": "white",
            "ticks": ""
           },
           "bgcolor": "#E5ECF6",
           "caxis": {
            "gridcolor": "white",
            "linecolor": "white",
            "ticks": ""
           }
          },
          "title": {
           "x": 0.05
          },
          "xaxis": {
           "automargin": true,
           "gridcolor": "white",
           "linecolor": "white",
           "ticks": "",
           "title": {
            "standoff": 15
           },
           "zerolinecolor": "white",
           "zerolinewidth": 2
          },
          "yaxis": {
           "automargin": true,
           "gridcolor": "white",
           "linecolor": "white",
           "ticks": "",
           "title": {
            "standoff": 15
           },
           "zerolinecolor": "white",
           "zerolinewidth": 2
          }
         }
        },
        "title": {
         "text": "2016 ~ 2021 사고분류"
        },
        "xaxis": {
         "anchor": "y",
         "domain": [
          0,
          1
         ],
         "title": {
          "text": "사고분류명"
         }
        },
        "yaxis": {
         "anchor": "x",
         "domain": [
          0,
          1
         ],
         "title": {
          "text": "사고건수"
         }
        }
       }
      }
     },
     "metadata": {},
     "output_type": "display_data"
    },
    {
     "data": {
      "text/plain": [
       "'<iframe id=\"igraph\" scrolling=\"no\" style=\"border:none;\" seamless=\"seamless\" src=\"https://plotly.com/~nuyhc/44.embed\" height=\"525\" width=\"100%\"></iframe>'"
      ]
     },
     "execution_count": 101,
     "metadata": {},
     "output_type": "execute_result"
    }
   ],
   "source": [
    "fig = px.bar(df_seoul, x='사고분류명', y='사고건수', color='사고건수', facet_col_wrap=1, height=500, title=\"2016 ~ 2021 사고분류\")\n",
    "fig.show()\n",
    "\n",
    "cs.tools.get_embed(cs.plotly.plot(fig, filename=\"사고 분류\", auto_open=False))"
   ]
  },
  {
   "cell_type": "markdown",
   "metadata": {},
   "source": [
    "야간사고 > 보행자사고 > 고령자사고 > 고령운전자사고 순으로 사고가 일어나며, 서울특별시의 5년간 가장 많은 사고가 일어난 것은 `야간사고`임"
   ]
  },
  {
   "cell_type": "markdown",
   "metadata": {},
   "source": [
    "#### 사고유형 별 사망자 수"
   ]
  },
  {
   "cell_type": "code",
   "execution_count": 102,
   "metadata": {},
   "outputs": [
    {
     "data": {
      "application/vnd.plotly.v1+json": {
       "config": {
        "plotlyServerURL": "https://plotly.com"
       },
       "data": [
        {
         "alignmentgroup": "True",
         "hovertemplate": "variable=0<br>사고유형=%{x}<br>value=%{y}<extra></extra>",
         "legendgroup": "0",
         "marker": {
          "color": "#636efa",
          "pattern": {
           "shape": ""
          }
         },
         "name": "0",
         "offsetgroup": "0",
         "orientation": "v",
         "showlegend": true,
         "textposition": "auto",
         "type": "bar",
         "x": [
          "공작물충돌",
          "기타",
          "길가장자리구역통행중",
          "도로이탈 기타",
          "도로이탈 추락",
          "보도통행중",
          "전도전복",
          "정면충돌",
          "주정차중 추돌",
          "진행중 추돌",
          "차도통행중",
          "측면직각충돌",
          "횡단중"
         ],
         "xaxis": "x",
         "y": [
          1555,
          3985,
          252,
          149,
          341,
          183,
          728,
          784,
          572,
          948,
          477,
          1848,
          2791
         ],
         "yaxis": "y"
        }
       ],
       "layout": {
        "barmode": "relative",
        "legend": {
         "title": {
          "text": "variable"
         },
         "tracegroupgap": 0
        },
        "template": {
         "data": {
          "bar": [
           {
            "error_x": {
             "color": "#2a3f5f"
            },
            "error_y": {
             "color": "#2a3f5f"
            },
            "marker": {
             "line": {
              "color": "#E5ECF6",
              "width": 0.5
             },
             "pattern": {
              "fillmode": "overlay",
              "size": 10,
              "solidity": 0.2
             }
            },
            "type": "bar"
           }
          ],
          "barpolar": [
           {
            "marker": {
             "line": {
              "color": "#E5ECF6",
              "width": 0.5
             },
             "pattern": {
              "fillmode": "overlay",
              "size": 10,
              "solidity": 0.2
             }
            },
            "type": "barpolar"
           }
          ],
          "carpet": [
           {
            "aaxis": {
             "endlinecolor": "#2a3f5f",
             "gridcolor": "white",
             "linecolor": "white",
             "minorgridcolor": "white",
             "startlinecolor": "#2a3f5f"
            },
            "baxis": {
             "endlinecolor": "#2a3f5f",
             "gridcolor": "white",
             "linecolor": "white",
             "minorgridcolor": "white",
             "startlinecolor": "#2a3f5f"
            },
            "type": "carpet"
           }
          ],
          "choropleth": [
           {
            "colorbar": {
             "outlinewidth": 0,
             "ticks": ""
            },
            "type": "choropleth"
           }
          ],
          "contour": [
           {
            "colorbar": {
             "outlinewidth": 0,
             "ticks": ""
            },
            "colorscale": [
             [
              0,
              "#0d0887"
             ],
             [
              0.1111111111111111,
              "#46039f"
             ],
             [
              0.2222222222222222,
              "#7201a8"
             ],
             [
              0.3333333333333333,
              "#9c179e"
             ],
             [
              0.4444444444444444,
              "#bd3786"
             ],
             [
              0.5555555555555556,
              "#d8576b"
             ],
             [
              0.6666666666666666,
              "#ed7953"
             ],
             [
              0.7777777777777778,
              "#fb9f3a"
             ],
             [
              0.8888888888888888,
              "#fdca26"
             ],
             [
              1,
              "#f0f921"
             ]
            ],
            "type": "contour"
           }
          ],
          "contourcarpet": [
           {
            "colorbar": {
             "outlinewidth": 0,
             "ticks": ""
            },
            "type": "contourcarpet"
           }
          ],
          "heatmap": [
           {
            "colorbar": {
             "outlinewidth": 0,
             "ticks": ""
            },
            "colorscale": [
             [
              0,
              "#0d0887"
             ],
             [
              0.1111111111111111,
              "#46039f"
             ],
             [
              0.2222222222222222,
              "#7201a8"
             ],
             [
              0.3333333333333333,
              "#9c179e"
             ],
             [
              0.4444444444444444,
              "#bd3786"
             ],
             [
              0.5555555555555556,
              "#d8576b"
             ],
             [
              0.6666666666666666,
              "#ed7953"
             ],
             [
              0.7777777777777778,
              "#fb9f3a"
             ],
             [
              0.8888888888888888,
              "#fdca26"
             ],
             [
              1,
              "#f0f921"
             ]
            ],
            "type": "heatmap"
           }
          ],
          "heatmapgl": [
           {
            "colorbar": {
             "outlinewidth": 0,
             "ticks": ""
            },
            "colorscale": [
             [
              0,
              "#0d0887"
             ],
             [
              0.1111111111111111,
              "#46039f"
             ],
             [
              0.2222222222222222,
              "#7201a8"
             ],
             [
              0.3333333333333333,
              "#9c179e"
             ],
             [
              0.4444444444444444,
              "#bd3786"
             ],
             [
              0.5555555555555556,
              "#d8576b"
             ],
             [
              0.6666666666666666,
              "#ed7953"
             ],
             [
              0.7777777777777778,
              "#fb9f3a"
             ],
             [
              0.8888888888888888,
              "#fdca26"
             ],
             [
              1,
              "#f0f921"
             ]
            ],
            "type": "heatmapgl"
           }
          ],
          "histogram": [
           {
            "marker": {
             "pattern": {
              "fillmode": "overlay",
              "size": 10,
              "solidity": 0.2
             }
            },
            "type": "histogram"
           }
          ],
          "histogram2d": [
           {
            "colorbar": {
             "outlinewidth": 0,
             "ticks": ""
            },
            "colorscale": [
             [
              0,
              "#0d0887"
             ],
             [
              0.1111111111111111,
              "#46039f"
             ],
             [
              0.2222222222222222,
              "#7201a8"
             ],
             [
              0.3333333333333333,
              "#9c179e"
             ],
             [
              0.4444444444444444,
              "#bd3786"
             ],
             [
              0.5555555555555556,
              "#d8576b"
             ],
             [
              0.6666666666666666,
              "#ed7953"
             ],
             [
              0.7777777777777778,
              "#fb9f3a"
             ],
             [
              0.8888888888888888,
              "#fdca26"
             ],
             [
              1,
              "#f0f921"
             ]
            ],
            "type": "histogram2d"
           }
          ],
          "histogram2dcontour": [
           {
            "colorbar": {
             "outlinewidth": 0,
             "ticks": ""
            },
            "colorscale": [
             [
              0,
              "#0d0887"
             ],
             [
              0.1111111111111111,
              "#46039f"
             ],
             [
              0.2222222222222222,
              "#7201a8"
             ],
             [
              0.3333333333333333,
              "#9c179e"
             ],
             [
              0.4444444444444444,
              "#bd3786"
             ],
             [
              0.5555555555555556,
              "#d8576b"
             ],
             [
              0.6666666666666666,
              "#ed7953"
             ],
             [
              0.7777777777777778,
              "#fb9f3a"
             ],
             [
              0.8888888888888888,
              "#fdca26"
             ],
             [
              1,
              "#f0f921"
             ]
            ],
            "type": "histogram2dcontour"
           }
          ],
          "mesh3d": [
           {
            "colorbar": {
             "outlinewidth": 0,
             "ticks": ""
            },
            "type": "mesh3d"
           }
          ],
          "parcoords": [
           {
            "line": {
             "colorbar": {
              "outlinewidth": 0,
              "ticks": ""
             }
            },
            "type": "parcoords"
           }
          ],
          "pie": [
           {
            "automargin": true,
            "type": "pie"
           }
          ],
          "scatter": [
           {
            "fillpattern": {
             "fillmode": "overlay",
             "size": 10,
             "solidity": 0.2
            },
            "type": "scatter"
           }
          ],
          "scatter3d": [
           {
            "line": {
             "colorbar": {
              "outlinewidth": 0,
              "ticks": ""
             }
            },
            "marker": {
             "colorbar": {
              "outlinewidth": 0,
              "ticks": ""
             }
            },
            "type": "scatter3d"
           }
          ],
          "scattercarpet": [
           {
            "marker": {
             "colorbar": {
              "outlinewidth": 0,
              "ticks": ""
             }
            },
            "type": "scattercarpet"
           }
          ],
          "scattergeo": [
           {
            "marker": {
             "colorbar": {
              "outlinewidth": 0,
              "ticks": ""
             }
            },
            "type": "scattergeo"
           }
          ],
          "scattergl": [
           {
            "marker": {
             "colorbar": {
              "outlinewidth": 0,
              "ticks": ""
             }
            },
            "type": "scattergl"
           }
          ],
          "scattermapbox": [
           {
            "marker": {
             "colorbar": {
              "outlinewidth": 0,
              "ticks": ""
             }
            },
            "type": "scattermapbox"
           }
          ],
          "scatterpolar": [
           {
            "marker": {
             "colorbar": {
              "outlinewidth": 0,
              "ticks": ""
             }
            },
            "type": "scatterpolar"
           }
          ],
          "scatterpolargl": [
           {
            "marker": {
             "colorbar": {
              "outlinewidth": 0,
              "ticks": ""
             }
            },
            "type": "scatterpolargl"
           }
          ],
          "scatterternary": [
           {
            "marker": {
             "colorbar": {
              "outlinewidth": 0,
              "ticks": ""
             }
            },
            "type": "scatterternary"
           }
          ],
          "surface": [
           {
            "colorbar": {
             "outlinewidth": 0,
             "ticks": ""
            },
            "colorscale": [
             [
              0,
              "#0d0887"
             ],
             [
              0.1111111111111111,
              "#46039f"
             ],
             [
              0.2222222222222222,
              "#7201a8"
             ],
             [
              0.3333333333333333,
              "#9c179e"
             ],
             [
              0.4444444444444444,
              "#bd3786"
             ],
             [
              0.5555555555555556,
              "#d8576b"
             ],
             [
              0.6666666666666666,
              "#ed7953"
             ],
             [
              0.7777777777777778,
              "#fb9f3a"
             ],
             [
              0.8888888888888888,
              "#fdca26"
             ],
             [
              1,
              "#f0f921"
             ]
            ],
            "type": "surface"
           }
          ],
          "table": [
           {
            "cells": {
             "fill": {
              "color": "#EBF0F8"
             },
             "line": {
              "color": "white"
             }
            },
            "header": {
             "fill": {
              "color": "#C8D4E3"
             },
             "line": {
              "color": "white"
             }
            },
            "type": "table"
           }
          ]
         },
         "layout": {
          "annotationdefaults": {
           "arrowcolor": "#2a3f5f",
           "arrowhead": 0,
           "arrowwidth": 1
          },
          "autotypenumbers": "strict",
          "coloraxis": {
           "colorbar": {
            "outlinewidth": 0,
            "ticks": ""
           }
          },
          "colorscale": {
           "diverging": [
            [
             0,
             "#8e0152"
            ],
            [
             0.1,
             "#c51b7d"
            ],
            [
             0.2,
             "#de77ae"
            ],
            [
             0.3,
             "#f1b6da"
            ],
            [
             0.4,
             "#fde0ef"
            ],
            [
             0.5,
             "#f7f7f7"
            ],
            [
             0.6,
             "#e6f5d0"
            ],
            [
             0.7,
             "#b8e186"
            ],
            [
             0.8,
             "#7fbc41"
            ],
            [
             0.9,
             "#4d9221"
            ],
            [
             1,
             "#276419"
            ]
           ],
           "sequential": [
            [
             0,
             "#0d0887"
            ],
            [
             0.1111111111111111,
             "#46039f"
            ],
            [
             0.2222222222222222,
             "#7201a8"
            ],
            [
             0.3333333333333333,
             "#9c179e"
            ],
            [
             0.4444444444444444,
             "#bd3786"
            ],
            [
             0.5555555555555556,
             "#d8576b"
            ],
            [
             0.6666666666666666,
             "#ed7953"
            ],
            [
             0.7777777777777778,
             "#fb9f3a"
            ],
            [
             0.8888888888888888,
             "#fdca26"
            ],
            [
             1,
             "#f0f921"
            ]
           ],
           "sequentialminus": [
            [
             0,
             "#0d0887"
            ],
            [
             0.1111111111111111,
             "#46039f"
            ],
            [
             0.2222222222222222,
             "#7201a8"
            ],
            [
             0.3333333333333333,
             "#9c179e"
            ],
            [
             0.4444444444444444,
             "#bd3786"
            ],
            [
             0.5555555555555556,
             "#d8576b"
            ],
            [
             0.6666666666666666,
             "#ed7953"
            ],
            [
             0.7777777777777778,
             "#fb9f3a"
            ],
            [
             0.8888888888888888,
             "#fdca26"
            ],
            [
             1,
             "#f0f921"
            ]
           ]
          },
          "colorway": [
           "#636efa",
           "#EF553B",
           "#00cc96",
           "#ab63fa",
           "#FFA15A",
           "#19d3f3",
           "#FF6692",
           "#B6E880",
           "#FF97FF",
           "#FECB52"
          ],
          "font": {
           "color": "#2a3f5f"
          },
          "geo": {
           "bgcolor": "white",
           "lakecolor": "white",
           "landcolor": "#E5ECF6",
           "showlakes": true,
           "showland": true,
           "subunitcolor": "white"
          },
          "hoverlabel": {
           "align": "left"
          },
          "hovermode": "closest",
          "mapbox": {
           "style": "light"
          },
          "paper_bgcolor": "white",
          "plot_bgcolor": "#E5ECF6",
          "polar": {
           "angularaxis": {
            "gridcolor": "white",
            "linecolor": "white",
            "ticks": ""
           },
           "bgcolor": "#E5ECF6",
           "radialaxis": {
            "gridcolor": "white",
            "linecolor": "white",
            "ticks": ""
           }
          },
          "scene": {
           "xaxis": {
            "backgroundcolor": "#E5ECF6",
            "gridcolor": "white",
            "gridwidth": 2,
            "linecolor": "white",
            "showbackground": true,
            "ticks": "",
            "zerolinecolor": "white"
           },
           "yaxis": {
            "backgroundcolor": "#E5ECF6",
            "gridcolor": "white",
            "gridwidth": 2,
            "linecolor": "white",
            "showbackground": true,
            "ticks": "",
            "zerolinecolor": "white"
           },
           "zaxis": {
            "backgroundcolor": "#E5ECF6",
            "gridcolor": "white",
            "gridwidth": 2,
            "linecolor": "white",
            "showbackground": true,
            "ticks": "",
            "zerolinecolor": "white"
           }
          },
          "shapedefaults": {
           "line": {
            "color": "#2a3f5f"
           }
          },
          "ternary": {
           "aaxis": {
            "gridcolor": "white",
            "linecolor": "white",
            "ticks": ""
           },
           "baxis": {
            "gridcolor": "white",
            "linecolor": "white",
            "ticks": ""
           },
           "bgcolor": "#E5ECF6",
           "caxis": {
            "gridcolor": "white",
            "linecolor": "white",
            "ticks": ""
           }
          },
          "title": {
           "x": 0.05
          },
          "xaxis": {
           "automargin": true,
           "gridcolor": "white",
           "linecolor": "white",
           "ticks": "",
           "title": {
            "standoff": 15
           },
           "zerolinecolor": "white",
           "zerolinewidth": 2
          },
          "yaxis": {
           "automargin": true,
           "gridcolor": "white",
           "linecolor": "white",
           "ticks": "",
           "title": {
            "standoff": 15
           },
           "zerolinecolor": "white",
           "zerolinewidth": 2
          }
         }
        },
        "title": {
         "text": "2012 ~ 2014, 사고 유형별 사망자수"
        },
        "xaxis": {
         "anchor": "y",
         "domain": [
          0,
          1
         ],
         "title": {
          "text": "사고유형"
         }
        },
        "yaxis": {
         "anchor": "x",
         "domain": [
          0,
          1
         ],
         "title": {
          "text": "value"
         }
        }
       }
      }
     },
     "metadata": {},
     "output_type": "display_data"
    },
    {
     "data": {
      "text/plain": [
       "'<iframe id=\"igraph\" scrolling=\"no\" style=\"border:none;\" seamless=\"seamless\" src=\"https://plotly.com/~nuyhc/46.embed\" height=\"525\" width=\"100%\"></iframe>'"
      ]
     },
     "execution_count": 102,
     "metadata": {},
     "output_type": "execute_result"
    }
   ],
   "source": [
    "df_wholeperiodofincidents=df_typeofincidents3.T.sum()\n",
    "fig = px.bar(df_wholeperiodofincidents, title = \"2012 ~ 2014, 사고 유형별 사망자수\")\n",
    "fig.show()\n",
    "\n",
    "cs.tools.get_embed(cs.plotly.plot(fig, filename=\"사고 유형별 사망자수\", auto_open=False))"
   ]
  },
  {
   "cell_type": "markdown",
   "metadata": {},
   "source": [
    "횡단중 사고가 발생해 사망하는 사례가 가장 많았음"
   ]
  },
  {
   "cell_type": "markdown",
   "metadata": {},
   "source": [
    "#### 시간대별 사고 발생"
   ]
  },
  {
   "cell_type": "code",
   "execution_count": 45,
   "metadata": {},
   "outputs": [
    {
     "data": {
      "image/png": "[encoded data removed]",
      "text/plain": [
       "<Figure size 432x288 with 1 Axes>"
      ]
     },
     "metadata": {
      "image/png": {
       "height": 264,
       "width": 389
      }
     },
     "output_type": "display_data"
    }
   ],
   "source": [
    "df_happeningtime = df_01.groupby('주야')['발생년월일시'].count()\n",
    "_ = sns.countplot(data= df_01, x='주야')"
   ]
  },
  {
   "cell_type": "markdown",
   "metadata": {},
   "source": [
    "### 3. 2020년도 교통사고 통계 데이터\n",
    "#### Data load"
   ]
  },
  {
   "cell_type": "code",
   "execution_count": 56,
   "metadata": {},
   "outputs": [],
   "source": [
    "# 사고 유형별 교통사고 통계\n",
    "df_accident_type = pd.read_csv(\"data/도로교통공단_사고유형별 교통사고 통계_20201231.csv\", encoding=\"cp949\")\n",
    "# 가해 운전자 연령층별 월별 교통하고 통계\n",
    "df_age_agg_driver_month = pd.read_csv(\"data/도로교통공단_가해운전자 연령층별 월별 교통사고 통계_12_31_2020.csv\", encoding=\"cp949\")\n",
    "# 월별 교통하고 통계\n",
    "df_monthly = pd.read_csv(\"data/도로교통공단_월별 교통사고 통계_20201231.csv\", encoding=\"cp949\")\n",
    "# 사상자 연령층별 성별 교통하고 통계\n",
    "df_age_gender = pd.read_csv(\"data/도로교통공단_사상자 연령층별 성별 교통사고 통계_20201231.csv\", encoding=\"cp949\")"
   ]
  },
  {
   "cell_type": "markdown",
   "metadata": {},
   "source": [
    "#### 2020년 사고 유형별 부상자 수"
   ]
  },
  {
   "cell_type": "code",
   "execution_count": 103,
   "metadata": {},
   "outputs": [
    {
     "data": {
      "application/vnd.plotly.v1+json": {
       "config": {
        "plotlyServerURL": "https://plotly.com"
       },
       "data": [
        {
         "alignmentgroup": "True",
         "hovertemplate": "variable=사망자수<br>사고유형=%{x}<br>value=%{y}<extra></extra>",
         "legendgroup": "사망자수",
         "marker": {
          "color": "#636efa",
          "pattern": {
           "shape": ""
          }
         },
         "name": "사망자수",
         "offsetgroup": "사망자수",
         "orientation": "v",
         "showlegend": true,
         "textposition": "auto",
         "type": "bar",
         "x": [
          "횡단중",
          "차도통행중",
          "길가장자리구역통행중",
          "보도통행중",
          "기타",
          "정면충돌",
          "측면충돌",
          "후진중충돌",
          "추돌",
          "기타",
          "전도",
          "전복",
          "공작물충돌",
          "주/정차차량 충돌",
          "도로이탈 추락",
          "도로이탈 기타",
          "기타",
          "철길건널목"
         ],
         "xaxis": "x",
         "y": [
          520,
          195,
          40,
          26,
          288,
          181,
          441,
          4,
          370,
          303,
          90,
          26,
          340,
          4,
          92,
          30,
          130,
          1
         ],
         "yaxis": "y"
        },
        {
         "alignmentgroup": "True",
         "hovertemplate": "variable=중상자수<br>사고유형=%{x}<br>value=%{y}<extra></extra>",
         "legendgroup": "중상자수",
         "marker": {
          "color": "#EF553B",
          "pattern": {
           "shape": ""
          }
         },
         "name": "중상자수",
         "offsetgroup": "중상자수",
         "orientation": "v",
         "showlegend": true,
         "textposition": "auto",
         "type": "bar",
         "x": [
          "횡단중",
          "차도통행중",
          "길가장자리구역통행중",
          "보도통행중",
          "기타",
          "정면충돌",
          "측면충돌",
          "후진중충돌",
          "추돌",
          "기타",
          "전도",
          "전복",
          "공작물충돌",
          "주/정차차량 충돌",
          "도로이탈 추락",
          "도로이탈 기타",
          "기타",
          "철길건널목"
         ],
         "xaxis": "x",
         "y": [
          6417,
          1423,
          591,
          707,
          5195,
          3657,
          19893,
          297,
          7924,
          11000,
          412,
          81,
          1376,
          8,
          185,
          113,
          1285,
          0
         ],
         "yaxis": "y"
        },
        {
         "alignmentgroup": "True",
         "hovertemplate": "variable=경상자수<br>사고유형=%{x}<br>value=%{y}<extra></extra>",
         "legendgroup": "경상자수",
         "marker": {
          "color": "#00cc96",
          "pattern": {
           "shape": ""
          }
         },
         "name": "경상자수",
         "offsetgroup": "경상자수",
         "orientation": "v",
         "showlegend": true,
         "textposition": "auto",
         "type": "bar",
         "x": [
          "횡단중",
          "차도통행중",
          "길가장자리구역통행중",
          "보도통행중",
          "기타",
          "정면충돌",
          "측면충돌",
          "후진중충돌",
          "추돌",
          "기타",
          "전도",
          "전복",
          "공작물충돌",
          "주/정차차량 충돌",
          "도로이탈 추락",
          "도로이탈 기타",
          "기타",
          "철길건널목"
         ],
         "xaxis": "x",
         "y": [
          6617,
          2022,
          1371,
          1260,
          9290,
          8468,
          88838,
          4003,
          48345,
          50973,
          466,
          98,
          1745,
          8,
          203,
          113,
          2213,
          3
         ],
         "yaxis": "y"
        },
        {
         "alignmentgroup": "True",
         "hovertemplate": "variable=부상신고자수<br>사고유형=%{x}<br>value=%{y}<extra></extra>",
         "legendgroup": "부상신고자수",
         "marker": {
          "color": "#ab63fa",
          "pattern": {
           "shape": ""
          }
         },
         "name": "부상신고자수",
         "offsetgroup": "부상신고자수",
         "orientation": "v",
         "showlegend": true,
         "textposition": "auto",
         "type": "bar",
         "x": [
          "횡단중",
          "차도통행중",
          "길가장자리구역통행중",
          "보도통행중",
          "기타",
          "정면충돌",
          "측면충돌",
          "후진중충돌",
          "추돌",
          "기타",
          "전도",
          "전복",
          "공작물충돌",
          "주/정차차량 충돌",
          "도로이탈 추락",
          "도로이탈 기타",
          "기타",
          "철길건널목"
         ],
         "xaxis": "x",
         "y": [
          517,
          209,
          160,
          129,
          1272,
          677,
          6945,
          154,
          3172,
          4764,
          281,
          32,
          668,
          1,
          46,
          24,
          543,
          0
         ],
         "yaxis": "y"
        }
       ],
       "layout": {
        "barmode": "relative",
        "legend": {
         "title": {
          "text": "variable"
         },
         "tracegroupgap": 0
        },
        "template": {
         "data": {
          "bar": [
           {
            "error_x": {
             "color": "#2a3f5f"
            },
            "error_y": {
             "color": "#2a3f5f"
            },
            "marker": {
             "line": {
              "color": "#E5ECF6",
              "width": 0.5
             },
             "pattern": {
              "fillmode": "overlay",
              "size": 10,
              "solidity": 0.2
             }
            },
            "type": "bar"
           }
          ],
          "barpolar": [
           {
            "marker": {
             "line": {
              "color": "#E5ECF6",
              "width": 0.5
             },
             "pattern": {
              "fillmode": "overlay",
              "size": 10,
              "solidity": 0.2
             }
            },
            "type": "barpolar"
           }
          ],
          "carpet": [
           {
            "aaxis": {
             "endlinecolor": "#2a3f5f",
             "gridcolor": "white",
             "linecolor": "white",
             "minorgridcolor": "white",
             "startlinecolor": "#2a3f5f"
            },
            "baxis": {
             "endlinecolor": "#2a3f5f",
             "gridcolor": "white",
             "linecolor": "white",
             "minorgridcolor": "white",
             "startlinecolor": "#2a3f5f"
            },
            "type": "carpet"
           }
          ],
          "choropleth": [
           {
            "colorbar": {
             "outlinewidth": 0,
             "ticks": ""
            },
            "type": "choropleth"
           }
          ],
          "contour": [
           {
            "colorbar": {
             "outlinewidth": 0,
             "ticks": ""
            },
            "colorscale": [
             [
              0,
              "#0d0887"
             ],
             [
              0.1111111111111111,
              "#46039f"
             ],
             [
              0.2222222222222222,
              "#7201a8"
             ],
             [
              0.3333333333333333,
              "#9c179e"
             ],
             [
              0.4444444444444444,
              "#bd3786"
             ],
             [
              0.5555555555555556,
              "#d8576b"
             ],
             [
              0.6666666666666666,
              "#ed7953"
             ],
             [
              0.7777777777777778,
              "#fb9f3a"
             ],
             [
              0.8888888888888888,
              "#fdca26"
             ],
             [
              1,
              "#f0f921"
             ]
            ],
            "type": "contour"
           }
          ],
          "contourcarpet": [
           {
            "colorbar": {
             "outlinewidth": 0,
             "ticks": ""
            },
            "type": "contourcarpet"
           }
          ],
          "heatmap": [
           {
            "colorbar": {
             "outlinewidth": 0,
             "ticks": ""
            },
            "colorscale": [
             [
              0,
              "#0d0887"
             ],
             [
              0.1111111111111111,
              "#46039f"
             ],
             [
              0.2222222222222222,
              "#7201a8"
             ],
             [
              0.3333333333333333,
              "#9c179e"
             ],
             [
              0.4444444444444444,
              "#bd3786"
             ],
             [
              0.5555555555555556,
              "#d8576b"
             ],
             [
              0.6666666666666666,
              "#ed7953"
             ],
             [
              0.7777777777777778,
              "#fb9f3a"
             ],
             [
              0.8888888888888888,
              "#fdca26"
             ],
             [
              1,
              "#f0f921"
             ]
            ],
            "type": "heatmap"
           }
          ],
          "heatmapgl": [
           {
            "colorbar": {
             "outlinewidth": 0,
             "ticks": ""
            },
            "colorscale": [
             [
              0,
              "#0d0887"
             ],
             [
              0.1111111111111111,
              "#46039f"
             ],
             [
              0.2222222222222222,
              "#7201a8"
             ],
             [
              0.3333333333333333,
              "#9c179e"
             ],
             [
              0.4444444444444444,
              "#bd3786"
             ],
             [
              0.5555555555555556,
              "#d8576b"
             ],
             [
              0.6666666666666666,
              "#ed7953"
             ],
             [
              0.7777777777777778,
              "#fb9f3a"
             ],
             [
              0.8888888888888888,
              "#fdca26"
             ],
             [
              1,
              "#f0f921"
             ]
            ],
            "type": "heatmapgl"
           }
          ],
          "histogram": [
           {
            "marker": {
             "pattern": {
              "fillmode": "overlay",
              "size": 10,
              "solidity": 0.2
             }
            },
            "type": "histogram"
           }
          ],
          "histogram2d": [
           {
            "colorbar": {
             "outlinewidth": 0,
             "ticks": ""
            },
            "colorscale": [
             [
              0,
              "#0d0887"
             ],
             [
              0.1111111111111111,
              "#46039f"
             ],
             [
              0.2222222222222222,
              "#7201a8"
             ],
             [
              0.3333333333333333,
              "#9c179e"
             ],
             [
              0.4444444444444444,
              "#bd3786"
             ],
             [
              0.5555555555555556,
              "#d8576b"
             ],
             [
              0.6666666666666666,
              "#ed7953"
             ],
             [
              0.7777777777777778,
              "#fb9f3a"
             ],
             [
              0.8888888888888888,
              "#fdca26"
             ],
             [
              1,
              "#f0f921"
             ]
            ],
            "type": "histogram2d"
           }
          ],
          "histogram2dcontour": [
           {
            "colorbar": {
             "outlinewidth": 0,
             "ticks": ""
            },
            "colorscale": [
             [
              0,
              "#0d0887"
             ],
             [
              0.1111111111111111,
              "#46039f"
             ],
             [
              0.2222222222222222,
              "#7201a8"
             ],
             [
              0.3333333333333333,
              "#9c179e"
             ],
             [
              0.4444444444444444,
              "#bd3786"
             ],
             [
              0.5555555555555556,
              "#d8576b"
             ],
             [
              0.6666666666666666,
              "#ed7953"
             ],
             [
              0.7777777777777778,
              "#fb9f3a"
             ],
             [
              0.8888888888888888,
              "#fdca26"
             ],
             [
              1,
              "#f0f921"
             ]
            ],
            "type": "histogram2dcontour"
           }
          ],
          "mesh3d": [
           {
            "colorbar": {
             "outlinewidth": 0,
             "ticks": ""
            },
            "type": "mesh3d"
           }
          ],
          "parcoords": [
           {
            "line": {
             "colorbar": {
              "outlinewidth": 0,
              "ticks": ""
             }
            },
            "type": "parcoords"
           }
          ],
          "pie": [
           {
            "automargin": true,
            "type": "pie"
           }
          ],
          "scatter": [
           {
            "fillpattern": {
             "fillmode": "overlay",
             "size": 10,
             "solidity": 0.2
            },
            "type": "scatter"
           }
          ],
          "scatter3d": [
           {
            "line": {
             "colorbar": {
              "outlinewidth": 0,
              "ticks": ""
             }
            },
            "marker": {
             "colorbar": {
              "outlinewidth": 0,
              "ticks": ""
             }
            },
            "type": "scatter3d"
           }
          ],
          "scattercarpet": [
           {
            "marker": {
             "colorbar": {
              "outlinewidth": 0,
              "ticks": ""
             }
            },
            "type": "scattercarpet"
           }
          ],
          "scattergeo": [
           {
            "marker": {
             "colorbar": {
              "outlinewidth": 0,
              "ticks": ""
             }
            },
            "type": "scattergeo"
           }
          ],
          "scattergl": [
           {
            "marker": {
             "colorbar": {
              "outlinewidth": 0,
              "ticks": ""
             }
            },
            "type": "scattergl"
           }
          ],
          "scattermapbox": [
           {
            "marker": {
             "colorbar": {
              "outlinewidth": 0,
              "ticks": ""
             }
            },
            "type": "scattermapbox"
           }
          ],
          "scatterpolar": [
           {
            "marker": {
             "colorbar": {
              "outlinewidth": 0,
              "ticks": ""
             }
            },
            "type": "scatterpolar"
           }
          ],
          "scatterpolargl": [
           {
            "marker": {
             "colorbar": {
              "outlinewidth": 0,
              "ticks": ""
             }
            },
            "type": "scatterpolargl"
           }
          ],
          "scatterternary": [
           {
            "marker": {
             "colorbar": {
              "outlinewidth": 0,
              "ticks": ""
             }
            },
            "type": "scatterternary"
           }
          ],
          "surface": [
           {
            "colorbar": {
             "outlinewidth": 0,
             "ticks": ""
            },
            "colorscale": [
             [
              0,
              "#0d0887"
             ],
             [
              0.1111111111111111,
              "#46039f"
             ],
             [
              0.2222222222222222,
              "#7201a8"
             ],
             [
              0.3333333333333333,
              "#9c179e"
             ],
             [
              0.4444444444444444,
              "#bd3786"
             ],
             [
              0.5555555555555556,
              "#d8576b"
             ],
             [
              0.6666666666666666,
              "#ed7953"
             ],
             [
              0.7777777777777778,
              "#fb9f3a"
             ],
             [
              0.8888888888888888,
              "#fdca26"
             ],
             [
              1,
              "#f0f921"
             ]
            ],
            "type": "surface"
           }
          ],
          "table": [
           {
            "cells": {
             "fill": {
              "color": "#EBF0F8"
             },
             "line": {
              "color": "white"
             }
            },
            "header": {
             "fill": {
              "color": "#C8D4E3"
             },
             "line": {
              "color": "white"
             }
            },
            "type": "table"
           }
          ]
         },
         "layout": {
          "annotationdefaults": {
           "arrowcolor": "#2a3f5f",
           "arrowhead": 0,
           "arrowwidth": 1
          },
          "autotypenumbers": "strict",
          "coloraxis": {
           "colorbar": {
            "outlinewidth": 0,
            "ticks": ""
           }
          },
          "colorscale": {
           "diverging": [
            [
             0,
             "#8e0152"
            ],
            [
             0.1,
             "#c51b7d"
            ],
            [
             0.2,
             "#de77ae"
            ],
            [
             0.3,
             "#f1b6da"
            ],
            [
             0.4,
             "#fde0ef"
            ],
            [
             0.5,
             "#f7f7f7"
            ],
            [
             0.6,
             "#e6f5d0"
            ],
            [
             0.7,
             "#b8e186"
            ],
            [
             0.8,
             "#7fbc41"
            ],
            [
             0.9,
             "#4d9221"
            ],
            [
             1,
             "#276419"
            ]
           ],
           "sequential": [
            [
             0,
             "#0d0887"
            ],
            [
             0.1111111111111111,
             "#46039f"
            ],
            [
             0.2222222222222222,
             "#7201a8"
            ],
            [
             0.3333333333333333,
             "#9c179e"
            ],
            [
             0.4444444444444444,
             "#bd3786"
            ],
            [
             0.5555555555555556,
             "#d8576b"
            ],
            [
             0.6666666666666666,
             "#ed7953"
            ],
            [
             0.7777777777777778,
             "#fb9f3a"
            ],
            [
             0.8888888888888888,
             "#fdca26"
            ],
            [
             1,
             "#f0f921"
            ]
           ],
           "sequentialminus": [
            [
             0,
             "#0d0887"
            ],
            [
             0.1111111111111111,
             "#46039f"
            ],
            [
             0.2222222222222222,
             "#7201a8"
            ],
            [
             0.3333333333333333,
             "#9c179e"
            ],
            [
             0.4444444444444444,
             "#bd3786"
            ],
            [
             0.5555555555555556,
             "#d8576b"
            ],
            [
             0.6666666666666666,
             "#ed7953"
            ],
            [
             0.7777777777777778,
             "#fb9f3a"
            ],
            [
             0.8888888888888888,
             "#fdca26"
            ],
            [
             1,
             "#f0f921"
            ]
           ]
          },
          "colorway": [
           "#636efa",
           "#EF553B",
           "#00cc96",
           "#ab63fa",
           "#FFA15A",
           "#19d3f3",
           "#FF6692",
           "#B6E880",
           "#FF97FF",
           "#FECB52"
          ],
          "font": {
           "color": "#2a3f5f"
          },
          "geo": {
           "bgcolor": "white",
           "lakecolor": "white",
           "landcolor": "#E5ECF6",
           "showlakes": true,
           "showland": true,
           "subunitcolor": "white"
          },
          "hoverlabel": {
           "align": "left"
          },
          "hovermode": "closest",
          "mapbox": {
           "style": "light"
          },
          "paper_bgcolor": "white",
          "plot_bgcolor": "#E5ECF6",
          "polar": {
           "angularaxis": {
            "gridcolor": "white",
            "linecolor": "white",
            "ticks": ""
           },
           "bgcolor": "#E5ECF6",
           "radialaxis": {
            "gridcolor": "white",
            "linecolor": "white",
            "ticks": ""
           }
          },
          "scene": {
           "xaxis": {
            "backgroundcolor": "#E5ECF6",
            "gridcolor": "white",
            "gridwidth": 2,
            "linecolor": "white",
            "showbackground": true,
            "ticks": "",
            "zerolinecolor": "white"
           },
           "yaxis": {
            "backgroundcolor": "#E5ECF6",
            "gridcolor": "white",
            "gridwidth": 2,
            "linecolor": "white",
            "showbackground": true,
            "ticks": "",
            "zerolinecolor": "white"
           },
           "zaxis": {
            "backgroundcolor": "#E5ECF6",
            "gridcolor": "white",
            "gridwidth": 2,
            "linecolor": "white",
            "showbackground": true,
            "ticks": "",
            "zerolinecolor": "white"
           }
          },
          "shapedefaults": {
           "line": {
            "color": "#2a3f5f"
           }
          },
          "ternary": {
           "aaxis": {
            "gridcolor": "white",
            "linecolor": "white",
            "ticks": ""
           },
           "baxis": {
            "gridcolor": "white",
            "linecolor": "white",
            "ticks": ""
           },
           "bgcolor": "#E5ECF6",
           "caxis": {
            "gridcolor": "white",
            "linecolor": "white",
            "ticks": ""
           }
          },
          "title": {
           "x": 0.05
          },
          "xaxis": {
           "automargin": true,
           "gridcolor": "white",
           "linecolor": "white",
           "ticks": "",
           "title": {
            "standoff": 15
           },
           "zerolinecolor": "white",
           "zerolinewidth": 2
          },
          "yaxis": {
           "automargin": true,
           "gridcolor": "white",
           "linecolor": "white",
           "ticks": "",
           "title": {
            "standoff": 15
           },
           "zerolinecolor": "white",
           "zerolinewidth": 2
          }
         }
        },
        "title": {
         "text": "2020년 사고유형별 부상자 수"
        },
        "xaxis": {
         "anchor": "y",
         "domain": [
          0,
          1
         ],
         "title": {
          "text": "사고유형"
         }
        },
        "yaxis": {
         "anchor": "x",
         "domain": [
          0,
          1
         ],
         "title": {
          "text": "value"
         }
        }
       }
      }
     },
     "metadata": {},
     "output_type": "display_data"
    },
    {
     "data": {
      "text/plain": [
       "'<iframe id=\"igraph\" scrolling=\"no\" style=\"border:none;\" seamless=\"seamless\" src=\"https://plotly.com/~nuyhc/26.embed\" height=\"525\" width=\"100%\"></iframe>'"
      ]
     },
     "execution_count": 103,
     "metadata": {},
     "output_type": "execute_result"
    }
   ],
   "source": [
    "fig = px.bar(df_accident_type, x=\"사고유형\", y=[\"사망자수\", \"중상자수\", \"경상자수\", \"부상신고자수\"], title=\"2020년 사고유형별 부상자 수\")\n",
    "fig.show()\n",
    "\n",
    "cs.tools.get_embed(cs.plotly.plot(fig, filename=\"사고 유형별 부상자 수\", auto_open=False))"
   ]
  },
  {
   "cell_type": "markdown",
   "metadata": {},
   "source": [
    "2020년도에는, 측면 충돌로 인한 사고가 가장 많이 발생"
   ]
  },
  {
   "cell_type": "markdown",
   "metadata": {},
   "source": [
    "#### 가해자 연령별 사고 건수"
   ]
  },
  {
   "cell_type": "code",
   "execution_count": 104,
   "metadata": {},
   "outputs": [
    {
     "data": {
      "application/vnd.plotly.v1+json": {
       "config": {
        "plotlyServerURL": "https://plotly.com"
       },
       "data": [
        {
         "alignmentgroup": "True",
         "hovertemplate": "가해자연령층=%{x}<br>사고건수=%{y}<extra></extra>",
         "legendgroup": "",
         "marker": {
          "color": "#636efa",
          "pattern": {
           "shape": ""
          }
         },
         "name": "",
         "offsetgroup": "",
         "orientation": "v",
         "showlegend": false,
         "textposition": "auto",
         "type": "bar",
         "x": [
          "20세이하",
          "20세이하",
          "20세이하",
          "20세이하",
          "20세이하",
          "20세이하",
          "20세이하",
          "20세이하",
          "20세이하",
          "20세이하",
          "20세이하",
          "20세이하",
          "21-30세",
          "21-30세",
          "21-30세",
          "21-30세",
          "21-30세",
          "21-30세",
          "21-30세",
          "21-30세",
          "21-30세",
          "21-30세",
          "21-30세",
          "21-30세",
          "31-40세",
          "31-40세",
          "31-40세",
          "31-40세",
          "31-40세",
          "31-40세",
          "31-40세",
          "31-40세",
          "31-40세",
          "31-40세",
          "31-40세",
          "31-40세",
          "41-50세",
          "41-50세",
          "41-50세",
          "41-50세",
          "41-50세",
          "41-50세",
          "41-50세",
          "41-50세",
          "41-50세",
          "41-50세",
          "41-50세",
          "41-50세",
          "51-60세",
          "51-60세",
          "51-60세",
          "51-60세",
          "51-60세",
          "51-60세",
          "51-60세",
          "51-60세",
          "51-60세",
          "51-60세",
          "51-60세",
          "51-60세",
          "61-64세",
          "61-64세",
          "61-64세",
          "61-64세",
          "61-64세",
          "61-64세",
          "61-64세",
          "61-64세",
          "61-64세",
          "61-64세",
          "61-64세",
          "61-64세",
          "65세이상",
          "65세이상",
          "65세이상",
          "65세이상",
          "65세이상",
          "65세이상",
          "65세이상",
          "65세이상",
          "65세이상",
          "65세이상",
          "65세이상",
          "65세이상",
          "불명",
          "불명",
          "불명",
          "불명",
          "불명",
          "불명",
          "불명",
          "불명",
          "불명",
          "불명",
          "불명",
          "불명"
         ],
         "xaxis": "x",
         "y": [
          452,
          480,
          521,
          612,
          644,
          644,
          709,
          596,
          640,
          689,
          578,
          534,
          2260,
          2315,
          2120,
          2238,
          2570,
          2700,
          2728,
          2582,
          2555,
          2760,
          2575,
          2372,
          2620,
          2580,
          2346,
          2478,
          2730,
          2858,
          2738,
          2604,
          2671,
          2783,
          2733,
          2465,
          3057,
          3080,
          2762,
          3006,
          3256,
          3391,
          3281,
          3173,
          3239,
          3426,
          3345,
          3020,
          4218,
          3961,
          3608,
          3874,
          4416,
          4555,
          4359,
          4225,
          4372,
          4492,
          4351,
          3990,
          1529,
          1407,
          1262,
          1394,
          1554,
          1704,
          1549,
          1552,
          1550,
          1657,
          1632,
          1385,
          2527,
          2167,
          2097,
          2344,
          2708,
          2870,
          2648,
          2618,
          2801,
          3124,
          2902,
          2266,
          305,
          295,
          233,
          240,
          306,
          295,
          290,
          266,
          296,
          324,
          322,
          298
         ],
         "yaxis": "y"
        }
       ],
       "layout": {
        "barmode": "relative",
        "legend": {
         "tracegroupgap": 0
        },
        "template": {
         "data": {
          "bar": [
           {
            "error_x": {
             "color": "#2a3f5f"
            },
            "error_y": {
             "color": "#2a3f5f"
            },
            "marker": {
             "line": {
              "color": "#E5ECF6",
              "width": 0.5
             },
             "pattern": {
              "fillmode": "overlay",
              "size": 10,
              "solidity": 0.2
             }
            },
            "type": "bar"
           }
          ],
          "barpolar": [
           {
            "marker": {
             "line": {
              "color": "#E5ECF6",
              "width": 0.5
             },
             "pattern": {
              "fillmode": "overlay",
              "size": 10,
              "solidity": 0.2
             }
            },
            "type": "barpolar"
           }
          ],
          "carpet": [
           {
            "aaxis": {
             "endlinecolor": "#2a3f5f",
             "gridcolor": "white",
             "linecolor": "white",
             "minorgridcolor": "white",
             "startlinecolor": "#2a3f5f"
            },
            "baxis": {
             "endlinecolor": "#2a3f5f",
             "gridcolor": "white",
             "linecolor": "white",
             "minorgridcolor": "white",
             "startlinecolor": "#2a3f5f"
            },
            "type": "carpet"
           }
          ],
          "choropleth": [
           {
            "colorbar": {
             "outlinewidth": 0,
             "ticks": ""
            },
            "type": "choropleth"
           }
          ],
          "contour": [
           {
            "colorbar": {
             "outlinewidth": 0,
             "ticks": ""
            },
            "colorscale": [
             [
              0,
              "#0d0887"
             ],
             [
              0.1111111111111111,
              "#46039f"
             ],
             [
              0.2222222222222222,
              "#7201a8"
             ],
             [
              0.3333333333333333,
              "#9c179e"
             ],
             [
              0.4444444444444444,
              "#bd3786"
             ],
             [
              0.5555555555555556,
              "#d8576b"
             ],
             [
              0.6666666666666666,
              "#ed7953"
             ],
             [
              0.7777777777777778,
              "#fb9f3a"
             ],
             [
              0.8888888888888888,
              "#fdca26"
             ],
             [
              1,
              "#f0f921"
             ]
            ],
            "type": "contour"
           }
          ],
          "contourcarpet": [
           {
            "colorbar": {
             "outlinewidth": 0,
             "ticks": ""
            },
            "type": "contourcarpet"
           }
          ],
          "heatmap": [
           {
            "colorbar": {
             "outlinewidth": 0,
             "ticks": ""
            },
            "colorscale": [
             [
              0,
              "#0d0887"
             ],
             [
              0.1111111111111111,
              "#46039f"
             ],
             [
              0.2222222222222222,
              "#7201a8"
             ],
             [
              0.3333333333333333,
              "#9c179e"
             ],
             [
              0.4444444444444444,
              "#bd3786"
             ],
             [
              0.5555555555555556,
              "#d8576b"
             ],
             [
              0.6666666666666666,
              "#ed7953"
             ],
             [
              0.7777777777777778,
              "#fb9f3a"
             ],
             [
              0.8888888888888888,
              "#fdca26"
             ],
             [
              1,
              "#f0f921"
             ]
            ],
            "type": "heatmap"
           }
          ],
          "heatmapgl": [
           {
            "colorbar": {
             "outlinewidth": 0,
             "ticks": ""
            },
            "colorscale": [
             [
              0,
              "#0d0887"
             ],
             [
              0.1111111111111111,
              "#46039f"
             ],
             [
              0.2222222222222222,
              "#7201a8"
             ],
             [
              0.3333333333333333,
              "#9c179e"
             ],
             [
              0.4444444444444444,
              "#bd3786"
             ],
             [
              0.5555555555555556,
              "#d8576b"
             ],
             [
              0.6666666666666666,
              "#ed7953"
             ],
             [
              0.7777777777777778,
              "#fb9f3a"
             ],
             [
              0.8888888888888888,
              "#fdca26"
             ],
             [
              1,
              "#f0f921"
             ]
            ],
            "type": "heatmapgl"
           }
          ],
          "histogram": [
           {
            "marker": {
             "pattern": {
              "fillmode": "overlay",
              "size": 10,
              "solidity": 0.2
             }
            },
            "type": "histogram"
           }
          ],
          "histogram2d": [
           {
            "colorbar": {
             "outlinewidth": 0,
             "ticks": ""
            },
            "colorscale": [
             [
              0,
              "#0d0887"
             ],
             [
              0.1111111111111111,
              "#46039f"
             ],
             [
              0.2222222222222222,
              "#7201a8"
             ],
             [
              0.3333333333333333,
              "#9c179e"
             ],
             [
              0.4444444444444444,
              "#bd3786"
             ],
             [
              0.5555555555555556,
              "#d8576b"
             ],
             [
              0.6666666666666666,
              "#ed7953"
             ],
             [
              0.7777777777777778,
              "#fb9f3a"
             ],
             [
              0.8888888888888888,
              "#fdca26"
             ],
             [
              1,
              "#f0f921"
             ]
            ],
            "type": "histogram2d"
           }
          ],
          "histogram2dcontour": [
           {
            "colorbar": {
             "outlinewidth": 0,
             "ticks": ""
            },
            "colorscale": [
             [
              0,
              "#0d0887"
             ],
             [
              0.1111111111111111,
              "#46039f"
             ],
             [
              0.2222222222222222,
              "#7201a8"
             ],
             [
              0.3333333333333333,
              "#9c179e"
             ],
             [
              0.4444444444444444,
              "#bd3786"
             ],
             [
              0.5555555555555556,
              "#d8576b"
             ],
             [
              0.6666666666666666,
              "#ed7953"
             ],
             [
              0.7777777777777778,
              "#fb9f3a"
             ],
             [
              0.8888888888888888,
              "#fdca26"
             ],
             [
              1,
              "#f0f921"
             ]
            ],
            "type": "histogram2dcontour"
           }
          ],
          "mesh3d": [
           {
            "colorbar": {
             "outlinewidth": 0,
             "ticks": ""
            },
            "type": "mesh3d"
           }
          ],
          "parcoords": [
           {
            "line": {
             "colorbar": {
              "outlinewidth": 0,
              "ticks": ""
             }
            },
            "type": "parcoords"
           }
          ],
          "pie": [
           {
            "automargin": true,
            "type": "pie"
           }
          ],
          "scatter": [
           {
            "fillpattern": {
             "fillmode": "overlay",
             "size": 10,
             "solidity": 0.2
            },
            "type": "scatter"
           }
          ],
          "scatter3d": [
           {
            "line": {
             "colorbar": {
              "outlinewidth": 0,
              "ticks": ""
             }
            },
            "marker": {
             "colorbar": {
              "outlinewidth": 0,
              "ticks": ""
             }
            },
            "type": "scatter3d"
           }
          ],
          "scattercarpet": [
           {
            "marker": {
             "colorbar": {
              "outlinewidth": 0,
              "ticks": ""
             }
            },
            "type": "scattercarpet"
           }
          ],
          "scattergeo": [
           {
            "marker": {
             "colorbar": {
              "outlinewidth": 0,
              "ticks": ""
             }
            },
            "type": "scattergeo"
           }
          ],
          "scattergl": [
           {
            "marker": {
             "colorbar": {
              "outlinewidth": 0,
              "ticks": ""
             }
            },
            "type": "scattergl"
           }
          ],
          "scattermapbox": [
           {
            "marker": {
             "colorbar": {
              "outlinewidth": 0,
              "ticks": ""
             }
            },
            "type": "scattermapbox"
           }
          ],
          "scatterpolar": [
           {
            "marker": {
             "colorbar": {
              "outlinewidth": 0,
              "ticks": ""
             }
            },
            "type": "scatterpolar"
           }
          ],
          "scatterpolargl": [
           {
            "marker": {
             "colorbar": {
              "outlinewidth": 0,
              "ticks": ""
             }
            },
            "type": "scatterpolargl"
           }
          ],
          "scatterternary": [
           {
            "marker": {
             "colorbar": {
              "outlinewidth": 0,
              "ticks": ""
             }
            },
            "type": "scatterternary"
           }
          ],
          "surface": [
           {
            "colorbar": {
             "outlinewidth": 0,
             "ticks": ""
            },
            "colorscale": [
             [
              0,
              "#0d0887"
             ],
             [
              0.1111111111111111,
              "#46039f"
             ],
             [
              0.2222222222222222,
              "#7201a8"
             ],
             [
              0.3333333333333333,
              "#9c179e"
             ],
             [
              0.4444444444444444,
              "#bd3786"
             ],
             [
              0.5555555555555556,
              "#d8576b"
             ],
             [
              0.6666666666666666,
              "#ed7953"
             ],
             [
              0.7777777777777778,
              "#fb9f3a"
             ],
             [
              0.8888888888888888,
              "#fdca26"
             ],
             [
              1,
              "#f0f921"
             ]
            ],
            "type": "surface"
           }
          ],
          "table": [
           {
            "cells": {
             "fill": {
              "color": "#EBF0F8"
             },
             "line": {
              "color": "white"
             }
            },
            "header": {
             "fill": {
              "color": "#C8D4E3"
             },
             "line": {
              "color": "white"
             }
            },
            "type": "table"
           }
          ]
         },
         "layout": {
          "annotationdefaults": {
           "arrowcolor": "#2a3f5f",
           "arrowhead": 0,
           "arrowwidth": 1
          },
          "autotypenumbers": "strict",
          "coloraxis": {
           "colorbar": {
            "outlinewidth": 0,
            "ticks": ""
           }
          },
          "colorscale": {
           "diverging": [
            [
             0,
             "#8e0152"
            ],
            [
             0.1,
             "#c51b7d"
            ],
            [
             0.2,
             "#de77ae"
            ],
            [
             0.3,
             "#f1b6da"
            ],
            [
             0.4,
             "#fde0ef"
            ],
            [
             0.5,
             "#f7f7f7"
            ],
            [
             0.6,
             "#e6f5d0"
            ],
            [
             0.7,
             "#b8e186"
            ],
            [
             0.8,
             "#7fbc41"
            ],
            [
             0.9,
             "#4d9221"
            ],
            [
             1,
             "#276419"
            ]
           ],
           "sequential": [
            [
             0,
             "#0d0887"
            ],
            [
             0.1111111111111111,
             "#46039f"
            ],
            [
             0.2222222222222222,
             "#7201a8"
            ],
            [
             0.3333333333333333,
             "#9c179e"
            ],
            [
             0.4444444444444444,
             "#bd3786"
            ],
            [
             0.5555555555555556,
             "#d8576b"
            ],
            [
             0.6666666666666666,
             "#ed7953"
            ],
            [
             0.7777777777777778,
             "#fb9f3a"
            ],
            [
             0.8888888888888888,
             "#fdca26"
            ],
            [
             1,
             "#f0f921"
            ]
           ],
           "sequentialminus": [
            [
             0,
             "#0d0887"
            ],
            [
             0.1111111111111111,
             "#46039f"
            ],
            [
             0.2222222222222222,
             "#7201a8"
            ],
            [
             0.3333333333333333,
             "#9c179e"
            ],
            [
             0.4444444444444444,
             "#bd3786"
            ],
            [
             0.5555555555555556,
             "#d8576b"
            ],
            [
             0.6666666666666666,
             "#ed7953"
            ],
            [
             0.7777777777777778,
             "#fb9f3a"
            ],
            [
             0.8888888888888888,
             "#fdca26"
            ],
            [
             1,
             "#f0f921"
            ]
           ]
          },
          "colorway": [
           "#636efa",
           "#EF553B",
           "#00cc96",
           "#ab63fa",
           "#FFA15A",
           "#19d3f3",
           "#FF6692",
           "#B6E880",
           "#FF97FF",
           "#FECB52"
          ],
          "font": {
           "color": "#2a3f5f"
          },
          "geo": {
           "bgcolor": "white",
           "lakecolor": "white",
           "landcolor": "#E5ECF6",
           "showlakes": true,
           "showland": true,
           "subunitcolor": "white"
          },
          "hoverlabel": {
           "align": "left"
          },
          "hovermode": "closest",
          "mapbox": {
           "style": "light"
          },
          "paper_bgcolor": "white",
          "plot_bgcolor": "#E5ECF6",
          "polar": {
           "angularaxis": {
            "gridcolor": "white",
            "linecolor": "white",
            "ticks": ""
           },
           "bgcolor": "#E5ECF6",
           "radialaxis": {
            "gridcolor": "white",
            "linecolor": "white",
            "ticks": ""
           }
          },
          "scene": {
           "xaxis": {
            "backgroundcolor": "#E5ECF6",
            "gridcolor": "white",
            "gridwidth": 2,
            "linecolor": "white",
            "showbackground": true,
            "ticks": "",
            "zerolinecolor": "white"
           },
           "yaxis": {
            "backgroundcolor": "#E5ECF6",
            "gridcolor": "white",
            "gridwidth": 2,
            "linecolor": "white",
            "showbackground": true,
            "ticks": "",
            "zerolinecolor": "white"
           },
           "zaxis": {
            "backgroundcolor": "#E5ECF6",
            "gridcolor": "white",
            "gridwidth": 2,
            "linecolor": "white",
            "showbackground": true,
            "ticks": "",
            "zerolinecolor": "white"
           }
          },
          "shapedefaults": {
           "line": {
            "color": "#2a3f5f"
           }
          },
          "ternary": {
           "aaxis": {
            "gridcolor": "white",
            "linecolor": "white",
            "ticks": ""
           },
           "baxis": {
            "gridcolor": "white",
            "linecolor": "white",
            "ticks": ""
           },
           "bgcolor": "#E5ECF6",
           "caxis": {
            "gridcolor": "white",
            "linecolor": "white",
            "ticks": ""
           }
          },
          "title": {
           "x": 0.05
          },
          "xaxis": {
           "automargin": true,
           "gridcolor": "white",
           "linecolor": "white",
           "ticks": "",
           "title": {
            "standoff": 15
           },
           "zerolinecolor": "white",
           "zerolinewidth": 2
          },
          "yaxis": {
           "automargin": true,
           "gridcolor": "white",
           "linecolor": "white",
           "ticks": "",
           "title": {
            "standoff": 15
           },
           "zerolinecolor": "white",
           "zerolinewidth": 2
          }
         }
        },
        "title": {
         "text": "2020년 가해자 연령별 사고 건수"
        },
        "xaxis": {
         "anchor": "y",
         "domain": [
          0,
          1
         ],
         "title": {
          "text": "가해자연령층"
         }
        },
        "yaxis": {
         "anchor": "x",
         "domain": [
          0,
          1
         ],
         "title": {
          "text": "사고건수"
         }
        }
       }
      }
     },
     "metadata": {},
     "output_type": "display_data"
    },
    {
     "data": {
      "text/plain": [
       "'<iframe id=\"igraph\" scrolling=\"no\" style=\"border:none;\" seamless=\"seamless\" src=\"https://plotly.com/~nuyhc/28.embed\" height=\"525\" width=\"100%\"></iframe>'"
      ]
     },
     "execution_count": 104,
     "metadata": {},
     "output_type": "execute_result"
    }
   ],
   "source": [
    "fig = px.bar(df_age_agg_driver_month, x=\"가해자연령층\", y=\"사고건수\", title=\"2020년 가해자 연령별 사고 건수\")\n",
    "fig.show()\n",
    "\n",
    "cs.tools.get_embed(cs.plotly.plot(fig, filename=\"가해자 연령별 사고 건수\", auto_open=False))"
   ]
  },
  {
   "cell_type": "markdown",
   "metadata": {},
   "source": [
    "2020년도, 가해자 중에는 51~60세가 가장 많았고, 예상보다 고령 운전자의 사고 건수가 적음"
   ]
  },
  {
   "cell_type": "markdown",
   "metadata": {},
   "source": [
    "#### 월별 사고 건수"
   ]
  },
  {
   "cell_type": "code",
   "execution_count": 105,
   "metadata": {},
   "outputs": [
    {
     "data": {
      "application/vnd.plotly.v1+json": {
       "config": {
        "plotlyServerURL": "https://plotly.com"
       },
       "data": [
        {
         "alignmentgroup": "True",
         "hovertemplate": "가해자연령층=20세이하<br>발생월=%{x}<br>사고건수=%{y}<extra></extra>",
         "legendgroup": "20세이하",
         "marker": {
          "color": "#636efa",
          "pattern": {
           "shape": ""
          }
         },
         "name": "20세이하",
         "offsetgroup": "20세이하",
         "orientation": "v",
         "showlegend": true,
         "textposition": "auto",
         "type": "bar",
         "x": [
          1,
          2,
          3,
          4,
          5,
          6,
          7,
          8,
          9,
          10,
          11,
          12
         ],
         "xaxis": "x",
         "y": [
          452,
          480,
          521,
          612,
          644,
          644,
          709,
          596,
          640,
          689,
          578,
          534
         ],
         "yaxis": "y"
        },
        {
         "alignmentgroup": "True",
         "hovertemplate": "가해자연령층=21-30세<br>발생월=%{x}<br>사고건수=%{y}<extra></extra>",
         "legendgroup": "21-30세",
         "marker": {
          "color": "#EF553B",
          "pattern": {
           "shape": ""
          }
         },
         "name": "21-30세",
         "offsetgroup": "21-30세",
         "orientation": "v",
         "showlegend": true,
         "textposition": "auto",
         "type": "bar",
         "x": [
          1,
          2,
          3,
          4,
          5,
          6,
          7,
          8,
          9,
          10,
          11,
          12
         ],
         "xaxis": "x",
         "y": [
          2260,
          2315,
          2120,
          2238,
          2570,
          2700,
          2728,
          2582,
          2555,
          2760,
          2575,
          2372
         ],
         "yaxis": "y"
        },
        {
         "alignmentgroup": "True",
         "hovertemplate": "가해자연령층=31-40세<br>발생월=%{x}<br>사고건수=%{y}<extra></extra>",
         "legendgroup": "31-40세",
         "marker": {
          "color": "#00cc96",
          "pattern": {
           "shape": ""
          }
         },
         "name": "31-40세",
         "offsetgroup": "31-40세",
         "orientation": "v",
         "showlegend": true,
         "textposition": "auto",
         "type": "bar",
         "x": [
          1,
          2,
          3,
          4,
          5,
          6,
          7,
          8,
          9,
          10,
          11,
          12
         ],
         "xaxis": "x",
         "y": [
          2620,
          2580,
          2346,
          2478,
          2730,
          2858,
          2738,
          2604,
          2671,
          2783,
          2733,
          2465
         ],
         "yaxis": "y"
        },
        {
         "alignmentgroup": "True",
         "hovertemplate": "가해자연령층=41-50세<br>발생월=%{x}<br>사고건수=%{y}<extra></extra>",
         "legendgroup": "41-50세",
         "marker": {
          "color": "#ab63fa",
          "pattern": {
           "shape": ""
          }
         },
         "name": "41-50세",
         "offsetgroup": "41-50세",
         "orientation": "v",
         "showlegend": true,
         "textposition": "auto",
         "type": "bar",
         "x": [
          1,
          2,
          3,
          4,
          5,
          6,
          7,
          8,
          9,
          10,
          11,
          12
         ],
         "xaxis": "x",
         "y": [
          3057,
          3080,
          2762,
          3006,
          3256,
          3391,
          3281,
          3173,
          3239,
          3426,
          3345,
          3020
         ],
         "yaxis": "y"
        },
        {
         "alignmentgroup": "True",
         "hovertemplate": "가해자연령층=51-60세<br>발생월=%{x}<br>사고건수=%{y}<extra></extra>",
         "legendgroup": "51-60세",
         "marker": {
          "color": "#FFA15A",
          "pattern": {
           "shape": ""
          }
         },
         "name": "51-60세",
         "offsetgroup": "51-60세",
         "orientation": "v",
         "showlegend": true,
         "textposition": "auto",
         "type": "bar",
         "x": [
          1,
          2,
          3,
          4,
          5,
          6,
          7,
          8,
          9,
          10,
          11,
          12
         ],
         "xaxis": "x",
         "y": [
          4218,
          3961,
          3608,
          3874,
          4416,
          4555,
          4359,
          4225,
          4372,
          4492,
          4351,
          3990
         ],
         "yaxis": "y"
        },
        {
         "alignmentgroup": "True",
         "hovertemplate": "가해자연령층=61-64세<br>발생월=%{x}<br>사고건수=%{y}<extra></extra>",
         "legendgroup": "61-64세",
         "marker": {
          "color": "#19d3f3",
          "pattern": {
           "shape": ""
          }
         },
         "name": "61-64세",
         "offsetgroup": "61-64세",
         "orientation": "v",
         "showlegend": true,
         "textposition": "auto",
         "type": "bar",
         "x": [
          1,
          2,
          3,
          4,
          5,
          6,
          7,
          8,
          9,
          10,
          11,
          12
         ],
         "xaxis": "x",
         "y": [
          1529,
          1407,
          1262,
          1394,
          1554,
          1704,
          1549,
          1552,
          1550,
          1657,
          1632,
          1385
         ],
         "yaxis": "y"
        },
        {
         "alignmentgroup": "True",
         "hovertemplate": "가해자연령층=65세이상<br>발생월=%{x}<br>사고건수=%{y}<extra></extra>",
         "legendgroup": "65세이상",
         "marker": {
          "color": "#FF6692",
          "pattern": {
           "shape": ""
          }
         },
         "name": "65세이상",
         "offsetgroup": "65세이상",
         "orientation": "v",
         "showlegend": true,
         "textposition": "auto",
         "type": "bar",
         "x": [
          1,
          2,
          3,
          4,
          5,
          6,
          7,
          8,
          9,
          10,
          11,
          12
         ],
         "xaxis": "x",
         "y": [
          2527,
          2167,
          2097,
          2344,
          2708,
          2870,
          2648,
          2618,
          2801,
          3124,
          2902,
          2266
         ],
         "yaxis": "y"
        },
        {
         "alignmentgroup": "True",
         "hovertemplate": "가해자연령층=불명<br>발생월=%{x}<br>사고건수=%{y}<extra></extra>",
         "legendgroup": "불명",
         "marker": {
          "color": "#B6E880",
          "pattern": {
           "shape": ""
          }
         },
         "name": "불명",
         "offsetgroup": "불명",
         "orientation": "v",
         "showlegend": true,
         "textposition": "auto",
         "type": "bar",
         "x": [
          1,
          2,
          3,
          4,
          5,
          6,
          7,
          8,
          9,
          10,
          11,
          12
         ],
         "xaxis": "x",
         "y": [
          305,
          295,
          233,
          240,
          306,
          295,
          290,
          266,
          296,
          324,
          322,
          298
         ],
         "yaxis": "y"
        }
       ],
       "layout": {
        "barmode": "relative",
        "legend": {
         "title": {
          "text": "가해자연령층"
         },
         "tracegroupgap": 0
        },
        "template": {
         "data": {
          "bar": [
           {
            "error_x": {
             "color": "#2a3f5f"
            },
            "error_y": {
             "color": "#2a3f5f"
            },
            "marker": {
             "line": {
              "color": "#E5ECF6",
              "width": 0.5
             },
             "pattern": {
              "fillmode": "overlay",
              "size": 10,
              "solidity": 0.2
             }
            },
            "type": "bar"
           }
          ],
          "barpolar": [
           {
            "marker": {
             "line": {
              "color": "#E5ECF6",
              "width": 0.5
             },
             "pattern": {
              "fillmode": "overlay",
              "size": 10,
              "solidity": 0.2
             }
            },
            "type": "barpolar"
           }
          ],
          "carpet": [
           {
            "aaxis": {
             "endlinecolor": "#2a3f5f",
             "gridcolor": "white",
             "linecolor": "white",
             "minorgridcolor": "white",
             "startlinecolor": "#2a3f5f"
            },
            "baxis": {
             "endlinecolor": "#2a3f5f",
             "gridcolor": "white",
             "linecolor": "white",
             "minorgridcolor": "white",
             "startlinecolor": "#2a3f5f"
            },
            "type": "carpet"
           }
          ],
          "choropleth": [
           {
            "colorbar": {
             "outlinewidth": 0,
             "ticks": ""
            },
            "type": "choropleth"
           }
          ],
          "contour": [
           {
            "colorbar": {
             "outlinewidth": 0,
             "ticks": ""
            },
            "colorscale": [
             [
              0,
              "#0d0887"
             ],
             [
              0.1111111111111111,
              "#46039f"
             ],
             [
              0.2222222222222222,
              "#7201a8"
             ],
             [
              0.3333333333333333,
              "#9c179e"
             ],
             [
              0.4444444444444444,
              "#bd3786"
             ],
             [
              0.5555555555555556,
              "#d8576b"
             ],
             [
              0.6666666666666666,
              "#ed7953"
             ],
             [
              0.7777777777777778,
              "#fb9f3a"
             ],
             [
              0.8888888888888888,
              "#fdca26"
             ],
             [
              1,
              "#f0f921"
             ]
            ],
            "type": "contour"
           }
          ],
          "contourcarpet": [
           {
            "colorbar": {
             "outlinewidth": 0,
             "ticks": ""
            },
            "type": "contourcarpet"
           }
          ],
          "heatmap": [
           {
            "colorbar": {
             "outlinewidth": 0,
             "ticks": ""
            },
            "colorscale": [
             [
              0,
              "#0d0887"
             ],
             [
              0.1111111111111111,
              "#46039f"
             ],
             [
              0.2222222222222222,
              "#7201a8"
             ],
             [
              0.3333333333333333,
              "#9c179e"
             ],
             [
              0.4444444444444444,
              "#bd3786"
             ],
             [
              0.5555555555555556,
              "#d8576b"
             ],
             [
              0.6666666666666666,
              "#ed7953"
             ],
             [
              0.7777777777777778,
              "#fb9f3a"
             ],
             [
              0.8888888888888888,
              "#fdca26"
             ],
             [
              1,
              "#f0f921"
             ]
            ],
            "type": "heatmap"
           }
          ],
          "heatmapgl": [
           {
            "colorbar": {
             "outlinewidth": 0,
             "ticks": ""
            },
            "colorscale": [
             [
              0,
              "#0d0887"
             ],
             [
              0.1111111111111111,
              "#46039f"
             ],
             [
              0.2222222222222222,
              "#7201a8"
             ],
             [
              0.3333333333333333,
              "#9c179e"
             ],
             [
              0.4444444444444444,
              "#bd3786"
             ],
             [
              0.5555555555555556,
              "#d8576b"
             ],
             [
              0.6666666666666666,
              "#ed7953"
             ],
             [
              0.7777777777777778,
              "#fb9f3a"
             ],
             [
              0.8888888888888888,
              "#fdca26"
             ],
             [
              1,
              "#f0f921"
             ]
            ],
            "type": "heatmapgl"
           }
          ],
          "histogram": [
           {
            "marker": {
             "pattern": {
              "fillmode": "overlay",
              "size": 10,
              "solidity": 0.2
             }
            },
            "type": "histogram"
           }
          ],
          "histogram2d": [
           {
            "colorbar": {
             "outlinewidth": 0,
             "ticks": ""
            },
            "colorscale": [
             [
              0,
              "#0d0887"
             ],
             [
              0.1111111111111111,
              "#46039f"
             ],
             [
              0.2222222222222222,
              "#7201a8"
             ],
             [
              0.3333333333333333,
              "#9c179e"
             ],
             [
              0.4444444444444444,
              "#bd3786"
             ],
             [
              0.5555555555555556,
              "#d8576b"
             ],
             [
              0.6666666666666666,
              "#ed7953"
             ],
             [
              0.7777777777777778,
              "#fb9f3a"
             ],
             [
              0.8888888888888888,
              "#fdca26"
             ],
             [
              1,
              "#f0f921"
             ]
            ],
            "type": "histogram2d"
           }
          ],
          "histogram2dcontour": [
           {
            "colorbar": {
             "outlinewidth": 0,
             "ticks": ""
            },
            "colorscale": [
             [
              0,
              "#0d0887"
             ],
             [
              0.1111111111111111,
              "#46039f"
             ],
             [
              0.2222222222222222,
              "#7201a8"
             ],
             [
              0.3333333333333333,
              "#9c179e"
             ],
             [
              0.4444444444444444,
              "#bd3786"
             ],
             [
              0.5555555555555556,
              "#d8576b"
             ],
             [
              0.6666666666666666,
              "#ed7953"
             ],
             [
              0.7777777777777778,
              "#fb9f3a"
             ],
             [
              0.8888888888888888,
              "#fdca26"
             ],
             [
              1,
              "#f0f921"
             ]
            ],
            "type": "histogram2dcontour"
           }
          ],
          "mesh3d": [
           {
            "colorbar": {
             "outlinewidth": 0,
             "ticks": ""
            },
            "type": "mesh3d"
           }
          ],
          "parcoords": [
           {
            "line": {
             "colorbar": {
              "outlinewidth": 0,
              "ticks": ""
             }
            },
            "type": "parcoords"
           }
          ],
          "pie": [
           {
            "automargin": true,
            "type": "pie"
           }
          ],
          "scatter": [
           {
            "fillpattern": {
             "fillmode": "overlay",
             "size": 10,
             "solidity": 0.2
            },
            "type": "scatter"
           }
          ],
          "scatter3d": [
           {
            "line": {
             "colorbar": {
              "outlinewidth": 0,
              "ticks": ""
             }
            },
            "marker": {
             "colorbar": {
              "outlinewidth": 0,
              "ticks": ""
             }
            },
            "type": "scatter3d"
           }
          ],
          "scattercarpet": [
           {
            "marker": {
             "colorbar": {
              "outlinewidth": 0,
              "ticks": ""
             }
            },
            "type": "scattercarpet"
           }
          ],
          "scattergeo": [
           {
            "marker": {
             "colorbar": {
              "outlinewidth": 0,
              "ticks": ""
             }
            },
            "type": "scattergeo"
           }
          ],
          "scattergl": [
           {
            "marker": {
             "colorbar": {
              "outlinewidth": 0,
              "ticks": ""
             }
            },
            "type": "scattergl"
           }
          ],
          "scattermapbox": [
           {
            "marker": {
             "colorbar": {
              "outlinewidth": 0,
              "ticks": ""
             }
            },
            "type": "scattermapbox"
           }
          ],
          "scatterpolar": [
           {
            "marker": {
             "colorbar": {
              "outlinewidth": 0,
              "ticks": ""
             }
            },
            "type": "scatterpolar"
           }
          ],
          "scatterpolargl": [
           {
            "marker": {
             "colorbar": {
              "outlinewidth": 0,
              "ticks": ""
             }
            },
            "type": "scatterpolargl"
           }
          ],
          "scatterternary": [
           {
            "marker": {
             "colorbar": {
              "outlinewidth": 0,
              "ticks": ""
             }
            },
            "type": "scatterternary"
           }
          ],
          "surface": [
           {
            "colorbar": {
             "outlinewidth": 0,
             "ticks": ""
            },
            "colorscale": [
             [
              0,
              "#0d0887"
             ],
             [
              0.1111111111111111,
              "#46039f"
             ],
             [
              0.2222222222222222,
              "#7201a8"
             ],
             [
              0.3333333333333333,
              "#9c179e"
             ],
             [
              0.4444444444444444,
              "#bd3786"
             ],
             [
              0.5555555555555556,
              "#d8576b"
             ],
             [
              0.6666666666666666,
              "#ed7953"
             ],
             [
              0.7777777777777778,
              "#fb9f3a"
             ],
             [
              0.8888888888888888,
              "#fdca26"
             ],
             [
              1,
              "#f0f921"
             ]
            ],
            "type": "surface"
           }
          ],
          "table": [
           {
            "cells": {
             "fill": {
              "color": "#EBF0F8"
             },
             "line": {
              "color": "white"
             }
            },
            "header": {
             "fill": {
              "color": "#C8D4E3"
             },
             "line": {
              "color": "white"
             }
            },
            "type": "table"
           }
          ]
         },
         "layout": {
          "annotationdefaults": {
           "arrowcolor": "#2a3f5f",
           "arrowhead": 0,
           "arrowwidth": 1
          },
          "autotypenumbers": "strict",
          "coloraxis": {
           "colorbar": {
            "outlinewidth": 0,
            "ticks": ""
           }
          },
          "colorscale": {
           "diverging": [
            [
             0,
             "#8e0152"
            ],
            [
             0.1,
             "#c51b7d"
            ],
            [
             0.2,
             "#de77ae"
            ],
            [
             0.3,
             "#f1b6da"
            ],
            [
             0.4,
             "#fde0ef"
            ],
            [
             0.5,
             "#f7f7f7"
            ],
            [
             0.6,
             "#e6f5d0"
            ],
            [
             0.7,
             "#b8e186"
            ],
            [
             0.8,
             "#7fbc41"
            ],
            [
             0.9,
             "#4d9221"
            ],
            [
             1,
             "#276419"
            ]
           ],
           "sequential": [
            [
             0,
             "#0d0887"
            ],
            [
             0.1111111111111111,
             "#46039f"
            ],
            [
             0.2222222222222222,
             "#7201a8"
            ],
            [
             0.3333333333333333,
             "#9c179e"
            ],
            [
             0.4444444444444444,
             "#bd3786"
            ],
            [
             0.5555555555555556,
             "#d8576b"
            ],
            [
             0.6666666666666666,
             "#ed7953"
            ],
            [
             0.7777777777777778,
             "#fb9f3a"
            ],
            [
             0.8888888888888888,
             "#fdca26"
            ],
            [
             1,
             "#f0f921"
            ]
           ],
           "sequentialminus": [
            [
             0,
             "#0d0887"
            ],
            [
             0.1111111111111111,
             "#46039f"
            ],
            [
             0.2222222222222222,
             "#7201a8"
            ],
            [
             0.3333333333333333,
             "#9c179e"
            ],
            [
             0.4444444444444444,
             "#bd3786"
            ],
            [
             0.5555555555555556,
             "#d8576b"
            ],
            [
             0.6666666666666666,
             "#ed7953"
            ],
            [
             0.7777777777777778,
             "#fb9f3a"
            ],
            [
             0.8888888888888888,
             "#fdca26"
            ],
            [
             1,
             "#f0f921"
            ]
           ]
          },
          "colorway": [
           "#636efa",
           "#EF553B",
           "#00cc96",
           "#ab63fa",
           "#FFA15A",
           "#19d3f3",
           "#FF6692",
           "#B6E880",
           "#FF97FF",
           "#FECB52"
          ],
          "font": {
           "color": "#2a3f5f"
          },
          "geo": {
           "bgcolor": "white",
           "lakecolor": "white",
           "landcolor": "#E5ECF6",
           "showlakes": true,
           "showland": true,
           "subunitcolor": "white"
          },
          "hoverlabel": {
           "align": "left"
          },
          "hovermode": "closest",
          "mapbox": {
           "style": "light"
          },
          "paper_bgcolor": "white",
          "plot_bgcolor": "#E5ECF6",
          "polar": {
           "angularaxis": {
            "gridcolor": "white",
            "linecolor": "white",
            "ticks": ""
           },
           "bgcolor": "#E5ECF6",
           "radialaxis": {
            "gridcolor": "white",
            "linecolor": "white",
            "ticks": ""
           }
          },
          "scene": {
           "xaxis": {
            "backgroundcolor": "#E5ECF6",
            "gridcolor": "white",
            "gridwidth": 2,
            "linecolor": "white",
            "showbackground": true,
            "ticks": "",
            "zerolinecolor": "white"
           },
           "yaxis": {
            "backgroundcolor": "#E5ECF6",
            "gridcolor": "white",
            "gridwidth": 2,
            "linecolor": "white",
            "showbackground": true,
            "ticks": "",
            "zerolinecolor": "white"
           },
           "zaxis": {
            "backgroundcolor": "#E5ECF6",
            "gridcolor": "white",
            "gridwidth": 2,
            "linecolor": "white",
            "showbackground": true,
            "ticks": "",
            "zerolinecolor": "white"
           }
          },
          "shapedefaults": {
           "line": {
            "color": "#2a3f5f"
           }
          },
          "ternary": {
           "aaxis": {
            "gridcolor": "white",
            "linecolor": "white",
            "ticks": ""
           },
           "baxis": {
            "gridcolor": "white",
            "linecolor": "white",
            "ticks": ""
           },
           "bgcolor": "#E5ECF6",
           "caxis": {
            "gridcolor": "white",
            "linecolor": "white",
            "ticks": ""
           }
          },
          "title": {
           "x": 0.05
          },
          "xaxis": {
           "automargin": true,
           "gridcolor": "white",
           "linecolor": "white",
           "ticks": "",
           "title": {
            "standoff": 15
           },
           "zerolinecolor": "white",
           "zerolinewidth": 2
          },
          "yaxis": {
           "automargin": true,
           "gridcolor": "white",
           "linecolor": "white",
           "ticks": "",
           "title": {
            "standoff": 15
           },
           "zerolinecolor": "white",
           "zerolinewidth": 2
          }
         }
        },
        "title": {
         "text": "월별 사고 건수"
        },
        "xaxis": {
         "anchor": "y",
         "domain": [
          0,
          1
         ],
         "title": {
          "text": "발생월"
         }
        },
        "yaxis": {
         "anchor": "x",
         "domain": [
          0,
          1
         ],
         "title": {
          "text": "사고건수"
         }
        }
       }
      }
     },
     "metadata": {},
     "output_type": "display_data"
    },
    {
     "data": {
      "text/plain": [
       "'<iframe id=\"igraph\" scrolling=\"no\" style=\"border:none;\" seamless=\"seamless\" src=\"https://plotly.com/~nuyhc/30.embed\" height=\"525\" width=\"100%\"></iframe>'"
      ]
     },
     "execution_count": 105,
     "metadata": {},
     "output_type": "execute_result"
    }
   ],
   "source": [
    "fig = px.bar(df_age_agg_driver_month, x=\"발생월\", y=\"사고건수\", color=\"가해자연령층\", title=\"월별 사고 건수\")\n",
    "fig.show()\n",
    "\n",
    "cs.tools.get_embed(cs.plotly.plot(fig, filename=\"월별 사고 건수\", auto_open=False))"
   ]
  },
  {
   "cell_type": "code",
   "execution_count": 106,
   "metadata": {},
   "outputs": [
    {
     "data": {
      "application/vnd.plotly.v1+json": {
       "config": {
        "plotlyServerURL": "https://plotly.com"
       },
       "data": [
        {
         "alignmentgroup": "True",
         "hovertemplate": "발생월=%{x}<br>사고건수=%{y}<extra></extra>",
         "legendgroup": "",
         "marker": {
          "color": "#636efa",
          "pattern": {
           "shape": ""
          }
         },
         "name": "",
         "offsetgroup": "",
         "orientation": "v",
         "showlegend": false,
         "textposition": "auto",
         "type": "bar",
         "x": [
          1,
          2,
          3,
          4,
          5,
          6,
          7,
          8,
          9,
          10,
          11,
          12
         ],
         "xaxis": "x",
         "y": [
          16968,
          16285,
          14949,
          16186,
          18184,
          19017,
          18302,
          17616,
          18124,
          19255,
          18438,
          16330
         ],
         "yaxis": "y"
        }
       ],
       "layout": {
        "barmode": "relative",
        "legend": {
         "tracegroupgap": 0
        },
        "template": {
         "data": {
          "bar": [
           {
            "error_x": {
             "color": "#2a3f5f"
            },
            "error_y": {
             "color": "#2a3f5f"
            },
            "marker": {
             "line": {
              "color": "#E5ECF6",
              "width": 0.5
             },
             "pattern": {
              "fillmode": "overlay",
              "size": 10,
              "solidity": 0.2
             }
            },
            "type": "bar"
           }
          ],
          "barpolar": [
           {
            "marker": {
             "line": {
              "color": "#E5ECF6",
              "width": 0.5
             },
             "pattern": {
              "fillmode": "overlay",
              "size": 10,
              "solidity": 0.2
             }
            },
            "type": "barpolar"
           }
          ],
          "carpet": [
           {
            "aaxis": {
             "endlinecolor": "#2a3f5f",
             "gridcolor": "white",
             "linecolor": "white",
             "minorgridcolor": "white",
             "startlinecolor": "#2a3f5f"
            },
            "baxis": {
             "endlinecolor": "#2a3f5f",
             "gridcolor": "white",
             "linecolor": "white",
             "minorgridcolor": "white",
             "startlinecolor": "#2a3f5f"
            },
            "type": "carpet"
           }
          ],
          "choropleth": [
           {
            "colorbar": {
             "outlinewidth": 0,
             "ticks": ""
            },
            "type": "choropleth"
           }
          ],
          "contour": [
           {
            "colorbar": {
             "outlinewidth": 0,
             "ticks": ""
            },
            "colorscale": [
             [
              0,
              "#0d0887"
             ],
             [
              0.1111111111111111,
              "#46039f"
             ],
             [
              0.2222222222222222,
              "#7201a8"
             ],
             [
              0.3333333333333333,
              "#9c179e"
             ],
             [
              0.4444444444444444,
              "#bd3786"
             ],
             [
              0.5555555555555556,
              "#d8576b"
             ],
             [
              0.6666666666666666,
              "#ed7953"
             ],
             [
              0.7777777777777778,
              "#fb9f3a"
             ],
             [
              0.8888888888888888,
              "#fdca26"
             ],
             [
              1,
              "#f0f921"
             ]
            ],
            "type": "contour"
           }
          ],
          "contourcarpet": [
           {
            "colorbar": {
             "outlinewidth": 0,
             "ticks": ""
            },
            "type": "contourcarpet"
           }
          ],
          "heatmap": [
           {
            "colorbar": {
             "outlinewidth": 0,
             "ticks": ""
            },
            "colorscale": [
             [
              0,
              "#0d0887"
             ],
             [
              0.1111111111111111,
              "#46039f"
             ],
             [
              0.2222222222222222,
              "#7201a8"
             ],
             [
              0.3333333333333333,
              "#9c179e"
             ],
             [
              0.4444444444444444,
              "#bd3786"
             ],
             [
              0.5555555555555556,
              "#d8576b"
             ],
             [
              0.6666666666666666,
              "#ed7953"
             ],
             [
              0.7777777777777778,
              "#fb9f3a"
             ],
             [
              0.8888888888888888,
              "#fdca26"
             ],
             [
              1,
              "#f0f921"
             ]
            ],
            "type": "heatmap"
           }
          ],
          "heatmapgl": [
           {
            "colorbar": {
             "outlinewidth": 0,
             "ticks": ""
            },
            "colorscale": [
             [
              0,
              "#0d0887"
             ],
             [
              0.1111111111111111,
              "#46039f"
             ],
             [
              0.2222222222222222,
              "#7201a8"
             ],
             [
              0.3333333333333333,
              "#9c179e"
             ],
             [
              0.4444444444444444,
              "#bd3786"
             ],
             [
              0.5555555555555556,
              "#d8576b"
             ],
             [
              0.6666666666666666,
              "#ed7953"
             ],
             [
              0.7777777777777778,
              "#fb9f3a"
             ],
             [
              0.8888888888888888,
              "#fdca26"
             ],
             [
              1,
              "#f0f921"
             ]
            ],
            "type": "heatmapgl"
           }
          ],
          "histogram": [
           {
            "marker": {
             "pattern": {
              "fillmode": "overlay",
              "size": 10,
              "solidity": 0.2
             }
            },
            "type": "histogram"
           }
          ],
          "histogram2d": [
           {
            "colorbar": {
             "outlinewidth": 0,
             "ticks": ""
            },
            "colorscale": [
             [
              0,
              "#0d0887"
             ],
             [
              0.1111111111111111,
              "#46039f"
             ],
             [
              0.2222222222222222,
              "#7201a8"
             ],
             [
              0.3333333333333333,
              "#9c179e"
             ],
             [
              0.4444444444444444,
              "#bd3786"
             ],
             [
              0.5555555555555556,
              "#d8576b"
             ],
             [
              0.6666666666666666,
              "#ed7953"
             ],
             [
              0.7777777777777778,
              "#fb9f3a"
             ],
             [
              0.8888888888888888,
              "#fdca26"
             ],
             [
              1,
              "#f0f921"
             ]
            ],
            "type": "histogram2d"
           }
          ],
          "histogram2dcontour": [
           {
            "colorbar": {
             "outlinewidth": 0,
             "ticks": ""
            },
            "colorscale": [
             [
              0,
              "#0d0887"
             ],
             [
              0.1111111111111111,
              "#46039f"
             ],
             [
              0.2222222222222222,
              "#7201a8"
             ],
             [
              0.3333333333333333,
              "#9c179e"
             ],
             [
              0.4444444444444444,
              "#bd3786"
             ],
             [
              0.5555555555555556,
              "#d8576b"
             ],
             [
              0.6666666666666666,
              "#ed7953"
             ],
             [
              0.7777777777777778,
              "#fb9f3a"
             ],
             [
              0.8888888888888888,
              "#fdca26"
             ],
             [
              1,
              "#f0f921"
             ]
            ],
            "type": "histogram2dcontour"
           }
          ],
          "mesh3d": [
           {
            "colorbar": {
             "outlinewidth": 0,
             "ticks": ""
            },
            "type": "mesh3d"
           }
          ],
          "parcoords": [
           {
            "line": {
             "colorbar": {
              "outlinewidth": 0,
              "ticks": ""
             }
            },
            "type": "parcoords"
           }
          ],
          "pie": [
           {
            "automargin": true,
            "type": "pie"
           }
          ],
          "scatter": [
           {
            "fillpattern": {
             "fillmode": "overlay",
             "size": 10,
             "solidity": 0.2
            },
            "type": "scatter"
           }
          ],
          "scatter3d": [
           {
            "line": {
             "colorbar": {
              "outlinewidth": 0,
              "ticks": ""
             }
            },
            "marker": {
             "colorbar": {
              "outlinewidth": 0,
              "ticks": ""
             }
            },
            "type": "scatter3d"
           }
          ],
          "scattercarpet": [
           {
            "marker": {
             "colorbar": {
              "outlinewidth": 0,
              "ticks": ""
             }
            },
            "type": "scattercarpet"
           }
          ],
          "scattergeo": [
           {
            "marker": {
             "colorbar": {
              "outlinewidth": 0,
              "ticks": ""
             }
            },
            "type": "scattergeo"
           }
          ],
          "scattergl": [
           {
            "marker": {
             "colorbar": {
              "outlinewidth": 0,
              "ticks": ""
             }
            },
            "type": "scattergl"
           }
          ],
          "scattermapbox": [
           {
            "marker": {
             "colorbar": {
              "outlinewidth": 0,
              "ticks": ""
             }
            },
            "type": "scattermapbox"
           }
          ],
          "scatterpolar": [
           {
            "marker": {
             "colorbar": {
              "outlinewidth": 0,
              "ticks": ""
             }
            },
            "type": "scatterpolar"
           }
          ],
          "scatterpolargl": [
           {
            "marker": {
             "colorbar": {
              "outlinewidth": 0,
              "ticks": ""
             }
            },
            "type": "scatterpolargl"
           }
          ],
          "scatterternary": [
           {
            "marker": {
             "colorbar": {
              "outlinewidth": 0,
              "ticks": ""
             }
            },
            "type": "scatterternary"
           }
          ],
          "surface": [
           {
            "colorbar": {
             "outlinewidth": 0,
             "ticks": ""
            },
            "colorscale": [
             [
              0,
              "#0d0887"
             ],
             [
              0.1111111111111111,
              "#46039f"
             ],
             [
              0.2222222222222222,
              "#7201a8"
             ],
             [
              0.3333333333333333,
              "#9c179e"
             ],
             [
              0.4444444444444444,
              "#bd3786"
             ],
             [
              0.5555555555555556,
              "#d8576b"
             ],
             [
              0.6666666666666666,
              "#ed7953"
             ],
             [
              0.7777777777777778,
              "#fb9f3a"
             ],
             [
              0.8888888888888888,
              "#fdca26"
             ],
             [
              1,
              "#f0f921"
             ]
            ],
            "type": "surface"
           }
          ],
          "table": [
           {
            "cells": {
             "fill": {
              "color": "#EBF0F8"
             },
             "line": {
              "color": "white"
             }
            },
            "header": {
             "fill": {
              "color": "#C8D4E3"
             },
             "line": {
              "color": "white"
             }
            },
            "type": "table"
           }
          ]
         },
         "layout": {
          "annotationdefaults": {
           "arrowcolor": "#2a3f5f",
           "arrowhead": 0,
           "arrowwidth": 1
          },
          "autotypenumbers": "strict",
          "coloraxis": {
           "colorbar": {
            "outlinewidth": 0,
            "ticks": ""
           }
          },
          "colorscale": {
           "diverging": [
            [
             0,
             "#8e0152"
            ],
            [
             0.1,
             "#c51b7d"
            ],
            [
             0.2,
             "#de77ae"
            ],
            [
             0.3,
             "#f1b6da"
            ],
            [
             0.4,
             "#fde0ef"
            ],
            [
             0.5,
             "#f7f7f7"
            ],
            [
             0.6,
             "#e6f5d0"
            ],
            [
             0.7,
             "#b8e186"
            ],
            [
             0.8,
             "#7fbc41"
            ],
            [
             0.9,
             "#4d9221"
            ],
            [
             1,
             "#276419"
            ]
           ],
           "sequential": [
            [
             0,
             "#0d0887"
            ],
            [
             0.1111111111111111,
             "#46039f"
            ],
            [
             0.2222222222222222,
             "#7201a8"
            ],
            [
             0.3333333333333333,
             "#9c179e"
            ],
            [
             0.4444444444444444,
             "#bd3786"
            ],
            [
             0.5555555555555556,
             "#d8576b"
            ],
            [
             0.6666666666666666,
             "#ed7953"
            ],
            [
             0.7777777777777778,
             "#fb9f3a"
            ],
            [
             0.8888888888888888,
             "#fdca26"
            ],
            [
             1,
             "#f0f921"
            ]
           ],
           "sequentialminus": [
            [
             0,
             "#0d0887"
            ],
            [
             0.1111111111111111,
             "#46039f"
            ],
            [
             0.2222222222222222,
             "#7201a8"
            ],
            [
             0.3333333333333333,
             "#9c179e"
            ],
            [
             0.4444444444444444,
             "#bd3786"
            ],
            [
             0.5555555555555556,
             "#d8576b"
            ],
            [
             0.6666666666666666,
             "#ed7953"
            ],
            [
             0.7777777777777778,
             "#fb9f3a"
            ],
            [
             0.8888888888888888,
             "#fdca26"
            ],
            [
             1,
             "#f0f921"
            ]
           ]
          },
          "colorway": [
           "#636efa",
           "#EF553B",
           "#00cc96",
           "#ab63fa",
           "#FFA15A",
           "#19d3f3",
           "#FF6692",
           "#B6E880",
           "#FF97FF",
           "#FECB52"
          ],
          "font": {
           "color": "#2a3f5f"
          },
          "geo": {
           "bgcolor": "white",
           "lakecolor": "white",
           "landcolor": "#E5ECF6",
           "showlakes": true,
           "showland": true,
           "subunitcolor": "white"
          },
          "hoverlabel": {
           "align": "left"
          },
          "hovermode": "closest",
          "mapbox": {
           "style": "light"
          },
          "paper_bgcolor": "white",
          "plot_bgcolor": "#E5ECF6",
          "polar": {
           "angularaxis": {
            "gridcolor": "white",
            "linecolor": "white",
            "ticks": ""
           },
           "bgcolor": "#E5ECF6",
           "radialaxis": {
            "gridcolor": "white",
            "linecolor": "white",
            "ticks": ""
           }
          },
          "scene": {
           "xaxis": {
            "backgroundcolor": "#E5ECF6",
            "gridcolor": "white",
            "gridwidth": 2,
            "linecolor": "white",
            "showbackground": true,
            "ticks": "",
            "zerolinecolor": "white"
           },
           "yaxis": {
            "backgroundcolor": "#E5ECF6",
            "gridcolor": "white",
            "gridwidth": 2,
            "linecolor": "white",
            "showbackground": true,
            "ticks": "",
            "zerolinecolor": "white"
           },
           "zaxis": {
            "backgroundcolor": "#E5ECF6",
            "gridcolor": "white",
            "gridwidth": 2,
            "linecolor": "white",
            "showbackground": true,
            "ticks": "",
            "zerolinecolor": "white"
           }
          },
          "shapedefaults": {
           "line": {
            "color": "#2a3f5f"
           }
          },
          "ternary": {
           "aaxis": {
            "gridcolor": "white",
            "linecolor": "white",
            "ticks": ""
           },
           "baxis": {
            "gridcolor": "white",
            "linecolor": "white",
            "ticks": ""
           },
           "bgcolor": "#E5ECF6",
           "caxis": {
            "gridcolor": "white",
            "linecolor": "white",
            "ticks": ""
           }
          },
          "title": {
           "x": 0.05
          },
          "xaxis": {
           "automargin": true,
           "gridcolor": "white",
           "linecolor": "white",
           "ticks": "",
           "title": {
            "standoff": 15
           },
           "zerolinecolor": "white",
           "zerolinewidth": 2
          },
          "yaxis": {
           "automargin": true,
           "gridcolor": "white",
           "linecolor": "white",
           "ticks": "",
           "title": {
            "standoff": 15
           },
           "zerolinecolor": "white",
           "zerolinewidth": 2
          }
         }
        },
        "title": {
         "text": "월별 사고 건수"
        },
        "xaxis": {
         "anchor": "y",
         "domain": [
          0,
          1
         ],
         "title": {
          "text": "발생월"
         }
        },
        "yaxis": {
         "anchor": "x",
         "domain": [
          0,
          1
         ],
         "title": {
          "text": "사고건수"
         }
        }
       }
      }
     },
     "metadata": {},
     "output_type": "display_data"
    },
    {
     "data": {
      "text/plain": [
       "'<iframe id=\"igraph\" scrolling=\"no\" style=\"border:none;\" seamless=\"seamless\" src=\"https://plotly.com/~nuyhc/30.embed\" height=\"525\" width=\"100%\"></iframe>'"
      ]
     },
     "execution_count": 106,
     "metadata": {},
     "output_type": "execute_result"
    }
   ],
   "source": [
    "fig = px.bar(df_monthly, x=\"발생월\", y=\"사고건수\", title=\"월별 사고 건수\")\n",
    "fig.show()\n",
    "\n",
    "cs.tools.get_embed(cs.plotly.plot(fig, filename=\"월별 사고 건수\", auto_open=False))"
   ]
  },
  {
   "cell_type": "code",
   "execution_count": 107,
   "metadata": {},
   "outputs": [
    {
     "data": {
      "application/vnd.plotly.v1+json": {
       "config": {
        "plotlyServerURL": "https://plotly.com"
       },
       "data": [
        {
         "hovertemplate": "가해자연령층=20세이하<br>발생월=%{x}<br>사고건수=%{y}<extra></extra>",
         "legendgroup": "20세이하",
         "line": {
          "color": "#636efa",
          "dash": "solid"
         },
         "marker": {
          "symbol": "circle"
         },
         "mode": "lines",
         "name": "20세이하",
         "orientation": "v",
         "showlegend": true,
         "type": "scatter",
         "x": [
          1,
          2,
          3,
          4,
          5,
          6,
          7,
          8,
          9,
          10,
          11,
          12
         ],
         "xaxis": "x",
         "y": [
          452,
          480,
          521,
          612,
          644,
          644,
          709,
          596,
          640,
          689,
          578,
          534
         ],
         "yaxis": "y"
        },
        {
         "hovertemplate": "가해자연령층=21-30세<br>발생월=%{x}<br>사고건수=%{y}<extra></extra>",
         "legendgroup": "21-30세",
         "line": {
          "color": "#EF553B",
          "dash": "solid"
         },
         "marker": {
          "symbol": "circle"
         },
         "mode": "lines",
         "name": "21-30세",
         "orientation": "v",
         "showlegend": true,
         "type": "scatter",
         "x": [
          1,
          2,
          3,
          4,
          5,
          6,
          7,
          8,
          9,
          10,
          11,
          12
         ],
         "xaxis": "x2",
         "y": [
          2260,
          2315,
          2120,
          2238,
          2570,
          2700,
          2728,
          2582,
          2555,
          2760,
          2575,
          2372
         ],
         "yaxis": "y2"
        },
        {
         "hovertemplate": "가해자연령층=31-40세<br>발생월=%{x}<br>사고건수=%{y}<extra></extra>",
         "legendgroup": "31-40세",
         "line": {
          "color": "#00cc96",
          "dash": "solid"
         },
         "marker": {
          "symbol": "circle"
         },
         "mode": "lines",
         "name": "31-40세",
         "orientation": "v",
         "showlegend": true,
         "type": "scatter",
         "x": [
          1,
          2,
          3,
          4,
          5,
          6,
          7,
          8,
          9,
          10,
          11,
          12
         ],
         "xaxis": "x3",
         "y": [
          2620,
          2580,
          2346,
          2478,
          2730,
          2858,
          2738,
          2604,
          2671,
          2783,
          2733,
          2465
         ],
         "yaxis": "y3"
        },
        {
         "hovertemplate": "가해자연령층=41-50세<br>발생월=%{x}<br>사고건수=%{y}<extra></extra>",
         "legendgroup": "41-50세",
         "line": {
          "color": "#ab63fa",
          "dash": "solid"
         },
         "marker": {
          "symbol": "circle"
         },
         "mode": "lines",
         "name": "41-50세",
         "orientation": "v",
         "showlegend": true,
         "type": "scatter",
         "x": [
          1,
          2,
          3,
          4,
          5,
          6,
          7,
          8,
          9,
          10,
          11,
          12
         ],
         "xaxis": "x4",
         "y": [
          3057,
          3080,
          2762,
          3006,
          3256,
          3391,
          3281,
          3173,
          3239,
          3426,
          3345,
          3020
         ],
         "yaxis": "y4"
        },
        {
         "hovertemplate": "가해자연령층=51-60세<br>발생월=%{x}<br>사고건수=%{y}<extra></extra>",
         "legendgroup": "51-60세",
         "line": {
          "color": "#FFA15A",
          "dash": "solid"
         },
         "marker": {
          "symbol": "circle"
         },
         "mode": "lines",
         "name": "51-60세",
         "orientation": "v",
         "showlegend": true,
         "type": "scatter",
         "x": [
          1,
          2,
          3,
          4,
          5,
          6,
          7,
          8,
          9,
          10,
          11,
          12
         ],
         "xaxis": "x5",
         "y": [
          4218,
          3961,
          3608,
          3874,
          4416,
          4555,
          4359,
          4225,
          4372,
          4492,
          4351,
          3990
         ],
         "yaxis": "y5"
        },
        {
         "hovertemplate": "가해자연령층=61-64세<br>발생월=%{x}<br>사고건수=%{y}<extra></extra>",
         "legendgroup": "61-64세",
         "line": {
          "color": "#19d3f3",
          "dash": "solid"
         },
         "marker": {
          "symbol": "circle"
         },
         "mode": "lines",
         "name": "61-64세",
         "orientation": "v",
         "showlegend": true,
         "type": "scatter",
         "x": [
          1,
          2,
          3,
          4,
          5,
          6,
          7,
          8,
          9,
          10,
          11,
          12
         ],
         "xaxis": "x6",
         "y": [
          1529,
          1407,
          1262,
          1394,
          1554,
          1704,
          1549,
          1552,
          1550,
          1657,
          1632,
          1385
         ],
         "yaxis": "y6"
        },
        {
         "hovertemplate": "가해자연령층=65세이상<br>발생월=%{x}<br>사고건수=%{y}<extra></extra>",
         "legendgroup": "65세이상",
         "line": {
          "color": "#FF6692",
          "dash": "solid"
         },
         "marker": {
          "symbol": "circle"
         },
         "mode": "lines",
         "name": "65세이상",
         "orientation": "v",
         "showlegend": true,
         "type": "scatter",
         "x": [
          1,
          2,
          3,
          4,
          5,
          6,
          7,
          8,
          9,
          10,
          11,
          12
         ],
         "xaxis": "x7",
         "y": [
          2527,
          2167,
          2097,
          2344,
          2708,
          2870,
          2648,
          2618,
          2801,
          3124,
          2902,
          2266
         ],
         "yaxis": "y7"
        },
        {
         "hovertemplate": "가해자연령층=불명<br>발생월=%{x}<br>사고건수=%{y}<extra></extra>",
         "legendgroup": "불명",
         "line": {
          "color": "#B6E880",
          "dash": "solid"
         },
         "marker": {
          "symbol": "circle"
         },
         "mode": "lines",
         "name": "불명",
         "orientation": "v",
         "showlegend": true,
         "type": "scatter",
         "x": [
          1,
          2,
          3,
          4,
          5,
          6,
          7,
          8,
          9,
          10,
          11,
          12
         ],
         "xaxis": "x8",
         "y": [
          305,
          295,
          233,
          240,
          306,
          295,
          290,
          266,
          296,
          324,
          322,
          298
         ],
         "yaxis": "y8"
        }
       ],
       "layout": {
        "annotations": [
         {
          "font": {},
          "showarrow": false,
          "text": "가해자연령층=20세이하",
          "x": 0.05375,
          "xanchor": "center",
          "xref": "paper",
          "y": 1,
          "yanchor": "bottom",
          "yref": "paper"
         },
         {
          "font": {},
          "showarrow": false,
          "text": "가해자연령층=21-30세",
          "x": 0.18125,
          "xanchor": "center",
          "xref": "paper",
          "y": 1,
          "yanchor": "bottom",
          "yref": "paper"
         },
         {
          "font": {},
          "showarrow": false,
          "text": "가해자연령층=31-40세",
          "x": 0.30874999999999997,
          "xanchor": "center",
          "xref": "paper",
          "y": 1,
          "yanchor": "bottom",
          "yref": "paper"
         },
         {
          "font": {},
          "showarrow": false,
          "text": "가해자연령층=41-50세",
          "x": 0.43625,
          "xanchor": "center",
          "xref": "paper",
          "y": 1,
          "yanchor": "bottom",
          "yref": "paper"
         },
         {
          "font": {},
          "showarrow": false,
          "text": "가해자연령층=51-60세",
          "x": 0.56375,
          "xanchor": "center",
          "xref": "paper",
          "y": 1,
          "yanchor": "bottom",
          "yref": "paper"
         },
         {
          "font": {},
          "showarrow": false,
          "text": "가해자연령층=61-64세",
          "x": 0.6912499999999999,
          "xanchor": "center",
          "xref": "paper",
          "y": 1,
          "yanchor": "bottom",
          "yref": "paper"
         },
         {
          "font": {},
          "showarrow": false,
          "text": "가해자연령층=65세이상",
          "x": 0.8187500000000001,
          "xanchor": "center",
          "xref": "paper",
          "y": 1,
          "yanchor": "bottom",
          "yref": "paper"
         },
         {
          "font": {},
          "showarrow": false,
          "text": "가해자연령층=불명",
          "x": 0.94625,
          "xanchor": "center",
          "xref": "paper",
          "y": 1,
          "yanchor": "bottom",
          "yref": "paper"
         }
        ],
        "legend": {
         "title": {
          "text": "가해자연령층"
         },
         "tracegroupgap": 0
        },
        "template": {
         "data": {
          "bar": [
           {
            "error_x": {
             "color": "#2a3f5f"
            },
            "error_y": {
             "color": "#2a3f5f"
            },
            "marker": {
             "line": {
              "color": "#E5ECF6",
              "width": 0.5
             },
             "pattern": {
              "fillmode": "overlay",
              "size": 10,
              "solidity": 0.2
             }
            },
            "type": "bar"
           }
          ],
          "barpolar": [
           {
            "marker": {
             "line": {
              "color": "#E5ECF6",
              "width": 0.5
             },
             "pattern": {
              "fillmode": "overlay",
              "size": 10,
              "solidity": 0.2
             }
            },
            "type": "barpolar"
           }
          ],
          "carpet": [
           {
            "aaxis": {
             "endlinecolor": "#2a3f5f",
             "gridcolor": "white",
             "linecolor": "white",
             "minorgridcolor": "white",
             "startlinecolor": "#2a3f5f"
            },
            "baxis": {
             "endlinecolor": "#2a3f5f",
             "gridcolor": "white",
             "linecolor": "white",
             "minorgridcolor": "white",
             "startlinecolor": "#2a3f5f"
            },
            "type": "carpet"
           }
          ],
          "choropleth": [
           {
            "colorbar": {
             "outlinewidth": 0,
             "ticks": ""
            },
            "type": "choropleth"
           }
          ],
          "contour": [
           {
            "colorbar": {
             "outlinewidth": 0,
             "ticks": ""
            },
            "colorscale": [
             [
              0,
              "#0d0887"
             ],
             [
              0.1111111111111111,
              "#46039f"
             ],
             [
              0.2222222222222222,
              "#7201a8"
             ],
             [
              0.3333333333333333,
              "#9c179e"
             ],
             [
              0.4444444444444444,
              "#bd3786"
             ],
             [
              0.5555555555555556,
              "#d8576b"
             ],
             [
              0.6666666666666666,
              "#ed7953"
             ],
             [
              0.7777777777777778,
              "#fb9f3a"
             ],
             [
              0.8888888888888888,
              "#fdca26"
             ],
             [
              1,
              "#f0f921"
             ]
            ],
            "type": "contour"
           }
          ],
          "contourcarpet": [
           {
            "colorbar": {
             "outlinewidth": 0,
             "ticks": ""
            },
            "type": "contourcarpet"
           }
          ],
          "heatmap": [
           {
            "colorbar": {
             "outlinewidth": 0,
             "ticks": ""
            },
            "colorscale": [
             [
              0,
              "#0d0887"
             ],
             [
              0.1111111111111111,
              "#46039f"
             ],
             [
              0.2222222222222222,
              "#7201a8"
             ],
             [
              0.3333333333333333,
              "#9c179e"
             ],
             [
              0.4444444444444444,
              "#bd3786"
             ],
             [
              0.5555555555555556,
              "#d8576b"
             ],
             [
              0.6666666666666666,
              "#ed7953"
             ],
             [
              0.7777777777777778,
              "#fb9f3a"
             ],
             [
              0.8888888888888888,
              "#fdca26"
             ],
             [
              1,
              "#f0f921"
             ]
            ],
            "type": "heatmap"
           }
          ],
          "heatmapgl": [
           {
            "colorbar": {
             "outlinewidth": 0,
             "ticks": ""
            },
            "colorscale": [
             [
              0,
              "#0d0887"
             ],
             [
              0.1111111111111111,
              "#46039f"
             ],
             [
              0.2222222222222222,
              "#7201a8"
             ],
             [
              0.3333333333333333,
              "#9c179e"
             ],
             [
              0.4444444444444444,
              "#bd3786"
             ],
             [
              0.5555555555555556,
              "#d8576b"
             ],
             [
              0.6666666666666666,
              "#ed7953"
             ],
             [
              0.7777777777777778,
              "#fb9f3a"
             ],
             [
              0.8888888888888888,
              "#fdca26"
             ],
             [
              1,
              "#f0f921"
             ]
            ],
            "type": "heatmapgl"
           }
          ],
          "histogram": [
           {
            "marker": {
             "pattern": {
              "fillmode": "overlay",
              "size": 10,
              "solidity": 0.2
             }
            },
            "type": "histogram"
           }
          ],
          "histogram2d": [
           {
            "colorbar": {
             "outlinewidth": 0,
             "ticks": ""
            },
            "colorscale": [
             [
              0,
              "#0d0887"
             ],
             [
              0.1111111111111111,
              "#46039f"
             ],
             [
              0.2222222222222222,
              "#7201a8"
             ],
             [
              0.3333333333333333,
              "#9c179e"
             ],
             [
              0.4444444444444444,
              "#bd3786"
             ],
             [
              0.5555555555555556,
              "#d8576b"
             ],
             [
              0.6666666666666666,
              "#ed7953"
             ],
             [
              0.7777777777777778,
              "#fb9f3a"
             ],
             [
              0.8888888888888888,
              "#fdca26"
             ],
             [
              1,
              "#f0f921"
             ]
            ],
            "type": "histogram2d"
           }
          ],
          "histogram2dcontour": [
           {
            "colorbar": {
             "outlinewidth": 0,
             "ticks": ""
            },
            "colorscale": [
             [
              0,
              "#0d0887"
             ],
             [
              0.1111111111111111,
              "#46039f"
             ],
             [
              0.2222222222222222,
              "#7201a8"
             ],
             [
              0.3333333333333333,
              "#9c179e"
             ],
             [
              0.4444444444444444,
              "#bd3786"
             ],
             [
              0.5555555555555556,
              "#d8576b"
             ],
             [
              0.6666666666666666,
              "#ed7953"
             ],
             [
              0.7777777777777778,
              "#fb9f3a"
             ],
             [
              0.8888888888888888,
              "#fdca26"
             ],
             [
              1,
              "#f0f921"
             ]
            ],
            "type": "histogram2dcontour"
           }
          ],
          "mesh3d": [
           {
            "colorbar": {
             "outlinewidth": 0,
             "ticks": ""
            },
            "type": "mesh3d"
           }
          ],
          "parcoords": [
           {
            "line": {
             "colorbar": {
              "outlinewidth": 0,
              "ticks": ""
             }
            },
            "type": "parcoords"
           }
          ],
          "pie": [
           {
            "automargin": true,
            "type": "pie"
           }
          ],
          "scatter": [
           {
            "fillpattern": {
             "fillmode": "overlay",
             "size": 10,
             "solidity": 0.2
            },
            "type": "scatter"
           }
          ],
          "scatter3d": [
           {
            "line": {
             "colorbar": {
              "outlinewidth": 0,
              "ticks": ""
             }
            },
            "marker": {
             "colorbar": {
              "outlinewidth": 0,
              "ticks": ""
             }
            },
            "type": "scatter3d"
           }
          ],
          "scattercarpet": [
           {
            "marker": {
             "colorbar": {
              "outlinewidth": 0,
              "ticks": ""
             }
            },
            "type": "scattercarpet"
           }
          ],
          "scattergeo": [
           {
            "marker": {
             "colorbar": {
              "outlinewidth": 0,
              "ticks": ""
             }
            },
            "type": "scattergeo"
           }
          ],
          "scattergl": [
           {
            "marker": {
             "colorbar": {
              "outlinewidth": 0,
              "ticks": ""
             }
            },
            "type": "scattergl"
           }
          ],
          "scattermapbox": [
           {
            "marker": {
             "colorbar": {
              "outlinewidth": 0,
              "ticks": ""
             }
            },
            "type": "scattermapbox"
           }
          ],
          "scatterpolar": [
           {
            "marker": {
             "colorbar": {
              "outlinewidth": 0,
              "ticks": ""
             }
            },
            "type": "scatterpolar"
           }
          ],
          "scatterpolargl": [
           {
            "marker": {
             "colorbar": {
              "outlinewidth": 0,
              "ticks": ""
             }
            },
            "type": "scatterpolargl"
           }
          ],
          "scatterternary": [
           {
            "marker": {
             "colorbar": {
              "outlinewidth": 0,
              "ticks": ""
             }
            },
            "type": "scatterternary"
           }
          ],
          "surface": [
           {
            "colorbar": {
             "outlinewidth": 0,
             "ticks": ""
            },
            "colorscale": [
             [
              0,
              "#0d0887"
             ],
             [
              0.1111111111111111,
              "#46039f"
             ],
             [
              0.2222222222222222,
              "#7201a8"
             ],
             [
              0.3333333333333333,
              "#9c179e"
             ],
             [
              0.4444444444444444,
              "#bd3786"
             ],
             [
              0.5555555555555556,
              "#d8576b"
             ],
             [
              0.6666666666666666,
              "#ed7953"
             ],
             [
              0.7777777777777778,
              "#fb9f3a"
             ],
             [
              0.8888888888888888,
              "#fdca26"
             ],
             [
              1,
              "#f0f921"
             ]
            ],
            "type": "surface"
           }
          ],
          "table": [
           {
            "cells": {
             "fill": {
              "color": "#EBF0F8"
             },
             "line": {
              "color": "white"
             }
            },
            "header": {
             "fill": {
              "color": "#C8D4E3"
             },
             "line": {
              "color": "white"
             }
            },
            "type": "table"
           }
          ]
         },
         "layout": {
          "annotationdefaults": {
           "arrowcolor": "#2a3f5f",
           "arrowhead": 0,
           "arrowwidth": 1
          },
          "autotypenumbers": "strict",
          "coloraxis": {
           "colorbar": {
            "outlinewidth": 0,
            "ticks": ""
           }
          },
          "colorscale": {
           "diverging": [
            [
             0,
             "#8e0152"
            ],
            [
             0.1,
             "#c51b7d"
            ],
            [
             0.2,
             "#de77ae"
            ],
            [
             0.3,
             "#f1b6da"
            ],
            [
             0.4,
             "#fde0ef"
            ],
            [
             0.5,
             "#f7f7f7"
            ],
            [
             0.6,
             "#e6f5d0"
            ],
            [
             0.7,
             "#b8e186"
            ],
            [
             0.8,
             "#7fbc41"
            ],
            [
             0.9,
             "#4d9221"
            ],
            [
             1,
             "#276419"
            ]
           ],
           "sequential": [
            [
             0,
             "#0d0887"
            ],
            [
             0.1111111111111111,
             "#46039f"
            ],
            [
             0.2222222222222222,
             "#7201a8"
            ],
            [
             0.3333333333333333,
             "#9c179e"
            ],
            [
             0.4444444444444444,
             "#bd3786"
            ],
            [
             0.5555555555555556,
             "#d8576b"
            ],
            [
             0.6666666666666666,
             "#ed7953"
            ],
            [
             0.7777777777777778,
             "#fb9f3a"
            ],
            [
             0.8888888888888888,
             "#fdca26"
            ],
            [
             1,
             "#f0f921"
            ]
           ],
           "sequentialminus": [
            [
             0,
             "#0d0887"
            ],
            [
             0.1111111111111111,
             "#46039f"
            ],
            [
             0.2222222222222222,
             "#7201a8"
            ],
            [
             0.3333333333333333,
             "#9c179e"
            ],
            [
             0.4444444444444444,
             "#bd3786"
            ],
            [
             0.5555555555555556,
             "#d8576b"
            ],
            [
             0.6666666666666666,
             "#ed7953"
            ],
            [
             0.7777777777777778,
             "#fb9f3a"
            ],
            [
             0.8888888888888888,
             "#fdca26"
            ],
            [
             1,
             "#f0f921"
            ]
           ]
          },
          "colorway": [
           "#636efa",
           "#EF553B",
           "#00cc96",
           "#ab63fa",
           "#FFA15A",
           "#19d3f3",
           "#FF6692",
           "#B6E880",
           "#FF97FF",
           "#FECB52"
          ],
          "font": {
           "color": "#2a3f5f"
          },
          "geo": {
           "bgcolor": "white",
           "lakecolor": "white",
           "landcolor": "#E5ECF6",
           "showlakes": true,
           "showland": true,
           "subunitcolor": "white"
          },
          "hoverlabel": {
           "align": "left"
          },
          "hovermode": "closest",
          "mapbox": {
           "style": "light"
          },
          "paper_bgcolor": "white",
          "plot_bgcolor": "#E5ECF6",
          "polar": {
           "angularaxis": {
            "gridcolor": "white",
            "linecolor": "white",
            "ticks": ""
           },
           "bgcolor": "#E5ECF6",
           "radialaxis": {
            "gridcolor": "white",
            "linecolor": "white",
            "ticks": ""
           }
          },
          "scene": {
           "xaxis": {
            "backgroundcolor": "#E5ECF6",
            "gridcolor": "white",
            "gridwidth": 2,
            "linecolor": "white",
            "showbackground": true,
            "ticks": "",
            "zerolinecolor": "white"
           },
           "yaxis": {
            "backgroundcolor": "#E5ECF6",
            "gridcolor": "white",
            "gridwidth": 2,
            "linecolor": "white",
            "showbackground": true,
            "ticks": "",
            "zerolinecolor": "white"
           },
           "zaxis": {
            "backgroundcolor": "#E5ECF6",
            "gridcolor": "white",
            "gridwidth": 2,
            "linecolor": "white",
            "showbackground": true,
            "ticks": "",
            "zerolinecolor": "white"
           }
          },
          "shapedefaults": {
           "line": {
            "color": "#2a3f5f"
           }
          },
          "ternary": {
           "aaxis": {
            "gridcolor": "white",
            "linecolor": "white",
            "ticks": ""
           },
           "baxis": {
            "gridcolor": "white",
            "linecolor": "white",
            "ticks": ""
           },
           "bgcolor": "#E5ECF6",
           "caxis": {
            "gridcolor": "white",
            "linecolor": "white",
            "ticks": ""
           }
          },
          "title": {
           "x": 0.05
          },
          "xaxis": {
           "automargin": true,
           "gridcolor": "white",
           "linecolor": "white",
           "ticks": "",
           "title": {
            "standoff": 15
           },
           "zerolinecolor": "white",
           "zerolinewidth": 2
          },
          "yaxis": {
           "automargin": true,
           "gridcolor": "white",
           "linecolor": "white",
           "ticks": "",
           "title": {
            "standoff": 15
           },
           "zerolinecolor": "white",
           "zerolinewidth": 2
          }
         }
        },
        "title": {
         "text": "가해 연령층 별 월별 사고건수"
        },
        "xaxis": {
         "anchor": "y",
         "domain": [
          0,
          0.1075
         ],
         "title": {
          "text": "발생월"
         }
        },
        "xaxis2": {
         "anchor": "y2",
         "domain": [
          0.1275,
          0.235
         ],
         "matches": "x",
         "title": {
          "text": "발생월"
         }
        },
        "xaxis3": {
         "anchor": "y3",
         "domain": [
          0.255,
          0.3625
         ],
         "matches": "x",
         "title": {
          "text": "발생월"
         }
        },
        "xaxis4": {
         "anchor": "y4",
         "domain": [
          0.3825,
          0.49
         ],
         "matches": "x",
         "title": {
          "text": "발생월"
         }
        },
        "xaxis5": {
         "anchor": "y5",
         "domain": [
          0.51,
          0.6175
         ],
         "matches": "x",
         "title": {
          "text": "발생월"
         }
        },
        "xaxis6": {
         "anchor": "y6",
         "domain": [
          0.6375,
          0.745
         ],
         "matches": "x",
         "title": {
          "text": "발생월"
         }
        },
        "xaxis7": {
         "anchor": "y7",
         "domain": [
          0.765,
          0.8725
         ],
         "matches": "x",
         "title": {
          "text": "발생월"
         }
        },
        "xaxis8": {
         "anchor": "y8",
         "domain": [
          0.8925000000000001,
          1
         ],
         "matches": "x",
         "title": {
          "text": "발생월"
         }
        },
        "yaxis": {
         "anchor": "x",
         "domain": [
          0,
          1
         ],
         "title": {
          "text": "사고건수"
         }
        },
        "yaxis2": {
         "anchor": "x2",
         "domain": [
          0,
          1
         ],
         "matches": "y",
         "showticklabels": false
        },
        "yaxis3": {
         "anchor": "x3",
         "domain": [
          0,
          1
         ],
         "matches": "y",
         "showticklabels": false
        },
        "yaxis4": {
         "anchor": "x4",
         "domain": [
          0,
          1
         ],
         "matches": "y",
         "showticklabels": false
        },
        "yaxis5": {
         "anchor": "x5",
         "domain": [
          0,
          1
         ],
         "matches": "y",
         "showticklabels": false
        },
        "yaxis6": {
         "anchor": "x6",
         "domain": [
          0,
          1
         ],
         "matches": "y",
         "showticklabels": false
        },
        "yaxis7": {
         "anchor": "x7",
         "domain": [
          0,
          1
         ],
         "matches": "y",
         "showticklabels": false
        },
        "yaxis8": {
         "anchor": "x8",
         "domain": [
          0,
          1
         ],
         "matches": "y",
         "showticklabels": false
        }
       }
      }
     },
     "metadata": {},
     "output_type": "display_data"
    },
    {
     "data": {
      "text/plain": [
       "'<iframe id=\"igraph\" scrolling=\"no\" style=\"border:none;\" seamless=\"seamless\" src=\"https://plotly.com/~nuyhc/52.embed\" height=\"525\" width=\"100%\"></iframe>'"
      ]
     },
     "execution_count": 107,
     "metadata": {},
     "output_type": "execute_result"
    }
   ],
   "source": [
    "fig = px.line(df_age_agg_driver_month, x=\"발생월\", y=\"사고건수\", facet_col=\"가해자연령층\", color=\"가해자연령층\", title=\"가해 연령층 별 월별 사고건수\")\n",
    "fig.show()\n",
    "\n",
    "cs.tools.get_embed(cs.plotly.plot(fig, filename=\"가해 연령층 별 월별 사고건수\", auto_open=False))"
   ]
  },
  {
   "cell_type": "markdown",
   "metadata": {},
   "source": [
    "#### 사상자 연령층"
   ]
  },
  {
   "cell_type": "code",
   "execution_count": 108,
   "metadata": {},
   "outputs": [
    {
     "data": {
      "application/vnd.plotly.v1+json": {
       "config": {
        "plotlyServerURL": "https://plotly.com"
       },
       "data": [
        {
         "alignmentgroup": "True",
         "hovertemplate": "사상자성별=남<br>사상자연령층=%{x}<br>value=%{y}<extra></extra>",
         "legendgroup": "남",
         "marker": {
          "color": "#636efa",
          "pattern": {
           "shape": ""
          }
         },
         "name": "남",
         "offsetgroup": "남",
         "orientation": "v",
         "showlegend": true,
         "textposition": "auto",
         "type": "bar",
         "x": [
          "12세이하",
          "13-20세",
          "21-30세",
          "31-40세",
          "41-50세",
          "51-60세",
          "61-64세",
          "65세이상",
          "불명",
          "12세이하",
          "13-20세",
          "21-30세",
          "31-40세",
          "41-50세",
          "51-60세",
          "61-64세",
          "65세이상",
          "불명",
          "12세이하",
          "13-20세",
          "21-30세",
          "31-40세",
          "41-50세",
          "51-60세",
          "61-64세",
          "65세이상",
          "불명",
          "12세이하",
          "13-20세",
          "21-30세",
          "31-40세",
          "41-50세",
          "51-60세",
          "61-64세",
          "65세이상",
          "불명"
         ],
         "xaxis": "x",
         "y": [
          12,
          92,
          216,
          196,
          264,
          426,
          200,
          852,
          0,
          735,
          2053,
          5718,
          6214,
          6597,
          7213,
          2674,
          7380,
          4,
          4597,
          8108,
          29486,
          28270,
          25066,
          24731,
          8441,
          14103,
          14,
          637,
          1476,
          3068,
          2258,
          2059,
          2164,
          698,
          1659,
          17
         ],
         "yaxis": "y"
        },
        {
         "alignmentgroup": "True",
         "hovertemplate": "사상자성별=여<br>사상자연령층=%{x}<br>value=%{y}<extra></extra>",
         "legendgroup": "여",
         "marker": {
          "color": "#EF553B",
          "pattern": {
           "shape": ""
          }
         },
         "name": "여",
         "offsetgroup": "여",
         "orientation": "v",
         "showlegend": true,
         "textposition": "auto",
         "type": "bar",
         "x": [
          "12세이하",
          "13-20세",
          "21-30세",
          "31-40세",
          "41-50세",
          "51-60세",
          "61-64세",
          "65세이상",
          "불명",
          "12세이하",
          "13-20세",
          "21-30세",
          "31-40세",
          "41-50세",
          "51-60세",
          "61-64세",
          "65세이상",
          "불명",
          "12세이하",
          "13-20세",
          "21-30세",
          "31-40세",
          "41-50세",
          "51-60세",
          "61-64세",
          "65세이상",
          "불명",
          "12세이하",
          "13-20세",
          "21-30세",
          "31-40세",
          "41-50세",
          "51-60세",
          "61-64세",
          "65세이상",
          "불명"
         ],
         "xaxis": "x",
         "y": [
          12,
          11,
          45,
          25,
          52,
          124,
          63,
          490,
          0,
          393,
          784,
          2266,
          2100,
          3045,
          4842,
          1956,
          6588,
          2,
          3681,
          4132,
          15676,
          14765,
          15677,
          16626,
          4851,
          7794,
          18,
          457,
          370,
          1042,
          884,
          902,
          944,
          317,
          623,
          19
         ],
         "yaxis": "y"
        },
        {
         "alignmentgroup": "True",
         "hovertemplate": "사상자성별=기타/불명<br>사상자연령층=%{x}<br>value=%{y}<extra></extra>",
         "legendgroup": "기타/불명",
         "marker": {
          "color": "#00cc96",
          "pattern": {
           "shape": ""
          }
         },
         "name": "기타/불명",
         "offsetgroup": "기타/불명",
         "orientation": "v",
         "showlegend": true,
         "textposition": "auto",
         "type": "bar",
         "x": [
          "65세이상",
          "불명",
          "65세이상",
          "불명",
          "65세이상",
          "불명",
          "65세이상",
          "불명"
         ],
         "xaxis": "x",
         "y": [
          0,
          1,
          0,
          0,
          0,
          0,
          0,
          0
         ],
         "yaxis": "y"
        }
       ],
       "layout": {
        "barmode": "relative",
        "legend": {
         "title": {
          "text": "사상자성별"
         },
         "tracegroupgap": 0
        },
        "template": {
         "data": {
          "bar": [
           {
            "error_x": {
             "color": "#2a3f5f"
            },
            "error_y": {
             "color": "#2a3f5f"
            },
            "marker": {
             "line": {
              "color": "#E5ECF6",
              "width": 0.5
             },
             "pattern": {
              "fillmode": "overlay",
              "size": 10,
              "solidity": 0.2
             }
            },
            "type": "bar"
           }
          ],
          "barpolar": [
           {
            "marker": {
             "line": {
              "color": "#E5ECF6",
              "width": 0.5
             },
             "pattern": {
              "fillmode": "overlay",
              "size": 10,
              "solidity": 0.2
             }
            },
            "type": "barpolar"
           }
          ],
          "carpet": [
           {
            "aaxis": {
             "endlinecolor": "#2a3f5f",
             "gridcolor": "white",
             "linecolor": "white",
             "minorgridcolor": "white",
             "startlinecolor": "#2a3f5f"
            },
            "baxis": {
             "endlinecolor": "#2a3f5f",
             "gridcolor": "white",
             "linecolor": "white",
             "minorgridcolor": "white",
             "startlinecolor": "#2a3f5f"
            },
            "type": "carpet"
           }
          ],
          "choropleth": [
           {
            "colorbar": {
             "outlinewidth": 0,
             "ticks": ""
            },
            "type": "choropleth"
           }
          ],
          "contour": [
           {
            "colorbar": {
             "outlinewidth": 0,
             "ticks": ""
            },
            "colorscale": [
             [
              0,
              "#0d0887"
             ],
             [
              0.1111111111111111,
              "#46039f"
             ],
             [
              0.2222222222222222,
              "#7201a8"
             ],
             [
              0.3333333333333333,
              "#9c179e"
             ],
             [
              0.4444444444444444,
              "#bd3786"
             ],
             [
              0.5555555555555556,
              "#d8576b"
             ],
             [
              0.6666666666666666,
              "#ed7953"
             ],
             [
              0.7777777777777778,
              "#fb9f3a"
             ],
             [
              0.8888888888888888,
              "#fdca26"
             ],
             [
              1,
              "#f0f921"
             ]
            ],
            "type": "contour"
           }
          ],
          "contourcarpet": [
           {
            "colorbar": {
             "outlinewidth": 0,
             "ticks": ""
            },
            "type": "contourcarpet"
           }
          ],
          "heatmap": [
           {
            "colorbar": {
             "outlinewidth": 0,
             "ticks": ""
            },
            "colorscale": [
             [
              0,
              "#0d0887"
             ],
             [
              0.1111111111111111,
              "#46039f"
             ],
             [
              0.2222222222222222,
              "#7201a8"
             ],
             [
              0.3333333333333333,
              "#9c179e"
             ],
             [
              0.4444444444444444,
              "#bd3786"
             ],
             [
              0.5555555555555556,
              "#d8576b"
             ],
             [
              0.6666666666666666,
              "#ed7953"
             ],
             [
              0.7777777777777778,
              "#fb9f3a"
             ],
             [
              0.8888888888888888,
              "#fdca26"
             ],
             [
              1,
              "#f0f921"
             ]
            ],
            "type": "heatmap"
           }
          ],
          "heatmapgl": [
           {
            "colorbar": {
             "outlinewidth": 0,
             "ticks": ""
            },
            "colorscale": [
             [
              0,
              "#0d0887"
             ],
             [
              0.1111111111111111,
              "#46039f"
             ],
             [
              0.2222222222222222,
              "#7201a8"
             ],
             [
              0.3333333333333333,
              "#9c179e"
             ],
             [
              0.4444444444444444,
              "#bd3786"
             ],
             [
              0.5555555555555556,
              "#d8576b"
             ],
             [
              0.6666666666666666,
              "#ed7953"
             ],
             [
              0.7777777777777778,
              "#fb9f3a"
             ],
             [
              0.8888888888888888,
              "#fdca26"
             ],
             [
              1,
              "#f0f921"
             ]
            ],
            "type": "heatmapgl"
           }
          ],
          "histogram": [
           {
            "marker": {
             "pattern": {
              "fillmode": "overlay",
              "size": 10,
              "solidity": 0.2
             }
            },
            "type": "histogram"
           }
          ],
          "histogram2d": [
           {
            "colorbar": {
             "outlinewidth": 0,
             "ticks": ""
            },
            "colorscale": [
             [
              0,
              "#0d0887"
             ],
             [
              0.1111111111111111,
              "#46039f"
             ],
             [
              0.2222222222222222,
              "#7201a8"
             ],
             [
              0.3333333333333333,
              "#9c179e"
             ],
             [
              0.4444444444444444,
              "#bd3786"
             ],
             [
              0.5555555555555556,
              "#d8576b"
             ],
             [
              0.6666666666666666,
              "#ed7953"
             ],
             [
              0.7777777777777778,
              "#fb9f3a"
             ],
             [
              0.8888888888888888,
              "#fdca26"
             ],
             [
              1,
              "#f0f921"
             ]
            ],
            "type": "histogram2d"
           }
          ],
          "histogram2dcontour": [
           {
            "colorbar": {
             "outlinewidth": 0,
             "ticks": ""
            },
            "colorscale": [
             [
              0,
              "#0d0887"
             ],
             [
              0.1111111111111111,
              "#46039f"
             ],
             [
              0.2222222222222222,
              "#7201a8"
             ],
             [
              0.3333333333333333,
              "#9c179e"
             ],
             [
              0.4444444444444444,
              "#bd3786"
             ],
             [
              0.5555555555555556,
              "#d8576b"
             ],
             [
              0.6666666666666666,
              "#ed7953"
             ],
             [
              0.7777777777777778,
              "#fb9f3a"
             ],
             [
              0.8888888888888888,
              "#fdca26"
             ],
             [
              1,
              "#f0f921"
             ]
            ],
            "type": "histogram2dcontour"
           }
          ],
          "mesh3d": [
           {
            "colorbar": {
             "outlinewidth": 0,
             "ticks": ""
            },
            "type": "mesh3d"
           }
          ],
          "parcoords": [
           {
            "line": {
             "colorbar": {
              "outlinewidth": 0,
              "ticks": ""
             }
            },
            "type": "parcoords"
           }
          ],
          "pie": [
           {
            "automargin": true,
            "type": "pie"
           }
          ],
          "scatter": [
           {
            "fillpattern": {
             "fillmode": "overlay",
             "size": 10,
             "solidity": 0.2
            },
            "type": "scatter"
           }
          ],
          "scatter3d": [
           {
            "line": {
             "colorbar": {
              "outlinewidth": 0,
              "ticks": ""
             }
            },
            "marker": {
             "colorbar": {
              "outlinewidth": 0,
              "ticks": ""
             }
            },
            "type": "scatter3d"
           }
          ],
          "scattercarpet": [
           {
            "marker": {
             "colorbar": {
              "outlinewidth": 0,
              "ticks": ""
             }
            },
            "type": "scattercarpet"
           }
          ],
          "scattergeo": [
           {
            "marker": {
             "colorbar": {
              "outlinewidth": 0,
              "ticks": ""
             }
            },
            "type": "scattergeo"
           }
          ],
          "scattergl": [
           {
            "marker": {
             "colorbar": {
              "outlinewidth": 0,
              "ticks": ""
             }
            },
            "type": "scattergl"
           }
          ],
          "scattermapbox": [
           {
            "marker": {
             "colorbar": {
              "outlinewidth": 0,
              "ticks": ""
             }
            },
            "type": "scattermapbox"
           }
          ],
          "scatterpolar": [
           {
            "marker": {
             "colorbar": {
              "outlinewidth": 0,
              "ticks": ""
             }
            },
            "type": "scatterpolar"
           }
          ],
          "scatterpolargl": [
           {
            "marker": {
             "colorbar": {
              "outlinewidth": 0,
              "ticks": ""
             }
            },
            "type": "scatterpolargl"
           }
          ],
          "scatterternary": [
           {
            "marker": {
             "colorbar": {
              "outlinewidth": 0,
              "ticks": ""
             }
            },
            "type": "scatterternary"
           }
          ],
          "surface": [
           {
            "colorbar": {
             "outlinewidth": 0,
             "ticks": ""
            },
            "colorscale": [
             [
              0,
              "#0d0887"
             ],
             [
              0.1111111111111111,
              "#46039f"
             ],
             [
              0.2222222222222222,
              "#7201a8"
             ],
             [
              0.3333333333333333,
              "#9c179e"
             ],
             [
              0.4444444444444444,
              "#bd3786"
             ],
             [
              0.5555555555555556,
              "#d8576b"
             ],
             [
              0.6666666666666666,
              "#ed7953"
             ],
             [
              0.7777777777777778,
              "#fb9f3a"
             ],
             [
              0.8888888888888888,
              "#fdca26"
             ],
             [
              1,
              "#f0f921"
             ]
            ],
            "type": "surface"
           }
          ],
          "table": [
           {
            "cells": {
             "fill": {
              "color": "#EBF0F8"
             },
             "line": {
              "color": "white"
             }
            },
            "header": {
             "fill": {
              "color": "#C8D4E3"
             },
             "line": {
              "color": "white"
             }
            },
            "type": "table"
           }
          ]
         },
         "layout": {
          "annotationdefaults": {
           "arrowcolor": "#2a3f5f",
           "arrowhead": 0,
           "arrowwidth": 1
          },
          "autotypenumbers": "strict",
          "coloraxis": {
           "colorbar": {
            "outlinewidth": 0,
            "ticks": ""
           }
          },
          "colorscale": {
           "diverging": [
            [
             0,
             "#8e0152"
            ],
            [
             0.1,
             "#c51b7d"
            ],
            [
             0.2,
             "#de77ae"
            ],
            [
             0.3,
             "#f1b6da"
            ],
            [
             0.4,
             "#fde0ef"
            ],
            [
             0.5,
             "#f7f7f7"
            ],
            [
             0.6,
             "#e6f5d0"
            ],
            [
             0.7,
             "#b8e186"
            ],
            [
             0.8,
             "#7fbc41"
            ],
            [
             0.9,
             "#4d9221"
            ],
            [
             1,
             "#276419"
            ]
           ],
           "sequential": [
            [
             0,
             "#0d0887"
            ],
            [
             0.1111111111111111,
             "#46039f"
            ],
            [
             0.2222222222222222,
             "#7201a8"
            ],
            [
             0.3333333333333333,
             "#9c179e"
            ],
            [
             0.4444444444444444,
             "#bd3786"
            ],
            [
             0.5555555555555556,
             "#d8576b"
            ],
            [
             0.6666666666666666,
             "#ed7953"
            ],
            [
             0.7777777777777778,
             "#fb9f3a"
            ],
            [
             0.8888888888888888,
             "#fdca26"
            ],
            [
             1,
             "#f0f921"
            ]
           ],
           "sequentialminus": [
            [
             0,
             "#0d0887"
            ],
            [
             0.1111111111111111,
             "#46039f"
            ],
            [
             0.2222222222222222,
             "#7201a8"
            ],
            [
             0.3333333333333333,
             "#9c179e"
            ],
            [
             0.4444444444444444,
             "#bd3786"
            ],
            [
             0.5555555555555556,
             "#d8576b"
            ],
            [
             0.6666666666666666,
             "#ed7953"
            ],
            [
             0.7777777777777778,
             "#fb9f3a"
            ],
            [
             0.8888888888888888,
             "#fdca26"
            ],
            [
             1,
             "#f0f921"
            ]
           ]
          },
          "colorway": [
           "#636efa",
           "#EF553B",
           "#00cc96",
           "#ab63fa",
           "#FFA15A",
           "#19d3f3",
           "#FF6692",
           "#B6E880",
           "#FF97FF",
           "#FECB52"
          ],
          "font": {
           "color": "#2a3f5f"
          },
          "geo": {
           "bgcolor": "white",
           "lakecolor": "white",
           "landcolor": "#E5ECF6",
           "showlakes": true,
           "showland": true,
           "subunitcolor": "white"
          },
          "hoverlabel": {
           "align": "left"
          },
          "hovermode": "closest",
          "mapbox": {
           "style": "light"
          },
          "paper_bgcolor": "white",
          "plot_bgcolor": "#E5ECF6",
          "polar": {
           "angularaxis": {
            "gridcolor": "white",
            "linecolor": "white",
            "ticks": ""
           },
           "bgcolor": "#E5ECF6",
           "radialaxis": {
            "gridcolor": "white",
            "linecolor": "white",
            "ticks": ""
           }
          },
          "scene": {
           "xaxis": {
            "backgroundcolor": "#E5ECF6",
            "gridcolor": "white",
            "gridwidth": 2,
            "linecolor": "white",
            "showbackground": true,
            "ticks": "",
            "zerolinecolor": "white"
           },
           "yaxis": {
            "backgroundcolor": "#E5ECF6",
            "gridcolor": "white",
            "gridwidth": 2,
            "linecolor": "white",
            "showbackground": true,
            "ticks": "",
            "zerolinecolor": "white"
           },
           "zaxis": {
            "backgroundcolor": "#E5ECF6",
            "gridcolor": "white",
            "gridwidth": 2,
            "linecolor": "white",
            "showbackground": true,
            "ticks": "",
            "zerolinecolor": "white"
           }
          },
          "shapedefaults": {
           "line": {
            "color": "#2a3f5f"
           }
          },
          "ternary": {
           "aaxis": {
            "gridcolor": "white",
            "linecolor": "white",
            "ticks": ""
           },
           "baxis": {
            "gridcolor": "white",
            "linecolor": "white",
            "ticks": ""
           },
           "bgcolor": "#E5ECF6",
           "caxis": {
            "gridcolor": "white",
            "linecolor": "white",
            "ticks": ""
           }
          },
          "title": {
           "x": 0.05
          },
          "xaxis": {
           "automargin": true,
           "gridcolor": "white",
           "linecolor": "white",
           "ticks": "",
           "title": {
            "standoff": 15
           },
           "zerolinecolor": "white",
           "zerolinewidth": 2
          },
          "yaxis": {
           "automargin": true,
           "gridcolor": "white",
           "linecolor": "white",
           "ticks": "",
           "title": {
            "standoff": 15
           },
           "zerolinecolor": "white",
           "zerolinewidth": 2
          }
         }
        },
        "title": {
         "text": "사상자 연령층"
        },
        "xaxis": {
         "anchor": "y",
         "domain": [
          0,
          1
         ],
         "title": {
          "text": "사상자연령층"
         }
        },
        "yaxis": {
         "anchor": "x",
         "domain": [
          0,
          1
         ],
         "title": {
          "text": "value"
         }
        }
       }
      }
     },
     "metadata": {},
     "output_type": "display_data"
    },
    {
     "data": {
      "text/plain": [
       "'<iframe id=\"igraph\" scrolling=\"no\" style=\"border:none;\" seamless=\"seamless\" src=\"https://plotly.com/~nuyhc/35.embed\" height=\"525\" width=\"100%\"></iframe>'"
      ]
     },
     "execution_count": 108,
     "metadata": {},
     "output_type": "execute_result"
    }
   ],
   "source": [
    "fig = px.bar(df_age_gender, x=\"사상자연령층\", y=[\"사망자수\", \"중상자수\", \"경상자수\", \"부상신고자수\"], color=\"사상자성별\", title=\"사상자 연령층\")\n",
    "fig.show()\n",
    "\n",
    "cs.tools.get_embed(cs.plotly.plot(fig, filename=\"사상자 연령층\", auto_open=False))"
   ]
  },
  {
   "cell_type": "markdown",
   "metadata": {},
   "source": [
    "연령대별 사장자 중에, 남성이 과반수 이상임"
   ]
  },
  {
   "cell_type": "markdown",
   "metadata": {},
   "source": [
    "### 4. 2021년 시간별 교통사고 데이터\n",
    "#### Data load"
   ]
  },
  {
   "cell_type": "code",
   "execution_count": 69,
   "metadata": {},
   "outputs": [],
   "source": [
    "def json_traffic_accidents_by_time(page):\n",
    "    apikey = 'api key'\n",
    "    url = f'http://api.odcloud.kr/api/15087037/v1/uddi:940aa4e0-132a-40bf-9c5c-92e107944b38?page={page}&perPage=10&serviceKey={apikey}'\n",
    "    # API 서버의 주소로 요청을 보내 응답받은 내용을 response 변수에 담는다\n",
    "    response = requests.get(url)\n",
    "    json_traffic_accident = response.json()\n",
    "    return json_traffic_accident\n",
    "\n",
    "json_tabyt1 = json_traffic_accidents_by_time(1)\n",
    "json_tabyt2 = json_traffic_accidents_by_time(2)\n",
    "\n",
    "def json_traffic_accidents_by_time(page):\n",
    "    apikey = 'api key'\n",
    "    url = f'http://api.odcloud.kr/api/15087037/v1/uddi:940aa4e0-132a-40bf-9c5c-92e107944b38?page={page}&perPage=10&serviceKey={apikey}'\n",
    "    # API 서버의 주소로 요청을 보내 응답받은 내용을 response 변수에 담는다\n",
    "    response = requests.get(url)\n",
    "    json_traffic_accident = response.json()\n",
    "    return json_traffic_accident\n",
    "\n",
    "json_tabyt1 = json_traffic_accidents_by_time(1)\n",
    "json_tabyt2 = json_traffic_accidents_by_time(2)\n",
    "\n",
    "# json_tabyt1, json_tabyt2을 DataFrame으로 만듭니다.\n",
    "df_tabyt1 = pd.DataFrame(json_tabyt1['data'])\n",
    "df_dabyt2 = pd.DataFrame(json_tabyt2['data'])\n",
    "\n",
    "# concat한 DataFrame의 인덱스 순서 다시 정렬\n",
    "df = pd.concat((df_tabyt1, df_dabyt2), axis=0)\n",
    "# \"시간대\" 컬럼으로 지정\n",
    "df = df.set_index(\"시간대\")"
   ]
  },
  {
   "cell_type": "code",
   "execution_count": 91,
   "metadata": {},
   "outputs": [],
   "source": [
    "# json_tabyt1, json_tabyt2을 DataFrame으로 만듭니다.\n",
    "df_tabyt1 = pd.DataFrame(json_tabyt1['data'])\n",
    "df_dabyt2 = pd.DataFrame(json_tabyt2['data'])\n",
    "\n",
    "# concat한 DataFrame의 인덱스 순서 다시 정렬\n",
    "df = pd.concat((df_tabyt1, df_dabyt2), axis=0)\n",
    "# \"시간대\" 컬럼으로 지정\n",
    "df = df.set_index(\"시간대\")"
   ]
  },
  {
   "cell_type": "markdown",
   "metadata": {},
   "source": [
    "#### 시간대별 사고건 수"
   ]
  },
  {
   "cell_type": "code",
   "execution_count": 71,
   "metadata": {},
   "outputs": [
    {
     "data": {
      "image/png": "[encoded data removed]",
      "text/plain": [
       "<Figure size 864x504 with 1 Axes>"
      ]
     },
     "metadata": {
      "image/png": {
       "height": 423,
       "width": 714
      }
     },
     "output_type": "display_data"
    }
   ],
   "source": [
    "_ = df.plot.bar(figsize=(12, 7), rot=0)"
   ]
  },
  {
   "cell_type": "markdown",
   "metadata": {},
   "source": [
    "시간대는 18~20시 사이에 가장 높은 사고건수를 보이고 있음"
   ]
  },
  {
   "cell_type": "markdown",
   "metadata": {},
   "source": [
    "### 5. 취약층(노인, 어린이 한정) 교통사고 발생현황 (2018년)"
   ]
  },
  {
   "cell_type": "code",
   "execution_count": 77,
   "metadata": {},
   "outputs": [
    {
     "data": {
      "image/png": "[encoded data removed]",
      "text/plain": [
       "<Figure size 864x720 with 1 Axes>"
      ]
     },
     "metadata": {
      "image/png": {
       "height": 631,
       "width": 704
      }
     },
     "output_type": "display_data"
    }
   ],
   "source": [
    "df_old_temp = pd.read_csv(\"data/도로교통공단_부문별_노인_교통사고_20181231.csv\", encoding=\"CP949\")\n",
    "df_old = df_old_temp.loc[df_old_temp[\"시도\"]==\"서울\", [\"시군구\", \"발생건수\"]].sort_values(\"발생건수\")\n",
    "df_old.columns = [\"시군구\", \"노인사고 발생건수\"]\n",
    "df_old = df_old.set_index(\"시군구\")\n",
    "\n",
    "_ = df_old.plot(kind=\"bar\", figsize=(12,10), title=\"2018년 서울시 구별 노인 교통사고 발생현황\")"
   ]
  },
  {
   "cell_type": "markdown",
   "metadata": {},
   "source": [
    "노인 교통사고 발생건수는 가장 많은 구는 송파구, 강남구, 영등포구, 동대문구, 서초구, 중랑구, 강북구 순으로 나타남  \n",
    "서울시 내 인구수가 많은 송파구가 노인 교통사고가 가장 많음"
   ]
  },
  {
   "cell_type": "code",
   "execution_count": 79,
   "metadata": {},
   "outputs": [
    {
     "data": {
      "image/png": "[encoded data removed]",
      "text/plain": [
       "<Figure size 864x720 with 1 Axes>"
      ]
     },
     "metadata": {
      "image/png": {
       "height": 631,
       "width": 704
      }
     },
     "output_type": "display_data"
    }
   ],
   "source": [
    "df_child_temp = pd.read_csv(\"data/도로교통공단_부문별_어린이_교통사고_20181231.csv\", encoding=\"CP949\")\n",
    "df_child = df_child_temp.loc[df_child_temp[\"시도\"]==\"서울\", [\"시군구\", \"발생건수\"]].sort_values(\"발생건수\")\n",
    "df_child.columns = [\"시군구\", \"어린이사고 발생건수\"]\n",
    "df_child = df_child.set_index(\"시군구\")\n",
    "\n",
    "_ = df_child.plot(kind=\"bar\", figsize=(12,10), title=\"2018년 서울시 구별 어린이 교통사고 발생현황\")"
   ]
  },
  {
   "cell_type": "markdown",
   "metadata": {},
   "source": [
    "어린이 교통사고도 송파구에서 많이 발생하였음  \n",
    "어린이 교통사고 발생현황도 도로교통공단 부분별 노인 교통사고 통계(2018)을 사용하여 일관성 유지  \n",
    "어린이 교통사고 발생건수는 가장 많은 구 순으로 송파구, 강남구, 영등포구, 서초구, 노원구, 양천구, 중랑구 순"
   ]
  },
  {
   "cell_type": "markdown",
   "metadata": {},
   "source": [
    "#### 서울시 구별 인구밀도 데이터와 직접 비교"
   ]
  },
  {
   "cell_type": "code",
   "execution_count": 81,
   "metadata": {},
   "outputs": [
    {
     "data": {
      "text/html": [
       "<div>\n",
       "<style scoped>\n",
       "    .dataframe tbody tr th:only-of-type {\n",
       "        vertical-align: middle;\n",
       "    }\n",
       "\n",
       "    .dataframe tbody tr th {\n",
       "        vertical-align: top;\n",
       "    }\n",
       "\n",
       "    .dataframe thead th {\n",
       "        text-align: right;\n",
       "    }\n",
       "</style>\n",
       "<table border=\"1\" class=\"dataframe\">\n",
       "  <thead>\n",
       "    <tr style=\"text-align: right;\">\n",
       "      <th></th>\n",
       "      <th>인구</th>\n",
       "      <th>면적</th>\n",
       "      <th>인구밀도</th>\n",
       "    </tr>\n",
       "    <tr>\n",
       "      <th>시군구</th>\n",
       "      <th></th>\n",
       "      <th></th>\n",
       "      <th></th>\n",
       "    </tr>\n",
       "  </thead>\n",
       "  <tbody>\n",
       "    <tr>\n",
       "      <th>은평구</th>\n",
       "      <td>487666</td>\n",
       "      <td>29.71</td>\n",
       "      <td>16415</td>\n",
       "    </tr>\n",
       "    <tr>\n",
       "      <th>관악구</th>\n",
       "      <td>520040</td>\n",
       "      <td>29.57</td>\n",
       "      <td>17587</td>\n",
       "    </tr>\n",
       "    <tr>\n",
       "      <th>강남구</th>\n",
       "      <td>547453</td>\n",
       "      <td>39.50</td>\n",
       "      <td>13859</td>\n",
       "    </tr>\n",
       "    <tr>\n",
       "      <th>노원구</th>\n",
       "      <td>548160</td>\n",
       "      <td>35.44</td>\n",
       "      <td>15468</td>\n",
       "    </tr>\n",
       "    <tr>\n",
       "      <th>강서구</th>\n",
       "      <td>603611</td>\n",
       "      <td>41.44</td>\n",
       "      <td>14567</td>\n",
       "    </tr>\n",
       "    <tr>\n",
       "      <th>송파구</th>\n",
       "      <td>673507</td>\n",
       "      <td>33.87</td>\n",
       "      <td>19883</td>\n",
       "    </tr>\n",
       "    <tr>\n",
       "      <th>합계</th>\n",
       "      <td>10049607</td>\n",
       "      <td>605.24</td>\n",
       "      <td>16604</td>\n",
       "    </tr>\n",
       "  </tbody>\n",
       "</table>\n",
       "</div>"
      ],
      "text/plain": [
       "           인구      면적   인구밀도\n",
       "시군구                         \n",
       "은평구    487666   29.71  16415\n",
       "관악구    520040   29.57  17587\n",
       "강남구    547453   39.50  13859\n",
       "노원구    548160   35.44  15468\n",
       "강서구    603611   41.44  14567\n",
       "송파구    673507   33.87  19883\n",
       "합계   10049607  605.24  16604"
      ]
     },
     "execution_count": 81,
     "metadata": {},
     "output_type": "execute_result"
    }
   ],
   "source": [
    "# 서울시 인구 데이터 자료 가져오기 및 전처리(인덱스 맞추기)\n",
    "df_population_desity = pd.read_csv(\"data/서울특별시 구별 인구밀도.csv\")\n",
    "df_population_desity.columns = [\"시군구\", \"인구\", \"면적\", \"인구밀도\"]\n",
    "df_population_desity = df_population_desity.sort_values(\"시군구\")\n",
    "df_population_desity = df_population_desity.set_index(\"시군구\")\n",
    "df_population_desity.head()\n",
    "# 문자열로 되어있는 인구와 인구밀도 칼럼을 int형으로 변경\n",
    "df_population_desity[\"인구\"] = df_population_desity[\"인구\"].str.replace(',', '').astype('int64')\n",
    "df_population_desity[\"인구밀도\"] = df_population_desity[\"인구밀도\"].str.replace(',', '').astype('int64')\n",
    "\n",
    "# 인구수 순으로 정렬\n",
    "df_population_desity.sort_values(\"인구\").tail(7)"
   ]
  },
  {
   "cell_type": "markdown",
   "metadata": {},
   "source": [
    "* 인구수가 많은 순으로 송파구, 강서구, 노원구, 강남구, 관악구, 은평구, 양천구 순으로 나타남\n",
    "    * 노인 교통사고가 많이 발생하는 구는 송파구, 강남구, 영등포구, 동대문구, 서초구, 중랑구, 강북구 순으로 인구수 순서와 일부 다름\n",
    "    * 어린이 교통사고가 많이 발생하는 구는 송파구, 강남구, 영등포구, 서초구, 노원구, 양천구, 중랑구 순으로 인구수 순서와 일부 다름\n",
    "\n",
    "실제 인구수 데이터와 비교결과, 인구수 외 다른 변수가 영향 준다는 것을 짐작 가능"
   ]
  },
  {
   "cell_type": "markdown",
   "metadata": {},
   "source": [
    "#### 인구수 및 교통사고 데이터를 합쳐 시각화"
   ]
  },
  {
   "cell_type": "code",
   "execution_count": 83,
   "metadata": {},
   "outputs": [
    {
     "data": {
      "text/html": [
       "<div>\n",
       "<style scoped>\n",
       "    .dataframe tbody tr th:only-of-type {\n",
       "        vertical-align: middle;\n",
       "    }\n",
       "\n",
       "    .dataframe tbody tr th {\n",
       "        vertical-align: top;\n",
       "    }\n",
       "\n",
       "    .dataframe thead th {\n",
       "        text-align: right;\n",
       "    }\n",
       "</style>\n",
       "<table border=\"1\" class=\"dataframe\">\n",
       "  <thead>\n",
       "    <tr style=\"text-align: right;\">\n",
       "      <th></th>\n",
       "      <th>노인사고 발생건수</th>\n",
       "      <th>어린이사고 발생건수</th>\n",
       "      <th>인구</th>\n",
       "      <th>면적</th>\n",
       "      <th>인구밀도</th>\n",
       "    </tr>\n",
       "    <tr>\n",
       "      <th>시군구</th>\n",
       "      <th></th>\n",
       "      <th></th>\n",
       "      <th></th>\n",
       "      <th></th>\n",
       "      <th></th>\n",
       "    </tr>\n",
       "  </thead>\n",
       "  <tbody>\n",
       "    <tr>\n",
       "      <th>광진구</th>\n",
       "      <td>133.0</td>\n",
       "      <td>43.0</td>\n",
       "      <td>371063</td>\n",
       "      <td>17.06</td>\n",
       "      <td>21746</td>\n",
       "    </tr>\n",
       "    <tr>\n",
       "      <th>금천구</th>\n",
       "      <td>143.0</td>\n",
       "      <td>26.0</td>\n",
       "      <td>254021</td>\n",
       "      <td>13.02</td>\n",
       "      <td>19510</td>\n",
       "    </tr>\n",
       "    <tr>\n",
       "      <th>성동구</th>\n",
       "      <td>158.0</td>\n",
       "      <td>28.0</td>\n",
       "      <td>316463</td>\n",
       "      <td>16.86</td>\n",
       "      <td>18771</td>\n",
       "    </tr>\n",
       "    <tr>\n",
       "      <th>중구</th>\n",
       "      <td>164.0</td>\n",
       "      <td>23.0</td>\n",
       "      <td>135633</td>\n",
       "      <td>9.96</td>\n",
       "      <td>13618</td>\n",
       "    </tr>\n",
       "    <tr>\n",
       "      <th>용산구</th>\n",
       "      <td>170.0</td>\n",
       "      <td>34.0</td>\n",
       "      <td>245090</td>\n",
       "      <td>21.87</td>\n",
       "      <td>11209</td>\n",
       "    </tr>\n",
       "    <tr>\n",
       "      <th>관악구</th>\n",
       "      <td>182.0</td>\n",
       "      <td>35.0</td>\n",
       "      <td>520040</td>\n",
       "      <td>29.57</td>\n",
       "      <td>17587</td>\n",
       "    </tr>\n",
       "    <tr>\n",
       "      <th>도봉구</th>\n",
       "      <td>190.0</td>\n",
       "      <td>34.0</td>\n",
       "      <td>341649</td>\n",
       "      <td>20.67</td>\n",
       "      <td>16531</td>\n",
       "    </tr>\n",
       "    <tr>\n",
       "      <th>마포구</th>\n",
       "      <td>191.0</td>\n",
       "      <td>45.0</td>\n",
       "      <td>386359</td>\n",
       "      <td>23.85</td>\n",
       "      <td>16199</td>\n",
       "    </tr>\n",
       "    <tr>\n",
       "      <th>종로구</th>\n",
       "      <td>191.0</td>\n",
       "      <td>28.0</td>\n",
       "      <td>163026</td>\n",
       "      <td>23.91</td>\n",
       "      <td>6817</td>\n",
       "    </tr>\n",
       "    <tr>\n",
       "      <th>서대문구</th>\n",
       "      <td>203.0</td>\n",
       "      <td>32.0</td>\n",
       "      <td>323080</td>\n",
       "      <td>17.62</td>\n",
       "      <td>18331</td>\n",
       "    </tr>\n",
       "    <tr>\n",
       "      <th>양천구</th>\n",
       "      <td>209.0</td>\n",
       "      <td>72.0</td>\n",
       "      <td>468145</td>\n",
       "      <td>17.41</td>\n",
       "      <td>26894</td>\n",
       "    </tr>\n",
       "    <tr>\n",
       "      <th>강서구</th>\n",
       "      <td>210.0</td>\n",
       "      <td>64.0</td>\n",
       "      <td>603611</td>\n",
       "      <td>41.44</td>\n",
       "      <td>14567</td>\n",
       "    </tr>\n",
       "    <tr>\n",
       "      <th>동작구</th>\n",
       "      <td>225.0</td>\n",
       "      <td>43.0</td>\n",
       "      <td>409385</td>\n",
       "      <td>16.35</td>\n",
       "      <td>25032</td>\n",
       "    </tr>\n",
       "    <tr>\n",
       "      <th>성북구</th>\n",
       "      <td>228.0</td>\n",
       "      <td>64.0</td>\n",
       "      <td>447687</td>\n",
       "      <td>24.57</td>\n",
       "      <td>18218</td>\n",
       "    </tr>\n",
       "    <tr>\n",
       "      <th>구로구</th>\n",
       "      <td>242.0</td>\n",
       "      <td>63.0</td>\n",
       "      <td>438486</td>\n",
       "      <td>20.12</td>\n",
       "      <td>21793</td>\n",
       "    </tr>\n",
       "    <tr>\n",
       "      <th>강동구</th>\n",
       "      <td>242.0</td>\n",
       "      <td>58.0</td>\n",
       "      <td>431920</td>\n",
       "      <td>24.59</td>\n",
       "      <td>17564</td>\n",
       "    </tr>\n",
       "    <tr>\n",
       "      <th>은평구</th>\n",
       "      <td>244.0</td>\n",
       "      <td>56.0</td>\n",
       "      <td>487666</td>\n",
       "      <td>29.71</td>\n",
       "      <td>16415</td>\n",
       "    </tr>\n",
       "    <tr>\n",
       "      <th>노원구</th>\n",
       "      <td>245.0</td>\n",
       "      <td>73.0</td>\n",
       "      <td>548160</td>\n",
       "      <td>35.44</td>\n",
       "      <td>15468</td>\n",
       "    </tr>\n",
       "    <tr>\n",
       "      <th>강북구</th>\n",
       "      <td>246.0</td>\n",
       "      <td>42.0</td>\n",
       "      <td>322915</td>\n",
       "      <td>23.60</td>\n",
       "      <td>13683</td>\n",
       "    </tr>\n",
       "    <tr>\n",
       "      <th>중랑구</th>\n",
       "      <td>254.0</td>\n",
       "      <td>68.0</td>\n",
       "      <td>408147</td>\n",
       "      <td>18.50</td>\n",
       "      <td>22067</td>\n",
       "    </tr>\n",
       "    <tr>\n",
       "      <th>서초구</th>\n",
       "      <td>290.0</td>\n",
       "      <td>77.0</td>\n",
       "      <td>438163</td>\n",
       "      <td>46.98</td>\n",
       "      <td>9326</td>\n",
       "    </tr>\n",
       "    <tr>\n",
       "      <th>동대문구</th>\n",
       "      <td>327.0</td>\n",
       "      <td>42.0</td>\n",
       "      <td>364338</td>\n",
       "      <td>14.22</td>\n",
       "      <td>25630</td>\n",
       "    </tr>\n",
       "    <tr>\n",
       "      <th>영등포구</th>\n",
       "      <td>350.0</td>\n",
       "      <td>85.0</td>\n",
       "      <td>403600</td>\n",
       "      <td>24.55</td>\n",
       "      <td>16441</td>\n",
       "    </tr>\n",
       "    <tr>\n",
       "      <th>강남구</th>\n",
       "      <td>351.0</td>\n",
       "      <td>86.0</td>\n",
       "      <td>547453</td>\n",
       "      <td>39.50</td>\n",
       "      <td>13859</td>\n",
       "    </tr>\n",
       "    <tr>\n",
       "      <th>송파구</th>\n",
       "      <td>373.0</td>\n",
       "      <td>110.0</td>\n",
       "      <td>673507</td>\n",
       "      <td>33.87</td>\n",
       "      <td>19883</td>\n",
       "    </tr>\n",
       "  </tbody>\n",
       "</table>\n",
       "</div>"
      ],
      "text/plain": [
       "      노인사고 발생건수  어린이사고 발생건수      인구     면적   인구밀도\n",
       "시군구                                              \n",
       "광진구       133.0        43.0  371063  17.06  21746\n",
       "금천구       143.0        26.0  254021  13.02  19510\n",
       "성동구       158.0        28.0  316463  16.86  18771\n",
       "중구        164.0        23.0  135633   9.96  13618\n",
       "용산구       170.0        34.0  245090  21.87  11209\n",
       "관악구       182.0        35.0  520040  29.57  17587\n",
       "도봉구       190.0        34.0  341649  20.67  16531\n",
       "마포구       191.0        45.0  386359  23.85  16199\n",
       "종로구       191.0        28.0  163026  23.91   6817\n",
       "서대문구      203.0        32.0  323080  17.62  18331\n",
       "양천구       209.0        72.0  468145  17.41  26894\n",
       "강서구       210.0        64.0  603611  41.44  14567\n",
       "동작구       225.0        43.0  409385  16.35  25032\n",
       "성북구       228.0        64.0  447687  24.57  18218\n",
       "구로구       242.0        63.0  438486  20.12  21793\n",
       "강동구       242.0        58.0  431920  24.59  17564\n",
       "은평구       244.0        56.0  487666  29.71  16415\n",
       "노원구       245.0        73.0  548160  35.44  15468\n",
       "강북구       246.0        42.0  322915  23.60  13683\n",
       "중랑구       254.0        68.0  408147  18.50  22067\n",
       "서초구       290.0        77.0  438163  46.98   9326\n",
       "동대문구      327.0        42.0  364338  14.22  25630\n",
       "영등포구      350.0        85.0  403600  24.55  16441\n",
       "강남구       351.0        86.0  547453  39.50  13859\n",
       "송파구       373.0       110.0  673507  33.87  19883"
      ]
     },
     "execution_count": 83,
     "metadata": {},
     "output_type": "execute_result"
    }
   ],
   "source": [
    "df = pd.concat([df_old, df_child, df_population_desity], axis=1).dropna()\n",
    "df"
   ]
  },
  {
   "cell_type": "code",
   "execution_count": 84,
   "metadata": {},
   "outputs": [
    {
     "data": {
      "image/png": "[encoded data removed]",
      "text/plain": [
       "<Figure size 864x432 with 1 Axes>"
      ]
     },
     "metadata": {
      "image/png": {
       "height": 384,
       "width": 734
      }
     },
     "output_type": "display_data"
    }
   ],
   "source": [
    "_ = df.plot.scatter(x=\"인구\", y=\"노인사고 발생건수\", figsize=(12,6), title=\"구 인구별 노인 교통사고 발생건수\")"
   ]
  },
  {
   "cell_type": "code",
   "execution_count": 86,
   "metadata": {},
   "outputs": [
    {
     "data": {
      "image/png": "[encoded data removed]",
      "text/plain": [
       "<Figure size 864x432 with 1 Axes>"
      ]
     },
     "metadata": {
      "image/png": {
       "height": 384,
       "width": 734
      }
     },
     "output_type": "display_data"
    }
   ],
   "source": [
    "_ = df.plot.scatter(x=\"인구\", y=\"어린이사고 발생건수\", figsize=(12,6), title=\"구 인구별 어린이 교통사고 발생건수\")"
   ]
  },
  {
   "cell_type": "markdown",
   "metadata": {},
   "source": [
    "서울시의 각 구별 취약계층 교통사고 발생건수를 각 구별 인구수와 비교한 결과, 인구수가 많을수록 취약계층 교통사고가 늘어나는 경향을 보이나,  \n",
    "다른 변수도 작용하는 것으로 확인되어 타 변수들을 고려한 교통사고 발생 예방 필요"
   ]
  }
 ],
 "metadata": {
  "interpreter": {
   "hash": "2adf3ccca9222a21ddf813ce3f7330ff220318730c13c08bb78e423c67466e5c"
  },
  "kernelspec": {
   "display_name": "Python 3.9.7 ('base')",
   "language": "python",
   "name": "python3"
  },
  "language_info": {
   "codemirror_mode": {
    "name": "ipython",
    "version": 3
   },
   "file_extension": ".py",
   "mimetype": "text/x-python",
   "name": "python",
   "nbconvert_exporter": "python",
   "pygments_lexer": "ipython3",
   "version": "3.9.7"
  },
  "orig_nbformat": 4
 },
 "nbformat": 4,
 "nbformat_minor": 2
}
