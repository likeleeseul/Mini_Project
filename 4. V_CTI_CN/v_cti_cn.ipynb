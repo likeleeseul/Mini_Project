{
 "cells": [
  {
   "cell_type": "markdown",
   "metadata": {},
   "source": [
    "# 탄소중립을 위한 기후기술 정보 시각화\n",
    "### (Visualizationof Climate Technology Information for Carbon Neutrality)\n",
    "## 1. 소개\n",
    "### 기후기술이란?\n",
    "**탄소중립 달성**을 위해 온실가스를 감축하고 기후변화에 적응하기 위한 기술을 의미합니다.  \n",
    "해당 프로젝트에서는, 기후기술과 관련하여 다양한 정보를 수집하고 시각화를 해본 프로젝트입니다.  \n",
    "\n",
    "### [기후기술 분류 체계](https://www.ctis.re.kr/ko/techClass/classification.do?key=1141)\n",
    "기후기술은 **감축**, **적응**, **융복합**의 3개 분야의 45개 기술분류로 구분되어 활용되고 있습니다."
   ]
  },
  {
   "cell_type": "code",
   "execution_count": 176,
   "metadata": {},
   "outputs": [],
   "source": [
    "sys_type = pd.read_html(\"https://www.ctis.re.kr/ko/techClass/classification.do?key=1141\")\n",
    "sys_type = sys_type[0]\n",
    "sys_type.columns = [\"대분류\", \"중분류\", \"중분류 1\", \"중분류 2\", \"중분류 3\", \"소분류\"]\n",
    "sys_type[\"소분류\"] = sys_type[\"소분류\"].str[3:]"
   ]
  },
  {
   "cell_type": "code",
   "execution_count": 169,
   "metadata": {},
   "outputs": [],
   "source": [
    "def parshing_text(val):\n",
    "    return val.str.split(\" \")[1:]"
   ]
  },
  {
   "cell_type": "code",
   "execution_count": 188,
   "metadata": {},
   "outputs": [
    {
     "data": {
      "text/html": [
       "<div>\n",
       "<style scoped>\n",
       "    .dataframe tbody tr th:only-of-type {\n",
       "        vertical-align: middle;\n",
       "    }\n",
       "\n",
       "    .dataframe tbody tr th {\n",
       "        vertical-align: top;\n",
       "    }\n",
       "\n",
       "    .dataframe thead th {\n",
       "        text-align: right;\n",
       "    }\n",
       "</style>\n",
       "<table border=\"1\" class=\"dataframe\">\n",
       "  <thead>\n",
       "    <tr style=\"text-align: right;\">\n",
       "      <th></th>\n",
       "      <th>중분류</th>\n",
       "      <th>중분류 1</th>\n",
       "      <th>중분류 2</th>\n",
       "      <th>중분류 3</th>\n",
       "    </tr>\n",
       "  </thead>\n",
       "  <tbody>\n",
       "    <tr>\n",
       "      <th>0</th>\n",
       "      <td>온실가스  저감</td>\n",
       "      <td>에너지  생산 &amp; 공급</td>\n",
       "      <td>발전  &amp; 전환</td>\n",
       "      <td>(1)비재생  에너지</td>\n",
       "    </tr>\n",
       "    <tr>\n",
       "      <th>1</th>\n",
       "      <td>온실가스  저감</td>\n",
       "      <td>에너지  생산 &amp; 공급</td>\n",
       "      <td>발전  &amp; 전환</td>\n",
       "      <td>(1)비재생  에너지</td>\n",
       "    </tr>\n",
       "    <tr>\n",
       "      <th>2</th>\n",
       "      <td>온실가스  저감</td>\n",
       "      <td>에너지  생산 &amp; 공급</td>\n",
       "      <td>발전  &amp; 전환</td>\n",
       "      <td>(1)비재생  에너지</td>\n",
       "    </tr>\n",
       "    <tr>\n",
       "      <th>3</th>\n",
       "      <td>온실가스  저감</td>\n",
       "      <td>에너지  생산 &amp; 공급</td>\n",
       "      <td>발전  &amp; 전환</td>\n",
       "      <td>(2)재생  에너지</td>\n",
       "    </tr>\n",
       "    <tr>\n",
       "      <th>4</th>\n",
       "      <td>온실가스  저감</td>\n",
       "      <td>에너지  생산 &amp; 공급</td>\n",
       "      <td>발전  &amp; 전환</td>\n",
       "      <td>(2)재생  에너지</td>\n",
       "    </tr>\n",
       "    <tr>\n",
       "      <th>5</th>\n",
       "      <td>온실가스  저감</td>\n",
       "      <td>에너지  생산 &amp; 공급</td>\n",
       "      <td>발전  &amp; 전환</td>\n",
       "      <td>(2)재생  에너지</td>\n",
       "    </tr>\n",
       "    <tr>\n",
       "      <th>6</th>\n",
       "      <td>온실가스  저감</td>\n",
       "      <td>에너지  생산 &amp; 공급</td>\n",
       "      <td>발전  &amp; 전환</td>\n",
       "      <td>(2)재생  에너지</td>\n",
       "    </tr>\n",
       "    <tr>\n",
       "      <th>7</th>\n",
       "      <td>온실가스  저감</td>\n",
       "      <td>에너지  생산 &amp; 공급</td>\n",
       "      <td>발전  &amp; 전환</td>\n",
       "      <td>(2)재생  에너지</td>\n",
       "    </tr>\n",
       "    <tr>\n",
       "      <th>8</th>\n",
       "      <td>온실가스  저감</td>\n",
       "      <td>에너지  생산 &amp; 공급</td>\n",
       "      <td>발전  &amp; 전환</td>\n",
       "      <td>(2)재생  에너지</td>\n",
       "    </tr>\n",
       "    <tr>\n",
       "      <th>9</th>\n",
       "      <td>온실가스  저감</td>\n",
       "      <td>에너지  생산 &amp; 공급</td>\n",
       "      <td>발전  &amp; 전환</td>\n",
       "      <td>(2)재생  에너지</td>\n",
       "    </tr>\n",
       "    <tr>\n",
       "      <th>10</th>\n",
       "      <td>온실가스  저감</td>\n",
       "      <td>에너지  생산 &amp; 공급</td>\n",
       "      <td>발전  &amp; 전환</td>\n",
       "      <td>(2)재생  에너지</td>\n",
       "    </tr>\n",
       "    <tr>\n",
       "      <th>11</th>\n",
       "      <td>온실가스  저감</td>\n",
       "      <td>에너지  생산 &amp; 공급</td>\n",
       "      <td>발전  &amp; 전환</td>\n",
       "      <td>(3)신에너지</td>\n",
       "    </tr>\n",
       "    <tr>\n",
       "      <th>12</th>\n",
       "      <td>온실가스  저감</td>\n",
       "      <td>에너지  생산 &amp; 공급</td>\n",
       "      <td>발전  &amp; 전환</td>\n",
       "      <td>(3)신에너지</td>\n",
       "    </tr>\n",
       "    <tr>\n",
       "      <th>13</th>\n",
       "      <td>온실가스  저감</td>\n",
       "      <td>에너지 저장 &amp; 운송</td>\n",
       "      <td>에너지 저장 &amp; 운송</td>\n",
       "      <td>(4)에너지 저장</td>\n",
       "    </tr>\n",
       "    <tr>\n",
       "      <th>14</th>\n",
       "      <td>온실가스  저감</td>\n",
       "      <td>에너지 저장 &amp; 운송</td>\n",
       "      <td>에너지 저장 &amp; 운송</td>\n",
       "      <td>(4)에너지 저장</td>\n",
       "    </tr>\n",
       "    <tr>\n",
       "      <th>15</th>\n",
       "      <td>온실가스  저감</td>\n",
       "      <td>에너지 저장 &amp; 운송</td>\n",
       "      <td>에너지 저장 &amp; 운송</td>\n",
       "      <td>(5)송배전  &amp; 전력 IT</td>\n",
       "    </tr>\n",
       "    <tr>\n",
       "      <th>16</th>\n",
       "      <td>온실가스  저감</td>\n",
       "      <td>에너지 저장 &amp; 운송</td>\n",
       "      <td>에너지 저장 &amp; 운송</td>\n",
       "      <td>(5)송배전  &amp; 전력 IT</td>\n",
       "    </tr>\n",
       "    <tr>\n",
       "      <th>17</th>\n",
       "      <td>온실가스  저감</td>\n",
       "      <td>(6) 에너지 수요</td>\n",
       "      <td>(6) 에너지 수요</td>\n",
       "      <td>(6) 에너지 수요</td>\n",
       "    </tr>\n",
       "    <tr>\n",
       "      <th>18</th>\n",
       "      <td>온실가스  저감</td>\n",
       "      <td>(6) 에너지 수요</td>\n",
       "      <td>(6) 에너지 수요</td>\n",
       "      <td>(6) 에너지 수요</td>\n",
       "    </tr>\n",
       "    <tr>\n",
       "      <th>19</th>\n",
       "      <td>온실가스  저감</td>\n",
       "      <td>(6) 에너지 수요</td>\n",
       "      <td>(6) 에너지 수요</td>\n",
       "      <td>(6) 에너지 수요</td>\n",
       "    </tr>\n",
       "    <tr>\n",
       "      <th>20</th>\n",
       "      <td>(7)온실가스 고정</td>\n",
       "      <td>(7)온실가스 고정</td>\n",
       "      <td>(7)온실가스 고정</td>\n",
       "      <td>(7)온실가스 고정</td>\n",
       "    </tr>\n",
       "    <tr>\n",
       "      <th>21</th>\n",
       "      <td>(7)온실가스 고정</td>\n",
       "      <td>(7)온실가스 고정</td>\n",
       "      <td>(7)온실가스 고정</td>\n",
       "      <td>(7)온실가스 고정</td>\n",
       "    </tr>\n",
       "    <tr>\n",
       "      <th>22</th>\n",
       "      <td>(8) 농업 &amp; 축산</td>\n",
       "      <td>(8) 농업 &amp; 축산</td>\n",
       "      <td>(8) 농업 &amp; 축산</td>\n",
       "      <td>(8) 농업 &amp; 축산</td>\n",
       "    </tr>\n",
       "    <tr>\n",
       "      <th>23</th>\n",
       "      <td>(8) 농업 &amp; 축산</td>\n",
       "      <td>(8) 농업 &amp; 축산</td>\n",
       "      <td>(8) 농업 &amp; 축산</td>\n",
       "      <td>(8) 농업 &amp; 축산</td>\n",
       "    </tr>\n",
       "    <tr>\n",
       "      <th>24</th>\n",
       "      <td>(8) 농업 &amp; 축산</td>\n",
       "      <td>(8) 농업 &amp; 축산</td>\n",
       "      <td>(8) 농업 &amp; 축산</td>\n",
       "      <td>(8) 농업 &amp; 축산</td>\n",
       "    </tr>\n",
       "    <tr>\n",
       "      <th>25</th>\n",
       "      <td>(8) 농업 &amp; 축산</td>\n",
       "      <td>(8) 농업 &amp; 축산</td>\n",
       "      <td>(8) 농업 &amp; 축산</td>\n",
       "      <td>(8) 농업 &amp; 축산</td>\n",
       "    </tr>\n",
       "    <tr>\n",
       "      <th>26</th>\n",
       "      <td>(9) 물관리</td>\n",
       "      <td>(9) 물관리</td>\n",
       "      <td>(9) 물관리</td>\n",
       "      <td>(9) 물관리</td>\n",
       "    </tr>\n",
       "    <tr>\n",
       "      <th>27</th>\n",
       "      <td>(9) 물관리</td>\n",
       "      <td>(9) 물관리</td>\n",
       "      <td>(9) 물관리</td>\n",
       "      <td>(9) 물관리</td>\n",
       "    </tr>\n",
       "    <tr>\n",
       "      <th>28</th>\n",
       "      <td>(9) 물관리</td>\n",
       "      <td>(9) 물관리</td>\n",
       "      <td>(9) 물관리</td>\n",
       "      <td>(9) 물관리</td>\n",
       "    </tr>\n",
       "    <tr>\n",
       "      <th>29</th>\n",
       "      <td>(9) 물관리</td>\n",
       "      <td>(9) 물관리</td>\n",
       "      <td>(9) 물관리</td>\n",
       "      <td>(9) 물관리</td>\n",
       "    </tr>\n",
       "    <tr>\n",
       "      <th>30</th>\n",
       "      <td>(10)기후변화예측 및 모니터링</td>\n",
       "      <td>(10)기후변화예측 및 모니터링</td>\n",
       "      <td>(10)기후변화예측 및 모니터링</td>\n",
       "      <td>(10)기후변화예측 및 모니터링</td>\n",
       "    </tr>\n",
       "    <tr>\n",
       "      <th>31</th>\n",
       "      <td>(10)기후변화예측 및 모니터링</td>\n",
       "      <td>(10)기후변화예측 및 모니터링</td>\n",
       "      <td>(10)기후변화예측 및 모니터링</td>\n",
       "      <td>(10)기후변화예측 및 모니터링</td>\n",
       "    </tr>\n",
       "    <tr>\n",
       "      <th>32</th>\n",
       "      <td>(11)해양, 수산 &amp; 연안</td>\n",
       "      <td>(11)해양, 수산 &amp; 연안</td>\n",
       "      <td>(11)해양, 수산 &amp; 연안</td>\n",
       "      <td>(11)해양, 수산 &amp; 연안</td>\n",
       "    </tr>\n",
       "    <tr>\n",
       "      <th>33</th>\n",
       "      <td>(11)해양, 수산 &amp; 연안</td>\n",
       "      <td>(11)해양, 수산 &amp; 연안</td>\n",
       "      <td>(11)해양, 수산 &amp; 연안</td>\n",
       "      <td>(11)해양, 수산 &amp; 연안</td>\n",
       "    </tr>\n",
       "    <tr>\n",
       "      <th>34</th>\n",
       "      <td>(11)해양, 수산 &amp; 연안</td>\n",
       "      <td>(11)해양, 수산 &amp; 연안</td>\n",
       "      <td>(11)해양, 수산 &amp; 연안</td>\n",
       "      <td>(11)해양, 수산 &amp; 연안</td>\n",
       "    </tr>\n",
       "    <tr>\n",
       "      <th>35</th>\n",
       "      <td>(12) 건강</td>\n",
       "      <td>(12) 건강</td>\n",
       "      <td>(12) 건강</td>\n",
       "      <td>(12) 건강</td>\n",
       "    </tr>\n",
       "    <tr>\n",
       "      <th>36</th>\n",
       "      <td>(12) 건강</td>\n",
       "      <td>(12) 건강</td>\n",
       "      <td>(12) 건강</td>\n",
       "      <td>(12) 건강</td>\n",
       "    </tr>\n",
       "    <tr>\n",
       "      <th>37</th>\n",
       "      <td>(13)산림 &amp; 육상</td>\n",
       "      <td>(13)산림 &amp; 육상</td>\n",
       "      <td>(13)산림 &amp; 육상</td>\n",
       "      <td>(13)산림 &amp; 육상</td>\n",
       "    </tr>\n",
       "    <tr>\n",
       "      <th>38</th>\n",
       "      <td>(13)산림 &amp; 육상</td>\n",
       "      <td>(13)산림 &amp; 육상</td>\n",
       "      <td>(13)산림 &amp; 육상</td>\n",
       "      <td>(13)산림 &amp; 육상</td>\n",
       "    </tr>\n",
       "    <tr>\n",
       "      <th>39</th>\n",
       "      <td>(13)산림 &amp; 육상</td>\n",
       "      <td>(13)산림 &amp; 육상</td>\n",
       "      <td>(13)산림 &amp; 육상</td>\n",
       "      <td>(13)산림 &amp; 육상</td>\n",
       "    </tr>\n",
       "    <tr>\n",
       "      <th>40</th>\n",
       "      <td>(14) 다분야 중첩</td>\n",
       "      <td>(14) 다분야 중첩</td>\n",
       "      <td>(14) 다분야 중첩</td>\n",
       "      <td>(14) 다분야 중첩</td>\n",
       "    </tr>\n",
       "    <tr>\n",
       "      <th>41</th>\n",
       "      <td>(14) 다분야 중첩</td>\n",
       "      <td>(14) 다분야 중첩</td>\n",
       "      <td>(14) 다분야 중첩</td>\n",
       "      <td>(14) 다분야 중첩</td>\n",
       "    </tr>\n",
       "    <tr>\n",
       "      <th>42</th>\n",
       "      <td>(14) 다분야 중첩</td>\n",
       "      <td>(14) 다분야 중첩</td>\n",
       "      <td>(14) 다분야 중첩</td>\n",
       "      <td>(14) 다분야 중첩</td>\n",
       "    </tr>\n",
       "    <tr>\n",
       "      <th>43</th>\n",
       "      <td>(14) 다분야 중첩</td>\n",
       "      <td>(14) 다분야 중첩</td>\n",
       "      <td>(14) 다분야 중첩</td>\n",
       "      <td>(14) 다분야 중첩</td>\n",
       "    </tr>\n",
       "    <tr>\n",
       "      <th>44</th>\n",
       "      <td>(14) 다분야 중첩</td>\n",
       "      <td>(14) 다분야 중첩</td>\n",
       "      <td>(14) 다분야 중첩</td>\n",
       "      <td>(14) 다분야 중첩</td>\n",
       "    </tr>\n",
       "  </tbody>\n",
       "</table>\n",
       "</div>"
      ],
      "text/plain": [
       "                  중분류              중분류 1              중분류 2              중분류 3\n",
       "0            온실가스  저감       에너지  생산 & 공급           발전  & 전환        (1)비재생  에너지\n",
       "1            온실가스  저감       에너지  생산 & 공급           발전  & 전환        (1)비재생  에너지\n",
       "2            온실가스  저감       에너지  생산 & 공급           발전  & 전환        (1)비재생  에너지\n",
       "3            온실가스  저감       에너지  생산 & 공급           발전  & 전환         (2)재생  에너지\n",
       "4            온실가스  저감       에너지  생산 & 공급           발전  & 전환         (2)재생  에너지\n",
       "5            온실가스  저감       에너지  생산 & 공급           발전  & 전환         (2)재생  에너지\n",
       "6            온실가스  저감       에너지  생산 & 공급           발전  & 전환         (2)재생  에너지\n",
       "7            온실가스  저감       에너지  생산 & 공급           발전  & 전환         (2)재생  에너지\n",
       "8            온실가스  저감       에너지  생산 & 공급           발전  & 전환         (2)재생  에너지\n",
       "9            온실가스  저감       에너지  생산 & 공급           발전  & 전환         (2)재생  에너지\n",
       "10           온실가스  저감       에너지  생산 & 공급           발전  & 전환         (2)재생  에너지\n",
       "11           온실가스  저감       에너지  생산 & 공급           발전  & 전환            (3)신에너지\n",
       "12           온실가스  저감       에너지  생산 & 공급           발전  & 전환            (3)신에너지\n",
       "13           온실가스  저감        에너지 저장 & 운송        에너지 저장 & 운송          (4)에너지 저장\n",
       "14           온실가스  저감        에너지 저장 & 운송        에너지 저장 & 운송          (4)에너지 저장\n",
       "15           온실가스  저감        에너지 저장 & 운송        에너지 저장 & 운송    (5)송배전  & 전력 IT\n",
       "16           온실가스  저감        에너지 저장 & 운송        에너지 저장 & 운송    (5)송배전  & 전력 IT\n",
       "17           온실가스  저감         (6) 에너지 수요         (6) 에너지 수요         (6) 에너지 수요\n",
       "18           온실가스  저감         (6) 에너지 수요         (6) 에너지 수요         (6) 에너지 수요\n",
       "19           온실가스  저감         (6) 에너지 수요         (6) 에너지 수요         (6) 에너지 수요\n",
       "20         (7)온실가스 고정         (7)온실가스 고정         (7)온실가스 고정         (7)온실가스 고정\n",
       "21         (7)온실가스 고정         (7)온실가스 고정         (7)온실가스 고정         (7)온실가스 고정\n",
       "22        (8) 농업 & 축산        (8) 농업 & 축산        (8) 농업 & 축산        (8) 농업 & 축산\n",
       "23        (8) 농업 & 축산        (8) 농업 & 축산        (8) 농업 & 축산        (8) 농업 & 축산\n",
       "24        (8) 농업 & 축산        (8) 농업 & 축산        (8) 농업 & 축산        (8) 농업 & 축산\n",
       "25        (8) 농업 & 축산        (8) 농업 & 축산        (8) 농업 & 축산        (8) 농업 & 축산\n",
       "26            (9) 물관리            (9) 물관리            (9) 물관리            (9) 물관리\n",
       "27            (9) 물관리            (9) 물관리            (9) 물관리            (9) 물관리\n",
       "28            (9) 물관리            (9) 물관리            (9) 물관리            (9) 물관리\n",
       "29            (9) 물관리            (9) 물관리            (9) 물관리            (9) 물관리\n",
       "30  (10)기후변화예측 및 모니터링  (10)기후변화예측 및 모니터링  (10)기후변화예측 및 모니터링  (10)기후변화예측 및 모니터링\n",
       "31  (10)기후변화예측 및 모니터링  (10)기후변화예측 및 모니터링  (10)기후변화예측 및 모니터링  (10)기후변화예측 및 모니터링\n",
       "32    (11)해양, 수산 & 연안    (11)해양, 수산 & 연안    (11)해양, 수산 & 연안    (11)해양, 수산 & 연안\n",
       "33    (11)해양, 수산 & 연안    (11)해양, 수산 & 연안    (11)해양, 수산 & 연안    (11)해양, 수산 & 연안\n",
       "34    (11)해양, 수산 & 연안    (11)해양, 수산 & 연안    (11)해양, 수산 & 연안    (11)해양, 수산 & 연안\n",
       "35            (12) 건강            (12) 건강            (12) 건강            (12) 건강\n",
       "36            (12) 건강            (12) 건강            (12) 건강            (12) 건강\n",
       "37        (13)산림 & 육상        (13)산림 & 육상        (13)산림 & 육상        (13)산림 & 육상\n",
       "38        (13)산림 & 육상        (13)산림 & 육상        (13)산림 & 육상        (13)산림 & 육상\n",
       "39        (13)산림 & 육상        (13)산림 & 육상        (13)산림 & 육상        (13)산림 & 육상\n",
       "40        (14) 다분야 중첩        (14) 다분야 중첩        (14) 다분야 중첩        (14) 다분야 중첩\n",
       "41        (14) 다분야 중첩        (14) 다분야 중첩        (14) 다분야 중첩        (14) 다분야 중첩\n",
       "42        (14) 다분야 중첩        (14) 다분야 중첩        (14) 다분야 중첩        (14) 다분야 중첩\n",
       "43        (14) 다분야 중첩        (14) 다분야 중첩        (14) 다분야 중첩        (14) 다분야 중첩\n",
       "44        (14) 다분야 중첩        (14) 다분야 중첩        (14) 다분야 중첩        (14) 다분야 중첩"
      ]
     },
     "execution_count": 188,
     "metadata": {},
     "output_type": "execute_result"
    }
   ],
   "source": [
    "sys_type[[\"중분류\", \"중분류 1\", \"중분류 2\", \"중분류 3\"]]"
   ]
  },
  {
   "cell_type": "code",
   "execution_count": 115,
   "metadata": {},
   "outputs": [
    {
     "data": {
      "application/vnd.plotly.v1+json": {
       "config": {
        "plotlyServerURL": "https://plotly.com"
       },
       "data": [
        {
         "alignmentgroup": "True",
         "hovertemplate": "소분류=원자력 발전<br>대분류=%{x}<br>count=%{y}<extra></extra>",
         "legendgroup": "원자력 발전",
         "marker": {
          "color": "#636efa",
          "pattern": {
           "shape": ""
          }
         },
         "name": "원자력 발전",
         "offsetgroup": "원자력 발전",
         "orientation": "v",
         "showlegend": true,
         "textposition": "auto",
         "type": "bar",
         "x": [
          "감축"
         ],
         "xaxis": "x",
         "y": [
          1
         ],
         "yaxis": "y"
        },
        {
         "alignmentgroup": "True",
         "hovertemplate": "소분류=핵융합 발전<br>대분류=%{x}<br>count=%{y}<extra></extra>",
         "legendgroup": "핵융합 발전",
         "marker": {
          "color": "#EF553B",
          "pattern": {
           "shape": ""
          }
         },
         "name": "핵융합 발전",
         "offsetgroup": "핵융합 발전",
         "orientation": "v",
         "showlegend": true,
         "textposition": "auto",
         "type": "bar",
         "x": [
          "감축"
         ],
         "xaxis": "x",
         "y": [
          1
         ],
         "yaxis": "y"
        },
        {
         "alignmentgroup": "True",
         "hovertemplate": "소분류=청정화력 발전·효율화<br>대분류=%{x}<br>count=%{y}<extra></extra>",
         "legendgroup": "청정화력 발전·효율화",
         "marker": {
          "color": "#00cc96",
          "pattern": {
           "shape": ""
          }
         },
         "name": "청정화력 발전·효율화",
         "offsetgroup": "청정화력 발전·효율화",
         "orientation": "v",
         "showlegend": true,
         "textposition": "auto",
         "type": "bar",
         "x": [
          "감축"
         ],
         "xaxis": "x",
         "y": [
          1
         ],
         "yaxis": "y"
        },
        {
         "alignmentgroup": "True",
         "hovertemplate": "소분류=수력<br>대분류=%{x}<br>count=%{y}<extra></extra>",
         "legendgroup": "수력",
         "marker": {
          "color": "#ab63fa",
          "pattern": {
           "shape": ""
          }
         },
         "name": "수력",
         "offsetgroup": "수력",
         "orientation": "v",
         "showlegend": true,
         "textposition": "auto",
         "type": "bar",
         "x": [
          "감축"
         ],
         "xaxis": "x",
         "y": [
          1
         ],
         "yaxis": "y"
        },
        {
         "alignmentgroup": "True",
         "hovertemplate": "소분류=태양광<br>대분류=%{x}<br>count=%{y}<extra></extra>",
         "legendgroup": "태양광",
         "marker": {
          "color": "#FFA15A",
          "pattern": {
           "shape": ""
          }
         },
         "name": "태양광",
         "offsetgroup": "태양광",
         "orientation": "v",
         "showlegend": true,
         "textposition": "auto",
         "type": "bar",
         "x": [
          "감축"
         ],
         "xaxis": "x",
         "y": [
          1
         ],
         "yaxis": "y"
        },
        {
         "alignmentgroup": "True",
         "hovertemplate": "소분류=태양열<br>대분류=%{x}<br>count=%{y}<extra></extra>",
         "legendgroup": "태양열",
         "marker": {
          "color": "#19d3f3",
          "pattern": {
           "shape": ""
          }
         },
         "name": "태양열",
         "offsetgroup": "태양열",
         "orientation": "v",
         "showlegend": true,
         "textposition": "auto",
         "type": "bar",
         "x": [
          "감축"
         ],
         "xaxis": "x",
         "y": [
          1
         ],
         "yaxis": "y"
        },
        {
         "alignmentgroup": "True",
         "hovertemplate": "소분류=지열<br>대분류=%{x}<br>count=%{y}<extra></extra>",
         "legendgroup": "지열",
         "marker": {
          "color": "#FF6692",
          "pattern": {
           "shape": ""
          }
         },
         "name": "지열",
         "offsetgroup": "지열",
         "orientation": "v",
         "showlegend": true,
         "textposition": "auto",
         "type": "bar",
         "x": [
          "감축"
         ],
         "xaxis": "x",
         "y": [
          1
         ],
         "yaxis": "y"
        },
        {
         "alignmentgroup": "True",
         "hovertemplate": "소분류=풍력<br>대분류=%{x}<br>count=%{y}<extra></extra>",
         "legendgroup": "풍력",
         "marker": {
          "color": "#B6E880",
          "pattern": {
           "shape": ""
          }
         },
         "name": "풍력",
         "offsetgroup": "풍력",
         "orientation": "v",
         "showlegend": true,
         "textposition": "auto",
         "type": "bar",
         "x": [
          "감축"
         ],
         "xaxis": "x",
         "y": [
          1
         ],
         "yaxis": "y"
        },
        {
         "alignmentgroup": "True",
         "hovertemplate": "소분류=해양에너지<br>대분류=%{x}<br>count=%{y}<extra></extra>",
         "legendgroup": "해양에너지",
         "marker": {
          "color": "#FF97FF",
          "pattern": {
           "shape": ""
          }
         },
         "name": "해양에너지",
         "offsetgroup": "해양에너지",
         "orientation": "v",
         "showlegend": true,
         "textposition": "auto",
         "type": "bar",
         "x": [
          "감축"
         ],
         "xaxis": "x",
         "y": [
          1
         ],
         "yaxis": "y"
        },
        {
         "alignmentgroup": "True",
         "hovertemplate": "소분류= 바이오에너지<br>대분류=%{x}<br>count=%{y}<extra></extra>",
         "legendgroup": " 바이오에너지",
         "marker": {
          "color": "#FECB52",
          "pattern": {
           "shape": ""
          }
         },
         "name": " 바이오에너지",
         "offsetgroup": " 바이오에너지",
         "orientation": "v",
         "showlegend": true,
         "textposition": "auto",
         "type": "bar",
         "x": [
          "감축"
         ],
         "xaxis": "x",
         "y": [
          1
         ],
         "yaxis": "y"
        },
        {
         "alignmentgroup": "True",
         "hovertemplate": "소분류= 폐기물<br>대분류=%{x}<br>count=%{y}<extra></extra>",
         "legendgroup": " 폐기물",
         "marker": {
          "color": "#636efa",
          "pattern": {
           "shape": ""
          }
         },
         "name": " 폐기물",
         "offsetgroup": " 폐기물",
         "orientation": "v",
         "showlegend": true,
         "textposition": "auto",
         "type": "bar",
         "x": [
          "감축"
         ],
         "xaxis": "x",
         "y": [
          1
         ],
         "yaxis": "y"
        },
        {
         "alignmentgroup": "True",
         "hovertemplate": "소분류= 수소제조<br>대분류=%{x}<br>count=%{y}<extra></extra>",
         "legendgroup": " 수소제조",
         "marker": {
          "color": "#EF553B",
          "pattern": {
           "shape": ""
          }
         },
         "name": " 수소제조",
         "offsetgroup": " 수소제조",
         "orientation": "v",
         "showlegend": true,
         "textposition": "auto",
         "type": "bar",
         "x": [
          "감축"
         ],
         "xaxis": "x",
         "y": [
          1
         ],
         "yaxis": "y"
        },
        {
         "alignmentgroup": "True",
         "hovertemplate": "소분류= 연료전지<br>대분류=%{x}<br>count=%{y}<extra></extra>",
         "legendgroup": " 연료전지",
         "marker": {
          "color": "#00cc96",
          "pattern": {
           "shape": ""
          }
         },
         "name": " 연료전지",
         "offsetgroup": " 연료전지",
         "orientation": "v",
         "showlegend": true,
         "textposition": "auto",
         "type": "bar",
         "x": [
          "감축"
         ],
         "xaxis": "x",
         "y": [
          1
         ],
         "yaxis": "y"
        },
        {
         "alignmentgroup": "True",
         "hovertemplate": "소분류= 전력저장<br>대분류=%{x}<br>count=%{y}<extra></extra>",
         "legendgroup": " 전력저장",
         "marker": {
          "color": "#ab63fa",
          "pattern": {
           "shape": ""
          }
         },
         "name": " 전력저장",
         "offsetgroup": " 전력저장",
         "orientation": "v",
         "showlegend": true,
         "textposition": "auto",
         "type": "bar",
         "x": [
          "감축"
         ],
         "xaxis": "x",
         "y": [
          1
         ],
         "yaxis": "y"
        },
        {
         "alignmentgroup": "True",
         "hovertemplate": "소분류= 수소저장<br>대분류=%{x}<br>count=%{y}<extra></extra>",
         "legendgroup": " 수소저장",
         "marker": {
          "color": "#FFA15A",
          "pattern": {
           "shape": ""
          }
         },
         "name": " 수소저장",
         "offsetgroup": " 수소저장",
         "orientation": "v",
         "showlegend": true,
         "textposition": "auto",
         "type": "bar",
         "x": [
          "감축"
         ],
         "xaxis": "x",
         "y": [
          1
         ],
         "yaxis": "y"
        },
        {
         "alignmentgroup": "True",
         "hovertemplate": "소분류= 송배전 시스템<br>대분류=%{x}<br>count=%{y}<extra></extra>",
         "legendgroup": " 송배전 시스템",
         "marker": {
          "color": "#19d3f3",
          "pattern": {
           "shape": ""
          }
         },
         "name": " 송배전 시스템",
         "offsetgroup": " 송배전 시스템",
         "orientation": "v",
         "showlegend": true,
         "textposition": "auto",
         "type": "bar",
         "x": [
          "감축"
         ],
         "xaxis": "x",
         "y": [
          1
         ],
         "yaxis": "y"
        },
        {
         "alignmentgroup": "True",
         "hovertemplate": "소분류= 전기지능화 기기<br>대분류=%{x}<br>count=%{y}<extra></extra>",
         "legendgroup": " 전기지능화 기기",
         "marker": {
          "color": "#FF6692",
          "pattern": {
           "shape": ""
          }
         },
         "name": " 전기지능화 기기",
         "offsetgroup": " 전기지능화 기기",
         "orientation": "v",
         "showlegend": true,
         "textposition": "auto",
         "type": "bar",
         "x": [
          "감축"
         ],
         "xaxis": "x",
         "y": [
          1
         ],
         "yaxis": "y"
        },
        {
         "alignmentgroup": "True",
         "hovertemplate": "소분류= 수송효율화<br>대분류=%{x}<br>count=%{y}<extra></extra>",
         "legendgroup": " 수송효율화",
         "marker": {
          "color": "#B6E880",
          "pattern": {
           "shape": ""
          }
         },
         "name": " 수송효율화",
         "offsetgroup": " 수송효율화",
         "orientation": "v",
         "showlegend": true,
         "textposition": "auto",
         "type": "bar",
         "x": [
          "감축"
         ],
         "xaxis": "x",
         "y": [
          1
         ],
         "yaxis": "y"
        },
        {
         "alignmentgroup": "True",
         "hovertemplate": "소분류= 산업효율화<br>대분류=%{x}<br>count=%{y}<extra></extra>",
         "legendgroup": " 산업효율화",
         "marker": {
          "color": "#FF97FF",
          "pattern": {
           "shape": ""
          }
         },
         "name": " 산업효율화",
         "offsetgroup": " 산업효율화",
         "orientation": "v",
         "showlegend": true,
         "textposition": "auto",
         "type": "bar",
         "x": [
          "감축"
         ],
         "xaxis": "x",
         "y": [
          1
         ],
         "yaxis": "y"
        },
        {
         "alignmentgroup": "True",
         "hovertemplate": "소분류= 건축효율화<br>대분류=%{x}<br>count=%{y}<extra></extra>",
         "legendgroup": " 건축효율화",
         "marker": {
          "color": "#FECB52",
          "pattern": {
           "shape": ""
          }
         },
         "name": " 건축효율화",
         "offsetgroup": " 건축효율화",
         "orientation": "v",
         "showlegend": true,
         "textposition": "auto",
         "type": "bar",
         "x": [
          "감축"
         ],
         "xaxis": "x",
         "y": [
          1
         ],
         "yaxis": "y"
        },
        {
         "alignmentgroup": "True",
         "hovertemplate": "소분류= CCUS<br>대분류=%{x}<br>count=%{y}<extra></extra>",
         "legendgroup": " CCUS",
         "marker": {
          "color": "#636efa",
          "pattern": {
           "shape": ""
          }
         },
         "name": " CCUS",
         "offsetgroup": " CCUS",
         "orientation": "v",
         "showlegend": true,
         "textposition": "auto",
         "type": "bar",
         "x": [
          "감축"
         ],
         "xaxis": "x",
         "y": [
          1
         ],
         "yaxis": "y"
        },
        {
         "alignmentgroup": "True",
         "hovertemplate": "소분류= Non-Co2 저감<br>대분류=%{x}<br>count=%{y}<extra></extra>",
         "legendgroup": " Non-Co2 저감",
         "marker": {
          "color": "#EF553B",
          "pattern": {
           "shape": ""
          }
         },
         "name": " Non-Co2 저감",
         "offsetgroup": " Non-Co2 저감",
         "orientation": "v",
         "showlegend": true,
         "textposition": "auto",
         "type": "bar",
         "x": [
          "감축"
         ],
         "xaxis": "x",
         "y": [
          1
         ],
         "yaxis": "y"
        },
        {
         "alignmentgroup": "True",
         "hovertemplate": "소분류= 유전자원 & 유전개량<br>대분류=%{x}<br>count=%{y}<extra></extra>",
         "legendgroup": " 유전자원 & 유전개량",
         "marker": {
          "color": "#00cc96",
          "pattern": {
           "shape": ""
          }
         },
         "name": " 유전자원 & 유전개량",
         "offsetgroup": " 유전자원 & 유전개량",
         "orientation": "v",
         "showlegend": true,
         "textposition": "auto",
         "type": "bar",
         "x": [
          "적응"
         ],
         "xaxis": "x",
         "y": [
          1
         ],
         "yaxis": "y"
        },
        {
         "alignmentgroup": "True",
         "hovertemplate": "소분류= 작물재배 & 생산<br>대분류=%{x}<br>count=%{y}<extra></extra>",
         "legendgroup": " 작물재배 & 생산",
         "marker": {
          "color": "#ab63fa",
          "pattern": {
           "shape": ""
          }
         },
         "name": " 작물재배 & 생산",
         "offsetgroup": " 작물재배 & 생산",
         "orientation": "v",
         "showlegend": true,
         "textposition": "auto",
         "type": "bar",
         "x": [
          "적응"
         ],
         "xaxis": "x",
         "y": [
          1
         ],
         "yaxis": "y"
        },
        {
         "alignmentgroup": "True",
         "hovertemplate": "소분류= 가축질병관리<br>대분류=%{x}<br>count=%{y}<extra></extra>",
         "legendgroup": " 가축질병관리",
         "marker": {
          "color": "#FFA15A",
          "pattern": {
           "shape": ""
          }
         },
         "name": " 가축질병관리",
         "offsetgroup": " 가축질병관리",
         "orientation": "v",
         "showlegend": true,
         "textposition": "auto",
         "type": "bar",
         "x": [
          "적응"
         ],
         "xaxis": "x",
         "y": [
          1
         ],
         "yaxis": "y"
        },
        {
         "alignmentgroup": "True",
         "hovertemplate": "소분류= 가공, 저장 & 유통<br>대분류=%{x}<br>count=%{y}<extra></extra>",
         "legendgroup": " 가공, 저장 & 유통",
         "marker": {
          "color": "#19d3f3",
          "pattern": {
           "shape": ""
          }
         },
         "name": " 가공, 저장 & 유통",
         "offsetgroup": " 가공, 저장 & 유통",
         "orientation": "v",
         "showlegend": true,
         "textposition": "auto",
         "type": "bar",
         "x": [
          "적응"
         ],
         "xaxis": "x",
         "y": [
          1
         ],
         "yaxis": "y"
        },
        {
         "alignmentgroup": "True",
         "hovertemplate": "소분류= 수계 & 수생태계<br>대분류=%{x}<br>count=%{y}<extra></extra>",
         "legendgroup": " 수계 & 수생태계",
         "marker": {
          "color": "#FF6692",
          "pattern": {
           "shape": ""
          }
         },
         "name": " 수계 & 수생태계",
         "offsetgroup": " 수계 & 수생태계",
         "orientation": "v",
         "showlegend": true,
         "textposition": "auto",
         "type": "bar",
         "x": [
          "적응"
         ],
         "xaxis": "x",
         "y": [
          1
         ],
         "yaxis": "y"
        },
        {
         "alignmentgroup": "True",
         "hovertemplate": "소분류= 수자원 확보 및 공급<br>대분류=%{x}<br>count=%{y}<extra></extra>",
         "legendgroup": " 수자원 확보 및 공급",
         "marker": {
          "color": "#B6E880",
          "pattern": {
           "shape": ""
          }
         },
         "name": " 수자원 확보 및 공급",
         "offsetgroup": " 수자원 확보 및 공급",
         "orientation": "v",
         "showlegend": true,
         "textposition": "auto",
         "type": "bar",
         "x": [
          "적응"
         ],
         "xaxis": "x",
         "y": [
          1
         ],
         "yaxis": "y"
        },
        {
         "alignmentgroup": "True",
         "hovertemplate": "소분류= 수처리<br>대분류=%{x}<br>count=%{y}<extra></extra>",
         "legendgroup": " 수처리",
         "marker": {
          "color": "#FF97FF",
          "pattern": {
           "shape": ""
          }
         },
         "name": " 수처리",
         "offsetgroup": " 수처리",
         "orientation": "v",
         "showlegend": true,
         "textposition": "auto",
         "type": "bar",
         "x": [
          "적응"
         ],
         "xaxis": "x",
         "y": [
          1
         ],
         "yaxis": "y"
        },
        {
         "alignmentgroup": "True",
         "hovertemplate": "소분류= 수재해 관리<br>대분류=%{x}<br>count=%{y}<extra></extra>",
         "legendgroup": " 수재해 관리",
         "marker": {
          "color": "#FECB52",
          "pattern": {
           "shape": ""
          }
         },
         "name": " 수재해 관리",
         "offsetgroup": " 수재해 관리",
         "orientation": "v",
         "showlegend": true,
         "textposition": "auto",
         "type": "bar",
         "x": [
          "적응"
         ],
         "xaxis": "x",
         "y": [
          1
         ],
         "yaxis": "y"
        },
        {
         "alignmentgroup": "True",
         "hovertemplate": "소분류= 기후 예측 및 모델링<br>대분류=%{x}<br>count=%{y}<extra></extra>",
         "legendgroup": " 기후 예측 및 모델링",
         "marker": {
          "color": "#636efa",
          "pattern": {
           "shape": ""
          }
         },
         "name": " 기후 예측 및 모델링",
         "offsetgroup": " 기후 예측 및 모델링",
         "orientation": "v",
         "showlegend": true,
         "textposition": "auto",
         "type": "bar",
         "x": [
          "적응"
         ],
         "xaxis": "x",
         "y": [
          1
         ],
         "yaxis": "y"
        },
        {
         "alignmentgroup": "True",
         "hovertemplate": "소분류= 기후 정보 & 경보 시스템<br>대분류=%{x}<br>count=%{y}<extra></extra>",
         "legendgroup": " 기후 정보 & 경보 시스템",
         "marker": {
          "color": "#EF553B",
          "pattern": {
           "shape": ""
          }
         },
         "name": " 기후 정보 & 경보 시스템",
         "offsetgroup": " 기후 정보 & 경보 시스템",
         "orientation": "v",
         "showlegend": true,
         "textposition": "auto",
         "type": "bar",
         "x": [
          "적응"
         ],
         "xaxis": "x",
         "y": [
          1
         ],
         "yaxis": "y"
        },
        {
         "alignmentgroup": "True",
         "hovertemplate": "소분류= 해양생태계<br>대분류=%{x}<br>count=%{y}<extra></extra>",
         "legendgroup": " 해양생태계",
         "marker": {
          "color": "#00cc96",
          "pattern": {
           "shape": ""
          }
         },
         "name": " 해양생태계",
         "offsetgroup": " 해양생태계",
         "orientation": "v",
         "showlegend": true,
         "textposition": "auto",
         "type": "bar",
         "x": [
          "적응"
         ],
         "xaxis": "x",
         "y": [
          1
         ],
         "yaxis": "y"
        },
        {
         "alignmentgroup": "True",
         "hovertemplate": "소분류= 수산자원<br>대분류=%{x}<br>count=%{y}<extra></extra>",
         "legendgroup": " 수산자원",
         "marker": {
          "color": "#ab63fa",
          "pattern": {
           "shape": ""
          }
         },
         "name": " 수산자원",
         "offsetgroup": " 수산자원",
         "orientation": "v",
         "showlegend": true,
         "textposition": "auto",
         "type": "bar",
         "x": [
          "적응"
         ],
         "xaxis": "x",
         "y": [
          1
         ],
         "yaxis": "y"
        },
        {
         "alignmentgroup": "True",
         "hovertemplate": "소분류= 연안재해 관리<br>대분류=%{x}<br>count=%{y}<extra></extra>",
         "legendgroup": " 연안재해 관리",
         "marker": {
          "color": "#FFA15A",
          "pattern": {
           "shape": ""
          }
         },
         "name": " 연안재해 관리",
         "offsetgroup": " 연안재해 관리",
         "orientation": "v",
         "showlegend": true,
         "textposition": "auto",
         "type": "bar",
         "x": [
          "적응"
         ],
         "xaxis": "x",
         "y": [
          1
         ],
         "yaxis": "y"
        },
        {
         "alignmentgroup": "True",
         "hovertemplate": "소분류= 감염 질병 관리<br>대분류=%{x}<br>count=%{y}<extra></extra>",
         "legendgroup": " 감염 질병 관리",
         "marker": {
          "color": "#19d3f3",
          "pattern": {
           "shape": ""
          }
         },
         "name": " 감염 질병 관리",
         "offsetgroup": " 감염 질병 관리",
         "orientation": "v",
         "showlegend": true,
         "textposition": "auto",
         "type": "bar",
         "x": [
          "적응"
         ],
         "xaxis": "x",
         "y": [
          1
         ],
         "yaxis": "y"
        },
        {
         "alignmentgroup": "True",
         "hovertemplate": "소분류= 식품 안전 예방<br>대분류=%{x}<br>count=%{y}<extra></extra>",
         "legendgroup": " 식품 안전 예방",
         "marker": {
          "color": "#FF6692",
          "pattern": {
           "shape": ""
          }
         },
         "name": " 식품 안전 예방",
         "offsetgroup": " 식품 안전 예방",
         "orientation": "v",
         "showlegend": true,
         "textposition": "auto",
         "type": "bar",
         "x": [
          "적응"
         ],
         "xaxis": "x",
         "y": [
          1
         ],
         "yaxis": "y"
        },
        {
         "alignmentgroup": "True",
         "hovertemplate": "소분류= 산림 생산 증진<br>대분류=%{x}<br>count=%{y}<extra></extra>",
         "legendgroup": " 산림 생산 증진",
         "marker": {
          "color": "#B6E880",
          "pattern": {
           "shape": ""
          }
         },
         "name": " 산림 생산 증진",
         "offsetgroup": " 산림 생산 증진",
         "orientation": "v",
         "showlegend": true,
         "textposition": "auto",
         "type": "bar",
         "x": [
          "적응"
         ],
         "xaxis": "x",
         "y": [
          1
         ],
         "yaxis": "y"
        },
        {
         "alignmentgroup": "True",
         "hovertemplate": "소분류= 산림 피해 저감<br>대분류=%{x}<br>count=%{y}<extra></extra>",
         "legendgroup": " 산림 피해 저감",
         "marker": {
          "color": "#FF97FF",
          "pattern": {
           "shape": ""
          }
         },
         "name": " 산림 피해 저감",
         "offsetgroup": " 산림 피해 저감",
         "orientation": "v",
         "showlegend": true,
         "textposition": "auto",
         "type": "bar",
         "x": [
          "적응"
         ],
         "xaxis": "x",
         "y": [
          1
         ],
         "yaxis": "y"
        },
        {
         "alignmentgroup": "True",
         "hovertemplate": "소분류= 생태 모니터링 & 복원<br>대분류=%{x}<br>count=%{y}<extra></extra>",
         "legendgroup": " 생태 모니터링 & 복원",
         "marker": {
          "color": "#FECB52",
          "pattern": {
           "shape": ""
          }
         },
         "name": " 생태 모니터링 & 복원",
         "offsetgroup": " 생태 모니터링 & 복원",
         "orientation": "v",
         "showlegend": true,
         "textposition": "auto",
         "type": "bar",
         "x": [
          "적응"
         ],
         "xaxis": "x",
         "y": [
          1
         ],
         "yaxis": "y"
        },
        {
         "alignmentgroup": "True",
         "hovertemplate": "소분류= 신재생에너지 하이브리드<br>대분류=%{x}<br>count=%{y}<extra></extra>",
         "legendgroup": " 신재생에너지 하이브리드",
         "marker": {
          "color": "#636efa",
          "pattern": {
           "shape": ""
          }
         },
         "name": " 신재생에너지 하이브리드",
         "offsetgroup": " 신재생에너지 하이브리드",
         "orientation": "v",
         "showlegend": true,
         "textposition": "auto",
         "type": "bar",
         "x": [
          "감축/  적응  융복합"
         ],
         "xaxis": "x",
         "y": [
          1
         ],
         "yaxis": "y"
        },
        {
         "alignmentgroup": "True",
         "hovertemplate": "소분류= 저전력 소모 장비<br>대분류=%{x}<br>count=%{y}<extra></extra>",
         "legendgroup": " 저전력 소모 장비",
         "marker": {
          "color": "#EF553B",
          "pattern": {
           "shape": ""
          }
         },
         "name": " 저전력 소모 장비",
         "offsetgroup": " 저전력 소모 장비",
         "orientation": "v",
         "showlegend": true,
         "textposition": "auto",
         "type": "bar",
         "x": [
          "감축/  적응  융복합"
         ],
         "xaxis": "x",
         "y": [
          1
         ],
         "yaxis": "y"
        },
        {
         "alignmentgroup": "True",
         "hovertemplate": "소분류= 에너지하베스팅<br>대분류=%{x}<br>count=%{y}<extra></extra>",
         "legendgroup": " 에너지하베스팅",
         "marker": {
          "color": "#00cc96",
          "pattern": {
           "shape": ""
          }
         },
         "name": " 에너지하베스팅",
         "offsetgroup": " 에너지하베스팅",
         "orientation": "v",
         "showlegend": true,
         "textposition": "auto",
         "type": "bar",
         "x": [
          "감축/  적응  융복합"
         ],
         "xaxis": "x",
         "y": [
          1
         ],
         "yaxis": "y"
        },
        {
         "alignmentgroup": "True",
         "hovertemplate": "소분류= 인공광합성<br>대분류=%{x}<br>count=%{y}<extra></extra>",
         "legendgroup": " 인공광합성",
         "marker": {
          "color": "#ab63fa",
          "pattern": {
           "shape": ""
          }
         },
         "name": " 인공광합성",
         "offsetgroup": " 인공광합성",
         "orientation": "v",
         "showlegend": true,
         "textposition": "auto",
         "type": "bar",
         "x": [
          "감축/  적응  융복합"
         ],
         "xaxis": "x",
         "y": [
          1
         ],
         "yaxis": "y"
        },
        {
         "alignmentgroup": "True",
         "hovertemplate": "소분류= 분류체계로 다루기 어려운 기후변화 관련 기타 기술<br>대분류=%{x}<br>count=%{y}<extra></extra>",
         "legendgroup": " 분류체계로 다루기 어려운 기후변화 관련 기타 기술",
         "marker": {
          "color": "#FFA15A",
          "pattern": {
           "shape": ""
          }
         },
         "name": " 분류체계로 다루기 어려운 기후변화 관련 기타 기술",
         "offsetgroup": " 분류체계로 다루기 어려운 기후변화 관련 기타 기술",
         "orientation": "v",
         "showlegend": true,
         "textposition": "auto",
         "type": "bar",
         "x": [
          "감축/  적응  융복합"
         ],
         "xaxis": "x",
         "y": [
          1
         ],
         "yaxis": "y"
        }
       ],
       "layout": {
        "barmode": "relative",
        "legend": {
         "title": {
          "text": "소분류"
         },
         "tracegroupgap": 0
        },
        "template": {
         "data": {
          "bar": [
           {
            "error_x": {
             "color": "#2a3f5f"
            },
            "error_y": {
             "color": "#2a3f5f"
            },
            "marker": {
             "line": {
              "color": "#E5ECF6",
              "width": 0.5
             },
             "pattern": {
              "fillmode": "overlay",
              "size": 10,
              "solidity": 0.2
             }
            },
            "type": "bar"
           }
          ],
          "barpolar": [
           {
            "marker": {
             "line": {
              "color": "#E5ECF6",
              "width": 0.5
             },
             "pattern": {
              "fillmode": "overlay",
              "size": 10,
              "solidity": 0.2
             }
            },
            "type": "barpolar"
           }
          ],
          "carpet": [
           {
            "aaxis": {
             "endlinecolor": "#2a3f5f",
             "gridcolor": "white",
             "linecolor": "white",
             "minorgridcolor": "white",
             "startlinecolor": "#2a3f5f"
            },
            "baxis": {
             "endlinecolor": "#2a3f5f",
             "gridcolor": "white",
             "linecolor": "white",
             "minorgridcolor": "white",
             "startlinecolor": "#2a3f5f"
            },
            "type": "carpet"
           }
          ],
          "choropleth": [
           {
            "colorbar": {
             "outlinewidth": 0,
             "ticks": ""
            },
            "type": "choropleth"
           }
          ],
          "contour": [
           {
            "colorbar": {
             "outlinewidth": 0,
             "ticks": ""
            },
            "colorscale": [
             [
              0,
              "#0d0887"
             ],
             [
              0.1111111111111111,
              "#46039f"
             ],
             [
              0.2222222222222222,
              "#7201a8"
             ],
             [
              0.3333333333333333,
              "#9c179e"
             ],
             [
              0.4444444444444444,
              "#bd3786"
             ],
             [
              0.5555555555555556,
              "#d8576b"
             ],
             [
              0.6666666666666666,
              "#ed7953"
             ],
             [
              0.7777777777777778,
              "#fb9f3a"
             ],
             [
              0.8888888888888888,
              "#fdca26"
             ],
             [
              1,
              "#f0f921"
             ]
            ],
            "type": "contour"
           }
          ],
          "contourcarpet": [
           {
            "colorbar": {
             "outlinewidth": 0,
             "ticks": ""
            },
            "type": "contourcarpet"
           }
          ],
          "heatmap": [
           {
            "colorbar": {
             "outlinewidth": 0,
             "ticks": ""
            },
            "colorscale": [
             [
              0,
              "#0d0887"
             ],
             [
              0.1111111111111111,
              "#46039f"
             ],
             [
              0.2222222222222222,
              "#7201a8"
             ],
             [
              0.3333333333333333,
              "#9c179e"
             ],
             [
              0.4444444444444444,
              "#bd3786"
             ],
             [
              0.5555555555555556,
              "#d8576b"
             ],
             [
              0.6666666666666666,
              "#ed7953"
             ],
             [
              0.7777777777777778,
              "#fb9f3a"
             ],
             [
              0.8888888888888888,
              "#fdca26"
             ],
             [
              1,
              "#f0f921"
             ]
            ],
            "type": "heatmap"
           }
          ],
          "heatmapgl": [
           {
            "colorbar": {
             "outlinewidth": 0,
             "ticks": ""
            },
            "colorscale": [
             [
              0,
              "#0d0887"
             ],
             [
              0.1111111111111111,
              "#46039f"
             ],
             [
              0.2222222222222222,
              "#7201a8"
             ],
             [
              0.3333333333333333,
              "#9c179e"
             ],
             [
              0.4444444444444444,
              "#bd3786"
             ],
             [
              0.5555555555555556,
              "#d8576b"
             ],
             [
              0.6666666666666666,
              "#ed7953"
             ],
             [
              0.7777777777777778,
              "#fb9f3a"
             ],
             [
              0.8888888888888888,
              "#fdca26"
             ],
             [
              1,
              "#f0f921"
             ]
            ],
            "type": "heatmapgl"
           }
          ],
          "histogram": [
           {
            "marker": {
             "pattern": {
              "fillmode": "overlay",
              "size": 10,
              "solidity": 0.2
             }
            },
            "type": "histogram"
           }
          ],
          "histogram2d": [
           {
            "colorbar": {
             "outlinewidth": 0,
             "ticks": ""
            },
            "colorscale": [
             [
              0,
              "#0d0887"
             ],
             [
              0.1111111111111111,
              "#46039f"
             ],
             [
              0.2222222222222222,
              "#7201a8"
             ],
             [
              0.3333333333333333,
              "#9c179e"
             ],
             [
              0.4444444444444444,
              "#bd3786"
             ],
             [
              0.5555555555555556,
              "#d8576b"
             ],
             [
              0.6666666666666666,
              "#ed7953"
             ],
             [
              0.7777777777777778,
              "#fb9f3a"
             ],
             [
              0.8888888888888888,
              "#fdca26"
             ],
             [
              1,
              "#f0f921"
             ]
            ],
            "type": "histogram2d"
           }
          ],
          "histogram2dcontour": [
           {
            "colorbar": {
             "outlinewidth": 0,
             "ticks": ""
            },
            "colorscale": [
             [
              0,
              "#0d0887"
             ],
             [
              0.1111111111111111,
              "#46039f"
             ],
             [
              0.2222222222222222,
              "#7201a8"
             ],
             [
              0.3333333333333333,
              "#9c179e"
             ],
             [
              0.4444444444444444,
              "#bd3786"
             ],
             [
              0.5555555555555556,
              "#d8576b"
             ],
             [
              0.6666666666666666,
              "#ed7953"
             ],
             [
              0.7777777777777778,
              "#fb9f3a"
             ],
             [
              0.8888888888888888,
              "#fdca26"
             ],
             [
              1,
              "#f0f921"
             ]
            ],
            "type": "histogram2dcontour"
           }
          ],
          "mesh3d": [
           {
            "colorbar": {
             "outlinewidth": 0,
             "ticks": ""
            },
            "type": "mesh3d"
           }
          ],
          "parcoords": [
           {
            "line": {
             "colorbar": {
              "outlinewidth": 0,
              "ticks": ""
             }
            },
            "type": "parcoords"
           }
          ],
          "pie": [
           {
            "automargin": true,
            "type": "pie"
           }
          ],
          "scatter": [
           {
            "fillpattern": {
             "fillmode": "overlay",
             "size": 10,
             "solidity": 0.2
            },
            "type": "scatter"
           }
          ],
          "scatter3d": [
           {
            "line": {
             "colorbar": {
              "outlinewidth": 0,
              "ticks": ""
             }
            },
            "marker": {
             "colorbar": {
              "outlinewidth": 0,
              "ticks": ""
             }
            },
            "type": "scatter3d"
           }
          ],
          "scattercarpet": [
           {
            "marker": {
             "colorbar": {
              "outlinewidth": 0,
              "ticks": ""
             }
            },
            "type": "scattercarpet"
           }
          ],
          "scattergeo": [
           {
            "marker": {
             "colorbar": {
              "outlinewidth": 0,
              "ticks": ""
             }
            },
            "type": "scattergeo"
           }
          ],
          "scattergl": [
           {
            "marker": {
             "colorbar": {
              "outlinewidth": 0,
              "ticks": ""
             }
            },
            "type": "scattergl"
           }
          ],
          "scattermapbox": [
           {
            "marker": {
             "colorbar": {
              "outlinewidth": 0,
              "ticks": ""
             }
            },
            "type": "scattermapbox"
           }
          ],
          "scatterpolar": [
           {
            "marker": {
             "colorbar": {
              "outlinewidth": 0,
              "ticks": ""
             }
            },
            "type": "scatterpolar"
           }
          ],
          "scatterpolargl": [
           {
            "marker": {
             "colorbar": {
              "outlinewidth": 0,
              "ticks": ""
             }
            },
            "type": "scatterpolargl"
           }
          ],
          "scatterternary": [
           {
            "marker": {
             "colorbar": {
              "outlinewidth": 0,
              "ticks": ""
             }
            },
            "type": "scatterternary"
           }
          ],
          "surface": [
           {
            "colorbar": {
             "outlinewidth": 0,
             "ticks": ""
            },
            "colorscale": [
             [
              0,
              "#0d0887"
             ],
             [
              0.1111111111111111,
              "#46039f"
             ],
             [
              0.2222222222222222,
              "#7201a8"
             ],
             [
              0.3333333333333333,
              "#9c179e"
             ],
             [
              0.4444444444444444,
              "#bd3786"
             ],
             [
              0.5555555555555556,
              "#d8576b"
             ],
             [
              0.6666666666666666,
              "#ed7953"
             ],
             [
              0.7777777777777778,
              "#fb9f3a"
             ],
             [
              0.8888888888888888,
              "#fdca26"
             ],
             [
              1,
              "#f0f921"
             ]
            ],
            "type": "surface"
           }
          ],
          "table": [
           {
            "cells": {
             "fill": {
              "color": "#EBF0F8"
             },
             "line": {
              "color": "white"
             }
            },
            "header": {
             "fill": {
              "color": "#C8D4E3"
             },
             "line": {
              "color": "white"
             }
            },
            "type": "table"
           }
          ]
         },
         "layout": {
          "annotationdefaults": {
           "arrowcolor": "#2a3f5f",
           "arrowhead": 0,
           "arrowwidth": 1
          },
          "autotypenumbers": "strict",
          "coloraxis": {
           "colorbar": {
            "outlinewidth": 0,
            "ticks": ""
           }
          },
          "colorscale": {
           "diverging": [
            [
             0,
             "#8e0152"
            ],
            [
             0.1,
             "#c51b7d"
            ],
            [
             0.2,
             "#de77ae"
            ],
            [
             0.3,
             "#f1b6da"
            ],
            [
             0.4,
             "#fde0ef"
            ],
            [
             0.5,
             "#f7f7f7"
            ],
            [
             0.6,
             "#e6f5d0"
            ],
            [
             0.7,
             "#b8e186"
            ],
            [
             0.8,
             "#7fbc41"
            ],
            [
             0.9,
             "#4d9221"
            ],
            [
             1,
             "#276419"
            ]
           ],
           "sequential": [
            [
             0,
             "#0d0887"
            ],
            [
             0.1111111111111111,
             "#46039f"
            ],
            [
             0.2222222222222222,
             "#7201a8"
            ],
            [
             0.3333333333333333,
             "#9c179e"
            ],
            [
             0.4444444444444444,
             "#bd3786"
            ],
            [
             0.5555555555555556,
             "#d8576b"
            ],
            [
             0.6666666666666666,
             "#ed7953"
            ],
            [
             0.7777777777777778,
             "#fb9f3a"
            ],
            [
             0.8888888888888888,
             "#fdca26"
            ],
            [
             1,
             "#f0f921"
            ]
           ],
           "sequentialminus": [
            [
             0,
             "#0d0887"
            ],
            [
             0.1111111111111111,
             "#46039f"
            ],
            [
             0.2222222222222222,
             "#7201a8"
            ],
            [
             0.3333333333333333,
             "#9c179e"
            ],
            [
             0.4444444444444444,
             "#bd3786"
            ],
            [
             0.5555555555555556,
             "#d8576b"
            ],
            [
             0.6666666666666666,
             "#ed7953"
            ],
            [
             0.7777777777777778,
             "#fb9f3a"
            ],
            [
             0.8888888888888888,
             "#fdca26"
            ],
            [
             1,
             "#f0f921"
            ]
           ]
          },
          "colorway": [
           "#636efa",
           "#EF553B",
           "#00cc96",
           "#ab63fa",
           "#FFA15A",
           "#19d3f3",
           "#FF6692",
           "#B6E880",
           "#FF97FF",
           "#FECB52"
          ],
          "font": {
           "color": "#2a3f5f"
          },
          "geo": {
           "bgcolor": "white",
           "lakecolor": "white",
           "landcolor": "#E5ECF6",
           "showlakes": true,
           "showland": true,
           "subunitcolor": "white"
          },
          "hoverlabel": {
           "align": "left"
          },
          "hovermode": "closest",
          "mapbox": {
           "style": "light"
          },
          "paper_bgcolor": "white",
          "plot_bgcolor": "#E5ECF6",
          "polar": {
           "angularaxis": {
            "gridcolor": "white",
            "linecolor": "white",
            "ticks": ""
           },
           "bgcolor": "#E5ECF6",
           "radialaxis": {
            "gridcolor": "white",
            "linecolor": "white",
            "ticks": ""
           }
          },
          "scene": {
           "xaxis": {
            "backgroundcolor": "#E5ECF6",
            "gridcolor": "white",
            "gridwidth": 2,
            "linecolor": "white",
            "showbackground": true,
            "ticks": "",
            "zerolinecolor": "white"
           },
           "yaxis": {
            "backgroundcolor": "#E5ECF6",
            "gridcolor": "white",
            "gridwidth": 2,
            "linecolor": "white",
            "showbackground": true,
            "ticks": "",
            "zerolinecolor": "white"
           },
           "zaxis": {
            "backgroundcolor": "#E5ECF6",
            "gridcolor": "white",
            "gridwidth": 2,
            "linecolor": "white",
            "showbackground": true,
            "ticks": "",
            "zerolinecolor": "white"
           }
          },
          "shapedefaults": {
           "line": {
            "color": "#2a3f5f"
           }
          },
          "ternary": {
           "aaxis": {
            "gridcolor": "white",
            "linecolor": "white",
            "ticks": ""
           },
           "baxis": {
            "gridcolor": "white",
            "linecolor": "white",
            "ticks": ""
           },
           "bgcolor": "#E5ECF6",
           "caxis": {
            "gridcolor": "white",
            "linecolor": "white",
            "ticks": ""
           }
          },
          "title": {
           "x": 0.05
          },
          "xaxis": {
           "automargin": true,
           "gridcolor": "white",
           "linecolor": "white",
           "ticks": "",
           "title": {
            "standoff": 15
           },
           "zerolinecolor": "white",
           "zerolinewidth": 2
          },
          "yaxis": {
           "automargin": true,
           "gridcolor": "white",
           "linecolor": "white",
           "ticks": "",
           "title": {
            "standoff": 15
           },
           "zerolinecolor": "white",
           "zerolinewidth": 2
          }
         }
        },
        "title": {
         "text": "기후 기술 항목 (대분류-소분류)"
        },
        "xaxis": {
         "anchor": "y",
         "domain": [
          0,
          1
         ],
         "title": {
          "text": "대분류"
         }
        },
        "yaxis": {
         "anchor": "x",
         "domain": [
          0,
          1
         ],
         "title": {
          "text": "count"
         }
        }
       }
      }
     },
     "metadata": {},
     "output_type": "display_data"
    }
   ],
   "source": [
    "px.bar(sys_type, x=\"대분류\", color=\"소분류\", title=\"기후 기술 항목 (대분류-소분류)\")"
   ]
  },
  {
   "cell_type": "markdown",
   "metadata": {},
   "source": [
    "### 기후기술 보유 및 수요 현황\n",
    "웹 스크래핑을 이용해 시각화했습니다."
   ]
  },
  {
   "cell_type": "markdown",
   "metadata": {},
   "source": [
    "#### [기업 보유 기술](https://www.ctis.re.kr/ko/suplyTchnlgy/suplyTchnlgyList.do?key=1697)"
   ]
  },
  {
   "cell_type": "markdown",
   "metadata": {},
   "source": [
    "#### [공공기관 보유 기술](https://www.ctis.re.kr/ko/suplyTchnlgyPub/suplyTchnlgyList.do?key=1698)"
   ]
  },
  {
   "cell_type": "markdown",
   "metadata": {},
   "source": [
    "#### [기후기술 수요](https://www.ctis.re.kr/ko/dmandTchnlgy/dmandTchnlgyList.do?key=1543)"
   ]
  },
  {
   "cell_type": "markdown",
   "metadata": {},
   "source": [
    "## 2. 목표\n",
    "해당 프로젝트의 목적은 기후기술과 관련하여 다양한 정보를 수집하고 시각화하는 것입니다.\n",
    "\n",
    "## 3. 사용 데이터 셋\n",
    "\n",
    "## 4. 구현"
   ]
  },
  {
   "cell_type": "markdown",
   "metadata": {},
   "source": [
    "#### 라이브러리 로드"
   ]
  },
  {
   "cell_type": "code",
   "execution_count": 1,
   "metadata": {},
   "outputs": [],
   "source": [
    "# For Scraping\n",
    "import requests\n",
    "from bs4 import BeautifulSoup as bs\n",
    "# For data analysis and visualization\n",
    "import pandas as pd\n",
    "import numpy as np\n",
    "import seaborn as sns\n",
    "import plotly.express as px"
   ]
  },
  {
   "cell_type": "code",
   "execution_count": 3,
   "metadata": {},
   "outputs": [],
   "source": [
    "# For convert plotly to iframe\n",
    "import chart_studio\n",
    "import chart_studio.tools as ct\n",
    "import chart_studio.plotly as cp\n",
    "# convert plotly to iframe\n",
    "# ct.get_embed(cp.plot(fig, filename= , auto_open=Fasle))"
   ]
  },
  {
   "cell_type": "markdown",
   "metadata": {},
   "source": [
    "### 1. Data Load"
   ]
  },
  {
   "cell_type": "markdown",
   "metadata": {},
   "source": [
    "#### 데이터 소개"
   ]
  },
  {
   "cell_type": "markdown",
   "metadata": {},
   "source": [
    "### 2. Data Preprocessing"
   ]
  },
  {
   "cell_type": "markdown",
   "metadata": {},
   "source": [
    "#### 결측치 확인"
   ]
  },
  {
   "cell_type": "markdown",
   "metadata": {},
   "source": [
    "#### 중복값 확인"
   ]
  },
  {
   "cell_type": "markdown",
   "metadata": {},
   "source": [
    "#### 데이터 프레임 병합"
   ]
  },
  {
   "cell_type": "markdown",
   "metadata": {},
   "source": [
    "#### 고유값 확인"
   ]
  },
  {
   "cell_type": "markdown",
   "metadata": {},
   "source": [
    "### 3. EDA"
   ]
  },
  {
   "cell_type": "markdown",
   "metadata": {},
   "source": [
    "#### 데이터 타입 확인"
   ]
  },
  {
   "cell_type": "markdown",
   "metadata": {},
   "source": [
    "#### 이상치 확인"
   ]
  },
  {
   "cell_type": "markdown",
   "metadata": {},
   "source": [
    "#### 전체 수치 변수의 히스토그램"
   ]
  },
  {
   "cell_type": "markdown",
   "metadata": {},
   "source": [
    "#### 수치 데이터 기술 통계"
   ]
  },
  {
   "cell_type": "markdown",
   "metadata": {},
   "source": [
    "#### 범주 데이터 기술 통계"
   ]
  },
  {
   "cell_type": "markdown",
   "metadata": {},
   "source": [
    "#### 파생변수 만들기"
   ]
  },
  {
   "cell_type": "markdown",
   "metadata": {},
   "source": [
    "#### 상관계수"
   ]
  },
  {
   "cell_type": "markdown",
   "metadata": {},
   "source": [
    "#### 데이터 집계"
   ]
  },
  {
   "cell_type": "markdown",
   "metadata": {},
   "source": [
    "## 5. 결론"
   ]
  }
 ],
 "metadata": {
  "interpreter": {
   "hash": "2adf3ccca9222a21ddf813ce3f7330ff220318730c13c08bb78e423c67466e5c"
  },
  "kernelspec": {
   "display_name": "Python 3.9.7 ('base')",
   "language": "python",
   "name": "python3"
  },
  "language_info": {
   "codemirror_mode": {
    "name": "ipython",
    "version": 3
   },
   "file_extension": ".py",
   "mimetype": "text/x-python",
   "name": "python",
   "nbconvert_exporter": "python",
   "pygments_lexer": "ipython3",
   "version": "3.9.12"
  },
  "orig_nbformat": 4
 },
 "nbformat": 4,
 "nbformat_minor": 2
}
