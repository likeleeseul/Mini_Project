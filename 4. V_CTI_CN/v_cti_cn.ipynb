{
 "cells": [
  {
   "cell_type": "markdown",
   "metadata": {},
   "source": [
    "# 탄소중립을 위한 기후기술 정보 시각화\n",
    "### (Visualizationof Climate Technology Information for Carbon Neutrality)\n",
    "## 1. 소개\n",
    "### 기후기술이란?\n",
    "**탄소중립 달성**을 위해 온실가스를 감축하고 기후변화에 적응하기 위한 기술을 의미합니다.  \n",
    "해당 프로젝트에서는, 기후기술과 관련하여 다양한 정보를 수집하고 시각화를 해본 프로젝트입니다.  \n",
    "\n",
    "### [기후기술 분류 체계](https://www.ctis.re.kr/ko/techClass/classification.do?key=1141)\n",
    "기후기술은 **감축**, **적응**, **융복합**의 3개 분야의 45개 기술분류로 구분되어 활용되고 있습니다.\n",
    "\n",
    "- **감축**\n",
    "  - 온실가스 저감\n",
    "    - 에너지 생산 & 공급 & 발전 & 전환\n",
    "      - 비재생 에너지\n",
    "      - 재생 에너지\n",
    "      - 신에너지\n",
    "    - 에너지 저장 & 운송\n",
    "      - 에너지 저장\n",
    "      - 송배전 & 전력 IT\n",
    "    - 에너지 수요\n",
    "  - 온신가스 고정\n",
    "- **적응**\n",
    "  - 농업 & 축산\n",
    "  - 물관리\n",
    "  - 기후변환예측 및 모니터링\n",
    "  - 해양, 수산 & 연안\n",
    "  - 건강\n",
    "  - 산림 & 육상\n",
    "- **융복합(감축/적응)**\n",
    "  - 다분야 중첩\n",
    "\n"
   ]
  },
  {
   "cell_type": "markdown",
   "metadata": {},
   "source": [
    "## 2. 목표\n",
    "해당 프로젝트의 목적은 기후기술과 관련하여 다양한 정보를 수집하고 시각화하는 것입니다.\n",
    "\n",
    "## 3. 사용 데이터 셋\n",
    "\n",
    "## 4. 구현"
   ]
  },
  {
   "cell_type": "markdown",
   "metadata": {},
   "source": [
    "#### 라이브러리 로드"
   ]
  },
  {
   "cell_type": "code",
   "execution_count": 2,
   "metadata": {},
   "outputs": [],
   "source": [
    "# For data analysis and visualization\n",
    "import pandas as pd\n",
    "import numpy as np\n",
    "import seaborn as sns\n",
    "import plotly.express as px"
   ]
  },
  {
   "cell_type": "code",
   "execution_count": 4,
   "metadata": {},
   "outputs": [],
   "source": [
    "# For convert plotly to iframe\n",
    "import chart_studio\n",
    "import chart_studio.tools as ct\n",
    "import chart_studio.plotly as cp\n",
    "# convert plotly to iframe\n",
    "# ct.get_embed(cp.plot(fig, filename= , auto_open=Fasle))"
   ]
  },
  {
   "cell_type": "markdown",
   "metadata": {},
   "source": [
    "### 1. Data Load"
   ]
  },
  {
   "cell_type": "markdown",
   "metadata": {},
   "source": [
    "#### 데이터 소개"
   ]
  },
  {
   "cell_type": "markdown",
   "metadata": {},
   "source": [
    "### 2. Data Preprocessing"
   ]
  },
  {
   "cell_type": "markdown",
   "metadata": {},
   "source": [
    "#### 결측치 확인"
   ]
  },
  {
   "cell_type": "markdown",
   "metadata": {},
   "source": [
    "#### 중복값 확인"
   ]
  },
  {
   "cell_type": "markdown",
   "metadata": {},
   "source": [
    "#### 데이터 프레임 병합"
   ]
  },
  {
   "cell_type": "markdown",
   "metadata": {},
   "source": [
    "#### 고유값 확인"
   ]
  },
  {
   "cell_type": "markdown",
   "metadata": {},
   "source": [
    "### 3. EDA"
   ]
  },
  {
   "cell_type": "markdown",
   "metadata": {},
   "source": [
    "#### 데이터 타입 확인"
   ]
  },
  {
   "cell_type": "markdown",
   "metadata": {},
   "source": [
    "#### 이상치 확인"
   ]
  },
  {
   "cell_type": "markdown",
   "metadata": {},
   "source": [
    "#### 전체 수치 변수의 히스토그램"
   ]
  },
  {
   "cell_type": "markdown",
   "metadata": {},
   "source": [
    "#### 수치 데이터 기술 통계"
   ]
  },
  {
   "cell_type": "markdown",
   "metadata": {},
   "source": [
    "#### 범주 데이터 기술 통계"
   ]
  },
  {
   "cell_type": "markdown",
   "metadata": {},
   "source": [
    "#### 파생변수 만들기"
   ]
  },
  {
   "cell_type": "markdown",
   "metadata": {},
   "source": [
    "#### 상관계수"
   ]
  },
  {
   "cell_type": "markdown",
   "metadata": {},
   "source": [
    "#### 데이터 집계"
   ]
  },
  {
   "cell_type": "markdown",
   "metadata": {},
   "source": [
    "## 5. 결론"
   ]
  }
 ],
 "metadata": {
  "interpreter": {
   "hash": "2adf3ccca9222a21ddf813ce3f7330ff220318730c13c08bb78e423c67466e5c"
  },
  "kernelspec": {
   "display_name": "Python 3.9.7 ('base')",
   "language": "python",
   "name": "python3"
  },
  "language_info": {
   "codemirror_mode": {
    "name": "ipython",
    "version": 3
   },
   "file_extension": ".py",
   "mimetype": "text/x-python",
   "name": "python",
   "nbconvert_exporter": "python",
   "pygments_lexer": "ipython3",
   "version": "3.9.7"
  },
  "orig_nbformat": 4
 },
 "nbformat": 4,
 "nbformat_minor": 2
}
