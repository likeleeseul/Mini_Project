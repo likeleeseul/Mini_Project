{
 "cells": [
  {
   "cell_type": "markdown",
   "metadata": {},
   "source": [
    "# 탄소중립을 위한 기후기술 정보 시각화\n",
    "### (Visualizationof Climate Technology Information for Carbon Neutrality)\n",
    "## 1. 소개\n",
    "\n",
    "## 2. 목표\n",
    "\n",
    "## 3. 사용 데이터 셋\n",
    "\n",
    "## 4. 구현"
   ]
  },
  {
   "cell_type": "markdown",
   "metadata": {},
   "source": [
    "## 5. 결론"
   ]
  }
 ],
 "metadata": {
  "interpreter": {
   "hash": "2adf3ccca9222a21ddf813ce3f7330ff220318730c13c08bb78e423c67466e5c"
  },
  "kernelspec": {
   "display_name": "Python 3.9.7 ('base')",
   "language": "python",
   "name": "python3"
  },
  "language_info": {
   "name": "python",
   "version": "3.9.7"
  },
  "orig_nbformat": 4
 },
 "nbformat": 4,
 "nbformat_minor": 2
}
